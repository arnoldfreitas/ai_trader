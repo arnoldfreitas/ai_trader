{
 "cells": [
  {
   "cell_type": "code",
   "execution_count": 1,
   "id": "4b22d0c6",
   "metadata": {},
   "outputs": [],
   "source": [
    "import sys\n",
    "import os\n",
    "from datetime import datetime\n",
    "import json\n",
    "import shutil\n",
    "import random\n",
    "\n",
    "import numpy as np\n",
    "import pandas as pd\n",
    "import tensorflow as tf\n",
    "from tensorflow import keras\n",
    "from tqdm import tqdm_notebook, tqdm\n",
    "from matplotlib import pyplot as plt\n",
    "\n",
    "sys.path.append('../src/')\n",
    "from env import BTCMarket_Env\n",
    "from agent import Trader_Agent\n",
    "from DQNtrainer import DQNTrainer\n",
    "from DRLtrainer import DRLTrainer, DRLLossFunctions\n",
    "from collections import deque\n"
   ]
  },
  {
   "cell_type": "code",
   "execution_count": 2,
   "id": "28952f8b",
   "metadata": {},
   "outputs": [],
   "source": [
    "import agent as TAgent\n",
    "import env as BTCEnv\n",
    "\n",
    "from importlib import reload "
   ]
  },
  {
   "cell_type": "code",
   "execution_count": 3,
   "id": "c5f13ddf",
   "metadata": {},
   "outputs": [
    {
     "name": "stdout",
     "output_type": "stream",
     "text": [
      "Model: \"model\"\n",
      "__________________________________________________________________________________________________\n",
      " Layer (type)                   Output Shape         Param #     Connected to                     \n",
      "==================================================================================================\n",
      " input_1 (InputLayer)           [(None, 20, 8)]      0           []                               \n",
      "                                                                                                  \n",
      " lstm_inputs (Lambda)           (None, 20, 4)        0           ['input_1[0][0]']                \n",
      "                                                                                                  \n",
      " sequential (Sequential)        (None, 10)           1953940     ['lstm_inputs[0][0]']            \n",
      "                                                                                                  \n",
      " flatten_1 (Flatten)            (None, 10)           0           ['sequential[0][0]']             \n",
      "                                                                                                  \n",
      " flatten (Flatten)              (None, 160)          0           ['input_1[0][0]']                \n",
      "                                                                                                  \n",
      " tf.reshape (TFOpLambda)        (None, 10)           0           ['flatten_1[0][0]']              \n",
      "                                                                                                  \n",
      " concatenate (Concatenate)      (None, 170)          0           ['flatten[0][0]',                \n",
      "                                                                  'tf.reshape[0][0]']             \n",
      "                                                                                                  \n",
      " dense (Dense)                  (None, 256)          43776       ['concatenate[0][0]']            \n",
      "                                                                                                  \n",
      " dense_1 (Dense)                (None, 128)          32896       ['dense[0][0]']                  \n",
      "                                                                                                  \n",
      " dense_2 (Dense)                (None, 64)           8256        ['dense_1[0][0]']                \n",
      "                                                                                                  \n",
      " dense_3 (Dense)                (None, 1)            65          ['dense_2[0][0]']                \n",
      "                                                                                                  \n",
      "==================================================================================================\n",
      "Total params: 2,038,933\n",
      "Trainable params: 84,993\n",
      "Non-trainable params: 1,953,940\n",
      "__________________________________________________________________________________________________\n"
     ]
    }
   ],
   "source": [
    "obs_space = (8,20)\n",
    "act_space = 1\n",
    "\n",
    "money = 20000\n",
    "fee = 0.001\n",
    "episodes = 1\n",
    "runs_p_eps = 1\n",
    "TAgent=reload(TAgent)\n",
    "BTCEnv=reload(BTCEnv)\n",
    "env = BTCEnv.BTCMarket_Env(observation_space = obs_space,\n",
    "            action_space = act_space,\n",
    "            start_money = money,\n",
    "            trading_fee= fee)\n",
    "agent = TAgent.Trader_Agent(observation_space = obs_space,\n",
    "            action_space = act_space,\n",
    "            epsilon = 0.01)\n",
    "\n",
    "drltrainer = DRLTrainer(env, agent,\n",
    "                observation_space = obs_space,\n",
    "                action_space = act_space,\n",
    "                batch_size=32,                        \n",
    "                lstm_path=\"./best_models/11_mar_2023/best_model_sequential_20back_10ahead.h5\")\n",
    "\n",
    "# drltrainer.rollout(n_episodes=episodes, run_per_episode=runs_p_eps)"
   ]
  },
  {
   "cell_type": "code",
   "execution_count": 4,
   "id": "49eb5e45",
   "metadata": {},
   "outputs": [
    {
     "name": "stdout",
     "output_type": "stream",
     "text": [
      "tf.Tensor([0.5600538], shape=(1,), dtype=float32)\n",
      "tf.Tensor([0.5547038], shape=(1,), dtype=float32)\n",
      "tf.Tensor([0.55212003], shape=(1,), dtype=float32)\n",
      "tf.Tensor([0.5617867], shape=(1,), dtype=float32)\n",
      "tf.Tensor([0.5708641], shape=(1,), dtype=float32)\n",
      "tf.Tensor([0.54179853], shape=(1,), dtype=float32)\n",
      "tf.Tensor([0.54871774], shape=(1,), dtype=float32)\n",
      "tf.Tensor([0.5891282], shape=(1,), dtype=float32)\n",
      "tf.Tensor([0.54052013], shape=(1,), dtype=float32)\n",
      "tf.Tensor([0.5222809], shape=(1,), dtype=float32)\n",
      "tf.Tensor([0.5430516], shape=(1,), dtype=float32)\n",
      "tf.Tensor([0.5716828], shape=(1,), dtype=float32)\n",
      "tf.Tensor([0.54545945], shape=(1,), dtype=float32)\n",
      "tf.Tensor([0.5231729], shape=(1,), dtype=float32)\n",
      "tf.Tensor([0.5705159], shape=(1,), dtype=float32)\n",
      "tf.Tensor([0.5904391], shape=(1,), dtype=float32)\n",
      "tf.Tensor([0.5966327], shape=(1,), dtype=float32)\n",
      "tf.Tensor([0.5626761], shape=(1,), dtype=float32)\n",
      "tf.Tensor([0.6032173], shape=(1,), dtype=float32)\n",
      "tf.Tensor([0.5868097], shape=(1,), dtype=float32)\n"
     ]
    }
   ],
   "source": [
    "env.reset()\n",
    "data_samples = env.episode_length\n",
    "memory = deque()\n",
    "state_tmp = []\n",
    "for t in range(20):\n",
    "    state, _, _ = env.step(np.array([0]))\n",
    "    state_tmp.append(state)\n",
    "    tmp = agent.model(state)[0]\n",
    "    print(tmp)"
   ]
  },
  {
   "cell_type": "code",
   "execution_count": 5,
   "id": "8cdb87fb",
   "metadata": {
    "scrolled": true
   },
   "outputs": [
    {
     "data": {
      "text/plain": [
       "(1, 20, 8)"
      ]
     },
     "execution_count": 5,
     "metadata": {},
     "output_type": "execute_result"
    }
   ],
   "source": [
    "state.shape"
   ]
  },
  {
   "cell_type": "code",
   "execution_count": 6,
   "id": "0785f7f6",
   "metadata": {},
   "outputs": [
    {
     "data": {
      "text/plain": [
       "<tf.Tensor: shape=(1,), dtype=float32, numpy=array([0.5868097], dtype=float32)>"
      ]
     },
     "execution_count": 6,
     "metadata": {},
     "output_type": "execute_result"
    }
   ],
   "source": [
    "tmp = agent.model(state)[0]\n",
    "tmp"
   ]
  },
  {
   "cell_type": "code",
   "execution_count": 7,
   "id": "e3615783",
   "metadata": {},
   "outputs": [
    {
     "name": "stderr",
     "output_type": "stream",
     "text": [
      "100%|██████████| 55/55 [00:06<00:00,  8.46it/s]\n"
     ]
    }
   ],
   "source": [
    "env.reset()\n",
    "data_samples = env.episode_length\n",
    "memory = deque()\n",
    "\n",
    "state, _, _ = env.step(np.array([0]))\n",
    "for t in tqdm(range(55)):\n",
    "    # Compute Action\n",
    "    tmp_wallet_value = env.wallet_value\n",
    "    action = agent.compute_action(state)\n",
    "    # Compute new step\n",
    "    next_state, reward, done = env.step(action=action)\n",
    "    # save Experience to Memory\n",
    "    memory.append((state, action, reward, next_state, done))\n",
    "    state = next_state"
   ]
  },
  {
   "cell_type": "code",
   "execution_count": 8,
   "id": "d070e024",
   "metadata": {},
   "outputs": [],
   "source": [
    "weights_0 = []\n",
    "for layer in agent.model.layers:\n",
    "    W = layer.get_weights()\n",
    "    weights_0.append(W)"
   ]
  },
  {
   "cell_type": "code",
   "execution_count": 9,
   "id": "6e7aee94",
   "metadata": {},
   "outputs": [
    {
     "data": {
      "text/plain": [
       "11"
      ]
     },
     "execution_count": 9,
     "metadata": {},
     "output_type": "execute_result"
    }
   ],
   "source": [
    "len(weights_0)"
   ]
  },
  {
   "cell_type": "code",
   "execution_count": 10,
   "id": "e567ded9",
   "metadata": {},
   "outputs": [
    {
     "name": "stdout",
     "output_type": "stream",
     "text": [
      "50\n",
      "Epoch 1/5\n",
      "2/2 [==============================] - 4s 7ms/step - loss: -0.0086\n",
      "Epoch 2/5\n",
      "2/2 [==============================] - 0s 5ms/step - loss: -0.0112\n",
      "Epoch 3/5\n",
      "2/2 [==============================] - 0s 5ms/step - loss: -0.0121\n",
      "Epoch 4/5\n",
      "2/2 [==============================] - 0s 4ms/step - loss: -0.0123\n",
      "Epoch 5/5\n",
      "2/2 [==============================] - 0s 4ms/step - loss: -0.0123\n"
     ]
    }
   ],
   "source": [
    "batch_size = 50\n",
    "\n",
    "\n",
    "batch = []\n",
    "# for i in range(1):\n",
    "for i in range(max([len(memory) - batch_size,0]), len(memory)):\n",
    "    batch.append(memory[i])\n",
    "\n",
    "# Change here to fit new RL-Algo\n",
    "# for index in range(0,len(batch)-1):\n",
    "\n",
    "x_train = np.zeros((batch_size, 20,8))\n",
    "y_train = np.zeros((batch_size, 4))\n",
    "print(len(batch))\n",
    "\n",
    "\n",
    "state, _, reward, next_state , done = batch[0]\n",
    "action = agent.model.predict(state,verbose = 0)\n",
    "for index in range(1,len(batch)):\n",
    "    # Compute Reward Decay for DQN\n",
    "    action_next = agent.model.predict(next_state,verbose = 0)\n",
    "#     if not done:\n",
    "#         reward += dqntrainer.gamma * np.max(action_next)\n",
    "        \n",
    "    if np.any(np.isnan(reward)) or np.any(np.isnan(action)):\n",
    "        print(reward)\n",
    "        print(action)\n",
    "    target = np.nan_to_num(action,nan=0.0)      \n",
    "    id_act = np.argmax(target)\n",
    "    target[0,id_act] = reward\n",
    "    \n",
    "    target = np.nan_to_num(target,nan=0.0)\n",
    "    state = np.nan_to_num(state,nan=0.0)\n",
    "    x_train[index]= state[0]\n",
    "    y_train[index]= target[0]\n",
    "    \n",
    "    \n",
    "    # update state, action, reward for training\n",
    "    state, _, reward, next_state , done = batch[index]\n",
    "    action = action_next\n",
    "\n",
    "\n",
    "result=agent.model.fit(x_train, y_train, epochs=5, verbose=1)\n",
    "# agent.update_epsilon()\n"
   ]
  },
  {
   "cell_type": "code",
   "execution_count": 11,
   "id": "9db226d0",
   "metadata": {},
   "outputs": [
    {
     "name": "stdout",
     "output_type": "stream",
     "text": [
      "tf.Tensor([0.994418], shape=(1,), dtype=float32)\n",
      "tf.Tensor([0.993891], shape=(1,), dtype=float32)\n",
      "tf.Tensor([0.9937482], shape=(1,), dtype=float32)\n",
      "tf.Tensor([0.9940692], shape=(1,), dtype=float32)\n",
      "tf.Tensor([0.9928295], shape=(1,), dtype=float32)\n",
      "tf.Tensor([0.9926745], shape=(1,), dtype=float32)\n",
      "tf.Tensor([0.9927226], shape=(1,), dtype=float32)\n",
      "tf.Tensor([0.9945404], shape=(1,), dtype=float32)\n",
      "tf.Tensor([0.99320257], shape=(1,), dtype=float32)\n",
      "tf.Tensor([0.9915154], shape=(1,), dtype=float32)\n",
      "tf.Tensor([0.99405247], shape=(1,), dtype=float32)\n",
      "tf.Tensor([0.9948067], shape=(1,), dtype=float32)\n",
      "tf.Tensor([0.9952159], shape=(1,), dtype=float32)\n",
      "tf.Tensor([0.9941586], shape=(1,), dtype=float32)\n",
      "tf.Tensor([0.99629045], shape=(1,), dtype=float32)\n",
      "tf.Tensor([0.9973701], shape=(1,), dtype=float32)\n",
      "tf.Tensor([0.9970092], shape=(1,), dtype=float32)\n",
      "tf.Tensor([0.9967571], shape=(1,), dtype=float32)\n",
      "tf.Tensor([0.99769396], shape=(1,), dtype=float32)\n",
      "tf.Tensor([0.99801147], shape=(1,), dtype=float32)\n"
     ]
    }
   ],
   "source": [
    "for t in range(20):\n",
    "    tmp = agent.model(state_tmp[t])[0]\n",
    "    print(tmp)"
   ]
  },
  {
   "cell_type": "code",
   "execution_count": 12,
   "id": "b54d3f5a",
   "metadata": {},
   "outputs": [
    {
     "name": "stdout",
     "output_type": "stream",
     "text": [
      "11\n"
     ]
    }
   ],
   "source": [
    "weights_1 = []\n",
    "for layer in agent.model.layers:\n",
    "    W = layer.get_weights()\n",
    "    weights_1.append(W)\n",
    "print(len(weights_1))"
   ]
  },
  {
   "cell_type": "code",
   "execution_count": 13,
   "id": "6fc5e921",
   "metadata": {},
   "outputs": [
    {
     "name": "stdout",
     "output_type": "stream",
     "text": [
      "tf.Tensor([0.994418], shape=(1,), dtype=float32)\n",
      "tf.Tensor([0.993891], shape=(1,), dtype=float32)\n",
      "tf.Tensor([0.9937482], shape=(1,), dtype=float32)\n",
      "tf.Tensor([0.9940692], shape=(1,), dtype=float32)\n",
      "tf.Tensor([0.9928295], shape=(1,), dtype=float32)\n",
      "tf.Tensor([0.9926745], shape=(1,), dtype=float32)\n",
      "tf.Tensor([0.9927226], shape=(1,), dtype=float32)\n",
      "tf.Tensor([0.9945404], shape=(1,), dtype=float32)\n",
      "tf.Tensor([0.99320257], shape=(1,), dtype=float32)\n",
      "tf.Tensor([0.9915154], shape=(1,), dtype=float32)\n",
      "tf.Tensor([0.99405247], shape=(1,), dtype=float32)\n",
      "tf.Tensor([0.9948067], shape=(1,), dtype=float32)\n",
      "tf.Tensor([0.9952159], shape=(1,), dtype=float32)\n",
      "tf.Tensor([0.9941586], shape=(1,), dtype=float32)\n",
      "tf.Tensor([0.99629045], shape=(1,), dtype=float32)\n",
      "tf.Tensor([0.9973701], shape=(1,), dtype=float32)\n",
      "tf.Tensor([0.9970092], shape=(1,), dtype=float32)\n",
      "tf.Tensor([0.9967571], shape=(1,), dtype=float32)\n",
      "tf.Tensor([0.99769396], shape=(1,), dtype=float32)\n",
      "tf.Tensor([0.99801147], shape=(1,), dtype=float32)\n"
     ]
    }
   ],
   "source": [
    "keras.backend.clear_session()\n",
    "for t in range(20):\n",
    "    tmp = drltrainer.agent.model(state_tmp[t])[0]\n",
    "    print(tmp)"
   ]
  },
  {
   "cell_type": "code",
   "execution_count": 14,
   "id": "870912bb",
   "metadata": {},
   "outputs": [
    {
     "name": "stdout",
     "output_type": "stream",
     "text": [
      "11\n"
     ]
    }
   ],
   "source": [
    "weights_2 = []\n",
    "for layer in agent.model.layers:\n",
    "    W = layer.get_weights()\n",
    "    weights_2.append(W)\n",
    "print(len(weights_2))"
   ]
  },
  {
   "cell_type": "code",
   "execution_count": 15,
   "id": "ba292bdd",
   "metadata": {},
   "outputs": [
    {
     "name": "stdout",
     "output_type": "stream",
     "text": [
      "0 0 0\n",
      "0 0 0\n",
      "16 16 16\n",
      "0 0 0\n",
      "0 0 0\n",
      "0 0 0\n",
      "0 0 0\n",
      "2 2 2\n",
      "2 2 2\n",
      "2 2 2\n",
      "2 2 2\n"
     ]
    }
   ],
   "source": [
    "for i in range(len(weights_1)):\n",
    "    print(len(weights_0[i]), len(weights_1[i]), len(weights_2[i]))"
   ]
  },
  {
   "cell_type": "code",
   "execution_count": 16,
   "id": "00787637",
   "metadata": {},
   "outputs": [],
   "source": [
    "# agent.model.save(\"./tmp.h5\")"
   ]
  },
  {
   "cell_type": "code",
   "execution_count": 17,
   "id": "226bbf4c",
   "metadata": {},
   "outputs": [
    {
     "name": "stdout",
     "output_type": "stream",
     "text": [
      "0.40332037\n",
      "0.046550643\n"
     ]
    }
   ],
   "source": [
    "n = 9\n",
    "for i in range(len(weights_0[n])):\n",
    "    print(np.linalg.norm(np.array(weights_0[n][i]) - np.array(weights_2[n][i])))"
   ]
  },
  {
   "cell_type": "code",
   "execution_count": 26,
   "id": "0b10f6f2",
   "metadata": {},
   "outputs": [
    {
     "data": {
      "text/plain": [
       "[array([[-0.06137011,  0.16692351,  0.12445207, ..., -0.17191455,\n",
       "          0.03225005,  0.08871748],\n",
       "        [ 0.13786386,  0.1666566 , -0.06891119, ..., -0.06563537,\n",
       "          0.06799255,  0.01828112],\n",
       "        [-0.02296421,  0.03993624,  0.15722962, ..., -0.0346944 ,\n",
       "         -0.05199049,  0.01533619],\n",
       "        ...,\n",
       "        [-0.15001749,  0.09076492,  0.16815488, ..., -0.00492883,\n",
       "          0.10139827, -0.13099168],\n",
       "        [-0.17542817,  0.05263472, -0.12932709, ..., -0.083545  ,\n",
       "          0.03416753,  0.10203524],\n",
       "        [-0.0962092 ,  0.02072592, -0.07874995, ...,  0.00170738,\n",
       "         -0.11721523, -0.14244227]], dtype=float32),\n",
       " array([0., 0., 0., 0., 0., 0., 0., 0., 0., 0., 0., 0., 0., 0., 0., 0., 0.,\n",
       "        0., 0., 0., 0., 0., 0., 0., 0., 0., 0., 0., 0., 0., 0., 0., 0., 0.,\n",
       "        0., 0., 0., 0., 0., 0., 0., 0., 0., 0., 0., 0., 0., 0., 0., 0., 0.,\n",
       "        0., 0., 0., 0., 0., 0., 0., 0., 0., 0., 0., 0., 0.], dtype=float32)]"
      ]
     },
     "execution_count": 26,
     "metadata": {},
     "output_type": "execute_result"
    }
   ],
   "source": [
    "weights_2[9]"
   ]
  },
  {
   "cell_type": "code",
   "execution_count": 27,
   "id": "714337d9",
   "metadata": {},
   "outputs": [
    {
     "name": "stdout",
     "output_type": "stream",
     "text": [
      "Model: \"model\"\n",
      "__________________________________________________________________________________________________\n",
      " Layer (type)                   Output Shape         Param #     Connected to                     \n",
      "==================================================================================================\n",
      " input_1 (InputLayer)           [(None, 20, 8)]      0           []                               \n",
      "                                                                                                  \n",
      " lstm_inputs (Lambda)           (None, 20, 4)        0           ['input_1[0][0]']                \n",
      "                                                                                                  \n",
      " sequential (Sequential)        (None, 10)           1953940     ['lstm_inputs[0][0]']            \n",
      "                                                                                                  \n",
      " flatten_1 (Flatten)            (None, 10)           0           ['sequential[0][0]']             \n",
      "                                                                                                  \n",
      " flatten (Flatten)              (None, 160)          0           ['input_1[0][0]']                \n",
      "                                                                                                  \n",
      " tf.reshape (TFOpLambda)        (None, 10)           0           ['flatten_1[0][0]']              \n",
      "                                                                                                  \n",
      " concatenate (Concatenate)      (None, 170)          0           ['flatten[0][0]',                \n",
      "                                                                  'tf.reshape[0][0]']             \n",
      "                                                                                                  \n",
      " dense (Dense)                  (None, 256)          43776       ['concatenate[0][0]']            \n",
      "                                                                                                  \n",
      " dense_1 (Dense)                (None, 128)          32896       ['dense[0][0]']                  \n",
      "                                                                                                  \n",
      " dense_2 (Dense)                (None, 64)           8256        ['dense_1[0][0]']                \n",
      "                                                                                                  \n",
      " dense_3 (Dense)                (None, 1)            65          ['dense_2[0][0]']                \n",
      "                                                                                                  \n",
      "==================================================================================================\n",
      "Total params: 2,038,933\n",
      "Trainable params: 84,993\n",
      "Non-trainable params: 1,953,940\n",
      "__________________________________________________________________________________________________\n"
     ]
    }
   ],
   "source": [
    "model1 = keras.models.load_model(\"./../data/20230402_194342/DRL_trial_0models_ai_trade_20230402_210314_5.h5\", compile=False)\n",
    "model1.compile(loss=DRLLossFunctions)\n",
    "model1.summary()"
   ]
  },
  {
   "cell_type": "code",
   "execution_count": 28,
   "id": "07299e89",
   "metadata": {},
   "outputs": [
    {
     "name": "stdout",
     "output_type": "stream",
     "text": [
      "11\n"
     ]
    }
   ],
   "source": [
    "weights_2 = []\n",
    "for layer in model1.layers:\n",
    "    W = layer.get_weights()\n",
    "    weights_2.append(W)\n",
    "print(len(weights_2))"
   ]
  },
  {
   "cell_type": "code",
   "execution_count": 29,
   "id": "04145d94",
   "metadata": {},
   "outputs": [
    {
     "name": "stdout",
     "output_type": "stream",
     "text": [
      "Model: \"model\"\n",
      "__________________________________________________________________________________________________\n",
      " Layer (type)                   Output Shape         Param #     Connected to                     \n",
      "==================================================================================================\n",
      " input_1 (InputLayer)           [(None, 20, 8)]      0           []                               \n",
      "                                                                                                  \n",
      " lstm_inputs (Lambda)           (None, 20, 4)        0           ['input_1[0][0]']                \n",
      "                                                                                                  \n",
      " sequential (Sequential)        (None, 10)           1953940     ['lstm_inputs[0][0]']            \n",
      "                                                                                                  \n",
      " flatten_1 (Flatten)            (None, 10)           0           ['sequential[0][0]']             \n",
      "                                                                                                  \n",
      " flatten (Flatten)              (None, 160)          0           ['input_1[0][0]']                \n",
      "                                                                                                  \n",
      " tf.reshape (TFOpLambda)        (None, 10)           0           ['flatten_1[0][0]']              \n",
      "                                                                                                  \n",
      " concatenate (Concatenate)      (None, 170)          0           ['flatten[0][0]',                \n",
      "                                                                  'tf.reshape[0][0]']             \n",
      "                                                                                                  \n",
      " dense (Dense)                  (None, 256)          43776       ['concatenate[0][0]']            \n",
      "                                                                                                  \n",
      " dense_1 (Dense)                (None, 128)          32896       ['dense[0][0]']                  \n",
      "                                                                                                  \n",
      " dense_2 (Dense)                (None, 64)           8256        ['dense_1[0][0]']                \n",
      "                                                                                                  \n",
      " dense_3 (Dense)                (None, 1)            65          ['dense_2[0][0]']                \n",
      "                                                                                                  \n",
      "==================================================================================================\n",
      "Total params: 2,038,933\n",
      "Trainable params: 84,993\n",
      "Non-trainable params: 1,953,940\n",
      "__________________________________________________________________________________________________\n"
     ]
    }
   ],
   "source": [
    "model2 = keras.models.load_model(\"./../data/20230402_194342/DRL_trial_0models_ai_trade_20230403_113557_50.h5\", compile=False)\n",
    "model2.compile(loss=DRLLossFunctions)\n",
    "model2.summary()"
   ]
  },
  {
   "cell_type": "code",
   "execution_count": 30,
   "id": "cdfde5e4",
   "metadata": {},
   "outputs": [
    {
     "name": "stdout",
     "output_type": "stream",
     "text": [
      "11\n"
     ]
    }
   ],
   "source": [
    "weights_3 = []\n",
    "for layer in model2.layers:\n",
    "    W = layer.get_weights()\n",
    "    weights_3.append(W)\n",
    "print(len(weights_3))"
   ]
  },
  {
   "cell_type": "code",
   "execution_count": 31,
   "id": "8b5053bf",
   "metadata": {},
   "outputs": [
    {
     "name": "stdout",
     "output_type": "stream",
     "text": [
      "0.0\n",
      "0.0\n"
     ]
    }
   ],
   "source": [
    "n = 9\n",
    "for i in range(len(weights_3[n])):\n",
    "    print(np.linalg.norm(np.array(weights_3[n][i]) - np.array(weights_2[n][i])))"
   ]
  },
  {
   "cell_type": "code",
   "execution_count": 32,
   "id": "c30e9cb6",
   "metadata": {},
   "outputs": [
    {
     "data": {
      "text/plain": [
       "[array([[-0.03737549,  0.02916929,  0.07700019, ..., -0.01748151,\n",
       "         -0.15335801,  0.14982112],\n",
       "        [ 0.01506725, -0.05898755,  0.04430667, ...,  0.12692027,\n",
       "         -0.02553394,  0.1561246 ],\n",
       "        [-0.10220589, -0.08384782, -0.16171944, ...,  0.03401756,\n",
       "          0.13757946, -0.15559061],\n",
       "        ...,\n",
       "        [-0.08259476,  0.13240947, -0.15867913, ...,  0.09194656,\n",
       "          0.04406597, -0.16755913],\n",
       "        [ 0.15152867, -0.05129798, -0.07526167, ...,  0.16436686,\n",
       "          0.15782975, -0.08786227],\n",
       "        [-0.10800084, -0.07619185, -0.07103641, ...,  0.12390186,\n",
       "          0.10318042, -0.04645446]], dtype=float32),\n",
       " array([0., 0., 0., 0., 0., 0., 0., 0., 0., 0., 0., 0., 0., 0., 0., 0., 0.,\n",
       "        0., 0., 0., 0., 0., 0., 0., 0., 0., 0., 0., 0., 0., 0., 0., 0., 0.,\n",
       "        0., 0., 0., 0., 0., 0., 0., 0., 0., 0., 0., 0., 0., 0., 0., 0., 0.,\n",
       "        0., 0., 0., 0., 0., 0., 0., 0., 0., 0., 0., 0., 0.], dtype=float32)]"
      ]
     },
     "execution_count": 32,
     "metadata": {},
     "output_type": "execute_result"
    }
   ],
   "source": [
    "weights_3[n]"
   ]
  },
  {
   "cell_type": "code",
   "execution_count": 33,
   "id": "8a512a82",
   "metadata": {},
   "outputs": [
    {
     "data": {
      "text/plain": [
       "[array([[-0.03737549,  0.02916929,  0.07700019, ..., -0.01748151,\n",
       "         -0.15335801,  0.14982112],\n",
       "        [ 0.01506725, -0.05898755,  0.04430667, ...,  0.12692027,\n",
       "         -0.02553394,  0.1561246 ],\n",
       "        [-0.10220589, -0.08384782, -0.16171944, ...,  0.03401756,\n",
       "          0.13757946, -0.15559061],\n",
       "        ...,\n",
       "        [-0.08259476,  0.13240947, -0.15867913, ...,  0.09194656,\n",
       "          0.04406597, -0.16755913],\n",
       "        [ 0.15152867, -0.05129798, -0.07526167, ...,  0.16436686,\n",
       "          0.15782975, -0.08786227],\n",
       "        [-0.10800084, -0.07619185, -0.07103641, ...,  0.12390186,\n",
       "          0.10318042, -0.04645446]], dtype=float32),\n",
       " array([0., 0., 0., 0., 0., 0., 0., 0., 0., 0., 0., 0., 0., 0., 0., 0., 0.,\n",
       "        0., 0., 0., 0., 0., 0., 0., 0., 0., 0., 0., 0., 0., 0., 0., 0., 0.,\n",
       "        0., 0., 0., 0., 0., 0., 0., 0., 0., 0., 0., 0., 0., 0., 0., 0., 0.,\n",
       "        0., 0., 0., 0., 0., 0., 0., 0., 0., 0., 0., 0., 0.], dtype=float32)]"
      ]
     },
     "execution_count": 33,
     "metadata": {},
     "output_type": "execute_result"
    }
   ],
   "source": [
    "weights_2[n]"
   ]
  },
  {
   "cell_type": "code",
   "execution_count": null,
   "id": "1366e594",
   "metadata": {},
   "outputs": [],
   "source": []
  }
 ],
 "metadata": {
  "kernelspec": {
   "display_name": "Python 3",
   "language": "python",
   "name": "python3"
  },
  "language_info": {
   "codemirror_mode": {
    "name": "ipython",
    "version": 3
   },
   "file_extension": ".py",
   "mimetype": "text/x-python",
   "name": "python",
   "nbconvert_exporter": "python",
   "pygments_lexer": "ipython3",
   "version": "3.8.5"
  }
 },
 "nbformat": 4,
 "nbformat_minor": 5
}
