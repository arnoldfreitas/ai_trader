{
 "cells": [
  {
   "cell_type": "code",
   "execution_count": 21,
   "id": "a1252165",
   "metadata": {},
   "outputs": [],
   "source": [
    "import sys\n",
    "import os\n",
    "from datetime import datetime\n",
    "import json\n",
    "import shutil\n",
    "import random\n",
    "\n",
    "import numpy as np\n",
    "import pandas as pd\n",
    "import tensorflow as tf\n",
    "from tensorflow import keras\n",
    "from tqdm import tqdm_notebook, tqdm\n",
    "from matplotlib import pyplot as plt\n",
    "\n",
    "sys.path.append('../src/')\n",
    "import agent as TAgent\n",
    "import env as BTCEnv\n",
    "import DQNtrainer as DQNTrainer\n",
    "import DRLtrainer as DRLTrainer\n",
    "from collections import deque\n",
    "\n",
    "import ast\n",
    "from importlib import reload "
   ]
  },
  {
   "cell_type": "code",
   "execution_count": 22,
   "id": "7fb56fef",
   "metadata": {},
   "outputs": [],
   "source": [
    "TAgent=reload(TAgent)\n",
    "BTCEnv=reload(BTCEnv)\n",
    "DQNTrainer=reload(DQNTrainer)\n",
    "DRLTrainer=reload(DRLTrainer)"
   ]
  },
  {
   "cell_type": "code",
   "execution_count": 23,
   "id": "315d40f8",
   "metadata": {},
   "outputs": [
    {
     "name": "stdout",
     "output_type": "stream",
     "text": [
      "Model: \"model\"\n",
      "__________________________________________________________________________________________________\n",
      " Layer (type)                   Output Shape         Param #     Connected to                     \n",
      "==================================================================================================\n",
      " input_1 (InputLayer)           [(None, 20, 8)]      0           []                               \n",
      "                                                                                                  \n",
      " lstm_inputs (Lambda)           (None, 20, 4)        0           ['input_1[0][0]']                \n",
      "                                                                                                  \n",
      " sequential (Sequential)        (None, 10)           1953940     ['lstm_inputs[0][0]']            \n",
      "                                                                                                  \n",
      " flatten_1 (Flatten)            (None, 10)           0           ['sequential[0][0]']             \n",
      "                                                                                                  \n",
      " flatten (Flatten)              (None, 160)          0           ['input_1[0][0]']                \n",
      "                                                                                                  \n",
      " tf.reshape (TFOpLambda)        (None, 10)           0           ['flatten_1[0][0]']              \n",
      "                                                                                                  \n",
      " concatenate (Concatenate)      (None, 170)          0           ['flatten[0][0]',                \n",
      "                                                                  'tf.reshape[0][0]']             \n",
      "                                                                                                  \n",
      " dense (Dense)                  (None, 256)          43776       ['concatenate[0][0]']            \n",
      "                                                                                                  \n",
      " dense_1 (Dense)                (None, 128)          32896       ['dense[0][0]']                  \n",
      "                                                                                                  \n",
      " dense_2 (Dense)                (None, 64)           8256        ['dense_1[0][0]']                \n",
      "                                                                                                  \n",
      " dense_3 (Dense)                (None, 1)            65          ['dense_2[0][0]']                \n",
      "                                                                                                  \n",
      "==================================================================================================\n",
      "Total params: 2,038,933\n",
      "Trainable params: 84,993\n",
      "Non-trainable params: 1,953,940\n",
      "__________________________________________________________________________________________________\n"
     ]
    }
   ],
   "source": [
    "obs_space = (8,20)\n",
    "act_space = 1\n",
    "\n",
    "money = 20000\n",
    "fee = 0.001\n",
    "episodes = 1\n",
    "runs_p_eps = 1\n",
    "TAgent=reload(TAgent)\n",
    "BTCEnv=reload(BTCEnv)\n",
    "env = BTCEnv.BTCMarket_Env(observation_space = obs_space,\n",
    "            action_space = act_space,\n",
    "            start_money = money,\n",
    "            source_file = \"BTC_histData_dt1800.0s_20220825_0629\",\n",
    "            trading_fee= fee,\n",
    "            reward_function ='reward_differential_sharpe_ratio')\n",
    "\n",
    "agent = TAgent.Trader_Agent(observation_space = obs_space,\n",
    "            action_space = act_space,\n",
    "            epsilon = 0.0001)\n",
    "\n",
    "drltrainer = DRLTrainer.DRLTrainer(env, agent,\n",
    "                observation_space = obs_space,\n",
    "                action_space = act_space,\n",
    "                batch_size=16, \n",
    "                learning_rate=1e-8,\n",
    "                lstm_path=\"./best_models/11_mar_2023/best_model_sequential_20back_10ahead.h5\",)\n",
    "\n",
    "# drltrainer.rollout(n_episodes=episodes, run_per_episode=runs_p_eps)"
   ]
  },
  {
   "cell_type": "code",
   "execution_count": 24,
   "id": "dc5bf928",
   "metadata": {},
   "outputs": [
    {
     "name": "stdout",
     "output_type": "stream",
     "text": [
      "Episode: 1/1\n",
      "Episode: 1/1 || Run 1/1\n"
     ]
    },
    {
     "name": "stderr",
     "output_type": "stream",
     "text": [
      "  2%|▏         | 16/671 [00:02<01:21,  8.06it/s]"
     ]
    },
    {
     "name": "stdout",
     "output_type": "stream",
     "text": [
      "1/1 [==============================] - 3s 3s/step - loss: -2.8045e-05\n"
     ]
    },
    {
     "name": "stderr",
     "output_type": "stream",
     "text": [
      "  5%|▍         | 33/671 [00:07<01:33,  6.80it/s]"
     ]
    },
    {
     "name": "stdout",
     "output_type": "stream",
     "text": [
      "1/1 [==============================] - 0s 6ms/step - loss: -1.1611e-04\n"
     ]
    },
    {
     "name": "stderr",
     "output_type": "stream",
     "text": [
      "  7%|▋         | 50/671 [00:10<01:28,  7.00it/s]"
     ]
    },
    {
     "name": "stdout",
     "output_type": "stream",
     "text": [
      "1/1 [==============================] - 0s 6ms/step - loss: -1.7574e-04\n"
     ]
    },
    {
     "name": "stderr",
     "output_type": "stream",
     "text": [
      " 10%|▉         | 67/671 [00:12<01:25,  7.04it/s]"
     ]
    },
    {
     "name": "stdout",
     "output_type": "stream",
     "text": [
      "1/1 [==============================] - 0s 6ms/step - loss: -1.5048e-04\n"
     ]
    },
    {
     "name": "stderr",
     "output_type": "stream",
     "text": [
      " 13%|█▎        | 84/671 [00:15<01:23,  7.06it/s]"
     ]
    },
    {
     "name": "stdout",
     "output_type": "stream",
     "text": [
      "1/1 [==============================] - 0s 6ms/step - loss: -1.1130e-04\n"
     ]
    },
    {
     "name": "stderr",
     "output_type": "stream",
     "text": [
      " 15%|█▌        | 101/671 [00:17<01:39,  5.75it/s]"
     ]
    },
    {
     "name": "stdout",
     "output_type": "stream",
     "text": [
      "Data saved\n",
      "episode 1, run (1/1) sample (100/671).Profit 899.6500000000015 || money available: [12567.19],  wallet value: [20899.65]\n",
      "1/1 [==============================] - 0s 10ms/step - loss: -8.7269e-05\n"
     ]
    },
    {
     "name": "stderr",
     "output_type": "stream",
     "text": [
      " 18%|█▊        | 118/671 [00:20<01:19,  6.94it/s]"
     ]
    },
    {
     "name": "stdout",
     "output_type": "stream",
     "text": [
      "1/1 [==============================] - 0s 6ms/step - loss: -8.0368e-05\n"
     ]
    },
    {
     "name": "stderr",
     "output_type": "stream",
     "text": [
      " 20%|██        | 135/671 [00:22<01:16,  7.01it/s]"
     ]
    },
    {
     "name": "stdout",
     "output_type": "stream",
     "text": [
      "1/1 [==============================] - 0s 7ms/step - loss: -8.0045e-05\n"
     ]
    },
    {
     "name": "stderr",
     "output_type": "stream",
     "text": [
      " 23%|██▎       | 151/671 [00:25<01:13,  7.07it/s]"
     ]
    },
    {
     "name": "stdout",
     "output_type": "stream",
     "text": [
      "1/1 [==============================] - 0s 6ms/step - loss: -6.6701e-05\n"
     ]
    },
    {
     "name": "stderr",
     "output_type": "stream",
     "text": [
      " 25%|██▌       | 169/671 [00:27<01:12,  6.89it/s]"
     ]
    },
    {
     "name": "stdout",
     "output_type": "stream",
     "text": [
      "1/1 [==============================] - 0s 6ms/step - loss: -7.3368e-05\n"
     ]
    },
    {
     "name": "stderr",
     "output_type": "stream",
     "text": [
      " 28%|██▊       | 186/671 [00:30<02:03,  3.91it/s]"
     ]
    },
    {
     "name": "stdout",
     "output_type": "stream",
     "text": [
      "1/1 [==============================] - 0s 6ms/step - loss: -7.6868e-05\n"
     ]
    },
    {
     "name": "stderr",
     "output_type": "stream",
     "text": [
      " 30%|███       | 202/671 [00:33<01:04,  7.25it/s]"
     ]
    },
    {
     "name": "stdout",
     "output_type": "stream",
     "text": [
      "Data saved\n",
      "episode 1, run (1/1) sample (200/671).Profit 1056.2999999999993 || money available: [12609.03],  wallet value: [21056.3]\n"
     ]
    },
    {
     "name": "stderr",
     "output_type": "stream",
     "text": [
      " 30%|███       | 203/671 [00:33<01:05,  7.20it/s]"
     ]
    },
    {
     "name": "stdout",
     "output_type": "stream",
     "text": [
      "1/1 [==============================] - 0s 6ms/step - loss: -8.2223e-05\n"
     ]
    },
    {
     "name": "stderr",
     "output_type": "stream",
     "text": [
      " 33%|███▎      | 220/671 [00:36<01:04,  6.97it/s]"
     ]
    },
    {
     "name": "stdout",
     "output_type": "stream",
     "text": [
      "1/1 [==============================] - 0s 6ms/step - loss: -4.6471e-05\n"
     ]
    },
    {
     "name": "stderr",
     "output_type": "stream",
     "text": [
      " 35%|███▌      | 237/671 [00:38<01:01,  7.03it/s]"
     ]
    },
    {
     "name": "stdout",
     "output_type": "stream",
     "text": [
      "1/1 [==============================] - 0s 6ms/step - loss: -2.0214e-05\n"
     ]
    },
    {
     "name": "stderr",
     "output_type": "stream",
     "text": [
      " 38%|███▊      | 254/671 [00:41<00:59,  7.04it/s]"
     ]
    },
    {
     "name": "stdout",
     "output_type": "stream",
     "text": [
      "1/1 [==============================] - 0s 6ms/step - loss: 2.7273e-05\n"
     ]
    },
    {
     "name": "stderr",
     "output_type": "stream",
     "text": [
      " 40%|████      | 271/671 [00:43<00:57,  6.97it/s]"
     ]
    },
    {
     "name": "stdout",
     "output_type": "stream",
     "text": [
      "1/1 [==============================] - 0s 6ms/step - loss: -3.7222e-06\n"
     ]
    },
    {
     "name": "stderr",
     "output_type": "stream",
     "text": [
      " 43%|████▎     | 288/671 [00:46<00:54,  7.08it/s]"
     ]
    },
    {
     "name": "stdout",
     "output_type": "stream",
     "text": [
      "1/1 [==============================] - 0s 5ms/step - loss: -1.7790e-05\n"
     ]
    },
    {
     "name": "stderr",
     "output_type": "stream",
     "text": [
      " 45%|████▌     | 302/671 [00:48<01:00,  6.08it/s]"
     ]
    },
    {
     "name": "stdout",
     "output_type": "stream",
     "text": [
      "Data saved\n",
      "episode 1, run (1/1) sample (300/671).Profit 667.2999999999993 || money available: [14467.11],  wallet value: [20667.3]\n"
     ]
    },
    {
     "name": "stderr",
     "output_type": "stream",
     "text": [
      " 45%|████▌     | 305/671 [00:48<00:54,  6.72it/s]"
     ]
    },
    {
     "name": "stdout",
     "output_type": "stream",
     "text": [
      "1/1 [==============================] - 0s 6ms/step - loss: -3.7125e-05\n"
     ]
    },
    {
     "name": "stderr",
     "output_type": "stream",
     "text": [
      " 48%|████▊     | 322/671 [00:51<00:49,  7.04it/s]"
     ]
    },
    {
     "name": "stdout",
     "output_type": "stream",
     "text": [
      "1/1 [==============================] - 0s 6ms/step - loss: -2.1613e-05\n"
     ]
    },
    {
     "name": "stderr",
     "output_type": "stream",
     "text": [
      " 51%|█████     | 339/671 [00:53<00:46,  7.10it/s]"
     ]
    },
    {
     "name": "stdout",
     "output_type": "stream",
     "text": [
      "1/1 [==============================] - 0s 6ms/step - loss: -3.2113e-05\n"
     ]
    },
    {
     "name": "stderr",
     "output_type": "stream",
     "text": [
      " 53%|█████▎    | 356/671 [00:56<00:44,  7.07it/s]"
     ]
    },
    {
     "name": "stdout",
     "output_type": "stream",
     "text": [
      "1/1 [==============================] - 0s 6ms/step - loss: -5.2869e-05\n"
     ]
    },
    {
     "name": "stderr",
     "output_type": "stream",
     "text": [
      " 56%|█████▌    | 373/671 [00:58<00:42,  7.05it/s]"
     ]
    },
    {
     "name": "stdout",
     "output_type": "stream",
     "text": [
      "1/1 [==============================] - 0s 6ms/step - loss: -6.2803e-05\n"
     ]
    },
    {
     "name": "stderr",
     "output_type": "stream",
     "text": [
      " 58%|█████▊    | 390/671 [01:01<00:39,  7.12it/s]"
     ]
    },
    {
     "name": "stdout",
     "output_type": "stream",
     "text": [
      "1/1 [==============================] - 0s 5ms/step - loss: -5.2657e-05\n"
     ]
    },
    {
     "name": "stderr",
     "output_type": "stream",
     "text": [
      " 60%|█████▉    | 402/671 [01:03<00:45,  5.95it/s]"
     ]
    },
    {
     "name": "stdout",
     "output_type": "stream",
     "text": [
      "Data saved\n",
      "episode 1, run (1/1) sample (400/671).Profit 895.9300000000003 || money available: [14627.15],  wallet value: [20895.93]\n"
     ]
    },
    {
     "name": "stderr",
     "output_type": "stream",
     "text": [
      " 61%|██████    | 407/671 [01:03<00:38,  6.85it/s]"
     ]
    },
    {
     "name": "stdout",
     "output_type": "stream",
     "text": [
      "1/1 [==============================] - 0s 6ms/step - loss: -6.3879e-05\n"
     ]
    },
    {
     "name": "stderr",
     "output_type": "stream",
     "text": [
      " 63%|██████▎   | 424/671 [01:07<00:36,  6.72it/s]"
     ]
    },
    {
     "name": "stdout",
     "output_type": "stream",
     "text": [
      "1/1 [==============================] - 0s 6ms/step - loss: -1.0886e-04\n"
     ]
    },
    {
     "name": "stderr",
     "output_type": "stream",
     "text": [
      " 66%|██████▌   | 441/671 [01:09<00:33,  6.96it/s]"
     ]
    },
    {
     "name": "stdout",
     "output_type": "stream",
     "text": [
      "1/1 [==============================] - 0s 6ms/step - loss: -1.1176e-04\n"
     ]
    },
    {
     "name": "stderr",
     "output_type": "stream",
     "text": [
      " 68%|██████▊   | 458/671 [01:12<00:30,  7.02it/s]"
     ]
    },
    {
     "name": "stdout",
     "output_type": "stream",
     "text": [
      "1/1 [==============================] - 0s 6ms/step - loss: -1.1912e-04\n"
     ]
    },
    {
     "name": "stderr",
     "output_type": "stream",
     "text": [
      " 71%|███████   | 475/671 [01:14<00:27,  7.01it/s]"
     ]
    },
    {
     "name": "stdout",
     "output_type": "stream",
     "text": [
      "1/1 [==============================] - 0s 6ms/step - loss: -8.8705e-05\n"
     ]
    },
    {
     "name": "stderr",
     "output_type": "stream",
     "text": [
      " 73%|███████▎  | 492/671 [01:17<00:25,  6.99it/s]"
     ]
    },
    {
     "name": "stdout",
     "output_type": "stream",
     "text": [
      "1/1 [==============================] - 0s 6ms/step - loss: -6.0495e-05\n"
     ]
    },
    {
     "name": "stderr",
     "output_type": "stream",
     "text": [
      " 75%|███████▍  | 502/671 [01:18<00:28,  5.93it/s]"
     ]
    },
    {
     "name": "stdout",
     "output_type": "stream",
     "text": [
      "Data saved\n",
      "episode 1, run (1/1) sample (500/671).Profit 1194.369999999999 || money available: [10597.19],  wallet value: [21194.37]\n"
     ]
    },
    {
     "name": "stderr",
     "output_type": "stream",
     "text": [
      " 76%|███████▌  | 509/671 [01:19<00:23,  6.94it/s]"
     ]
    },
    {
     "name": "stdout",
     "output_type": "stream",
     "text": [
      "1/1 [==============================] - 0s 6ms/step - loss: -4.4595e-05\n"
     ]
    },
    {
     "name": "stderr",
     "output_type": "stream",
     "text": [
      " 78%|███████▊  | 526/671 [01:22<00:20,  6.98it/s]"
     ]
    },
    {
     "name": "stdout",
     "output_type": "stream",
     "text": [
      "1/1 [==============================] - 0s 6ms/step - loss: 6.2692e-05\n"
     ]
    },
    {
     "name": "stderr",
     "output_type": "stream",
     "text": [
      " 81%|████████  | 543/671 [01:25<00:20,  6.18it/s]"
     ]
    },
    {
     "name": "stdout",
     "output_type": "stream",
     "text": [
      "1/1 [==============================] - 0s 6ms/step - loss: 1.5525e-04\n"
     ]
    },
    {
     "name": "stderr",
     "output_type": "stream",
     "text": [
      " 83%|████████▎ | 560/671 [01:28<00:16,  6.73it/s]"
     ]
    },
    {
     "name": "stdout",
     "output_type": "stream",
     "text": [
      "1/1 [==============================] - 0s 6ms/step - loss: 1.2863e-04\n"
     ]
    },
    {
     "name": "stderr",
     "output_type": "stream",
     "text": [
      " 86%|████████▌ | 577/671 [01:30<00:13,  7.03it/s]"
     ]
    },
    {
     "name": "stdout",
     "output_type": "stream",
     "text": [
      "1/1 [==============================] - 0s 6ms/step - loss: 7.2497e-05\n"
     ]
    },
    {
     "name": "stderr",
     "output_type": "stream",
     "text": [
      " 89%|████████▊ | 594/671 [01:33<00:11,  6.73it/s]"
     ]
    },
    {
     "name": "stdout",
     "output_type": "stream",
     "text": [
      "1/1 [==============================] - 0s 6ms/step - loss: 5.7910e-05\n"
     ]
    },
    {
     "name": "stderr",
     "output_type": "stream",
     "text": [
      " 90%|████████▉ | 602/671 [01:34<00:12,  5.73it/s]"
     ]
    },
    {
     "name": "stdout",
     "output_type": "stream",
     "text": [
      "Data saved\n",
      "episode 1, run (1/1) sample (600/671).Profit 410.4300000000003 || money available: [14287.3],  wallet value: [20410.43]\n"
     ]
    },
    {
     "name": "stderr",
     "output_type": "stream",
     "text": [
      " 91%|█████████ | 611/671 [01:35<00:08,  6.96it/s]"
     ]
    },
    {
     "name": "stdout",
     "output_type": "stream",
     "text": [
      "1/1 [==============================] - 0s 6ms/step - loss: 6.4902e-05\n"
     ]
    },
    {
     "name": "stderr",
     "output_type": "stream",
     "text": [
      " 94%|█████████▎| 628/671 [01:38<00:06,  7.06it/s]"
     ]
    },
    {
     "name": "stdout",
     "output_type": "stream",
     "text": [
      "1/1 [==============================] - 0s 6ms/step - loss: 6.8137e-05\n"
     ]
    },
    {
     "name": "stderr",
     "output_type": "stream",
     "text": [
      " 96%|█████████▌| 645/671 [01:40<00:03,  7.01it/s]"
     ]
    },
    {
     "name": "stdout",
     "output_type": "stream",
     "text": [
      "1/1 [==============================] - 0s 6ms/step - loss: 2.3042e-05\n"
     ]
    },
    {
     "name": "stderr",
     "output_type": "stream",
     "text": [
      " 99%|█████████▊| 662/671 [01:43<00:01,  6.72it/s]"
     ]
    },
    {
     "name": "stdout",
     "output_type": "stream",
     "text": [
      "1/1 [==============================] - 0s 6ms/step - loss: 7.3781e-06\n"
     ]
    },
    {
     "name": "stderr",
     "output_type": "stream",
     "text": [
      "100%|█████████▉| 668/671 [01:45<00:00,  6.35it/s]\n"
     ]
    },
    {
     "name": "stdout",
     "output_type": "stream",
     "text": [
      "Data saved\n",
      "episode 1, finished run (1/1). Run Profit 415.83000000000175 || money available: [10207.92],  wallet value: [20415.83]\n",
      "episode 1/1. Profit 415.83000000000175 || money available: [10207.92],  wallet value: [20415.83]\n",
      "Data saved\n"
     ]
    },
    {
     "name": "stderr",
     "output_type": "stream",
     "text": [
      "../src/DRLtrainer.py:413: FutureWarning: Behavior when concatenating bool-dtype and numeric-dtype arrays is deprecated; in a future version these will cast to object dtype (instead of coercing bools to numeric values). To retain the old behavior, explicitly cast bool-dtype arrays to numeric dtype.\n",
      "  train_log_dataframe = pd.concat([train_log_dataframe, tmp])\n"
     ]
    }
   ],
   "source": [
    "drltrainer.rollout(n_episodes=1, run_per_episode=1)"
   ]
  },
  {
   "cell_type": "markdown",
   "id": "4a81223f",
   "metadata": {},
   "source": [
    "## Visualizations"
   ]
  },
  {
   "cell_type": "code",
   "execution_count": 25,
   "id": "6588c554",
   "metadata": {},
   "outputs": [],
   "source": [
    "train_path = \"../data/20230418_162100/DRL\""
   ]
  },
  {
   "cell_type": "code",
   "execution_count": 26,
   "id": "353b7840",
   "metadata": {},
   "outputs": [
    {
     "name": "stdout",
     "output_type": "stream",
     "text": [
      "(669, 9)\n"
     ]
    },
    {
     "data": {
      "text/html": [
       "<div>\n",
       "<style scoped>\n",
       "    .dataframe tbody tr th:only-of-type {\n",
       "        vertical-align: middle;\n",
       "    }\n",
       "\n",
       "    .dataframe tbody tr th {\n",
       "        vertical-align: top;\n",
       "    }\n",
       "\n",
       "    .dataframe thead th {\n",
       "        text-align: right;\n",
       "    }\n",
       "</style>\n",
       "<table border=\"1\" class=\"dataframe\">\n",
       "  <thead>\n",
       "    <tr style=\"text-align: right;\">\n",
       "      <th></th>\n",
       "      <th>episode</th>\n",
       "      <th>run</th>\n",
       "      <th>action</th>\n",
       "      <th>state</th>\n",
       "      <th>reward</th>\n",
       "      <th>done</th>\n",
       "      <th>epsilon</th>\n",
       "      <th>profit</th>\n",
       "      <th>time_elapsed</th>\n",
       "    </tr>\n",
       "  </thead>\n",
       "  <tbody>\n",
       "    <tr>\n",
       "      <th>0</th>\n",
       "      <td>1.0</td>\n",
       "      <td>1.0</td>\n",
       "      <td>[0.40518007]</td>\n",
       "      <td>[[[0.5        0.99983487 0.5        0.5       ...</td>\n",
       "      <td>[0.]</td>\n",
       "      <td>0.0</td>\n",
       "      <td>0.0001</td>\n",
       "      <td>-8.00</td>\n",
       "      <td>0.305147</td>\n",
       "    </tr>\n",
       "    <tr>\n",
       "      <th>1</th>\n",
       "      <td>1.0</td>\n",
       "      <td>1.0</td>\n",
       "      <td>[0.39025277]</td>\n",
       "      <td>[[[5.00000000e-01 9.99834868e-01 5.00000000e-0...</td>\n",
       "      <td>[1.4834396e-05]</td>\n",
       "      <td>0.0</td>\n",
       "      <td>0.0001</td>\n",
       "      <td>21.77</td>\n",
       "      <td>0.427744</td>\n",
       "    </tr>\n",
       "    <tr>\n",
       "      <th>2</th>\n",
       "      <td>1.0</td>\n",
       "      <td>1.0</td>\n",
       "      <td>[0.37110192]</td>\n",
       "      <td>[[[5.00000000e-01 9.99834868e-01 5.00000000e-0...</td>\n",
       "      <td>[2.39132628e-05]</td>\n",
       "      <td>0.0</td>\n",
       "      <td>0.0001</td>\n",
       "      <td>40.33</td>\n",
       "      <td>0.551003</td>\n",
       "    </tr>\n",
       "    <tr>\n",
       "      <th>3</th>\n",
       "      <td>1.0</td>\n",
       "      <td>1.0</td>\n",
       "      <td>[0.4131637]</td>\n",
       "      <td>[[[5.00000000e-01 9.99834868e-01 5.00000000e-0...</td>\n",
       "      <td>[2.55258405e-05]</td>\n",
       "      <td>0.0</td>\n",
       "      <td>0.0001</td>\n",
       "      <td>44.05</td>\n",
       "      <td>0.672450</td>\n",
       "    </tr>\n",
       "    <tr>\n",
       "      <th>4</th>\n",
       "      <td>1.0</td>\n",
       "      <td>1.0</td>\n",
       "      <td>[0.3721071]</td>\n",
       "      <td>[[[5.00000000e-01 9.99834868e-01 5.00000000e-0...</td>\n",
       "      <td>[6.16453355e-05]</td>\n",
       "      <td>0.0</td>\n",
       "      <td>0.0001</td>\n",
       "      <td>117.92</td>\n",
       "      <td>0.796497</td>\n",
       "    </tr>\n",
       "  </tbody>\n",
       "</table>\n",
       "</div>"
      ],
      "text/plain": [
       "   episode  run        action  \\\n",
       "0      1.0  1.0  [0.40518007]   \n",
       "1      1.0  1.0  [0.39025277]   \n",
       "2      1.0  1.0  [0.37110192]   \n",
       "3      1.0  1.0   [0.4131637]   \n",
       "4      1.0  1.0   [0.3721071]   \n",
       "\n",
       "                                               state            reward  done  \\\n",
       "0  [[[0.5        0.99983487 0.5        0.5       ...              [0.]   0.0   \n",
       "1  [[[5.00000000e-01 9.99834868e-01 5.00000000e-0...   [1.4834396e-05]   0.0   \n",
       "2  [[[5.00000000e-01 9.99834868e-01 5.00000000e-0...  [2.39132628e-05]   0.0   \n",
       "3  [[[5.00000000e-01 9.99834868e-01 5.00000000e-0...  [2.55258405e-05]   0.0   \n",
       "4  [[[5.00000000e-01 9.99834868e-01 5.00000000e-0...  [6.16453355e-05]   0.0   \n",
       "\n",
       "   epsilon  profit  time_elapsed  \n",
       "0   0.0001   -8.00      0.305147  \n",
       "1   0.0001   21.77      0.427744  \n",
       "2   0.0001   40.33      0.551003  \n",
       "3   0.0001   44.05      0.672450  \n",
       "4   0.0001  117.92      0.796497  "
      ]
     },
     "execution_count": 26,
     "metadata": {},
     "output_type": "execute_result"
    }
   ],
   "source": [
    "dftr = pd.read_csv(f'{train_path}/Trainer_Data_1.csv',sep=\";\")\n",
    "print(dftr.shape)\n",
    "dftr.head()"
   ]
  },
  {
   "cell_type": "code",
   "execution_count": 27,
   "id": "a938b757",
   "metadata": {},
   "outputs": [
    {
     "data": {
      "image/png": "[encoded data removed]",
      "text/plain": [
       "<Figure size 432x432 with 2 Axes>"
      ]
     },
     "metadata": {
      "needs_background": "light"
     },
     "output_type": "display_data"
    }
   ],
   "source": [
    "fig, ax = plt.subplots(2,1, figsize=(6,6))\n",
    "ax[0].plot(dftr.profit)\n",
    "ax[0].set_title(\"Profits\")\n",
    "y = [ast.literal_eval(x)[0] for x  in dftr.reward]\n",
    "ax[1].plot(y)\n",
    "ax[1].set_title(\"Rewards\")\n",
    "plt.show()"
   ]
  },
  {
   "cell_type": "code",
   "execution_count": 28,
   "id": "62f2f79a",
   "metadata": {},
   "outputs": [],
   "source": [
    "with open(f\"{train_path}/train_data.json\") as fd:\n",
    "    history = json.load(fd)"
   ]
  },
  {
   "cell_type": "code",
   "execution_count": 29,
   "id": "dd05c98d",
   "metadata": {},
   "outputs": [
    {
     "name": "stdout",
     "output_type": "stream",
     "text": [
      "dict_keys(['Epi_1'])\n"
     ]
    }
   ],
   "source": [
    "print(history.keys())"
   ]
  },
  {
   "cell_type": "code",
   "execution_count": 30,
   "id": "7d577c18",
   "metadata": {},
   "outputs": [
    {
     "data": {
      "image/png": "[encoded data removed]",
      "text/plain": [
       "<Figure size 432x432 with 2 Axes>"
      ]
     },
     "metadata": {
      "needs_background": "light"
     },
     "output_type": "display_data"
    }
   ],
   "source": [
    "loss_values = history['Epi_1']['loss']\n",
    "epochs = range(1, len(loss_values)+1)\n",
    "\n",
    "\n",
    "fig, ax = plt.subplots(2,1, figsize=(6,6))\n",
    "ax[0].plot(epochs, loss_values, label='Training Loss')\n",
    "ax[0].set_title(\"Loss\")\n",
    "y = [ast.literal_eval(x)[0] for x  in dftr.reward]\n",
    "ax[1].plot(y)\n",
    "ax[1].set_title(\"Rewards\")\n",
    "plt.show()\n"
   ]
  },
  {
   "cell_type": "code",
   "execution_count": 31,
   "id": "12973bff",
   "metadata": {},
   "outputs": [
    {
     "name": "stdout",
     "output_type": "stream",
     "text": [
      "(670, 23)\n"
     ]
    },
    {
     "data": {
      "text/html": [
       "<div>\n",
       "<style scoped>\n",
       "    .dataframe tbody tr th:only-of-type {\n",
       "        vertical-align: middle;\n",
       "    }\n",
       "\n",
       "    .dataframe tbody tr th {\n",
       "        vertical-align: top;\n",
       "    }\n",
       "\n",
       "    .dataframe thead th {\n",
       "        text-align: right;\n",
       "    }\n",
       "</style>\n",
       "<table border=\"1\" class=\"dataframe\">\n",
       "  <thead>\n",
       "    <tr style=\"text-align: right;\">\n",
       "      <th></th>\n",
       "      <th>btc_price</th>\n",
       "      <th>btc_units</th>\n",
       "      <th>money</th>\n",
       "      <th>buy_long_count</th>\n",
       "      <th>state</th>\n",
       "      <th>fee_paid</th>\n",
       "      <th>short_wallet</th>\n",
       "      <th>wallet_value</th>\n",
       "      <th>product_price</th>\n",
       "      <th>short_units</th>\n",
       "      <th>...</th>\n",
       "      <th>action</th>\n",
       "      <th>btc_eur</th>\n",
       "      <th>long_position</th>\n",
       "      <th>funding_rate</th>\n",
       "      <th>done</th>\n",
       "      <th>buy_short_count</th>\n",
       "      <th>reward</th>\n",
       "      <th>sell_short_count</th>\n",
       "      <th>short_position</th>\n",
       "      <th>short_eur</th>\n",
       "    </tr>\n",
       "  </thead>\n",
       "  <tbody>\n",
       "    <tr>\n",
       "      <th>0</th>\n",
       "      <td>7815.30</td>\n",
       "      <td>0</td>\n",
       "      <td>[20000]</td>\n",
       "      <td>0</td>\n",
       "      <td>[[[0.5        0.99983487 0.5        0.5       ...</td>\n",
       "      <td>0</td>\n",
       "      <td>[0, 0]</td>\n",
       "      <td>20000.00</td>\n",
       "      <td>7815.30</td>\n",
       "      <td>0</td>\n",
       "      <td>...</td>\n",
       "      <td>[0]</td>\n",
       "      <td>0</td>\n",
       "      <td>0.0</td>\n",
       "      <td>0</td>\n",
       "      <td>False</td>\n",
       "      <td>0</td>\n",
       "      <td>[0.]</td>\n",
       "      <td>0</td>\n",
       "      <td>-0.0</td>\n",
       "      <td>-0.0</td>\n",
       "    </tr>\n",
       "    <tr>\n",
       "      <th>1</th>\n",
       "      <td>7812.15</td>\n",
       "      <td>[1.02363644]</td>\n",
       "      <td>[11995.2]</td>\n",
       "      <td>1</td>\n",
       "      <td>[[[0.5        0.99983487 0.5        0.5       ...</td>\n",
       "      <td>[7.9968014]</td>\n",
       "      <td>[0, 0]</td>\n",
       "      <td>19992.00</td>\n",
       "      <td>7812.15</td>\n",
       "      <td>0</td>\n",
       "      <td>...</td>\n",
       "      <td>[0.4]</td>\n",
       "      <td>[7996.8013986]</td>\n",
       "      <td>0.4</td>\n",
       "      <td>0</td>\n",
       "      <td>False</td>\n",
       "      <td>0</td>\n",
       "      <td>[0.]</td>\n",
       "      <td>0</td>\n",
       "      <td>-0.0</td>\n",
       "      <td>-0.0</td>\n",
       "    </tr>\n",
       "    <tr>\n",
       "      <th>2</th>\n",
       "      <td>7841.23</td>\n",
       "      <td>[1.02363644]</td>\n",
       "      <td>[11995.2]</td>\n",
       "      <td>1</td>\n",
       "      <td>[[[5.00000000e-01 9.99834868e-01 5.00000000e-0...</td>\n",
       "      <td>0</td>\n",
       "      <td>[0, 0]</td>\n",
       "      <td>20021.77</td>\n",
       "      <td>7841.23</td>\n",
       "      <td>0</td>\n",
       "      <td>...</td>\n",
       "      <td>[0.4]</td>\n",
       "      <td>[7996.8013986]</td>\n",
       "      <td>0.4</td>\n",
       "      <td>0</td>\n",
       "      <td>False</td>\n",
       "      <td>0</td>\n",
       "      <td>[1.4834396e-05]</td>\n",
       "      <td>0</td>\n",
       "      <td>-0.0</td>\n",
       "      <td>-0.0</td>\n",
       "    </tr>\n",
       "    <tr>\n",
       "      <th>3</th>\n",
       "      <td>7859.36</td>\n",
       "      <td>[1.02363644]</td>\n",
       "      <td>[11995.2]</td>\n",
       "      <td>1</td>\n",
       "      <td>[[[5.00000000e-01 9.99834868e-01 5.00000000e-0...</td>\n",
       "      <td>0</td>\n",
       "      <td>[0, 0]</td>\n",
       "      <td>20040.33</td>\n",
       "      <td>7859.36</td>\n",
       "      <td>0</td>\n",
       "      <td>...</td>\n",
       "      <td>[0.4]</td>\n",
       "      <td>[7996.8013986]</td>\n",
       "      <td>0.4</td>\n",
       "      <td>0</td>\n",
       "      <td>False</td>\n",
       "      <td>0</td>\n",
       "      <td>[2.39132628e-05]</td>\n",
       "      <td>0</td>\n",
       "      <td>-0.0</td>\n",
       "      <td>-0.0</td>\n",
       "    </tr>\n",
       "    <tr>\n",
       "      <th>4</th>\n",
       "      <td>7863.00</td>\n",
       "      <td>[1.02363644]</td>\n",
       "      <td>[11995.2]</td>\n",
       "      <td>1</td>\n",
       "      <td>[[[5.00000000e-01 9.99834868e-01 5.00000000e-0...</td>\n",
       "      <td>0</td>\n",
       "      <td>[0, 0]</td>\n",
       "      <td>20044.05</td>\n",
       "      <td>7863.00</td>\n",
       "      <td>0</td>\n",
       "      <td>...</td>\n",
       "      <td>[0.4]</td>\n",
       "      <td>[7996.8013986]</td>\n",
       "      <td>0.4</td>\n",
       "      <td>0</td>\n",
       "      <td>False</td>\n",
       "      <td>0</td>\n",
       "      <td>[2.55258405e-05]</td>\n",
       "      <td>0</td>\n",
       "      <td>-0.0</td>\n",
       "      <td>-0.0</td>\n",
       "    </tr>\n",
       "  </tbody>\n",
       "</table>\n",
       "<p>5 rows × 23 columns</p>\n",
       "</div>"
      ],
      "text/plain": [
       "   btc_price     btc_units      money  buy_long_count  \\\n",
       "0    7815.30             0    [20000]               0   \n",
       "1    7812.15  [1.02363644]  [11995.2]               1   \n",
       "2    7841.23  [1.02363644]  [11995.2]               1   \n",
       "3    7859.36  [1.02363644]  [11995.2]               1   \n",
       "4    7863.00  [1.02363644]  [11995.2]               1   \n",
       "\n",
       "                                               state     fee_paid  \\\n",
       "0  [[[0.5        0.99983487 0.5        0.5       ...            0   \n",
       "1  [[[0.5        0.99983487 0.5        0.5       ...  [7.9968014]   \n",
       "2  [[[5.00000000e-01 9.99834868e-01 5.00000000e-0...            0   \n",
       "3  [[[5.00000000e-01 9.99834868e-01 5.00000000e-0...            0   \n",
       "4  [[[5.00000000e-01 9.99834868e-01 5.00000000e-0...            0   \n",
       "\n",
       "  short_wallet  wallet_value  product_price  short_units  ...  action  \\\n",
       "0       [0, 0]      20000.00        7815.30            0  ...     [0]   \n",
       "1       [0, 0]      19992.00        7812.15            0  ...   [0.4]   \n",
       "2       [0, 0]      20021.77        7841.23            0  ...   [0.4]   \n",
       "3       [0, 0]      20040.33        7859.36            0  ...   [0.4]   \n",
       "4       [0, 0]      20044.05        7863.00            0  ...   [0.4]   \n",
       "\n",
       "          btc_eur  long_position funding_rate   done  buy_short_count  \\\n",
       "0               0            0.0            0  False                0   \n",
       "1  [7996.8013986]            0.4            0  False                0   \n",
       "2  [7996.8013986]            0.4            0  False                0   \n",
       "3  [7996.8013986]            0.4            0  False                0   \n",
       "4  [7996.8013986]            0.4            0  False                0   \n",
       "\n",
       "             reward  sell_short_count  short_position short_eur  \n",
       "0              [0.]                 0            -0.0      -0.0  \n",
       "1              [0.]                 0            -0.0      -0.0  \n",
       "2   [1.4834396e-05]                 0            -0.0      -0.0  \n",
       "3  [2.39132628e-05]                 0            -0.0      -0.0  \n",
       "4  [2.55258405e-05]                 0            -0.0      -0.0  \n",
       "\n",
       "[5 rows x 23 columns]"
      ]
     },
     "execution_count": 31,
     "metadata": {},
     "output_type": "execute_result"
    }
   ],
   "source": [
    "dfep = pd.read_csv(f'{train_path}/episodes/Epi_1_run_1_BTC.csv', sep=\";\")\n",
    "print(dfep.shape)\n",
    "dfep.head()"
   ]
  },
  {
   "cell_type": "code",
   "execution_count": 32,
   "id": "6b9c668e",
   "metadata": {},
   "outputs": [
    {
     "data": {
      "text/plain": [
       "[<matplotlib.lines.Line2D at 0x7fbed85f4640>]"
      ]
     },
     "execution_count": 32,
     "metadata": {},
     "output_type": "execute_result"
    },
    {
     "data": {
      "image/png": "[encoded data removed]",
      "text/plain": [
       "<Figure size 432x288 with 1 Axes>"
      ]
     },
     "metadata": {
      "needs_background": "light"
     },
     "output_type": "display_data"
    }
   ],
   "source": [
    "y = [ast.literal_eval(x)[0] for x  in dfep.reward]\n",
    "plt.plot(y)"
   ]
  },
  {
   "cell_type": "code",
   "execution_count": 33,
   "id": "cdea3c95",
   "metadata": {},
   "outputs": [
    {
     "data": {
      "text/plain": [
       "<matplotlib.legend.Legend at 0x7fbed8784940>"
      ]
     },
     "execution_count": 33,
     "metadata": {},
     "output_type": "execute_result"
    },
    {
     "data": {
      "image/png": "[encoded data removed]",
      "text/plain": [
       "<Figure size 432x288 with 1 Axes>"
      ]
     },
     "metadata": {
      "needs_background": "light"
     },
     "output_type": "display_data"
    }
   ],
   "source": [
    "wallet = dfep['wallet_value'].values\n",
    "btc = dfep['btc_price'].values\n",
    "\n",
    "# plt.plot(wallet, label='wallet value')\n",
    "plt.plot(btc, label='btc price')\n",
    "plt.legend()"
   ]
  },
  {
   "cell_type": "code",
   "execution_count": 34,
   "id": "853d3331",
   "metadata": {},
   "outputs": [
    {
     "data": {
      "text/plain": [
       "[<matplotlib.lines.Line2D at 0x7fbed8501ac0>]"
      ]
     },
     "execution_count": 34,
     "metadata": {},
     "output_type": "execute_result"
    },
    {
     "data": {
      "image/png": "[encoded data removed]",
      "text/plain": [
       "<Figure size 432x288 with 1 Axes>"
      ]
     },
     "metadata": {
      "needs_background": "light"
     },
     "output_type": "display_data"
    }
   ],
   "source": [
    "tmp = [ast.literal_eval(n) for n in dftr[\"action\"]]\n",
    "plt.plot(tmp)"
   ]
  },
  {
   "cell_type": "code",
   "execution_count": 35,
   "id": "ed73239d",
   "metadata": {},
   "outputs": [
    {
     "data": {
      "text/plain": [
       "Text(0.5, 1.0, 'Actions')"
      ]
     },
     "execution_count": 35,
     "metadata": {},
     "output_type": "execute_result"
    },
    {
     "data": {
      "image/png": "[encoded data removed]",
      "text/plain": [
       "<Figure size 432x288 with 1 Axes>"
      ]
     },
     "metadata": {
      "needs_background": "light"
     },
     "output_type": "display_data"
    }
   ],
   "source": [
    "actions = dfep['action'].values\n",
    "y = [ast.literal_eval(x)[0] for x  in actions]\n",
    "\n",
    "plt.plot(y)\n",
    "plt.title('Actions')"
   ]
  },
  {
   "cell_type": "code",
   "execution_count": 19,
   "id": "f4e89455",
   "metadata": {},
   "outputs": [
    {
     "ename": "TypeError",
     "evalue": "'NoneType' object is not subscriptable",
     "output_type": "error",
     "traceback": [
      "\u001b[0;31m---------------------------------------------------------------------------\u001b[0m",
      "\u001b[0;31mTypeError\u001b[0m                                 Traceback (most recent call last)",
      "\u001b[0;32m<ipython-input-19-8ede642227cc>\u001b[0m in \u001b[0;36m<module>\u001b[0;34m\u001b[0m\n\u001b[0;32m----> 1\u001b[0;31m \u001b[0mplt\u001b[0m\u001b[0;34m.\u001b[0m\u001b[0mplot\u001b[0m\u001b[0;34m(\u001b[0m\u001b[0mdrltrainer\u001b[0m\u001b[0;34m.\u001b[0m\u001b[0mcustom_loss\u001b[0m\u001b[0;34m.\u001b[0m\u001b[0menvironment_data\u001b[0m\u001b[0;34m[\u001b[0m\u001b[0;34m\"price_change\"\u001b[0m\u001b[0;34m]\u001b[0m\u001b[0;34m)\u001b[0m\u001b[0;34m\u001b[0m\u001b[0;34m\u001b[0m\u001b[0m\n\u001b[0m",
      "\u001b[0;31mTypeError\u001b[0m: 'NoneType' object is not subscriptable"
     ]
    }
   ],
   "source": [
    "plt.plot(drltrainer.custom_loss.environment_data[\"price_change\"])"
   ]
  },
  {
   "cell_type": "code",
   "execution_count": 27,
   "id": "75bf4dd5",
   "metadata": {},
   "outputs": [
    {
     "ename": "TypeError",
     "evalue": "<tf.Tensor 'DRLLossFunctions/sub_1:0' shape=(None, 1) dtype=float32> is out of scope and cannot be used here. Use return values, explicit Python locals or TensorFlow collections to access it.\nPlease see https://www.tensorflow.org/guide/function#all_outputs_of_a_tffunction_must_be_return_values for more information.\n\n<tf.Tensor 'DRLLossFunctions/sub_1:0' shape=(None, 1) dtype=float32> was defined here:\n    File \"/usr/lib/python3.8/runpy.py\", line 194, in _run_module_as_main\n      return _run_code(code, main_globals, None,\n    File \"/usr/lib/python3.8/runpy.py\", line 87, in _run_code\n      exec(code, run_globals)\n    File \"/usr/local/lib/python3.8/dist-packages/ipykernel_launcher.py\", line 16, in <module>\n      app.launch_new_instance()\n    File \"/usr/local/lib/python3.8/dist-packages/traitlets/config/application.py\", line 845, in launch_instance\n      app.start()\n    File \"/usr/local/lib/python3.8/dist-packages/ipykernel/kernelapp.py\", line 619, in start\n      self.io_loop.start()\n    File \"/usr/local/lib/python3.8/dist-packages/tornado/platform/asyncio.py\", line 199, in start\n      self.asyncio_loop.run_forever()\n    File \"/usr/lib/python3.8/asyncio/base_events.py\", line 570, in run_forever\n      self._run_once()\n    File \"/usr/lib/python3.8/asyncio/base_events.py\", line 1859, in _run_once\n      handle._run()\n    File \"/usr/lib/python3.8/asyncio/events.py\", line 81, in _run\n      self._context.run(self._callback, *self._args)\n    File \"/usr/local/lib/python3.8/dist-packages/tornado/ioloop.py\", line 688, in <lambda>\n      lambda f: self._run_callback(functools.partial(callback, future))\n    File \"/usr/local/lib/python3.8/dist-packages/tornado/ioloop.py\", line 741, in _run_callback\n      ret = callback()\n    File \"/usr/local/lib/python3.8/dist-packages/tornado/gen.py\", line 814, in inner\n      self.ctx_run(self.run)\n    File \"/usr/local/lib/python3.8/dist-packages/tornado/gen.py\", line 775, in run\n      yielded = self.gen.send(value)\n    File \"/usr/local/lib/python3.8/dist-packages/ipykernel/kernelbase.py\", line 374, in dispatch_queue\n      yield self.process_one()\n    File \"/usr/local/lib/python3.8/dist-packages/tornado/gen.py\", line 250, in wrapper\n      runner = Runner(ctx_run, result, future, yielded)\n    File \"/usr/local/lib/python3.8/dist-packages/tornado/gen.py\", line 741, in __init__\n      self.ctx_run(self.run)\n    File \"/usr/local/lib/python3.8/dist-packages/tornado/gen.py\", line 775, in run\n      yielded = self.gen.send(value)\n    File \"/usr/local/lib/python3.8/dist-packages/ipykernel/kernelbase.py\", line 358, in process_one\n      yield gen.maybe_future(dispatch(*args))\n    File \"/usr/local/lib/python3.8/dist-packages/tornado/gen.py\", line 234, in wrapper\n      yielded = ctx_run(next, result)\n    File \"/usr/local/lib/python3.8/dist-packages/ipykernel/kernelbase.py\", line 261, in dispatch_shell\n      yield gen.maybe_future(handler(stream, idents, msg))\n    File \"/usr/local/lib/python3.8/dist-packages/tornado/gen.py\", line 234, in wrapper\n      yielded = ctx_run(next, result)\n    File \"/usr/local/lib/python3.8/dist-packages/ipykernel/kernelbase.py\", line 536, in execute_request\n      self.do_execute(\n    File \"/usr/local/lib/python3.8/dist-packages/tornado/gen.py\", line 234, in wrapper\n      yielded = ctx_run(next, result)\n    File \"/usr/local/lib/python3.8/dist-packages/ipykernel/ipkernel.py\", line 302, in do_execute\n      res = shell.run_cell(code, store_history=store_history, silent=silent)\n    File \"/usr/local/lib/python3.8/dist-packages/ipykernel/zmqshell.py\", line 539, in run_cell\n      return super(ZMQInteractiveShell, self).run_cell(*args, **kwargs)\n    File \"/usr/local/lib/python3.8/dist-packages/IPython/core/interactiveshell.py\", line 2898, in run_cell\n      result = self._run_cell(\n    File \"/usr/local/lib/python3.8/dist-packages/IPython/core/interactiveshell.py\", line 2944, in _run_cell\n      return runner(coro)\n    File \"/usr/local/lib/python3.8/dist-packages/IPython/core/async_helpers.py\", line 68, in _pseudo_sync_runner\n      coro.send(None)\n    File \"/usr/local/lib/python3.8/dist-packages/IPython/core/interactiveshell.py\", line 3169, in run_cell_async\n      has_raised = await self.run_ast_nodes(code_ast.body, cell_name,\n    File \"/usr/local/lib/python3.8/dist-packages/IPython/core/interactiveshell.py\", line 3361, in run_ast_nodes\n      if (await self.run_code(code, result,  async_=asy)):\n    File \"/usr/local/lib/python3.8/dist-packages/IPython/core/interactiveshell.py\", line 3441, in run_code\n      exec(code_obj, self.user_global_ns, self.user_ns)\n    File \"<ipython-input-7-a81fe3169eff>\", line 1, in <module>\n      drltrainer.rollout(n_episodes=1, run_per_episode=1)\n    File \"../src/DRLtrainer.py\", line 283, in rollout\n      res = self.batch_train()\n    File \"../src/DRLtrainer.py\", line 386, in batch_train\n      result=self.agent.model.fit(x_train, y_target,\n    File \"/usr/local/lib/python3.8/dist-packages/keras/utils/traceback_utils.py\", line 65, in error_handler\n      return fn(*args, **kwargs)\n    File \"/usr/local/lib/python3.8/dist-packages/keras/engine/training.py\", line 1564, in fit\n      tmp_logs = self.train_function(iterator)\n    File \"/usr/local/lib/python3.8/dist-packages/tensorflow/python/util/traceback_utils.py\", line 150, in error_handler\n      return fn(*args, **kwargs)\n    File \"/usr/local/lib/python3.8/dist-packages/tensorflow/python/eager/def_function.py\", line 915, in __call__\n      result = self._call(*args, **kwds)\n    File \"/usr/local/lib/python3.8/dist-packages/tensorflow/python/eager/def_function.py\", line 963, in _call\n      self._initialize(args, kwds, add_initializers_to=initializers)\n    File \"/usr/local/lib/python3.8/dist-packages/tensorflow/python/eager/def_function.py\", line 785, in _initialize\n      self._stateful_fn._get_concrete_function_internal_garbage_collected(  # pylint: disable=protected-access\n    File \"/usr/local/lib/python3.8/dist-packages/tensorflow/python/eager/function.py\", line 2523, in _get_concrete_function_internal_garbage_collected\n      graph_function, _ = self._maybe_define_function(args, kwargs)\n    File \"/usr/local/lib/python3.8/dist-packages/tensorflow/python/eager/function.py\", line 2760, in _maybe_define_function\n      graph_function = self._create_graph_function(args, kwargs)\n    File \"/usr/local/lib/python3.8/dist-packages/tensorflow/python/eager/function.py\", line 2670, in _create_graph_function\n      func_graph_module.func_graph_from_py_func(\n    File \"/usr/local/lib/python3.8/dist-packages/tensorflow/python/framework/func_graph.py\", line 1247, in func_graph_from_py_func\n      func_outputs = python_func(*func_args, **func_kwargs)\n    File \"/usr/local/lib/python3.8/dist-packages/tensorflow/python/eager/def_function.py\", line 677, in wrapped_fn\n      out = weak_wrapped_fn().__wrapped__(*args, **kwds)\n    File \"/usr/local/lib/python3.8/dist-packages/tensorflow/python/framework/func_graph.py\", line 1222, in autograph_handler\n      return autograph.converted_call(\n    File \"/usr/local/lib/python3.8/dist-packages/keras/engine/training.py\", line 1160, in train_function\n      return step_function(self, iterator)\n    File \"/usr/local/lib/python3.8/dist-packages/keras/engine/training.py\", line 1146, in step_function\n      outputs = model.distribute_strategy.run(run_step, args=(data,))\n    File \"/usr/local/lib/python3.8/dist-packages/tensorflow/python/distribute/distribute_lib.py\", line 1315, in run\n      return self._extended.call_for_each_replica(fn, args=args, kwargs=kwargs)\n    File \"/usr/local/lib/python3.8/dist-packages/tensorflow/python/distribute/distribute_lib.py\", line 2891, in call_for_each_replica\n      return self._call_for_each_replica(fn, args, kwargs)\n    File \"/usr/local/lib/python3.8/dist-packages/tensorflow/python/distribute/distribute_lib.py\", line 3692, in _call_for_each_replica\n      return fn(*args, **kwargs)\n    File \"/usr/local/lib/python3.8/dist-packages/keras/engine/training.py\", line 1135, in run_step\n      outputs = model.train_step(data)\n    File \"/usr/local/lib/python3.8/dist-packages/keras/engine/training.py\", line 994, in train_step\n      loss = self.compute_loss(x, y, y_pred, sample_weight)\n    File \"/usr/local/lib/python3.8/dist-packages/keras/engine/training.py\", line 1052, in compute_loss\n      return self.compiled_loss(\n    File \"/usr/local/lib/python3.8/dist-packages/keras/engine/compile_utils.py\", line 265, in __call__\n      loss_value = loss_obj(y_t, y_p, sample_weight=sw)\n    File \"/usr/local/lib/python3.8/dist-packages/keras/losses.py\", line 152, in __call__\n      losses = call_fn(y_true, y_pred)\n    File \"../src/DRLtrainer.py\", line 119, in call\n      loss = self.loss_fn(y_true, y_pred)\n    File \"../src/DRLtrainer.py\", line 85, in reward_differential_sharpe_ratio\n      dsr = expected_return - (gamma/ 2) * variance_returns_squared\n    File \"/usr/local/lib/python3.8/dist-packages/tensorflow/python/util/traceback_utils.py\", line 150, in error_handler\n      return fn(*args, **kwargs)\n    File \"/usr/local/lib/python3.8/dist-packages/tensorflow/python/ops/math_ops.py\", line 1407, in binary_op_wrapper\n      return func(x, y, name=name)\n    File \"/usr/local/lib/python3.8/dist-packages/tensorflow/python/util/traceback_utils.py\", line 150, in error_handler\n      return fn(*args, **kwargs)\n    File \"/usr/local/lib/python3.8/dist-packages/tensorflow/python/util/dispatch.py\", line 1176, in op_dispatch_handler\n      return dispatch_target(*args, **kwargs)\n    File \"/usr/local/lib/python3.8/dist-packages/tensorflow/python/ops/math_ops.py\", line 548, in subtract\n      return gen_math_ops.sub(x, y, name)\n    File \"/usr/local/lib/python3.8/dist-packages/tensorflow/python/ops/gen_math_ops.py\", line 11175, in sub\n      _, _, _op, _outputs = _op_def_library._apply_op_helper(\n    File \"/usr/local/lib/python3.8/dist-packages/tensorflow/python/framework/op_def_library.py\", line 797, in _apply_op_helper\n      op = g._create_op_internal(op_type_name, inputs, dtypes=None,\n    File \"/usr/local/lib/python3.8/dist-packages/tensorflow/python/framework/func_graph.py\", line 735, in _create_op_internal\n      return super(FuncGraph, self)._create_op_internal(  # pylint: disable=protected-access\n    File \"/usr/local/lib/python3.8/dist-packages/tensorflow/python/framework/ops.py\", line 3800, in _create_op_internal\n      ret = Operation(\n\nThe tensor <tf.Tensor 'DRLLossFunctions/sub_1:0' shape=(None, 1) dtype=float32> cannot be accessed from here, because it was defined in FuncGraph(name=train_function, id=140323563323648), which is out of scope.",
     "output_type": "error",
     "traceback": [
      "\u001b[0;31m---------------------------------------------------------------------------\u001b[0m",
      "\u001b[0;31mTypeError\u001b[0m                                 Traceback (most recent call last)",
      "\u001b[0;32m<ipython-input-27-d681931df56c>\u001b[0m in \u001b[0;36m<module>\u001b[0;34m\u001b[0m\n\u001b[0;32m----> 1\u001b[0;31m \u001b[0mtmp\u001b[0m \u001b[0;34m=\u001b[0m \u001b[0;34m[\u001b[0m\u001b[0mx\u001b[0m\u001b[0;34m[\u001b[0m\u001b[0;36m0\u001b[0m\u001b[0;34m,\u001b[0m\u001b[0;36m0\u001b[0m\u001b[0;34m]\u001b[0m \u001b[0;32mfor\u001b[0m \u001b[0mx\u001b[0m \u001b[0;32min\u001b[0m \u001b[0mdrltrainer\u001b[0m\u001b[0;34m.\u001b[0m\u001b[0mcustom_loss\u001b[0m\u001b[0;34m.\u001b[0m\u001b[0msave_drs\u001b[0m\u001b[0;34m]\u001b[0m\u001b[0;34m\u001b[0m\u001b[0;34m\u001b[0m\u001b[0m\n\u001b[0m\u001b[1;32m      2\u001b[0m \u001b[0mplt\u001b[0m\u001b[0;34m.\u001b[0m\u001b[0mplot\u001b[0m\u001b[0;34m(\u001b[0m\u001b[0mtmp\u001b[0m\u001b[0;34m)\u001b[0m\u001b[0;34m\u001b[0m\u001b[0;34m\u001b[0m\u001b[0m\n",
      "\u001b[0;32m<ipython-input-27-d681931df56c>\u001b[0m in \u001b[0;36m<listcomp>\u001b[0;34m(.0)\u001b[0m\n\u001b[0;32m----> 1\u001b[0;31m \u001b[0mtmp\u001b[0m \u001b[0;34m=\u001b[0m \u001b[0;34m[\u001b[0m\u001b[0mx\u001b[0m\u001b[0;34m[\u001b[0m\u001b[0;36m0\u001b[0m\u001b[0;34m,\u001b[0m\u001b[0;36m0\u001b[0m\u001b[0;34m]\u001b[0m \u001b[0;32mfor\u001b[0m \u001b[0mx\u001b[0m \u001b[0;32min\u001b[0m \u001b[0mdrltrainer\u001b[0m\u001b[0;34m.\u001b[0m\u001b[0mcustom_loss\u001b[0m\u001b[0;34m.\u001b[0m\u001b[0msave_drs\u001b[0m\u001b[0;34m]\u001b[0m\u001b[0;34m\u001b[0m\u001b[0;34m\u001b[0m\u001b[0m\n\u001b[0m\u001b[1;32m      2\u001b[0m \u001b[0mplt\u001b[0m\u001b[0;34m.\u001b[0m\u001b[0mplot\u001b[0m\u001b[0;34m(\u001b[0m\u001b[0mtmp\u001b[0m\u001b[0;34m)\u001b[0m\u001b[0;34m\u001b[0m\u001b[0;34m\u001b[0m\u001b[0m\n",
      "\u001b[0;32m/usr/local/lib/python3.8/dist-packages/tensorflow/python/util/traceback_utils.py\u001b[0m in \u001b[0;36merror_handler\u001b[0;34m(*args, **kwargs)\u001b[0m\n\u001b[1;32m    151\u001b[0m     \u001b[0;32mexcept\u001b[0m \u001b[0mException\u001b[0m \u001b[0;32mas\u001b[0m \u001b[0me\u001b[0m\u001b[0;34m:\u001b[0m\u001b[0;34m\u001b[0m\u001b[0;34m\u001b[0m\u001b[0m\n\u001b[1;32m    152\u001b[0m       \u001b[0mfiltered_tb\u001b[0m \u001b[0;34m=\u001b[0m \u001b[0m_process_traceback_frames\u001b[0m\u001b[0;34m(\u001b[0m\u001b[0me\u001b[0m\u001b[0;34m.\u001b[0m\u001b[0m__traceback__\u001b[0m\u001b[0;34m)\u001b[0m\u001b[0;34m\u001b[0m\u001b[0;34m\u001b[0m\u001b[0m\n\u001b[0;32m--> 153\u001b[0;31m       \u001b[0;32mraise\u001b[0m \u001b[0me\u001b[0m\u001b[0;34m.\u001b[0m\u001b[0mwith_traceback\u001b[0m\u001b[0;34m(\u001b[0m\u001b[0mfiltered_tb\u001b[0m\u001b[0;34m)\u001b[0m \u001b[0;32mfrom\u001b[0m \u001b[0;32mNone\u001b[0m\u001b[0;34m\u001b[0m\u001b[0;34m\u001b[0m\u001b[0m\n\u001b[0m\u001b[1;32m    154\u001b[0m     \u001b[0;32mfinally\u001b[0m\u001b[0;34m:\u001b[0m\u001b[0;34m\u001b[0m\u001b[0;34m\u001b[0m\u001b[0m\n\u001b[1;32m    155\u001b[0m       \u001b[0;32mdel\u001b[0m \u001b[0mfiltered_tb\u001b[0m\u001b[0;34m\u001b[0m\u001b[0;34m\u001b[0m\u001b[0m\n",
      "\u001b[0;32m/usr/local/lib/python3.8/dist-packages/tensorflow/python/eager/execute.py\u001b[0m in \u001b[0;36mquick_execute\u001b[0;34m(op_name, num_outputs, inputs, attrs, ctx, name)\u001b[0m\n\u001b[1;32m     52\u001b[0m   \u001b[0;32mtry\u001b[0m\u001b[0;34m:\u001b[0m\u001b[0;34m\u001b[0m\u001b[0;34m\u001b[0m\u001b[0m\n\u001b[1;32m     53\u001b[0m     \u001b[0mctx\u001b[0m\u001b[0;34m.\u001b[0m\u001b[0mensure_initialized\u001b[0m\u001b[0;34m(\u001b[0m\u001b[0;34m)\u001b[0m\u001b[0;34m\u001b[0m\u001b[0;34m\u001b[0m\u001b[0m\n\u001b[0;32m---> 54\u001b[0;31m     tensors = pywrap_tfe.TFE_Py_Execute(ctx._handle, device_name, op_name,\n\u001b[0m\u001b[1;32m     55\u001b[0m                                         inputs, attrs, num_outputs)\n\u001b[1;32m     56\u001b[0m   \u001b[0;32mexcept\u001b[0m \u001b[0mcore\u001b[0m\u001b[0;34m.\u001b[0m\u001b[0m_NotOkStatusException\u001b[0m \u001b[0;32mas\u001b[0m \u001b[0me\u001b[0m\u001b[0;34m:\u001b[0m\u001b[0;34m\u001b[0m\u001b[0;34m\u001b[0m\u001b[0m\n",
      "\u001b[0;31mTypeError\u001b[0m: <tf.Tensor 'DRLLossFunctions/sub_1:0' shape=(None, 1) dtype=float32> is out of scope and cannot be used here. Use return values, explicit Python locals or TensorFlow collections to access it.\nPlease see https://www.tensorflow.org/guide/function#all_outputs_of_a_tffunction_must_be_return_values for more information.\n\n<tf.Tensor 'DRLLossFunctions/sub_1:0' shape=(None, 1) dtype=float32> was defined here:\n    File \"/usr/lib/python3.8/runpy.py\", line 194, in _run_module_as_main\n      return _run_code(code, main_globals, None,\n    File \"/usr/lib/python3.8/runpy.py\", line 87, in _run_code\n      exec(code, run_globals)\n    File \"/usr/local/lib/python3.8/dist-packages/ipykernel_launcher.py\", line 16, in <module>\n      app.launch_new_instance()\n    File \"/usr/local/lib/python3.8/dist-packages/traitlets/config/application.py\", line 845, in launch_instance\n      app.start()\n    File \"/usr/local/lib/python3.8/dist-packages/ipykernel/kernelapp.py\", line 619, in start\n      self.io_loop.start()\n    File \"/usr/local/lib/python3.8/dist-packages/tornado/platform/asyncio.py\", line 199, in start\n      self.asyncio_loop.run_forever()\n    File \"/usr/lib/python3.8/asyncio/base_events.py\", line 570, in run_forever\n      self._run_once()\n    File \"/usr/lib/python3.8/asyncio/base_events.py\", line 1859, in _run_once\n      handle._run()\n    File \"/usr/lib/python3.8/asyncio/events.py\", line 81, in _run\n      self._context.run(self._callback, *self._args)\n    File \"/usr/local/lib/python3.8/dist-packages/tornado/ioloop.py\", line 688, in <lambda>\n      lambda f: self._run_callback(functools.partial(callback, future))\n    File \"/usr/local/lib/python3.8/dist-packages/tornado/ioloop.py\", line 741, in _run_callback\n      ret = callback()\n    File \"/usr/local/lib/python3.8/dist-packages/tornado/gen.py\", line 814, in inner\n      self.ctx_run(self.run)\n    File \"/usr/local/lib/python3.8/dist-packages/tornado/gen.py\", line 775, in run\n      yielded = self.gen.send(value)\n    File \"/usr/local/lib/python3.8/dist-packages/ipykernel/kernelbase.py\", line 374, in dispatch_queue\n      yield self.process_one()\n    File \"/usr/local/lib/python3.8/dist-packages/tornado/gen.py\", line 250, in wrapper\n      runner = Runner(ctx_run, result, future, yielded)\n    File \"/usr/local/lib/python3.8/dist-packages/tornado/gen.py\", line 741, in __init__\n      self.ctx_run(self.run)\n    File \"/usr/local/lib/python3.8/dist-packages/tornado/gen.py\", line 775, in run\n      yielded = self.gen.send(value)\n    File \"/usr/local/lib/python3.8/dist-packages/ipykernel/kernelbase.py\", line 358, in process_one\n      yield gen.maybe_future(dispatch(*args))\n    File \"/usr/local/lib/python3.8/dist-packages/tornado/gen.py\", line 234, in wrapper\n      yielded = ctx_run(next, result)\n    File \"/usr/local/lib/python3.8/dist-packages/ipykernel/kernelbase.py\", line 261, in dispatch_shell\n      yield gen.maybe_future(handler(stream, idents, msg))\n    File \"/usr/local/lib/python3.8/dist-packages/tornado/gen.py\", line 234, in wrapper\n      yielded = ctx_run(next, result)\n    File \"/usr/local/lib/python3.8/dist-packages/ipykernel/kernelbase.py\", line 536, in execute_request\n      self.do_execute(\n    File \"/usr/local/lib/python3.8/dist-packages/tornado/gen.py\", line 234, in wrapper\n      yielded = ctx_run(next, result)\n    File \"/usr/local/lib/python3.8/dist-packages/ipykernel/ipkernel.py\", line 302, in do_execute\n      res = shell.run_cell(code, store_history=store_history, silent=silent)\n    File \"/usr/local/lib/python3.8/dist-packages/ipykernel/zmqshell.py\", line 539, in run_cell\n      return super(ZMQInteractiveShell, self).run_cell(*args, **kwargs)\n    File \"/usr/local/lib/python3.8/dist-packages/IPython/core/interactiveshell.py\", line 2898, in run_cell\n      result = self._run_cell(\n    File \"/usr/local/lib/python3.8/dist-packages/IPython/core/interactiveshell.py\", line 2944, in _run_cell\n      return runner(coro)\n    File \"/usr/local/lib/python3.8/dist-packages/IPython/core/async_helpers.py\", line 68, in _pseudo_sync_runner\n      coro.send(None)\n    File \"/usr/local/lib/python3.8/dist-packages/IPython/core/interactiveshell.py\", line 3169, in run_cell_async\n      has_raised = await self.run_ast_nodes(code_ast.body, cell_name,\n    File \"/usr/local/lib/python3.8/dist-packages/IPython/core/interactiveshell.py\", line 3361, in run_ast_nodes\n      if (await self.run_code(code, result,  async_=asy)):\n    File \"/usr/local/lib/python3.8/dist-packages/IPython/core/interactiveshell.py\", line 3441, in run_code\n      exec(code_obj, self.user_global_ns, self.user_ns)\n    File \"<ipython-input-7-a81fe3169eff>\", line 1, in <module>\n      drltrainer.rollout(n_episodes=1, run_per_episode=1)\n    File \"../src/DRLtrainer.py\", line 283, in rollout\n      res = self.batch_train()\n    File \"../src/DRLtrainer.py\", line 386, in batch_train\n      result=self.agent.model.fit(x_train, y_target,\n    File \"/usr/local/lib/python3.8/dist-packages/keras/utils/traceback_utils.py\", line 65, in error_handler\n      return fn(*args, **kwargs)\n    File \"/usr/local/lib/python3.8/dist-packages/keras/engine/training.py\", line 1564, in fit\n      tmp_logs = self.train_function(iterator)\n    File \"/usr/local/lib/python3.8/dist-packages/tensorflow/python/util/traceback_utils.py\", line 150, in error_handler\n      return fn(*args, **kwargs)\n    File \"/usr/local/lib/python3.8/dist-packages/tensorflow/python/eager/def_function.py\", line 915, in __call__\n      result = self._call(*args, **kwds)\n    File \"/usr/local/lib/python3.8/dist-packages/tensorflow/python/eager/def_function.py\", line 963, in _call\n      self._initialize(args, kwds, add_initializers_to=initializers)\n    File \"/usr/local/lib/python3.8/dist-packages/tensorflow/python/eager/def_function.py\", line 785, in _initialize\n      self._stateful_fn._get_concrete_function_internal_garbage_collected(  # pylint: disable=protected-access\n    File \"/usr/local/lib/python3.8/dist-packages/tensorflow/python/eager/function.py\", line 2523, in _get_concrete_function_internal_garbage_collected\n      graph_function, _ = self._maybe_define_function(args, kwargs)\n    File \"/usr/local/lib/python3.8/dist-packages/tensorflow/python/eager/function.py\", line 2760, in _maybe_define_function\n      graph_function = self._create_graph_function(args, kwargs)\n    File \"/usr/local/lib/python3.8/dist-packages/tensorflow/python/eager/function.py\", line 2670, in _create_graph_function\n      func_graph_module.func_graph_from_py_func(\n    File \"/usr/local/lib/python3.8/dist-packages/tensorflow/python/framework/func_graph.py\", line 1247, in func_graph_from_py_func\n      func_outputs = python_func(*func_args, **func_kwargs)\n    File \"/usr/local/lib/python3.8/dist-packages/tensorflow/python/eager/def_function.py\", line 677, in wrapped_fn\n      out = weak_wrapped_fn().__wrapped__(*args, **kwds)\n    File \"/usr/local/lib/python3.8/dist-packages/tensorflow/python/framework/func_graph.py\", line 1222, in autograph_handler\n      return autograph.converted_call(\n    File \"/usr/local/lib/python3.8/dist-packages/keras/engine/training.py\", line 1160, in train_function\n      return step_function(self, iterator)\n    File \"/usr/local/lib/python3.8/dist-packages/keras/engine/training.py\", line 1146, in step_function\n      outputs = model.distribute_strategy.run(run_step, args=(data,))\n    File \"/usr/local/lib/python3.8/dist-packages/tensorflow/python/distribute/distribute_lib.py\", line 1315, in run\n      return self._extended.call_for_each_replica(fn, args=args, kwargs=kwargs)\n    File \"/usr/local/lib/python3.8/dist-packages/tensorflow/python/distribute/distribute_lib.py\", line 2891, in call_for_each_replica\n      return self._call_for_each_replica(fn, args, kwargs)\n    File \"/usr/local/lib/python3.8/dist-packages/tensorflow/python/distribute/distribute_lib.py\", line 3692, in _call_for_each_replica\n      return fn(*args, **kwargs)\n    File \"/usr/local/lib/python3.8/dist-packages/keras/engine/training.py\", line 1135, in run_step\n      outputs = model.train_step(data)\n    File \"/usr/local/lib/python3.8/dist-packages/keras/engine/training.py\", line 994, in train_step\n      loss = self.compute_loss(x, y, y_pred, sample_weight)\n    File \"/usr/local/lib/python3.8/dist-packages/keras/engine/training.py\", line 1052, in compute_loss\n      return self.compiled_loss(\n    File \"/usr/local/lib/python3.8/dist-packages/keras/engine/compile_utils.py\", line 265, in __call__\n      loss_value = loss_obj(y_t, y_p, sample_weight=sw)\n    File \"/usr/local/lib/python3.8/dist-packages/keras/losses.py\", line 152, in __call__\n      losses = call_fn(y_true, y_pred)\n    File \"../src/DRLtrainer.py\", line 119, in call\n      loss = self.loss_fn(y_true, y_pred)\n    File \"../src/DRLtrainer.py\", line 85, in reward_differential_sharpe_ratio\n      dsr = expected_return - (gamma/ 2) * variance_returns_squared\n    File \"/usr/local/lib/python3.8/dist-packages/tensorflow/python/util/traceback_utils.py\", line 150, in error_handler\n      return fn(*args, **kwargs)\n    File \"/usr/local/lib/python3.8/dist-packages/tensorflow/python/ops/math_ops.py\", line 1407, in binary_op_wrapper\n      return func(x, y, name=name)\n    File \"/usr/local/lib/python3.8/dist-packages/tensorflow/python/util/traceback_utils.py\", line 150, in error_handler\n      return fn(*args, **kwargs)\n    File \"/usr/local/lib/python3.8/dist-packages/tensorflow/python/util/dispatch.py\", line 1176, in op_dispatch_handler\n      return dispatch_target(*args, **kwargs)\n    File \"/usr/local/lib/python3.8/dist-packages/tensorflow/python/ops/math_ops.py\", line 548, in subtract\n      return gen_math_ops.sub(x, y, name)\n    File \"/usr/local/lib/python3.8/dist-packages/tensorflow/python/ops/gen_math_ops.py\", line 11175, in sub\n      _, _, _op, _outputs = _op_def_library._apply_op_helper(\n    File \"/usr/local/lib/python3.8/dist-packages/tensorflow/python/framework/op_def_library.py\", line 797, in _apply_op_helper\n      op = g._create_op_internal(op_type_name, inputs, dtypes=None,\n    File \"/usr/local/lib/python3.8/dist-packages/tensorflow/python/framework/func_graph.py\", line 735, in _create_op_internal\n      return super(FuncGraph, self)._create_op_internal(  # pylint: disable=protected-access\n    File \"/usr/local/lib/python3.8/dist-packages/tensorflow/python/framework/ops.py\", line 3800, in _create_op_internal\n      ret = Operation(\n\nThe tensor <tf.Tensor 'DRLLossFunctions/sub_1:0' shape=(None, 1) dtype=float32> cannot be accessed from here, because it was defined in FuncGraph(name=train_function, id=140323563323648), which is out of scope."
     ]
    }
   ],
   "source": [
    "tmp = [x[0,0] for x in drltrainer.custom_loss.save_drs] \n",
    "plt.plot(tmp)"
   ]
  },
  {
   "cell_type": "code",
   "execution_count": 40,
   "id": "dfa34b7d",
   "metadata": {},
   "outputs": [
    {
     "data": {
      "text/plain": [
       "[<tf.Tensor 'DRLLossFunctions/sub_1:0' shape=(None, 1) dtype=float32>,\n",
       " <tf.Tensor 'DRLLossFunctions/sub_1:0' shape=(None, 1) dtype=float32>]"
      ]
     },
     "execution_count": 40,
     "metadata": {},
     "output_type": "execute_result"
    }
   ],
   "source": [
    "drltrainer.custom_loss.save_drs"
   ]
  },
  {
   "cell_type": "code",
   "execution_count": 23,
   "id": "b962a4a3",
   "metadata": {},
   "outputs": [
    {
     "data": {
      "text/plain": [
       "[<matplotlib.lines.Line2D at 0x7f9f00400910>]"
      ]
     },
     "execution_count": 23,
     "metadata": {},
     "output_type": "execute_result"
    },
    {
     "data": {
      "image/png": "[encoded data removed]",
      "text/plain": [
       "<Figure size 432x288 with 1 Axes>"
      ]
     },
     "metadata": {
      "needs_background": "light"
     },
     "output_type": "display_data"
    }
   ],
   "source": [
    "test =tf.gather(drltrainer.custom_loss.environment_data[\"price_change\"], \n",
    "                    [i for i in range(len(drltrainer.custom_loss.environment_data[\"price_change\"]))])\n",
    "\n",
    "plt.plot(test)"
   ]
  },
  {
   "cell_type": "code",
   "execution_count": 42,
   "id": "f6bdf6aa",
   "metadata": {},
   "outputs": [],
   "source": [
    "idx = tf.roll(tf.cast( [i for i in range(len(drltrainer.custom_loss.environment_data[\"product_price\"]))], \n",
    "                      tf.int32), shift=-1, axis=0)\n",
    "old_price = tf.gather(drltrainer.custom_loss.environment_data[\"product_price\"], \n",
    "                     [i for i in range(len(drltrainer.custom_loss.environment_data[\"product_price\"]))])"
   ]
  },
  {
   "cell_type": "code",
   "execution_count": 43,
   "id": "7a58f1d4",
   "metadata": {},
   "outputs": [
    {
     "data": {
      "text/plain": [
       "[<matplotlib.lines.Line2D at 0x7f61000914c0>]"
      ]
     },
     "execution_count": 43,
     "metadata": {},
     "output_type": "execute_result"
    },
    {
     "data": {
      "image/png": "[encoded data removed]",
      "text/plain": [
       "<Figure size 432x288 with 1 Axes>"
      ]
     },
     "metadata": {
      "needs_background": "light"
     },
     "output_type": "display_data"
    }
   ],
   "source": [
    "plt.plot(old_price)"
   ]
  },
  {
   "cell_type": "code",
   "execution_count": 24,
   "id": "0ba4ece1",
   "metadata": {},
   "outputs": [
    {
     "data": {
      "text/plain": [
       "[<matplotlib.lines.Line2D at 0x7f60a0213b80>]"
      ]
     },
     "execution_count": 24,
     "metadata": {},
     "output_type": "execute_result"
    },
    {
     "data": {
      "image/png": "[encoded data removed]",
      "text/plain": [
       "<Figure size 432x288 with 1 Axes>"
      ]
     },
     "metadata": {
      "needs_background": "light"
     },
     "output_type": "display_data"
    }
   ],
   "source": [
    "\n",
    "plt.plot(drltrainer.custom_loss.environment_data[\"expected_return\"])"
   ]
  },
  {
   "cell_type": "code",
   "execution_count": 25,
   "id": "ec03d400",
   "metadata": {},
   "outputs": [
    {
     "data": {
      "text/plain": [
       "[<matplotlib.lines.Line2D at 0x7f60a019a850>]"
      ]
     },
     "execution_count": 25,
     "metadata": {},
     "output_type": "execute_result"
    },
    {
     "data": {
      "image/png": "[encoded data removed]",
      "text/plain": [
       "<Figure size 432x288 with 1 Axes>"
      ]
     },
     "metadata": {
      "needs_background": "light"
     },
     "output_type": "display_data"
    }
   ],
   "source": [
    "plt.plot(drltrainer.custom_loss.environment_data[\"var_returns_squared\"])"
   ]
  },
  {
   "cell_type": "markdown",
   "id": "9c7f2246",
   "metadata": {},
   "source": [
    "## Train step by step"
   ]
  },
  {
   "cell_type": "code",
   "execution_count": 4,
   "id": "6dd4ae71",
   "metadata": {},
   "outputs": [
    {
     "name": "stderr",
     "output_type": "stream",
     "text": [
      "100%|██████████| 55/55 [00:08<00:00,  6.65it/s]\n"
     ]
    }
   ],
   "source": [
    "env.reset()\n",
    "data_samples = env.episode_length\n",
    "memory = deque()\n",
    "\n",
    "state, _, _ = env.step(np.array([0]))\n",
    "for t in tqdm(range(55)):\n",
    "    # Compute Action\n",
    "    tmp_wallet_value = env.wallet_value\n",
    "    action = agent.compute_action(state)\n",
    "    # Compute new step\n",
    "    next_state, reward, done = env.step(action=action)\n",
    "    # save Experience to Memory\n",
    "    memory.append((state, action, reward, next_state, done))\n",
    "    state = next_state"
   ]
  },
  {
   "cell_type": "code",
   "execution_count": 10,
   "id": "e6ed6614",
   "metadata": {},
   "outputs": [
    {
     "name": "stdout",
     "output_type": "stream",
     "text": [
      "50\n",
      "Epoch 1/5\n",
      "2/2 [==============================] - 4s 7ms/step - loss: -0.0086\n",
      "Epoch 2/5\n",
      "2/2 [==============================] - 0s 5ms/step - loss: -0.0112\n",
      "Epoch 3/5\n",
      "2/2 [==============================] - 0s 5ms/step - loss: -0.0121\n",
      "Epoch 4/5\n",
      "2/2 [==============================] - 0s 4ms/step - loss: -0.0123\n",
      "Epoch 5/5\n",
      "2/2 [==============================] - 0s 4ms/step - loss: -0.0123\n"
     ]
    }
   ],
   "source": [
    "batch_size = 50\n",
    "\n",
    "\n",
    "batch = []\n",
    "# for i in range(1):\n",
    "for i in range(max([len(memory) - batch_size,0]), len(memory)):\n",
    "    batch.append(memory[i])\n",
    "\n",
    "# Change here to fit new RL-Algo\n",
    "# for index in range(0,len(batch)-1):\n",
    "\n",
    "x_train = np.zeros((batch_size, 20,8))\n",
    "y_train = np.zeros((batch_size, 4))\n",
    "print(len(batch))\n",
    "\n",
    "\n",
    "state, _, reward, next_state , done = batch[0]\n",
    "action = agent.model.predict(state,verbose = 0)\n",
    "for index in range(1,len(batch)):\n",
    "    # Compute Reward Decay for DQN\n",
    "    action_next = agent.model.predict(next_state,verbose = 0)\n",
    "#     if not done:\n",
    "#         reward += dqntrainer.gamma * np.max(action_next)\n",
    "        \n",
    "    if np.any(np.isnan(reward)) or np.any(np.isnan(action)):\n",
    "        print(reward)\n",
    "        print(action)\n",
    "    target = np.nan_to_num(action,nan=0.0)      \n",
    "    id_act = np.argmax(target)\n",
    "    target[0,id_act] = reward\n",
    "    \n",
    "    target = np.nan_to_num(target,nan=0.0)\n",
    "    state = np.nan_to_num(state,nan=0.0)\n",
    "    x_train[index]= state[0]\n",
    "    y_train[index]= target[0]\n",
    "    \n",
    "    \n",
    "    # update state, action, reward for training\n",
    "    state, _, reward, next_state , done = batch[index]\n",
    "    action = action_next\n",
    "\n",
    "\n",
    "result=agent.model.fit(x_train, y_train, epochs=5, verbose=1)\n",
    "# agent.update_epsilon()\n"
   ]
  },
  {
   "cell_type": "code",
   "execution_count": null,
   "id": "e9ae94d4",
   "metadata": {},
   "outputs": [],
   "source": []
  }
 ],
 "metadata": {
  "kernelspec": {
   "display_name": "Python 3",
   "language": "python",
   "name": "python3"
  },
  "language_info": {
   "codemirror_mode": {
    "name": "ipython",
    "version": 3
   },
   "file_extension": ".py",
   "mimetype": "text/x-python",
   "name": "python",
   "nbconvert_exporter": "python",
   "pygments_lexer": "ipython3",
   "version": "3.8.5"
  }
 },
 "nbformat": 4,
 "nbformat_minor": 5
}
