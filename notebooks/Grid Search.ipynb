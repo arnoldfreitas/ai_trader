{
 "cells": [
  {
   "cell_type": "code",
   "execution_count": 1,
   "id": "f59e1ab2",
   "metadata": {},
   "outputs": [],
   "source": [
    "import sys\n",
    "import os\n",
    "from datetime import datetime\n",
    "import json\n",
    "import shutil\n",
    "import random\n",
    "import ast\n",
    "import numpy as np\n",
    "import pandas as pd\n",
    "import tensorflow as tf\n",
    "from tensorflow import keras\n",
    "from tqdm import tqdm_notebook, tqdm\n",
    "from matplotlib import pyplot as plt\n",
    "import pprint\n",
    "\n",
    "sys.path.append('../src/')\n",
    "from env import BTCMarket_Env\n",
    "# from agent import Trader_Agent\n",
    "# from DQNtrainer import DQNTrainer\n",
    "# from DRLtrainer import DRLTrainer\n",
    "from collections import deque\n",
    "import h5py\n",
    "from itertools import product\n",
    "\n",
    "import agent as TAgent\n",
    "import env as BTCEnv\n",
    "import DQNtrainer as DQNTrainer\n",
    "import DRLtrainer as DRLTrainer\n",
    "\n",
    "from importlib import reload \n"
   ]
  },
  {
   "cell_type": "code",
   "execution_count": 2,
   "id": "21e02165",
   "metadata": {},
   "outputs": [],
   "source": [
    "# physical_devices = tf.config.list_physical_devices('GPU')\n",
    "# tf.config.set_logical_device_configuration(\n",
    "#         physical_devices[0],\n",
    "#         [tf.config.LogicalDeviceConfiguration(memory_limit=3072)])\n",
    "# tf.config.experimental.set_memory_growth(physical_devices[0], enable=True)"
   ]
  },
  {
   "cell_type": "markdown",
   "id": "ef7b1135",
   "metadata": {},
   "source": [
    "# Preparations"
   ]
  },
  {
   "cell_type": "code",
   "execution_count": 39,
   "id": "5788dac6",
   "metadata": {},
   "outputs": [
    {
     "name": "stdout",
     "output_type": "stream",
     "text": [
      "[{'action_domain': (0.0, 1.0),\n",
      "  'asset': 'BTC',\n",
      "  'batch_size': 50,\n",
      "  'episodes': 1,\n",
      "  'epoch': 1,\n",
      "  'epsilon': 0.5,\n",
      "  'epsilon_decay': 0.995,\n",
      "  'epsilon_final': 0.01,\n",
      "  'fee': 0.001,\n",
      "  'gamma': 0.95,\n",
      "  'learning_rate': 0.001,\n",
      "  'money': 10000,\n",
      "  'obs_space': (8, 20),\n",
      "  'reward_function': 'reward_profit',\n",
      "  'runs_p_eps': 1,\n",
      "  'trainer': 'DQNTrainer.DQNTrainer'}]\n"
     ]
    }
   ],
   "source": [
    "data_source_btc = \"BTC_histData_dt1800.0s_20220825_0629\" \n",
    "data_source_perp = \"Perp_BTC_FundingRate_Data_fakehist\"\n",
    "\n",
    "hpo_params= { \n",
    "    'obs_space' : [(8,20)], \n",
    "    'action_domain' : [(0.0,1.0)], # (-1.0,1.0),\n",
    "    'money' : [10000], \n",
    "    'fee' : [0.001], \n",
    "    'asset' : ['BTC'],\n",
    "#     'reward_function' : ['compute_reward_from_tutor', 'reward_sharpe_ratio', 'reward_sortino_ratio', \n",
    "#                         'reward_differential_sharpe_ratio', 'reward_profit'],\n",
    "    'reward_function' : ['reward_profit'],\n",
    "    \n",
    "    'learning_rate': [1e-3],\n",
    "#     'trainer' : ['DRLTrainer.DRLTrainer'], # 'DRLTrainer', 'DQNTrainer'\n",
    "    'trainer' : ['DQNTrainer.DQNTrainer'], # 'DRLTrainer', 'DQNTrainer'\n",
    "    'episodes' : [1], \n",
    "    'runs_p_eps' : [1], \n",
    "    'batch_size': [50],\n",
    "    'epoch': [1],\n",
    "    'gamma': [0.95],\n",
    "    \n",
    "    'epsilon': [0.5],\n",
    "    'epsilon_final':[0.01],\n",
    "    'epsilon_decay':[0.995],\n",
    "}\n",
    "\n",
    "\n",
    "keys, values = zip(*hpo_params.items())\n",
    "hpo_list = [dict(zip(keys, v)) for v in product(*values)]\n",
    "pprint.pprint(hpo_list)"
   ]
  },
  {
   "cell_type": "code",
   "execution_count": 40,
   "id": "051b4b5f",
   "metadata": {},
   "outputs": [],
   "source": [
    "TAgent=reload(TAgent)\n",
    "BTCEnv=reload(BTCEnv)\n",
    "DQNTrainer=reload(DQNTrainer)\n",
    "DRLTrainer=reload(DRLTrainer)"
   ]
  },
  {
   "cell_type": "code",
   "execution_count": 41,
   "id": "2e7e251c",
   "metadata": {},
   "outputs": [],
   "source": [
    "def conduct_traning(param_combination, i):\n",
    "    if param_combination.get('trainer') == 'DQNTrainer.DQNTrainer':\n",
    "        action_space = 4\n",
    "        algorithm = f'DQN_trial_{i}'\n",
    "    else:\n",
    "        action_space = 1\n",
    "        algorithm = f'DRL_trial_{i}'\n",
    "\n",
    "    if param_combination.get('asset') == 'BTC':\n",
    "        param_combination[\"data_source\"] = data_source_btc\n",
    "    else:\n",
    "        param_combination[\"data_source\"] = data_source_perp\n",
    "\n",
    "\n",
    "    param_combination['action_space'] = action_space\n",
    "    param_combination['algorithm'] = algorithm\n",
    "    pprint.pprint(param_combination)\n",
    "\n",
    "    env = BTCEnv.BTCMarket_Env(observation_space = param_combination.get('obs_space', (8,20)),\n",
    "            action_space = action_space,\n",
    "            start_money = param_combination.get('money', 10000),\n",
    "            trading_fee = param_combination.get('fee', 0.001),\n",
    "            asset = param_combination.get('asset', 'BTC'),\n",
    "            source_file = param_combination.get('data_source', data_source_btc),\n",
    "            reward_function = param_combination.get('reward_function', 'reward_differential_sharpe_ratio'),\n",
    "                       )\n",
    "\n",
    "    agent = TAgent.Trader_Agent(observation_space = param_combination.get('obs_space', (8,20)),\n",
    "                action_space = action_space,\n",
    "                action_domain = param_combination.get('action_domain', (0.0,1.0)),\n",
    "                epsilon = param_combination.get('epsilon', 0.7),\n",
    "                epsilon_final = param_combination.get('epsilon_final', 0.01),\n",
    "                epsilon_decay = param_combination.get('epsilon_decay', 0.995),\n",
    "                        )\n",
    "\n",
    "    trainer_class = eval(param_combination.get('trainer', 'DRLTrainer.DRLTrainer'))\n",
    "    trainer = trainer_class(env, agent,\n",
    "                observation_space = param_combination.get('obs_space', (8,20)),\n",
    "                action_space = action_space,\n",
    "                batch_size=param_combination.get('batch_size', 50),\n",
    "                epoch=param_combination.get('epoch', 5),\n",
    "                gamma=param_combination.get('gamma', 0.95),\n",
    "                learning_rate=param_combination.get('learning_rate', 1e-3),\n",
    "                algorithm=algorithm,\n",
    "                lstm_path=\"./../notebooks/best_models/11_mar_2023/best_model_sequential_20back_10ahead.h5\",\n",
    "                # best_model_sequential_20back_10ahead lstm_2,\n",
    "                           )\n",
    "    os.makedirs(trainer.train_folder,exist_ok=True)\n",
    "    with open(f'{trainer.train_folder}/params.json', 'w') as fp:\n",
    "        json.dump(param_combination, fp)\n",
    "\n",
    "    trainer.rollout(n_episodes=param_combination.get('episodes', 2), \n",
    "                       run_per_episode=param_combination.get('runs_p_eps', 2))\n",
    "    \n",
    "#     return trainer.train_folder,  act, dqn\n",
    "    return trainer.train_folder"
   ]
  },
  {
   "cell_type": "code",
   "execution_count": 42,
   "id": "e733a393",
   "metadata": {},
   "outputs": [],
   "source": [
    "training_folders = []"
   ]
  },
  {
   "cell_type": "code",
   "execution_count": 43,
   "id": "43addfd4",
   "metadata": {},
   "outputs": [],
   "source": [
    "# for i in range(len(hpo_list)):\n",
    "#     train_folder = conduct_traning(hpo_list[i], i)\n",
    "#     training_folders.append(train_folder)"
   ]
  },
  {
   "cell_type": "code",
   "execution_count": 44,
   "id": "6fa4b293",
   "metadata": {},
   "outputs": [
    {
     "name": "stdout",
     "output_type": "stream",
     "text": [
      "[]\n"
     ]
    }
   ],
   "source": [
    "print(training_folders)"
   ]
  },
  {
   "cell_type": "markdown",
   "id": "bb9aa2b6",
   "metadata": {},
   "source": [
    "# Param combination 0"
   ]
  },
  {
   "cell_type": "code",
   "execution_count": 45,
   "id": "03529e62",
   "metadata": {},
   "outputs": [
    {
     "name": "stdout",
     "output_type": "stream",
     "text": [
      "{'action_domain': (0.0, 1.0),\n",
      " 'action_space': 4,\n",
      " 'algorithm': 'DQN_trial_0',\n",
      " 'asset': 'BTC',\n",
      " 'batch_size': 50,\n",
      " 'data_source': 'BTC_histData_dt1800.0s_20220825_0629',\n",
      " 'episodes': 1,\n",
      " 'epoch': 1,\n",
      " 'epsilon': 0.5,\n",
      " 'epsilon_decay': 0.995,\n",
      " 'epsilon_final': 0.01,\n",
      " 'fee': 0.001,\n",
      " 'gamma': 0.95,\n",
      " 'learning_rate': 0.001,\n",
      " 'money': 10000,\n",
      " 'obs_space': (8, 20),\n",
      " 'reward_function': 'reward_profit',\n",
      " 'runs_p_eps': 1,\n",
      " 'trainer': 'DQNTrainer.DQNTrainer'}\n",
      "Model: \"model\"\n",
      "__________________________________________________________________________________________________\n",
      " Layer (type)                   Output Shape         Param #     Connected to                     \n",
      "==================================================================================================\n",
      " input_1 (InputLayer)           [(None, 20, 8)]      0           []                               \n",
      "                                                                                                  \n",
      " lstm_inputs (Lambda)           (None, 20, 4)        0           ['input_1[0][0]']                \n",
      "                                                                                                  \n",
      " sequential (Sequential)        (None, 10)           1953940     ['lstm_inputs[0][0]']            \n",
      "                                                                                                  \n",
      " flatten_1 (Flatten)            (None, 10)           0           ['sequential[0][0]']             \n",
      "                                                                                                  \n",
      " flatten (Flatten)              (None, 160)          0           ['input_1[0][0]']                \n",
      "                                                                                                  \n",
      " tf.reshape (TFOpLambda)        (None, 10)           0           ['flatten_1[0][0]']              \n",
      "                                                                                                  \n",
      " concatenate (Concatenate)      (None, 170)          0           ['flatten[0][0]',                \n",
      "                                                                  'tf.reshape[0][0]']             \n",
      "                                                                                                  \n",
      " dense (Dense)                  (None, 256)          43776       ['concatenate[0][0]']            \n",
      "                                                                                                  \n",
      " dense_1 (Dense)                (None, 128)          32896       ['dense[0][0]']                  \n",
      "                                                                                                  \n",
      " dense_2 (Dense)                (None, 64)           8256        ['dense_1[0][0]']                \n",
      "                                                                                                  \n",
      " dense_3 (Dense)                (None, 4)            260         ['dense_2[0][0]']                \n",
      "                                                                                                  \n",
      " softmax (Softmax)              (None, 4)            0           ['dense_3[0][0]']                \n",
      "                                                                                                  \n",
      "==================================================================================================\n",
      "Total params: 2,039,128\n",
      "Trainable params: 85,188\n",
      "Non-trainable params: 1,953,940\n",
      "__________________________________________________________________________________________________\n",
      "Episode: 1/1\n",
      "Episode: 1/1 || Run 1/1\n"
     ]
    },
    {
     "name": "stderr",
     "output_type": "stream",
     "text": [
      " 15%|█▌        | 101/671 [00:35<02:51,  3.32it/s]"
     ]
    },
    {
     "name": "stdout",
     "output_type": "stream",
     "text": [
      "Data saved\n",
      "episode 1, run (1/1) sample (100/671).Profit 754.6499999999996 || money available: [0.],  wallet value: [10754.65]\n"
     ]
    },
    {
     "name": "stderr",
     "output_type": "stream",
     "text": [
      " 30%|██▉       | 201/671 [01:10<02:16,  3.43it/s]"
     ]
    },
    {
     "name": "stdout",
     "output_type": "stream",
     "text": [
      "Data saved\n",
      "episode 1, run (1/1) sample (200/671).Profit 483.97999999999956 || money available: [0.],  wallet value: [10483.98]\n"
     ]
    },
    {
     "name": "stderr",
     "output_type": "stream",
     "text": [
      " 45%|████▍     | 301/671 [01:45<01:57,  3.15it/s]"
     ]
    },
    {
     "name": "stdout",
     "output_type": "stream",
     "text": [
      "Data saved\n",
      "episode 1, run (1/1) sample (300/671).Profit -178.29000000000087 || money available: [0.],  wallet value: [9821.71]\n"
     ]
    },
    {
     "name": "stderr",
     "output_type": "stream",
     "text": [
      " 60%|█████▉    | 401/671 [02:21<01:16,  3.52it/s]"
     ]
    },
    {
     "name": "stdout",
     "output_type": "stream",
     "text": [
      "Data saved\n",
      "episode 1, run (1/1) sample (400/671).Profit -67.04000000000087 || money available: [0.],  wallet value: [9932.96]\n"
     ]
    },
    {
     "name": "stderr",
     "output_type": "stream",
     "text": [
      " 75%|███████▍  | 502/671 [02:55<00:39,  4.28it/s]"
     ]
    },
    {
     "name": "stdout",
     "output_type": "stream",
     "text": [
      "Data saved\n",
      "episode 1, run (1/1) sample (500/671).Profit -107.42000000000007 || money available: [0.],  wallet value: [9892.58]\n"
     ]
    },
    {
     "name": "stderr",
     "output_type": "stream",
     "text": [
      " 90%|████████▉ | 602/671 [03:34<00:18,  3.81it/s]"
     ]
    },
    {
     "name": "stdout",
     "output_type": "stream",
     "text": [
      "Data saved\n",
      "episode 1, run (1/1) sample (600/671).Profit -1167.5699999999997 || money available: [0.],  wallet value: [8832.43]\n"
     ]
    },
    {
     "name": "stderr",
     "output_type": "stream",
     "text": [
      "100%|█████████▉| 668/671 [04:01<00:01,  2.77it/s]\n"
     ]
    },
    {
     "name": "stdout",
     "output_type": "stream",
     "text": [
      "Data saved\n",
      "episode 1, finished run (1/1). Run Profit -1218.4799999999996 || money available: [0.],  wallet value: [8781.52] \n",
      "episode 1/1. Profit -1218.4799999999996 || money available: [0.],  wallet value: [8781.52]\n",
      "Data saved\n"
     ]
    },
    {
     "name": "stderr",
     "output_type": "stream",
     "text": [
      "../src/DQNtrainer.py:348: FutureWarning: Behavior when concatenating bool-dtype and numeric-dtype arrays is deprecated; in a future version these will cast to object dtype (instead of coercing bools to numeric values). To retain the old behavior, explicitly cast bool-dtype arrays to numeric dtype.\n",
      "  train_log_dataframe = pd.concat([train_log_dataframe, tmp])\n"
     ]
    }
   ],
   "source": [
    "i = 0\n",
    "train_folder = conduct_traning(hpo_list[i], i)"
   ]
  },
  {
   "cell_type": "code",
   "execution_count": 28,
   "id": "c090bb2f",
   "metadata": {},
   "outputs": [
    {
     "name": "stdout",
     "output_type": "stream",
     "text": [
      "(669, 10)\n"
     ]
    },
    {
     "data": {
      "text/html": [
       "<div>\n",
       "<style scoped>\n",
       "    .dataframe tbody tr th:only-of-type {\n",
       "        vertical-align: middle;\n",
       "    }\n",
       "\n",
       "    .dataframe tbody tr th {\n",
       "        vertical-align: top;\n",
       "    }\n",
       "\n",
       "    .dataframe thead th {\n",
       "        text-align: right;\n",
       "    }\n",
       "</style>\n",
       "<table border=\"1\" class=\"dataframe\">\n",
       "  <thead>\n",
       "    <tr style=\"text-align: right;\">\n",
       "      <th></th>\n",
       "      <th>episode</th>\n",
       "      <th>run</th>\n",
       "      <th>action</th>\n",
       "      <th>dqn_action</th>\n",
       "      <th>state</th>\n",
       "      <th>reward</th>\n",
       "      <th>done</th>\n",
       "      <th>epsilon</th>\n",
       "      <th>profit</th>\n",
       "      <th>time_elapsed</th>\n",
       "    </tr>\n",
       "  </thead>\n",
       "  <tbody>\n",
       "    <tr>\n",
       "      <th>0</th>\n",
       "      <td>1.0</td>\n",
       "      <td>1.0</td>\n",
       "      <td>[0.22592929 0.20911834 0.28103572 0.2839167 ]</td>\n",
       "      <td>[0.]</td>\n",
       "      <td>[[[0.5        0.99983487 0.5        0.5       ...</td>\n",
       "      <td>[0.]</td>\n",
       "      <td>0.0</td>\n",
       "      <td>0.5</td>\n",
       "      <td>0.00</td>\n",
       "      <td>0.393682</td>\n",
       "    </tr>\n",
       "    <tr>\n",
       "      <th>1</th>\n",
       "      <td>1.0</td>\n",
       "      <td>1.0</td>\n",
       "      <td>[0.1849227  0.21249183 0.30743429 0.29515118]</td>\n",
       "      <td>[1.]</td>\n",
       "      <td>[[[0.5        0.99983487 0.5        0.5       ...</td>\n",
       "      <td>[0.26632211]</td>\n",
       "      <td>0.0</td>\n",
       "      <td>0.5</td>\n",
       "      <td>-9.99</td>\n",
       "      <td>0.620490</td>\n",
       "    </tr>\n",
       "    <tr>\n",
       "      <th>2</th>\n",
       "      <td>1.0</td>\n",
       "      <td>1.0</td>\n",
       "      <td>[0.2342655  0.20758751 0.28033906 0.27780783]</td>\n",
       "      <td>[1.]</td>\n",
       "      <td>[[[5.00000000e-01 9.99834868e-01 5.00000000e-0...</td>\n",
       "      <td>[0.27005788]</td>\n",
       "      <td>0.0</td>\n",
       "      <td>0.5</td>\n",
       "      <td>13.11</td>\n",
       "      <td>0.872084</td>\n",
       "    </tr>\n",
       "    <tr>\n",
       "      <th>3</th>\n",
       "      <td>1.0</td>\n",
       "      <td>1.0</td>\n",
       "      <td>[0.24526666 0.2084129  0.263429   0.28289145]</td>\n",
       "      <td>[0.]</td>\n",
       "      <td>[[[5.00000000e-01 9.99834868e-01 5.00000000e-0...</td>\n",
       "      <td>[0.27672944]</td>\n",
       "      <td>0.0</td>\n",
       "      <td>0.5</td>\n",
       "      <td>7.73</td>\n",
       "      <td>1.159528</td>\n",
       "    </tr>\n",
       "    <tr>\n",
       "      <th>4</th>\n",
       "      <td>1.0</td>\n",
       "      <td>1.0</td>\n",
       "      <td>[0.21151558 0.17826662 0.32194796 0.28826984]</td>\n",
       "      <td>[1.]</td>\n",
       "      <td>[[[5.00000000e-01 9.99834868e-01 5.00000000e-0...</td>\n",
       "      <td>[0.27256313]</td>\n",
       "      <td>0.0</td>\n",
       "      <td>0.5</td>\n",
       "      <td>-2.27</td>\n",
       "      <td>1.340143</td>\n",
       "    </tr>\n",
       "  </tbody>\n",
       "</table>\n",
       "</div>"
      ],
      "text/plain": [
       "   episode  run                                         action dqn_action  \\\n",
       "0      1.0  1.0  [0.22592929 0.20911834 0.28103572 0.2839167 ]       [0.]   \n",
       "1      1.0  1.0  [0.1849227  0.21249183 0.30743429 0.29515118]       [1.]   \n",
       "2      1.0  1.0  [0.2342655  0.20758751 0.28033906 0.27780783]       [1.]   \n",
       "3      1.0  1.0  [0.24526666 0.2084129  0.263429   0.28289145]       [0.]   \n",
       "4      1.0  1.0  [0.21151558 0.17826662 0.32194796 0.28826984]       [1.]   \n",
       "\n",
       "                                               state        reward  done  \\\n",
       "0  [[[0.5        0.99983487 0.5        0.5       ...          [0.]   0.0   \n",
       "1  [[[0.5        0.99983487 0.5        0.5       ...  [0.26632211]   0.0   \n",
       "2  [[[5.00000000e-01 9.99834868e-01 5.00000000e-0...  [0.27005788]   0.0   \n",
       "3  [[[5.00000000e-01 9.99834868e-01 5.00000000e-0...  [0.27672944]   0.0   \n",
       "4  [[[5.00000000e-01 9.99834868e-01 5.00000000e-0...  [0.27256313]   0.0   \n",
       "\n",
       "   epsilon  profit  time_elapsed  \n",
       "0      0.5    0.00      0.393682  \n",
       "1      0.5   -9.99      0.620490  \n",
       "2      0.5   13.11      0.872084  \n",
       "3      0.5    7.73      1.159528  \n",
       "4      0.5   -2.27      1.340143  "
      ]
     },
     "execution_count": 28,
     "metadata": {},
     "output_type": "execute_result"
    }
   ],
   "source": [
    "# train_folder =f\"../data/20230425_135131/DQN_trial_0\"\n",
    "df_train = pd.read_csv(f\"{train_folder}/Trainer_Data_1.csv\", sep=\";\")\n",
    "print(df_train.shape)\n",
    "df_train.head()"
   ]
  },
  {
   "cell_type": "code",
   "execution_count": 29,
   "id": "52e51fa3",
   "metadata": {},
   "outputs": [
    {
     "name": "stdout",
     "output_type": "stream",
     "text": [
      "(670, 23)\n",
      "Index(['sell_long_count', 'sell_short_count', 'long_position', 'action',\n",
      "       'buy_short_count', 'long_wallet', 'funding_rate', 'buy_long_count',\n",
      "       'wallet_value', 'state', 'short_units', 'episode', 'short_position',\n",
      "       'btc_price', 'done', 'fee_paid', 'short_eur', 'reward', 'money',\n",
      "       'product_price', 'btc_units', 'btc_eur', 'short_wallet'],\n",
      "      dtype='object')\n"
     ]
    },
    {
     "data": {
      "text/html": [
       "<div>\n",
       "<style scoped>\n",
       "    .dataframe tbody tr th:only-of-type {\n",
       "        vertical-align: middle;\n",
       "    }\n",
       "\n",
       "    .dataframe tbody tr th {\n",
       "        vertical-align: top;\n",
       "    }\n",
       "\n",
       "    .dataframe thead th {\n",
       "        text-align: right;\n",
       "    }\n",
       "</style>\n",
       "<table border=\"1\" class=\"dataframe\">\n",
       "  <thead>\n",
       "    <tr style=\"text-align: right;\">\n",
       "      <th></th>\n",
       "      <th>sell_long_count</th>\n",
       "      <th>sell_short_count</th>\n",
       "      <th>long_position</th>\n",
       "      <th>action</th>\n",
       "      <th>buy_short_count</th>\n",
       "      <th>long_wallet</th>\n",
       "      <th>funding_rate</th>\n",
       "      <th>buy_long_count</th>\n",
       "      <th>wallet_value</th>\n",
       "      <th>state</th>\n",
       "      <th>...</th>\n",
       "      <th>btc_price</th>\n",
       "      <th>done</th>\n",
       "      <th>fee_paid</th>\n",
       "      <th>short_eur</th>\n",
       "      <th>reward</th>\n",
       "      <th>money</th>\n",
       "      <th>product_price</th>\n",
       "      <th>btc_units</th>\n",
       "      <th>btc_eur</th>\n",
       "      <th>short_wallet</th>\n",
       "    </tr>\n",
       "  </thead>\n",
       "  <tbody>\n",
       "    <tr>\n",
       "      <th>0</th>\n",
       "      <td>0</td>\n",
       "      <td>0</td>\n",
       "      <td>0.0</td>\n",
       "      <td>[0.]</td>\n",
       "      <td>0</td>\n",
       "      <td>[0, 0]</td>\n",
       "      <td>0</td>\n",
       "      <td>0</td>\n",
       "      <td>10000.00</td>\n",
       "      <td>[[[0.5        0.99983487 0.5        0.5       ...</td>\n",
       "      <td>...</td>\n",
       "      <td>7815.30</td>\n",
       "      <td>False</td>\n",
       "      <td>0</td>\n",
       "      <td>-0.0</td>\n",
       "      <td>[0.]</td>\n",
       "      <td>[10000]</td>\n",
       "      <td>7815.30</td>\n",
       "      <td>0</td>\n",
       "      <td>0</td>\n",
       "      <td>[0, 0]</td>\n",
       "    </tr>\n",
       "    <tr>\n",
       "      <th>1</th>\n",
       "      <td>0</td>\n",
       "      <td>0</td>\n",
       "      <td>0.0</td>\n",
       "      <td>[0.]</td>\n",
       "      <td>0</td>\n",
       "      <td>[0, 0]</td>\n",
       "      <td>0</td>\n",
       "      <td>0</td>\n",
       "      <td>10000.00</td>\n",
       "      <td>[[[0.5        0.99983487 0.5        0.5       ...</td>\n",
       "      <td>...</td>\n",
       "      <td>7812.15</td>\n",
       "      <td>False</td>\n",
       "      <td>0</td>\n",
       "      <td>-0.0</td>\n",
       "      <td>[0.]</td>\n",
       "      <td>[10000]</td>\n",
       "      <td>7812.15</td>\n",
       "      <td>0</td>\n",
       "      <td>0</td>\n",
       "      <td>[0, 0]</td>\n",
       "    </tr>\n",
       "    <tr>\n",
       "      <th>2</th>\n",
       "      <td>0</td>\n",
       "      <td>0</td>\n",
       "      <td>1.0</td>\n",
       "      <td>[1.]</td>\n",
       "      <td>0</td>\n",
       "      <td>[array([1.27403609]), array([7841.23])]</td>\n",
       "      <td>0</td>\n",
       "      <td>1</td>\n",
       "      <td>9990.01</td>\n",
       "      <td>[[[0.5        0.99983487 0.5        0.5       ...</td>\n",
       "      <td>...</td>\n",
       "      <td>7841.23</td>\n",
       "      <td>False</td>\n",
       "      <td>[9.99000999]</td>\n",
       "      <td>-0.0</td>\n",
       "      <td>[0.26632211]</td>\n",
       "      <td>[0.]</td>\n",
       "      <td>7841.23</td>\n",
       "      <td>[1.27403609]</td>\n",
       "      <td>[9990.00999001]</td>\n",
       "      <td>[0, 0]</td>\n",
       "    </tr>\n",
       "    <tr>\n",
       "      <th>3</th>\n",
       "      <td>0</td>\n",
       "      <td>0</td>\n",
       "      <td>1.0</td>\n",
       "      <td>[1.]</td>\n",
       "      <td>0</td>\n",
       "      <td>[array([1.27403609]), array([7841.23])]</td>\n",
       "      <td>0</td>\n",
       "      <td>1</td>\n",
       "      <td>10013.11</td>\n",
       "      <td>[[[5.00000000e-01 9.99834868e-01 5.00000000e-0...</td>\n",
       "      <td>...</td>\n",
       "      <td>7859.36</td>\n",
       "      <td>False</td>\n",
       "      <td>0</td>\n",
       "      <td>-0.0</td>\n",
       "      <td>[0.27005788]</td>\n",
       "      <td>[0.]</td>\n",
       "      <td>7859.36</td>\n",
       "      <td>[1.27403609]</td>\n",
       "      <td>[9990.00999001]</td>\n",
       "      <td>[0, 0]</td>\n",
       "    </tr>\n",
       "    <tr>\n",
       "      <th>4</th>\n",
       "      <td>1</td>\n",
       "      <td>0</td>\n",
       "      <td>0.0</td>\n",
       "      <td>[0.]</td>\n",
       "      <td>0</td>\n",
       "      <td>[0.0, 0.0]</td>\n",
       "      <td>0</td>\n",
       "      <td>1</td>\n",
       "      <td>10007.73</td>\n",
       "      <td>[[[5.00000000e-01 9.99834868e-01 5.00000000e-0...</td>\n",
       "      <td>...</td>\n",
       "      <td>7863.00</td>\n",
       "      <td>False</td>\n",
       "      <td>[10.01774576]</td>\n",
       "      <td>-0.0</td>\n",
       "      <td>[0.27672944]</td>\n",
       "      <td>[10007.73]</td>\n",
       "      <td>7863.00</td>\n",
       "      <td>0.0</td>\n",
       "      <td>0.0</td>\n",
       "      <td>[0, 0]</td>\n",
       "    </tr>\n",
       "  </tbody>\n",
       "</table>\n",
       "<p>5 rows × 23 columns</p>\n",
       "</div>"
      ],
      "text/plain": [
       "   sell_long_count  sell_short_count  long_position action  buy_short_count  \\\n",
       "0                0                 0            0.0   [0.]                0   \n",
       "1                0                 0            0.0   [0.]                0   \n",
       "2                0                 0            1.0   [1.]                0   \n",
       "3                0                 0            1.0   [1.]                0   \n",
       "4                1                 0            0.0   [0.]                0   \n",
       "\n",
       "                               long_wallet  funding_rate  buy_long_count  \\\n",
       "0                                   [0, 0]             0               0   \n",
       "1                                   [0, 0]             0               0   \n",
       "2  [array([1.27403609]), array([7841.23])]             0               1   \n",
       "3  [array([1.27403609]), array([7841.23])]             0               1   \n",
       "4                               [0.0, 0.0]             0               1   \n",
       "\n",
       "   wallet_value                                              state  ...  \\\n",
       "0      10000.00  [[[0.5        0.99983487 0.5        0.5       ...  ...   \n",
       "1      10000.00  [[[0.5        0.99983487 0.5        0.5       ...  ...   \n",
       "2       9990.01  [[[0.5        0.99983487 0.5        0.5       ...  ...   \n",
       "3      10013.11  [[[5.00000000e-01 9.99834868e-01 5.00000000e-0...  ...   \n",
       "4      10007.73  [[[5.00000000e-01 9.99834868e-01 5.00000000e-0...  ...   \n",
       "\n",
       "   btc_price   done       fee_paid  short_eur        reward       money  \\\n",
       "0    7815.30  False              0       -0.0          [0.]     [10000]   \n",
       "1    7812.15  False              0       -0.0          [0.]     [10000]   \n",
       "2    7841.23  False   [9.99000999]       -0.0  [0.26632211]        [0.]   \n",
       "3    7859.36  False              0       -0.0  [0.27005788]        [0.]   \n",
       "4    7863.00  False  [10.01774576]       -0.0  [0.27672944]  [10007.73]   \n",
       "\n",
       "   product_price     btc_units          btc_eur  short_wallet  \n",
       "0        7815.30             0                0        [0, 0]  \n",
       "1        7812.15             0                0        [0, 0]  \n",
       "2        7841.23  [1.27403609]  [9990.00999001]        [0, 0]  \n",
       "3        7859.36  [1.27403609]  [9990.00999001]        [0, 0]  \n",
       "4        7863.00           0.0              0.0        [0, 0]  \n",
       "\n",
       "[5 rows x 23 columns]"
      ]
     },
     "execution_count": 29,
     "metadata": {},
     "output_type": "execute_result"
    }
   ],
   "source": [
    "df_eptrain = pd.read_csv(f\"{train_folder}/episodes/Epi_1_run_1_BTC.csv\", sep=\";\")\n",
    "print(df_eptrain.shape)\n",
    "print(df_eptrain.columns)\n",
    "df_eptrain.head()"
   ]
  },
  {
   "cell_type": "code",
   "execution_count": 30,
   "id": "81a7752f",
   "metadata": {},
   "outputs": [
    {
     "data": {
      "text/html": [
       "<div>\n",
       "<style scoped>\n",
       "    .dataframe tbody tr th:only-of-type {\n",
       "        vertical-align: middle;\n",
       "    }\n",
       "\n",
       "    .dataframe tbody tr th {\n",
       "        vertical-align: top;\n",
       "    }\n",
       "\n",
       "    .dataframe thead th {\n",
       "        text-align: right;\n",
       "    }\n",
       "</style>\n",
       "<table border=\"1\" class=\"dataframe\">\n",
       "  <thead>\n",
       "    <tr style=\"text-align: right;\">\n",
       "      <th></th>\n",
       "      <th>reward</th>\n",
       "      <th>action</th>\n",
       "      <th>long_wallet</th>\n",
       "      <th>wallet_value</th>\n",
       "    </tr>\n",
       "  </thead>\n",
       "  <tbody>\n",
       "    <tr>\n",
       "      <th>30</th>\n",
       "      <td>[0.33164207]</td>\n",
       "      <td>[1.]</td>\n",
       "      <td>[array([1.21677294]), array([8670.60764143])]</td>\n",
       "      <td>10494.63</td>\n",
       "    </tr>\n",
       "    <tr>\n",
       "      <th>31</th>\n",
       "      <td>[0.33513729]</td>\n",
       "      <td>[1.]</td>\n",
       "      <td>[array([1.21677294]), array([8670.60764143])]</td>\n",
       "      <td>10589.90</td>\n",
       "    </tr>\n",
       "    <tr>\n",
       "      <th>32</th>\n",
       "      <td>[0.35035057]</td>\n",
       "      <td>[1.]</td>\n",
       "      <td>[array([1.21677294]), array([8670.60764143])]</td>\n",
       "      <td>10611.74</td>\n",
       "    </tr>\n",
       "    <tr>\n",
       "      <th>33</th>\n",
       "      <td>[0.36855344]</td>\n",
       "      <td>[0.]</td>\n",
       "      <td>[0.0, 0.0]</td>\n",
       "      <td>10670.42</td>\n",
       "    </tr>\n",
       "    <tr>\n",
       "      <th>34</th>\n",
       "      <td>[0.3350304]</td>\n",
       "      <td>[0.]</td>\n",
       "      <td>[0, 0]</td>\n",
       "      <td>10670.42</td>\n",
       "    </tr>\n",
       "    <tr>\n",
       "      <th>35</th>\n",
       "      <td>[0.33709229]</td>\n",
       "      <td>[1.]</td>\n",
       "      <td>[array([1.2085896]), array([8820.])]</td>\n",
       "      <td>10659.76</td>\n",
       "    </tr>\n",
       "    <tr>\n",
       "      <th>36</th>\n",
       "      <td>[0.35495882]</td>\n",
       "      <td>[0.5]</td>\n",
       "      <td>[array([0.60399232]), array([8787.25723763])]</td>\n",
       "      <td>10693.94</td>\n",
       "    </tr>\n",
       "    <tr>\n",
       "      <th>37</th>\n",
       "      <td>[0.32801929]</td>\n",
       "      <td>[0.5]</td>\n",
       "      <td>[array([0.60399232]), array([8787.25723763])]</td>\n",
       "      <td>10604.72</td>\n",
       "    </tr>\n",
       "    <tr>\n",
       "      <th>38</th>\n",
       "      <td>[0.34933162]</td>\n",
       "      <td>[1.]</td>\n",
       "      <td>[array([1.21413622]), array([8770.89614101])]</td>\n",
       "      <td>10629.40</td>\n",
       "    </tr>\n",
       "    <tr>\n",
       "      <th>39</th>\n",
       "      <td>[0.34956781]</td>\n",
       "      <td>[1.]</td>\n",
       "      <td>[array([1.21413622]), array([8770.89614101])]</td>\n",
       "      <td>10605.08</td>\n",
       "    </tr>\n",
       "    <tr>\n",
       "      <th>40</th>\n",
       "      <td>[0.36092619]</td>\n",
       "      <td>[0.]</td>\n",
       "      <td>[0.0, 0.0]</td>\n",
       "      <td>10647.72</td>\n",
       "    </tr>\n",
       "    <tr>\n",
       "      <th>41</th>\n",
       "      <td>[0.34139078]</td>\n",
       "      <td>[0.]</td>\n",
       "      <td>[0, 0]</td>\n",
       "      <td>10647.72</td>\n",
       "    </tr>\n",
       "    <tr>\n",
       "      <th>42</th>\n",
       "      <td>[0.34331414]</td>\n",
       "      <td>[1.]</td>\n",
       "      <td>[array([1.20663547]), array([8815.49])]</td>\n",
       "      <td>10637.08</td>\n",
       "    </tr>\n",
       "    <tr>\n",
       "      <th>43</th>\n",
       "      <td>[0.36694316]</td>\n",
       "      <td>[0.]</td>\n",
       "      <td>[0.0, 0.0]</td>\n",
       "      <td>10675.00</td>\n",
       "    </tr>\n",
       "    <tr>\n",
       "      <th>44</th>\n",
       "      <td>[0.35785232]</td>\n",
       "      <td>[0.5]</td>\n",
       "      <td>[array([0.60289723]), array([8848.66])]</td>\n",
       "      <td>10669.66</td>\n",
       "    </tr>\n",
       "    <tr>\n",
       "      <th>45</th>\n",
       "      <td>[0.35314211]</td>\n",
       "      <td>[0.]</td>\n",
       "      <td>[0.0, 0.0]</td>\n",
       "      <td>10657.38</td>\n",
       "    </tr>\n",
       "    <tr>\n",
       "      <th>46</th>\n",
       "      <td>[0.3295027]</td>\n",
       "      <td>[1.]</td>\n",
       "      <td>[array([1.18957116]), array([8950.06])]</td>\n",
       "      <td>10646.73</td>\n",
       "    </tr>\n",
       "    <tr>\n",
       "      <th>47</th>\n",
       "      <td>[0.32804176]</td>\n",
       "      <td>[0.]</td>\n",
       "      <td>[0.0, 0.0]</td>\n",
       "      <td>10746.07</td>\n",
       "    </tr>\n",
       "    <tr>\n",
       "      <th>48</th>\n",
       "      <td>[0.35776921]</td>\n",
       "      <td>[0.]</td>\n",
       "      <td>[0, 0]</td>\n",
       "      <td>10746.07</td>\n",
       "    </tr>\n",
       "    <tr>\n",
       "      <th>49</th>\n",
       "      <td>[0.37049945]</td>\n",
       "      <td>[1.]</td>\n",
       "      <td>[array([1.1723919]), array([9156.78])]</td>\n",
       "      <td>10735.33</td>\n",
       "    </tr>\n",
       "    <tr>\n",
       "      <th>50</th>\n",
       "      <td>[0.3642892]</td>\n",
       "      <td>[0.]</td>\n",
       "      <td>[0.0, 0.0]</td>\n",
       "      <td>10721.69</td>\n",
       "    </tr>\n",
       "    <tr>\n",
       "      <th>51</th>\n",
       "      <td>[0.072169]</td>\n",
       "      <td>[1.]</td>\n",
       "      <td>[array([1.15744316]), array([9254.])]</td>\n",
       "      <td>10710.98</td>\n",
       "    </tr>\n",
       "    <tr>\n",
       "      <th>52</th>\n",
       "      <td>[0.083729]</td>\n",
       "      <td>[0.]</td>\n",
       "      <td>[0.0, 0.0]</td>\n",
       "      <td>10826.45</td>\n",
       "    </tr>\n",
       "    <tr>\n",
       "      <th>53</th>\n",
       "      <td>[0.44325168]</td>\n",
       "      <td>[0.]</td>\n",
       "      <td>[0, 0]</td>\n",
       "      <td>10826.45</td>\n",
       "    </tr>\n",
       "    <tr>\n",
       "      <th>54</th>\n",
       "      <td>[0.43603949]</td>\n",
       "      <td>[0.]</td>\n",
       "      <td>[0, 0]</td>\n",
       "      <td>10826.45</td>\n",
       "    </tr>\n",
       "    <tr>\n",
       "      <th>55</th>\n",
       "      <td>[0.41182785]</td>\n",
       "      <td>[0.]</td>\n",
       "      <td>[0, 0]</td>\n",
       "      <td>10826.45</td>\n",
       "    </tr>\n",
       "    <tr>\n",
       "      <th>56</th>\n",
       "      <td>[0.43703523]</td>\n",
       "      <td>[0.]</td>\n",
       "      <td>[0, 0]</td>\n",
       "      <td>10826.45</td>\n",
       "    </tr>\n",
       "    <tr>\n",
       "      <th>57</th>\n",
       "      <td>[0.43572355]</td>\n",
       "      <td>[0.]</td>\n",
       "      <td>[0, 0]</td>\n",
       "      <td>10826.45</td>\n",
       "    </tr>\n",
       "    <tr>\n",
       "      <th>58</th>\n",
       "      <td>[0.43090793]</td>\n",
       "      <td>[0.]</td>\n",
       "      <td>[0, 0]</td>\n",
       "      <td>10826.45</td>\n",
       "    </tr>\n",
       "    <tr>\n",
       "      <th>59</th>\n",
       "      <td>[0.39003442]</td>\n",
       "      <td>[0.5]</td>\n",
       "      <td>[array([0.60635998]), array([8922.95])]</td>\n",
       "      <td>10821.04</td>\n",
       "    </tr>\n",
       "  </tbody>\n",
       "</table>\n",
       "</div>"
      ],
      "text/plain": [
       "          reward action                                    long_wallet  \\\n",
       "30  [0.33164207]   [1.]  [array([1.21677294]), array([8670.60764143])]   \n",
       "31  [0.33513729]   [1.]  [array([1.21677294]), array([8670.60764143])]   \n",
       "32  [0.35035057]   [1.]  [array([1.21677294]), array([8670.60764143])]   \n",
       "33  [0.36855344]   [0.]                                     [0.0, 0.0]   \n",
       "34   [0.3350304]   [0.]                                         [0, 0]   \n",
       "35  [0.33709229]   [1.]           [array([1.2085896]), array([8820.])]   \n",
       "36  [0.35495882]  [0.5]  [array([0.60399232]), array([8787.25723763])]   \n",
       "37  [0.32801929]  [0.5]  [array([0.60399232]), array([8787.25723763])]   \n",
       "38  [0.34933162]   [1.]  [array([1.21413622]), array([8770.89614101])]   \n",
       "39  [0.34956781]   [1.]  [array([1.21413622]), array([8770.89614101])]   \n",
       "40  [0.36092619]   [0.]                                     [0.0, 0.0]   \n",
       "41  [0.34139078]   [0.]                                         [0, 0]   \n",
       "42  [0.34331414]   [1.]        [array([1.20663547]), array([8815.49])]   \n",
       "43  [0.36694316]   [0.]                                     [0.0, 0.0]   \n",
       "44  [0.35785232]  [0.5]        [array([0.60289723]), array([8848.66])]   \n",
       "45  [0.35314211]   [0.]                                     [0.0, 0.0]   \n",
       "46   [0.3295027]   [1.]        [array([1.18957116]), array([8950.06])]   \n",
       "47  [0.32804176]   [0.]                                     [0.0, 0.0]   \n",
       "48  [0.35776921]   [0.]                                         [0, 0]   \n",
       "49  [0.37049945]   [1.]         [array([1.1723919]), array([9156.78])]   \n",
       "50   [0.3642892]   [0.]                                     [0.0, 0.0]   \n",
       "51    [0.072169]   [1.]          [array([1.15744316]), array([9254.])]   \n",
       "52    [0.083729]   [0.]                                     [0.0, 0.0]   \n",
       "53  [0.44325168]   [0.]                                         [0, 0]   \n",
       "54  [0.43603949]   [0.]                                         [0, 0]   \n",
       "55  [0.41182785]   [0.]                                         [0, 0]   \n",
       "56  [0.43703523]   [0.]                                         [0, 0]   \n",
       "57  [0.43572355]   [0.]                                         [0, 0]   \n",
       "58  [0.43090793]   [0.]                                         [0, 0]   \n",
       "59  [0.39003442]  [0.5]        [array([0.60635998]), array([8922.95])]   \n",
       "\n",
       "    wallet_value  \n",
       "30      10494.63  \n",
       "31      10589.90  \n",
       "32      10611.74  \n",
       "33      10670.42  \n",
       "34      10670.42  \n",
       "35      10659.76  \n",
       "36      10693.94  \n",
       "37      10604.72  \n",
       "38      10629.40  \n",
       "39      10605.08  \n",
       "40      10647.72  \n",
       "41      10647.72  \n",
       "42      10637.08  \n",
       "43      10675.00  \n",
       "44      10669.66  \n",
       "45      10657.38  \n",
       "46      10646.73  \n",
       "47      10746.07  \n",
       "48      10746.07  \n",
       "49      10735.33  \n",
       "50      10721.69  \n",
       "51      10710.98  \n",
       "52      10826.45  \n",
       "53      10826.45  \n",
       "54      10826.45  \n",
       "55      10826.45  \n",
       "56      10826.45  \n",
       "57      10826.45  \n",
       "58      10826.45  \n",
       "59      10821.04  "
      ]
     },
     "execution_count": 30,
     "metadata": {},
     "output_type": "execute_result"
    }
   ],
   "source": [
    "df_eptrain[[\"reward\", \"action\", \"long_wallet\", \"wallet_value\"]][30:60]"
   ]
  },
  {
   "cell_type": "code",
   "execution_count": 31,
   "id": "9f6b8be4",
   "metadata": {},
   "outputs": [
    {
     "data": {
      "text/plain": [
       "[<matplotlib.lines.Line2D at 0x7fc95c0ddb80>]"
      ]
     },
     "execution_count": 31,
     "metadata": {},
     "output_type": "execute_result"
    },
    {
     "data": {
      "image/png": "[encoded data removed]",
      "text/plain": [
       "<Figure size 432x288 with 1 Axes>"
      ]
     },
     "metadata": {
      "needs_background": "light"
     },
     "output_type": "display_data"
    }
   ],
   "source": [
    "tmp = np.array([n for n in df_eptrain[\"wallet_value\"]])\n",
    "plt.plot((tmp[:60]/10000) -1)"
   ]
  },
  {
   "cell_type": "code",
   "execution_count": 32,
   "id": "0ff111a9",
   "metadata": {},
   "outputs": [
    {
     "name": "stderr",
     "output_type": "stream",
     "text": [
      "<ipython-input-32-ff843ce41ac3>:2: DeprecationWarning: `np.float` is a deprecated alias for the builtin `float`. To silence this warning, use `float` by itself. Doing this will not modify any behavior and is safe. If you specifically wanted the numpy scalar type, use `np.float64` here.\n",
      "Deprecated in NumPy 1.20; for more details and guidance: https://numpy.org/devdocs/release/1.20.0-notes.html#deprecations\n",
      "  tmp = [np.fromstring(n[1:-1], dtype=np.float, sep=' ')  for n in df_eptrain[\"reward\"]]\n"
     ]
    },
    {
     "data": {
      "text/plain": [
       "[<matplotlib.lines.Line2D at 0x7fc95c05fdc0>]"
      ]
     },
     "execution_count": 32,
     "metadata": {},
     "output_type": "execute_result"
    },
    {
     "data": {
      "image/png": "[encoded data removed]",
      "text/plain": [
       "<Figure size 432x288 with 1 Axes>"
      ]
     },
     "metadata": {
      "needs_background": "light"
     },
     "output_type": "display_data"
    }
   ],
   "source": [
    "# tmp = [ast.literal_eval(n) for n in df_eptrain[\"reward\"]]\n",
    "tmp = [np.fromstring(n[1:-1], dtype=np.float, sep=' ')  for n in df_eptrain[\"reward\"]]\n",
    "\n",
    "# np.fromstring(s[1:-1], dtype=np.int, sep=' ')\n",
    "plt.plot(tmp[:55])"
   ]
  },
  {
   "cell_type": "code",
   "execution_count": 33,
   "id": "7cae9e5f",
   "metadata": {},
   "outputs": [
    {
     "data": {
      "text/plain": [
       "[<matplotlib.lines.Line2D at 0x7fc93c7a9ac0>]"
      ]
     },
     "execution_count": 33,
     "metadata": {},
     "output_type": "execute_result"
    },
    {
     "data": {
      "image/png": "[encoded data removed]",
      "text/plain": [
       "<Figure size 432x288 with 1 Axes>"
      ]
     },
     "metadata": {
      "needs_background": "light"
     },
     "output_type": "display_data"
    }
   ],
   "source": [
    "tmp = [ast.literal_eval(n) for n in df_eptrain[\"action\"]]\n",
    "plt.plot(tmp[:55])"
   ]
  },
  {
   "cell_type": "code",
   "execution_count": 38,
   "id": "638e3664",
   "metadata": {},
   "outputs": [
    {
     "data": {
      "text/plain": [
       "[<matplotlib.lines.Line2D at 0x7fc93c4e7700>]"
      ]
     },
     "execution_count": 38,
     "metadata": {},
     "output_type": "execute_result"
    },
    {
     "data": {
      "image/png": "[encoded data removed]",
      "text/plain": [
       "<Figure size 432x288 with 1 Axes>"
      ]
     },
     "metadata": {
      "needs_background": "light"
     },
     "output_type": "display_data"
    }
   ],
   "source": [
    "# tmp = [ast.literal_eval(n)[0] for n in df_train[\"reward\"]]\n",
    "tmp = df_train[\"profit\"]\n",
    "\n",
    "plt.plot(tmp[:55])"
   ]
  },
  {
   "cell_type": "code",
   "execution_count": 28,
   "id": "2f62a849",
   "metadata": {},
   "outputs": [
    {
     "data": {
      "text/plain": [
       "[<matplotlib.lines.Line2D at 0x7ff450324700>]"
      ]
     },
     "execution_count": 28,
     "metadata": {},
     "output_type": "execute_result"
    },
    {
     "data": {
      "image/png": "[encoded data removed]",
      "text/plain": [
       "<Figure size 432x288 with 1 Axes>"
      ]
     },
     "metadata": {
      "needs_background": "light"
     },
     "output_type": "display_data"
    }
   ],
   "source": [
    "plact = [np.max(x)  if np.size(x) else 0 for x in act]\n",
    "plt.plot(plact)"
   ]
  },
  {
   "cell_type": "code",
   "execution_count": 25,
   "id": "14e6e183",
   "metadata": {},
   "outputs": [
    {
     "data": {
      "text/plain": [
       "[<matplotlib.lines.Line2D at 0x7ff4504cc1c0>]"
      ]
     },
     "execution_count": 25,
     "metadata": {},
     "output_type": "execute_result"
    },
    {
     "data": {
      "image/png": "[encoded data removed]",
      "text/plain": [
       "<Figure size 432x288 with 1 Axes>"
      ]
     },
     "metadata": {
      "needs_background": "light"
     },
     "output_type": "display_data"
    }
   ],
   "source": [
    "#  act, \n",
    "plt.plot(dqn)"
   ]
  },
  {
   "cell_type": "code",
   "execution_count": 21,
   "id": "172104a5",
   "metadata": {},
   "outputs": [
    {
     "data": {
      "text/plain": [
       "[array([0.22592929, 0.20911834, 0.28103572, 0.2839167 ], dtype=float32),\n",
       " array([0.1849227 , 0.21249183, 0.30743429, 0.29515118]),\n",
       " array([0.2342655 , 0.20758751, 0.28033906, 0.27780783], dtype=float32),\n",
       " array([0.24526666, 0.2084129 , 0.263429  , 0.28289145], dtype=float32),\n",
       " array([0.21151558, 0.17826662, 0.32194796, 0.28826984]),\n",
       " array([0.24484575, 0.21185146, 0.19900457, 0.34429821]),\n",
       " array([0.26076016, 0.2553546 , 0.25154691, 0.23233833]),\n",
       " array([0.25077193, 0.17945871, 0.39838321, 0.17138615]),\n",
       " array([0.26991558, 0.3489474 , 0.20666611, 0.17447091]),\n",
       " array([0.21208698, 0.23717577, 0.29322923, 0.25750802])]"
      ]
     },
     "execution_count": 21,
     "metadata": {},
     "output_type": "execute_result"
    }
   ],
   "source": [
    "act[:10]"
   ]
  },
  {
   "cell_type": "code",
   "execution_count": 75,
   "id": "737a1a86",
   "metadata": {},
   "outputs": [
    {
     "data": {
      "text/plain": [
       "[<matplotlib.lines.Line2D at 0x7efe5c2eca30>]"
      ]
     },
     "execution_count": 75,
     "metadata": {},
     "output_type": "execute_result"
    },
    {
     "data": {
      "image/png": "[encoded data removed]",
      "text/plain": [
       "<Figure size 432x288 with 1 Axes>"
      ]
     },
     "metadata": {
      "needs_background": "light"
     },
     "output_type": "display_data"
    }
   ],
   "source": [
    "test = []\n",
    "for i in range(1,len(dqn)):\n",
    "    tmp = transform_to_dqn_action(act[i-1], dqn[i])\n",
    "    test.append(tmp)\n",
    "    \n",
    "plt.plot(test)"
   ]
  },
  {
   "cell_type": "code",
   "execution_count": 15,
   "id": "da8ba0f0",
   "metadata": {},
   "outputs": [
    {
     "data": {
      "text/plain": [
       "[<matplotlib.lines.Line2D at 0x7eff1c085b20>]"
      ]
     },
     "execution_count": 15,
     "metadata": {},
     "output_type": "execute_result"
    },
    {
     "data": {
      "image/png": "[encoded data removed]",
      "text/plain": [
       "<Figure size 432x288 with 1 Axes>"
      ]
     },
     "metadata": {
      "needs_background": "light"
     },
     "output_type": "display_data"
    }
   ],
   "source": [
    "plt.plot(df_train[\"profit\"])"
   ]
  },
  {
   "cell_type": "code",
   "execution_count": 9,
   "id": "cdd8c61e",
   "metadata": {},
   "outputs": [
    {
     "data": {
      "image/png": "[encoded data removed]",
      "text/plain": [
       "<Figure size 432x432 with 2 Axes>"
      ]
     },
     "metadata": {
      "needs_background": "light"
     },
     "output_type": "display_data"
    }
   ],
   "source": [
    "fig, ax = plt.subplots(2,1, figsize=(6,6))\n",
    "ax[0].plot(df.profit)\n",
    "ax[0].set_title(\"Profits\")\n",
    "y = [ast.literal_eval(x)[0] for x  in df.reward]\n",
    "ax[1].plot(y)\n",
    "ax[1].set_title(\"Rewards\")\n",
    "plt.show()"
   ]
  },
  {
   "cell_type": "code",
   "execution_count": 8,
   "id": "30910fd6",
   "metadata": {},
   "outputs": [
    {
     "name": "stdout",
     "output_type": "stream",
     "text": [
      "8\n",
      "(17495, 10)\n",
      "5163.983486413956\n"
     ]
    }
   ],
   "source": [
    "# Plot profit  \n",
    "train_folder = './../data/20230328_175512/DQN_trial_0/'\n",
    "print(len(hpo_list))\n",
    "training_folders.append(train_folder)\n",
    "df = pd.read_csv(f'{train_folder}/Trainer_Data.csv')\n",
    "print(df.shape)\n",
    "print(max(df.time_elapsed))"
   ]
  }
 ],
 "metadata": {
  "kernelspec": {
   "display_name": "Python 3",
   "language": "python",
   "name": "python3"
  },
  "language_info": {
   "codemirror_mode": {
    "name": "ipython",
    "version": 3
   },
   "file_extension": ".py",
   "mimetype": "text/x-python",
   "name": "python",
   "nbconvert_exporter": "python",
   "pygments_lexer": "ipython3",
   "version": "3.8.5"
  }
 },
 "nbformat": 4,
 "nbformat_minor": 5
}
