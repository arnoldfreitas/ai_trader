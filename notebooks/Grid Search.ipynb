{
 "cells": [
  {
   "cell_type": "code",
   "execution_count": 1,
   "id": "61eb8889",
   "metadata": {},
   "outputs": [],
   "source": [
    "import sys\n",
    "import os\n",
    "from datetime import datetime\n",
    "import json\n",
    "import shutil\n",
    "import random\n",
    "import ast\n",
    "import numpy as np\n",
    "import pandas as pd\n",
    "import tensorflow as tf\n",
    "from tensorflow import keras\n",
    "from tqdm import tqdm_notebook, tqdm\n",
    "from matplotlib import pyplot as plt\n",
    "import pprint\n",
    "\n",
    "sys.path.append('../src/')\n",
    "from env import BTCMarket_Env\n",
    "# from agent import Trader_Agent\n",
    "# from DQNtrainer import DQNTrainer\n",
    "# from DRLtrainer import DRLTrainer\n",
    "from collections import deque\n",
    "import h5py\n",
    "from itertools import product\n",
    "\n",
    "import agent as TAgent\n",
    "import env as BTCEnv\n",
    "import DQNtrainer as DQNTrainer\n",
    "import DRLtrainer as DRLTrainer\n",
    "\n",
    "from importlib import reload \n"
   ]
  },
  {
   "cell_type": "code",
   "execution_count": 2,
   "id": "6fdea881",
   "metadata": {},
   "outputs": [],
   "source": [
    "physical_devices = tf.config.list_physical_devices('GPU')\n",
    "tf.config.set_logical_device_configuration(\n",
    "        physical_devices[0],\n",
    "        [tf.config.LogicalDeviceConfiguration(memory_limit=3072)])\n",
    "# tf.config.experimental.set_memory_growth(physical_devices[0], enable=True)"
   ]
  },
  {
   "cell_type": "code",
   "execution_count": 3,
   "id": "eb70c15c",
   "metadata": {},
   "outputs": [],
   "source": [
    "TAgent=reload(TAgent)\n",
    "BTCEnv=reload(BTCEnv)\n",
    "DQNTrainer=reload(DQNTrainer)\n",
    "DRLTrainer=reload(DRLTrainer)"
   ]
  },
  {
   "cell_type": "markdown",
   "id": "68d95a6b",
   "metadata": {},
   "source": [
    "# Preparations"
   ]
  },
  {
   "cell_type": "code",
   "execution_count": 4,
   "id": "69bb7596",
   "metadata": {},
   "outputs": [],
   "source": [
    "training_folders = []"
   ]
  },
  {
   "cell_type": "code",
   "execution_count": 5,
   "id": "11db5de1",
   "metadata": {},
   "outputs": [
    {
     "name": "stdout",
     "output_type": "stream",
     "text": [
      "[{'action_domain': (0.0, 1.0),\n",
      "  'asset': 'BTC',\n",
      "  'batch_size': 50,\n",
      "  'episodes': 2,\n",
      "  'epoch': 2,\n",
      "  'epsilon': 0.0,\n",
      "  'epsilon_decay': 0.995,\n",
      "  'epsilon_final': 0.01,\n",
      "  'fee': 0.001,\n",
      "  'gamma': 0.95,\n",
      "  'learning_rate': 0.001,\n",
      "  'money': 10000,\n",
      "  'obs_space': (8, 20),\n",
      "  'reward_function': 'compute_reward_from_tutor',\n",
      "  'runs_p_eps': 1,\n",
      "  'trainer': 'DQNTrainer.DQNTrainer'}]\n"
     ]
    }
   ],
   "source": [
    "data_source_btc = \"BTC_histData_dt1800.0s_20220825_0629\" \n",
    "data_source_perp = \"Perp_BTC_FundingRate_Data_fakehist\"\n",
    "\n",
    "hpo_params= { \n",
    "    'obs_space' : [(8,20)], \n",
    "    'action_domain' : [(0.0,1.0)], # (-1.0,1.0),\n",
    "    'money' : [10000], \n",
    "    'fee' : [0.001], \n",
    "    'asset' : ['BTC'],\n",
    "#     'reward_function' : ['compute_reward_from_tutor', 'reward_sharpe_ratio', 'reward_sortino_ratio', \n",
    "#                         'reward_differential_sharpe_ratio',],\n",
    "    'reward_function' : ['compute_reward_from_tutor'],\n",
    "    \n",
    "    'learning_rate': [1e-3],\n",
    "#     'trainer' : ['DRLTrainer.DRLTrainer'], # 'DRLTrainer', 'DQNTrainer'\n",
    "    'trainer' : ['DQNTrainer.DQNTrainer'], # 'DRLTrainer', 'DQNTrainer'\n",
    "    'episodes' : [2], \n",
    "    'runs_p_eps' : [1], \n",
    "    'batch_size': [50],\n",
    "    'epoch': [2],\n",
    "    'gamma': [0.95],\n",
    "    \n",
    "    'epsilon': [0.0],\n",
    "    'epsilon_final':[0.01],\n",
    "    'epsilon_decay':[0.995],\n",
    "}\n",
    "\n",
    "\n",
    "keys, values = zip(*hpo_params.items())\n",
    "hpo_list = [dict(zip(keys, v)) for v in product(*values)]\n",
    "pprint.pprint(hpo_list)"
   ]
  },
  {
   "cell_type": "code",
   "execution_count": 6,
   "id": "ac0e0088",
   "metadata": {},
   "outputs": [],
   "source": [
    "def conduct_traning(param_combination, i):\n",
    "    if param_combination.get('trainer') == 'DQNTrainer.DQNTrainer':\n",
    "        action_space = 4\n",
    "        algorithm = f'DQN_trial_{i}'\n",
    "    else:\n",
    "        action_space = 1\n",
    "        algorithm = f'DRL_trial_{i}'\n",
    "\n",
    "    if param_combination.get('asset') == 'BTC':\n",
    "        param_combination[\"data_source\"] = data_source_btc\n",
    "    else:\n",
    "        param_combination[\"data_source\"] = data_source_perp\n",
    "\n",
    "\n",
    "    param_combination['action_space'] = action_space\n",
    "    param_combination['algorithm'] = algorithm\n",
    "    pprint.pprint(param_combination)\n",
    "\n",
    "    env = BTCEnv.BTCMarket_Env(observation_space = param_combination.get('obs_space', (8,20)),\n",
    "            action_space = action_space,\n",
    "            start_money = param_combination.get('money', 10000),\n",
    "            trading_fee = param_combination.get('fee', 0.001),\n",
    "            asset = param_combination.get('asset', 'BTC'),\n",
    "            source_file = param_combination.get('data_source', data_source_btc),\n",
    "            reward_function = param_combination.get('reward_function', 'reward_differential_sharpe_ratio'),\n",
    "                       )\n",
    "\n",
    "    agent = TAgent.Trader_Agent(observation_space = param_combination.get('obs_space', (8,20)),\n",
    "                action_space = action_space,\n",
    "                action_domain = param_combination.get('action_domain', (0.0,1.0)),\n",
    "                epsilon = param_combination.get('epsilon', 0.7),\n",
    "                epsilon_final = param_combination.get('epsilon_final', 0.01),\n",
    "                epsilon_decay = param_combination.get('epsilon_decay', 0.995),\n",
    "                        )\n",
    "\n",
    "    trainer_class = eval(param_combination.get('trainer', 'DRLTrainer.DRLTrainer'))\n",
    "    trainer = trainer_class(env, agent,\n",
    "                observation_space = param_combination.get('obs_space', (8,20)),\n",
    "                action_space = action_space,\n",
    "                batch_size=param_combination.get('batch_size', 50),\n",
    "                epoch=param_combination.get('epoch', 5),\n",
    "                gamma=param_combination.get('gamma', 0.95),\n",
    "                learning_rate=param_combination.get('learning_rate', 1e-3),\n",
    "                algorithm=algorithm,\n",
    "                lstm_path=\"./../notebooks/best_models/11_mar_2023/best_model_sequential_20back_10ahead.h5\",\n",
    "                # best_model_sequential_20back_10ahead lstm_2,\n",
    "                           )\n",
    "\n",
    "    os.makedirs(trainer.train_folder,exist_ok=True)\n",
    "    with open(f'{trainer.train_folder}/params.json', 'w') as fp:\n",
    "        json.dump(param_combination, fp)\n",
    "\n",
    "    tmp_out = trainer.rollout(n_episodes=param_combination.get('episodes', 2), \n",
    "                       run_per_episode=param_combination.get('runs_p_eps', 2))\n",
    "    \n",
    "    return trainer.train_folder, tmp_out "
   ]
  },
  {
   "cell_type": "markdown",
   "id": "45242e33",
   "metadata": {},
   "source": [
    "# Param combination 0"
   ]
  },
  {
   "cell_type": "code",
   "execution_count": 7,
   "id": "3185b606",
   "metadata": {},
   "outputs": [
    {
     "name": "stdout",
     "output_type": "stream",
     "text": [
      "{'action_domain': (0.0, 1.0),\n",
      " 'action_space': 4,\n",
      " 'algorithm': 'DQN_trial_0',\n",
      " 'asset': 'BTC',\n",
      " 'batch_size': 50,\n",
      " 'data_source': 'BTC_histData_dt1800.0s_20220825_0629',\n",
      " 'episodes': 2,\n",
      " 'epoch': 2,\n",
      " 'epsilon': 0.0,\n",
      " 'epsilon_decay': 0.995,\n",
      " 'epsilon_final': 0.01,\n",
      " 'fee': 0.001,\n",
      " 'gamma': 0.95,\n",
      " 'learning_rate': 0.001,\n",
      " 'money': 10000,\n",
      " 'obs_space': (8, 20),\n",
      " 'reward_function': 'compute_reward_from_tutor',\n",
      " 'runs_p_eps': 1,\n",
      " 'trainer': 'DQNTrainer.DQNTrainer'}\n",
      "Model: \"model\"\n",
      "__________________________________________________________________________________________________\n",
      " Layer (type)                   Output Shape         Param #     Connected to                     \n",
      "==================================================================================================\n",
      " input_1 (InputLayer)           [(None, 20, 8)]      0           []                               \n",
      "                                                                                                  \n",
      " lstm_inputs (Lambda)           (None, 20, 4)        0           ['input_1[0][0]']                \n",
      "                                                                                                  \n",
      " sequential (Sequential)        (None, 10)           1953940     ['lstm_inputs[0][0]']            \n",
      "                                                                                                  \n",
      " flatten_1 (Flatten)            (None, 10)           0           ['sequential[0][0]']             \n",
      "                                                                                                  \n",
      " flatten (Flatten)              (None, 160)          0           ['input_1[0][0]']                \n",
      "                                                                                                  \n",
      " tf.reshape (TFOpLambda)        (None, 10)           0           ['flatten_1[0][0]']              \n",
      "                                                                                                  \n",
      " concatenate (Concatenate)      (None, 170)          0           ['flatten[0][0]',                \n",
      "                                                                  'tf.reshape[0][0]']             \n",
      "                                                                                                  \n",
      " dense (Dense)                  (None, 256)          43776       ['concatenate[0][0]']            \n",
      "                                                                                                  \n",
      " dense_1 (Dense)                (None, 128)          32896       ['dense[0][0]']                  \n",
      "                                                                                                  \n",
      " dense_2 (Dense)                (None, 64)           8256        ['dense_1[0][0]']                \n",
      "                                                                                                  \n",
      " dense_3 (Dense)                (None, 4)            260         ['dense_2[0][0]']                \n",
      "                                                                                                  \n",
      " softmax (Softmax)              (None, 4)            0           ['dense_3[0][0]']                \n",
      "                                                                                                  \n",
      "==================================================================================================\n",
      "Total params: 2,039,128\n",
      "Trainable params: 85,188\n",
      "Non-trainable params: 1,953,940\n",
      "__________________________________________________________________________________________________\n",
      "Episode: 1/2\n",
      "Episode: 1/2 || Run 1/1\n"
     ]
    },
    {
     "name": "stderr",
     "output_type": "stream",
     "text": [
      " 15%|█▌        | 101/671 [00:19<01:36,  5.93it/s]"
     ]
    },
    {
     "name": "stdout",
     "output_type": "stream",
     "text": [
      "Data saved\n",
      "episode 1, run (1/1) sample (100/671).Profit -79.46999999999935 || money available: [0.],  wallet value: [9920.53]\n"
     ]
    },
    {
     "name": "stderr",
     "output_type": "stream",
     "text": [
      " 30%|███       | 202/671 [00:34<01:13,  6.42it/s]"
     ]
    },
    {
     "name": "stdout",
     "output_type": "stream",
     "text": [
      "Data saved\n",
      "episode 1, run (1/1) sample (200/671).Profit -44.19000000000051 || money available: [4921.95],  wallet value: [9955.81]\n"
     ]
    },
    {
     "name": "stderr",
     "output_type": "stream",
     "text": [
      " 45%|████▌     | 302/671 [00:51<00:59,  6.17it/s]"
     ]
    },
    {
     "name": "stdout",
     "output_type": "stream",
     "text": [
      "Data saved\n",
      "episode 1, run (1/1) sample (300/671).Profit -195.65999999999985 || money available: [4835.78],  wallet value: [9804.34]\n"
     ]
    },
    {
     "name": "stderr",
     "output_type": "stream",
     "text": [
      " 60%|█████▉    | 402/671 [01:07<00:43,  6.17it/s]"
     ]
    },
    {
     "name": "stdout",
     "output_type": "stream",
     "text": [
      "Data saved\n",
      "episode 1, run (1/1) sample (400/671).Profit -134.23999999999978 || money available: [9865.76],  wallet value: [9865.76]\n"
     ]
    },
    {
     "name": "stderr",
     "output_type": "stream",
     "text": [
      " 75%|███████▍  | 502/671 [01:23<00:27,  6.12it/s]"
     ]
    },
    {
     "name": "stdout",
     "output_type": "stream",
     "text": [
      "Data saved\n",
      "episode 1, run (1/1) sample (500/671).Profit -131.53000000000065 || money available: [9868.47],  wallet value: [9868.47]\n"
     ]
    },
    {
     "name": "stderr",
     "output_type": "stream",
     "text": [
      " 90%|████████▉ | 602/671 [01:39<00:11,  5.99it/s]"
     ]
    },
    {
     "name": "stdout",
     "output_type": "stream",
     "text": [
      "Data saved\n",
      "episode 1, run (1/1) sample (600/671).Profit -527.7900000000009 || money available: [4677.16],  wallet value: [9472.21]\n"
     ]
    },
    {
     "name": "stderr",
     "output_type": "stream",
     "text": [
      "100%|█████████▉| 668/671 [01:52<00:00,  5.92it/s]\n"
     ]
    },
    {
     "name": "stdout",
     "output_type": "stream",
     "text": [
      "Data saved\n",
      "episode 1, finished run (1/1). Run Profit -631.4099999999999 || money available: [4650.31],  wallet value: [9368.59]\n",
      "episode 1/2. Profit -631.4099999999999 || money available: [4650.31],  wallet value: [9368.59]\n"
     ]
    },
    {
     "name": "stderr",
     "output_type": "stream",
     "text": [
      "../src/DQNtrainer.py:351: FutureWarning: Behavior when concatenating bool-dtype and numeric-dtype arrays is deprecated; in a future version these will cast to object dtype (instead of coercing bools to numeric values). To retain the old behavior, explicitly cast bool-dtype arrays to numeric dtype.\n",
      "  train_log_dataframe = pd.concat([train_log_dataframe, tmp])\n"
     ]
    },
    {
     "name": "stdout",
     "output_type": "stream",
     "text": [
      "Data saved\n",
      "Episode: 2/2\n",
      "Episode: 2/2 || Run 1/1\n"
     ]
    },
    {
     "name": "stderr",
     "output_type": "stream",
     "text": [
      " 15%|█▌        | 102/671 [00:16<01:51,  5.09it/s]"
     ]
    },
    {
     "name": "stdout",
     "output_type": "stream",
     "text": [
      "Data saved\n",
      "episode 2, run (1/1) sample (100/671).Profit 89.90999999999985 || money available: [10089.91],  wallet value: [10089.91]\n"
     ]
    },
    {
     "name": "stderr",
     "output_type": "stream",
     "text": [
      " 30%|███       | 202/671 [00:32<01:50,  4.24it/s]"
     ]
    },
    {
     "name": "stdout",
     "output_type": "stream",
     "text": [
      "Data saved\n",
      "episode 2, run (1/1) sample (200/671).Profit -17.0 || money available: [4948.61],  wallet value: [9983.]\n"
     ]
    },
    {
     "name": "stderr",
     "output_type": "stream",
     "text": [
      " 45%|████▌     | 302/671 [00:48<01:59,  3.09it/s]"
     ]
    },
    {
     "name": "stdout",
     "output_type": "stream",
     "text": [
      "Data saved\n",
      "episode 2, run (1/1) sample (300/671).Profit 5.200000000000728 || money available: [5002.6],  wallet value: [10005.2]\n"
     ]
    },
    {
     "name": "stderr",
     "output_type": "stream",
     "text": [
      " 60%|█████▉    | 401/671 [01:03<00:47,  5.73it/s]"
     ]
    },
    {
     "name": "stdout",
     "output_type": "stream",
     "text": [
      "Data saved\n",
      "episode 2, run (1/1) sample (400/671).Profit -141.34000000000015 || money available: [4948.26],  wallet value: [9858.66]\n"
     ]
    },
    {
     "name": "stderr",
     "output_type": "stream",
     "text": [
      " 75%|███████▍  | 502/671 [01:19<00:27,  6.12it/s]"
     ]
    },
    {
     "name": "stdout",
     "output_type": "stream",
     "text": [
      "Data saved\n",
      "episode 2, run (1/1) sample (500/671).Profit -44.68000000000029 || money available: [5007.07],  wallet value: [9955.32]\n"
     ]
    },
    {
     "name": "stderr",
     "output_type": "stream",
     "text": [
      " 90%|████████▉ | 602/671 [01:36<00:11,  5.99it/s]"
     ]
    },
    {
     "name": "stdout",
     "output_type": "stream",
     "text": [
      "Data saved\n",
      "episode 2, run (1/1) sample (600/671).Profit -195.4400000000005 || money available: [9804.56],  wallet value: [9804.56]\n"
     ]
    },
    {
     "name": "stderr",
     "output_type": "stream",
     "text": [
      "100%|█████████▉| 668/671 [01:48<00:00,  6.15it/s]\n"
     ]
    },
    {
     "name": "stdout",
     "output_type": "stream",
     "text": [
      "Data saved\n",
      "episode 2, finished run (1/1). Run Profit -120.22999999999956 || money available: [4924.09],  wallet value: [9879.77]\n",
      "episode 2/2. Profit -751.6399999999994 || money available: [4924.09],  wallet value: [9879.77]\n",
      "Data saved\n"
     ]
    },
    {
     "name": "stderr",
     "output_type": "stream",
     "text": [
      "../src/DQNtrainer.py:351: FutureWarning: Behavior when concatenating bool-dtype and numeric-dtype arrays is deprecated; in a future version these will cast to object dtype (instead of coercing bools to numeric values). To retain the old behavior, explicitly cast bool-dtype arrays to numeric dtype.\n",
      "  train_log_dataframe = pd.concat([train_log_dataframe, tmp])\n"
     ]
    }
   ],
   "source": [
    "i = 0\n",
    "train_folder, out = conduct_traning(hpo_list[i], i)"
   ]
  },
  {
   "cell_type": "code",
   "execution_count": 8,
   "id": "6298e327",
   "metadata": {},
   "outputs": [
    {
     "name": "stdout",
     "output_type": "stream",
     "text": [
      "(669, 9)\n"
     ]
    },
    {
     "data": {
      "text/html": [
       "<div>\n",
       "<style scoped>\n",
       "    .dataframe tbody tr th:only-of-type {\n",
       "        vertical-align: middle;\n",
       "    }\n",
       "\n",
       "    .dataframe tbody tr th {\n",
       "        vertical-align: top;\n",
       "    }\n",
       "\n",
       "    .dataframe thead th {\n",
       "        text-align: right;\n",
       "    }\n",
       "</style>\n",
       "<table border=\"1\" class=\"dataframe\">\n",
       "  <thead>\n",
       "    <tr style=\"text-align: right;\">\n",
       "      <th></th>\n",
       "      <th>episode</th>\n",
       "      <th>run</th>\n",
       "      <th>action</th>\n",
       "      <th>state</th>\n",
       "      <th>reward</th>\n",
       "      <th>done</th>\n",
       "      <th>epsilon</th>\n",
       "      <th>profit</th>\n",
       "      <th>time_elapsed</th>\n",
       "    </tr>\n",
       "  </thead>\n",
       "  <tbody>\n",
       "    <tr>\n",
       "      <th>0</th>\n",
       "      <td>1.0</td>\n",
       "      <td>1.0</td>\n",
       "      <td>[0.22595708 0.20910123 0.2810722  0.28386953]</td>\n",
       "      <td>[[[0.5        0.99983487 0.5        0.5       ...</td>\n",
       "      <td>[0.]</td>\n",
       "      <td>0.0</td>\n",
       "      <td>0.0</td>\n",
       "      <td>0.00</td>\n",
       "      <td>1.492647</td>\n",
       "    </tr>\n",
       "    <tr>\n",
       "      <th>1</th>\n",
       "      <td>1.0</td>\n",
       "      <td>1.0</td>\n",
       "      <td>[0.22788395 0.21421926 0.27826113 0.27963564]</td>\n",
       "      <td>[[[0.5        0.99983487 0.5        0.5       ...</td>\n",
       "      <td>[0.26634278]</td>\n",
       "      <td>0.0</td>\n",
       "      <td>0.0</td>\n",
       "      <td>0.00</td>\n",
       "      <td>1.607615</td>\n",
       "    </tr>\n",
       "    <tr>\n",
       "      <th>2</th>\n",
       "      <td>1.0</td>\n",
       "      <td>1.0</td>\n",
       "      <td>[0.23430306 0.20757286 0.28036082 0.2777633 ]</td>\n",
       "      <td>[[[0.5        0.99983487 0.5        0.5       ...</td>\n",
       "      <td>[0.26871769]</td>\n",
       "      <td>0.0</td>\n",
       "      <td>0.0</td>\n",
       "      <td>-9.99</td>\n",
       "      <td>1.722451</td>\n",
       "    </tr>\n",
       "    <tr>\n",
       "      <th>3</th>\n",
       "      <td>1.0</td>\n",
       "      <td>1.0</td>\n",
       "      <td>[0.24097742 0.20746559 0.26869625 0.28286073]</td>\n",
       "      <td>[[[5.00000000e-01 9.99834868e-01 5.00000000e-0...</td>\n",
       "      <td>[0.2763163]</td>\n",
       "      <td>0.0</td>\n",
       "      <td>0.0</td>\n",
       "      <td>-15.36</td>\n",
       "      <td>1.836603</td>\n",
       "    </tr>\n",
       "    <tr>\n",
       "      <th>4</th>\n",
       "      <td>1.0</td>\n",
       "      <td>1.0</td>\n",
       "      <td>[0.23362593 0.21066593 0.26428467 0.29142347]</td>\n",
       "      <td>[[[5.00000000e-01 9.99834868e-01 5.00000000e-0...</td>\n",
       "      <td>[0.26386378]</td>\n",
       "      <td>0.0</td>\n",
       "      <td>0.0</td>\n",
       "      <td>-15.36</td>\n",
       "      <td>1.951170</td>\n",
       "    </tr>\n",
       "  </tbody>\n",
       "</table>\n",
       "</div>"
      ],
      "text/plain": [
       "   episode  run                                         action  \\\n",
       "0      1.0  1.0  [0.22595708 0.20910123 0.2810722  0.28386953]   \n",
       "1      1.0  1.0  [0.22788395 0.21421926 0.27826113 0.27963564]   \n",
       "2      1.0  1.0  [0.23430306 0.20757286 0.28036082 0.2777633 ]   \n",
       "3      1.0  1.0  [0.24097742 0.20746559 0.26869625 0.28286073]   \n",
       "4      1.0  1.0  [0.23362593 0.21066593 0.26428467 0.29142347]   \n",
       "\n",
       "                                               state        reward  done  \\\n",
       "0  [[[0.5        0.99983487 0.5        0.5       ...          [0.]   0.0   \n",
       "1  [[[0.5        0.99983487 0.5        0.5       ...  [0.26634278]   0.0   \n",
       "2  [[[0.5        0.99983487 0.5        0.5       ...  [0.26871769]   0.0   \n",
       "3  [[[5.00000000e-01 9.99834868e-01 5.00000000e-0...   [0.2763163]   0.0   \n",
       "4  [[[5.00000000e-01 9.99834868e-01 5.00000000e-0...  [0.26386378]   0.0   \n",
       "\n",
       "   epsilon  profit  time_elapsed  \n",
       "0      0.0    0.00      1.492647  \n",
       "1      0.0    0.00      1.607615  \n",
       "2      0.0   -9.99      1.722451  \n",
       "3      0.0  -15.36      1.836603  \n",
       "4      0.0  -15.36      1.951170  "
      ]
     },
     "execution_count": 8,
     "metadata": {},
     "output_type": "execute_result"
    }
   ],
   "source": [
    "df_train = pd.read_csv(f\"{train_folder}/Trainer_Data_1.csv\", sep=\";\")\n",
    "print(df_train.shape)\n",
    "df_train.head()"
   ]
  },
  {
   "cell_type": "code",
   "execution_count": 10,
   "id": "288fd461",
   "metadata": {},
   "outputs": [
    {
     "name": "stdout",
     "output_type": "stream",
     "text": [
      "(670, 23)\n",
      "Index(['done', 'btc_units', 'buy_short_count', 'short_eur', 'fee_paid',\n",
      "       'short_wallet', 'swap_price', 'long_wallet', 'btc_eur',\n",
      "       'short_position', 'btc_price', 'reward', 'state', 'short_units',\n",
      "       'action', 'long_position', 'funding_rate', 'sell_long_count', 'episode',\n",
      "       'money', 'wallet_value', 'sell_short_count', 'buy_long_count'],\n",
      "      dtype='object')\n"
     ]
    },
    {
     "data": {
      "text/html": [
       "<div>\n",
       "<style scoped>\n",
       "    .dataframe tbody tr th:only-of-type {\n",
       "        vertical-align: middle;\n",
       "    }\n",
       "\n",
       "    .dataframe tbody tr th {\n",
       "        vertical-align: top;\n",
       "    }\n",
       "\n",
       "    .dataframe thead th {\n",
       "        text-align: right;\n",
       "    }\n",
       "</style>\n",
       "<table border=\"1\" class=\"dataframe\">\n",
       "  <thead>\n",
       "    <tr style=\"text-align: right;\">\n",
       "      <th></th>\n",
       "      <th>done</th>\n",
       "      <th>btc_units</th>\n",
       "      <th>buy_short_count</th>\n",
       "      <th>short_eur</th>\n",
       "      <th>fee_paid</th>\n",
       "      <th>short_wallet</th>\n",
       "      <th>swap_price</th>\n",
       "      <th>long_wallet</th>\n",
       "      <th>btc_eur</th>\n",
       "      <th>short_position</th>\n",
       "      <th>...</th>\n",
       "      <th>short_units</th>\n",
       "      <th>action</th>\n",
       "      <th>long_position</th>\n",
       "      <th>funding_rate</th>\n",
       "      <th>sell_long_count</th>\n",
       "      <th>episode</th>\n",
       "      <th>money</th>\n",
       "      <th>wallet_value</th>\n",
       "      <th>sell_short_count</th>\n",
       "      <th>buy_long_count</th>\n",
       "    </tr>\n",
       "  </thead>\n",
       "  <tbody>\n",
       "    <tr>\n",
       "      <th>665</th>\n",
       "      <td>False</td>\n",
       "      <td>[0.2785606]</td>\n",
       "      <td>0</td>\n",
       "      <td>-0.0</td>\n",
       "      <td>0</td>\n",
       "      <td>[0, 0]</td>\n",
       "      <td>17867.48</td>\n",
       "      <td>[array([0.2785606]), array([17676.9])]</td>\n",
       "      <td>[4924.08795602]</td>\n",
       "      <td>-0.0</td>\n",
       "      <td>...</td>\n",
       "      <td>0</td>\n",
       "      <td>[0.5]</td>\n",
       "      <td>0.5</td>\n",
       "      <td>0</td>\n",
       "      <td>49</td>\n",
       "      <td>4</td>\n",
       "      <td>[4924.09]</td>\n",
       "      <td>9901.27</td>\n",
       "      <td>0</td>\n",
       "      <td>53</td>\n",
       "    </tr>\n",
       "    <tr>\n",
       "      <th>666</th>\n",
       "      <td>False</td>\n",
       "      <td>[0.2785606]</td>\n",
       "      <td>0</td>\n",
       "      <td>-0.0</td>\n",
       "      <td>0</td>\n",
       "      <td>[0, 0]</td>\n",
       "      <td>17792.84</td>\n",
       "      <td>[array([0.2785606]), array([17676.9])]</td>\n",
       "      <td>[4924.08795602]</td>\n",
       "      <td>-0.0</td>\n",
       "      <td>...</td>\n",
       "      <td>0</td>\n",
       "      <td>[0.5]</td>\n",
       "      <td>0.5</td>\n",
       "      <td>0</td>\n",
       "      <td>49</td>\n",
       "      <td>4</td>\n",
       "      <td>[4924.09]</td>\n",
       "      <td>9880.47</td>\n",
       "      <td>0</td>\n",
       "      <td>53</td>\n",
       "    </tr>\n",
       "    <tr>\n",
       "      <th>667</th>\n",
       "      <td>False</td>\n",
       "      <td>[0.2785606]</td>\n",
       "      <td>0</td>\n",
       "      <td>-0.0</td>\n",
       "      <td>0</td>\n",
       "      <td>[0, 0]</td>\n",
       "      <td>17763.00</td>\n",
       "      <td>[array([0.2785606]), array([17676.9])]</td>\n",
       "      <td>[4924.08795602]</td>\n",
       "      <td>-0.0</td>\n",
       "      <td>...</td>\n",
       "      <td>0</td>\n",
       "      <td>[0.5]</td>\n",
       "      <td>0.5</td>\n",
       "      <td>0</td>\n",
       "      <td>49</td>\n",
       "      <td>4</td>\n",
       "      <td>[4924.09]</td>\n",
       "      <td>9872.16</td>\n",
       "      <td>0</td>\n",
       "      <td>53</td>\n",
       "    </tr>\n",
       "    <tr>\n",
       "      <th>668</th>\n",
       "      <td>False</td>\n",
       "      <td>[0.2785606]</td>\n",
       "      <td>0</td>\n",
       "      <td>-0.0</td>\n",
       "      <td>0</td>\n",
       "      <td>[0, 0]</td>\n",
       "      <td>17807.74</td>\n",
       "      <td>[array([0.2785606]), array([17676.9])]</td>\n",
       "      <td>[4924.08795602]</td>\n",
       "      <td>-0.0</td>\n",
       "      <td>...</td>\n",
       "      <td>0</td>\n",
       "      <td>[0.5]</td>\n",
       "      <td>0.5</td>\n",
       "      <td>0</td>\n",
       "      <td>49</td>\n",
       "      <td>4</td>\n",
       "      <td>[4924.09]</td>\n",
       "      <td>9884.62</td>\n",
       "      <td>0</td>\n",
       "      <td>53</td>\n",
       "    </tr>\n",
       "    <tr>\n",
       "      <th>669</th>\n",
       "      <td>True</td>\n",
       "      <td>[0.2785606]</td>\n",
       "      <td>0</td>\n",
       "      <td>-0.0</td>\n",
       "      <td>0</td>\n",
       "      <td>[0, 0]</td>\n",
       "      <td>17790.31</td>\n",
       "      <td>[array([0.2785606]), array([17676.9])]</td>\n",
       "      <td>[4924.08795602]</td>\n",
       "      <td>-0.0</td>\n",
       "      <td>...</td>\n",
       "      <td>0</td>\n",
       "      <td>[[0.5]]</td>\n",
       "      <td>0.5</td>\n",
       "      <td>0</td>\n",
       "      <td>49</td>\n",
       "      <td>4</td>\n",
       "      <td>[4924.09]</td>\n",
       "      <td>9879.77</td>\n",
       "      <td>0</td>\n",
       "      <td>53</td>\n",
       "    </tr>\n",
       "  </tbody>\n",
       "</table>\n",
       "<p>5 rows × 23 columns</p>\n",
       "</div>"
      ],
      "text/plain": [
       "      done    btc_units  buy_short_count  short_eur fee_paid short_wallet  \\\n",
       "665  False  [0.2785606]                0       -0.0        0       [0, 0]   \n",
       "666  False  [0.2785606]                0       -0.0        0       [0, 0]   \n",
       "667  False  [0.2785606]                0       -0.0        0       [0, 0]   \n",
       "668  False  [0.2785606]                0       -0.0        0       [0, 0]   \n",
       "669   True  [0.2785606]                0       -0.0        0       [0, 0]   \n",
       "\n",
       "     swap_price                             long_wallet          btc_eur  \\\n",
       "665    17867.48  [array([0.2785606]), array([17676.9])]  [4924.08795602]   \n",
       "666    17792.84  [array([0.2785606]), array([17676.9])]  [4924.08795602]   \n",
       "667    17763.00  [array([0.2785606]), array([17676.9])]  [4924.08795602]   \n",
       "668    17807.74  [array([0.2785606]), array([17676.9])]  [4924.08795602]   \n",
       "669    17790.31  [array([0.2785606]), array([17676.9])]  [4924.08795602]   \n",
       "\n",
       "     short_position  ...  short_units   action long_position  funding_rate  \\\n",
       "665            -0.0  ...            0    [0.5]           0.5             0   \n",
       "666            -0.0  ...            0    [0.5]           0.5             0   \n",
       "667            -0.0  ...            0    [0.5]           0.5             0   \n",
       "668            -0.0  ...            0    [0.5]           0.5             0   \n",
       "669            -0.0  ...            0  [[0.5]]           0.5             0   \n",
       "\n",
       "    sell_long_count  episode      money  wallet_value  sell_short_count  \\\n",
       "665              49        4  [4924.09]       9901.27                 0   \n",
       "666              49        4  [4924.09]       9880.47                 0   \n",
       "667              49        4  [4924.09]       9872.16                 0   \n",
       "668              49        4  [4924.09]       9884.62                 0   \n",
       "669              49        4  [4924.09]       9879.77                 0   \n",
       "\n",
       "    buy_long_count  \n",
       "665             53  \n",
       "666             53  \n",
       "667             53  \n",
       "668             53  \n",
       "669             53  \n",
       "\n",
       "[5 rows x 23 columns]"
      ]
     },
     "execution_count": 10,
     "metadata": {},
     "output_type": "execute_result"
    }
   ],
   "source": [
    "df_eptrain = pd.read_csv(f\"{train_folder}/episodes/Epi_2_run_1_BTC.csv\", sep=\";\")\n",
    "print(df_eptrain.shape)\n",
    "print(df_eptrain.columns)\n",
    "df_eptrain.tail()"
   ]
  },
  {
   "cell_type": "code",
   "execution_count": 11,
   "id": "f4e1faac",
   "metadata": {},
   "outputs": [
    {
     "name": "stderr",
     "output_type": "stream",
     "text": [
      "/usr/local/lib/python3.8/dist-packages/numpy/core/shape_base.py:65: VisibleDeprecationWarning: Creating an ndarray from ragged nested sequences (which is a list-or-tuple of lists-or-tuples-or ndarrays with different lengths or shapes) is deprecated. If you meant to do this, you must specify 'dtype=object' when creating the ndarray.\n",
      "  ary = asanyarray(ary)\n"
     ]
    },
    {
     "data": {
      "text/plain": [
       "[<matplotlib.lines.Line2D at 0x7f447046c5e0>]"
      ]
     },
     "execution_count": 11,
     "metadata": {},
     "output_type": "execute_result"
    },
    {
     "data": {
      "image/png": "[encoded data removed]",
      "text/plain": [
       "<Figure size 432x288 with 1 Axes>"
      ]
     },
     "metadata": {
      "needs_background": "light"
     },
     "output_type": "display_data"
    }
   ],
   "source": [
    "t = 100\n",
    "plt.plot(out)"
   ]
  },
  {
   "cell_type": "code",
   "execution_count": 12,
   "id": "b2728191",
   "metadata": {},
   "outputs": [
    {
     "ename": "SyntaxError",
     "evalue": "invalid syntax (<unknown>, line 1)",
     "output_type": "error",
     "traceback": [
      "Traceback \u001b[0;36m(most recent call last)\u001b[0m:\n",
      "  File \u001b[1;32m\"/usr/local/lib/python3.8/dist-packages/IPython/core/interactiveshell.py\"\u001b[0m, line \u001b[1;32m3441\u001b[0m, in \u001b[1;35mrun_code\u001b[0m\n    exec(code_obj, self.user_global_ns, self.user_ns)\n",
      "  File \u001b[1;32m\"<ipython-input-12-17c625782cdc>\"\u001b[0m, line \u001b[1;32m1\u001b[0m, in \u001b[1;35m<module>\u001b[0m\n    tmp = [ast.literal_eval(n) for n in df_train[\"action\"]]\n",
      "  File \u001b[1;32m\"<ipython-input-12-17c625782cdc>\"\u001b[0m, line \u001b[1;32m1\u001b[0m, in \u001b[1;35m<listcomp>\u001b[0m\n    tmp = [ast.literal_eval(n) for n in df_train[\"action\"]]\n",
      "  File \u001b[1;32m\"/usr/lib/python3.8/ast.py\"\u001b[0m, line \u001b[1;32m59\u001b[0m, in \u001b[1;35mliteral_eval\u001b[0m\n    node_or_string = parse(node_or_string, mode='eval')\n",
      "\u001b[0;36m  File \u001b[0;32m\"/usr/lib/python3.8/ast.py\"\u001b[0;36m, line \u001b[0;32m47\u001b[0;36m, in \u001b[0;35mparse\u001b[0;36m\u001b[0m\n\u001b[0;31m    return compile(source, filename, mode, flags,\u001b[0m\n",
      "\u001b[0;36m  File \u001b[0;32m\"<unknown>\"\u001b[0;36m, line \u001b[0;32m1\u001b[0m\n\u001b[0;31m    [0.22595708 0.20910123 0.2810722  0.28386953]\u001b[0m\n\u001b[0m                ^\u001b[0m\n\u001b[0;31mSyntaxError\u001b[0m\u001b[0;31m:\u001b[0m invalid syntax\n"
     ]
    }
   ],
   "source": [
    "tmp = [ast.literal_eval(n) for n in df_train[\"action\"]]\n",
    "# type(tmp[0])\n",
    "plt.plot(tmp[:])"
   ]
  },
  {
   "cell_type": "code",
   "execution_count": null,
   "id": "19a6feb8",
   "metadata": {},
   "outputs": [],
   "source": [
    "plt.plot(df_train[\"profit\"])"
   ]
  },
  {
   "cell_type": "code",
   "execution_count": 8,
   "id": "79c2dba9",
   "metadata": {},
   "outputs": [
    {
     "name": "stdout",
     "output_type": "stream",
     "text": [
      "8\n",
      "(17495, 10)\n",
      "5163.983486413956\n"
     ]
    }
   ],
   "source": [
    "# Plot profit  \n",
    "train_folder = './../data/20230328_175512/DQN_trial_0/'\n",
    "print(len(hpo_list))\n",
    "training_folders.append(train_folder)\n",
    "df = pd.read_csv(f'{train_folder}/Trainer_Data.csv')\n",
    "print(df.shape)\n",
    "print(max(df.time_elapsed))"
   ]
  },
  {
   "cell_type": "code",
   "execution_count": 9,
   "id": "9353a9a2",
   "metadata": {},
   "outputs": [
    {
     "data": {
      "image/png": "[encoded data removed]",
      "text/plain": [
       "<Figure size 432x432 with 2 Axes>"
      ]
     },
     "metadata": {
      "needs_background": "light"
     },
     "output_type": "display_data"
    }
   ],
   "source": [
    "fig, ax = plt.subplots(2,1, figsize=(6,6))\n",
    "ax[0].plot(df.profit)\n",
    "ax[0].set_title(\"Profits\")\n",
    "y = [ast.literal_eval(x)[0] for x  in df.reward]\n",
    "ax[1].plot(y)\n",
    "ax[1].set_title(\"Rewards\")\n",
    "plt.show()"
   ]
  },
  {
   "cell_type": "markdown",
   "id": "c49a6cb4",
   "metadata": {},
   "source": [
    "# Param combination 1"
   ]
  },
  {
   "cell_type": "code",
   "execution_count": null,
   "id": "1306b274",
   "metadata": {
    "scrolled": true
   },
   "outputs": [],
   "source": [
    "i = 1\n",
    "train_folder = conduct_traning(hpo_list[i], i)"
   ]
  },
  {
   "cell_type": "code",
   "execution_count": null,
   "id": "7a0491ea",
   "metadata": {},
   "outputs": [],
   "source": [
    "# Plot profit\n",
    "training_folders.append(train_folder)\n",
    "df = pd.read_csv(f'{train_folder}/Trainer_Data.csv')\n",
    "print(df.shape)\n",
    "print(max(df.time_elapsed))"
   ]
  },
  {
   "cell_type": "code",
   "execution_count": null,
   "id": "f0d2e67f",
   "metadata": {},
   "outputs": [],
   "source": [
    "fig, ax = plt.subplots(2,1, figsize=(6,6))\n",
    "ax[0].plot(df.profit)\n",
    "ax[0].set_title(\"Profits\")\n",
    "y = [ast.literal_eval(x)[0] for x  in df.reward]\n",
    "ax[1].plot(y)\n",
    "ax[1].set_title(\"Rewards\")\n",
    "plt.show()"
   ]
  },
  {
   "cell_type": "markdown",
   "id": "2dbe48ca",
   "metadata": {},
   "source": [
    "# param combination 2"
   ]
  },
  {
   "cell_type": "code",
   "execution_count": null,
   "id": "fb64be68",
   "metadata": {},
   "outputs": [],
   "source": [
    "i = 2\n",
    "train_folder = conduct_traning(hpo_list[i], i)"
   ]
  },
  {
   "cell_type": "code",
   "execution_count": null,
   "id": "e0759177",
   "metadata": {},
   "outputs": [],
   "source": [
    "# Plot profit\n",
    "training_folders.append(train_folder)\n",
    "df = pd.read_csv(f'{train_folder}/Trainer_Data.csv')\n",
    "print(df.shape)\n",
    "print(max(df.time_elapsed))"
   ]
  },
  {
   "cell_type": "code",
   "execution_count": null,
   "id": "835f3ae2",
   "metadata": {},
   "outputs": [],
   "source": [
    "fig, ax = plt.subplots(2,1, figsize=(6,6))\n",
    "ax[0].plot(df.profit)\n",
    "ax[0].set_title(\"Profits\")\n",
    "y = [ast.literal_eval(x)[0] for x  in df.reward]\n",
    "ax[1].plot(y)\n",
    "ax[1].set_title(\"Rewards\")\n",
    "plt.show()"
   ]
  },
  {
   "cell_type": "markdown",
   "id": "c52c5b40",
   "metadata": {},
   "source": [
    "# Param combination 3"
   ]
  },
  {
   "cell_type": "code",
   "execution_count": null,
   "id": "9f776f79",
   "metadata": {},
   "outputs": [],
   "source": [
    "i = 3\n",
    "train_folder = conduct_traning(hpo_list[i], i)"
   ]
  },
  {
   "cell_type": "code",
   "execution_count": null,
   "id": "99ab76dd",
   "metadata": {},
   "outputs": [],
   "source": [
    "# Plot profit\n",
    "training_folders.append(train_folder)\n",
    "df = pd.read_csv(f'{train_folder}/Trainer_Data.csv')\n",
    "print(df.shape)\n",
    "print(max(df.time_elapsed))"
   ]
  },
  {
   "cell_type": "code",
   "execution_count": null,
   "id": "616916fb",
   "metadata": {},
   "outputs": [],
   "source": [
    "fig, ax = plt.subplots(2,1, figsize=(6,6))\n",
    "ax[0].plot(df.profit)\n",
    "ax[0].set_title(\"Profits\")\n",
    "y = [ast.literal_eval(x)[0] for x  in df.reward]\n",
    "ax[1].plot(y)\n",
    "ax[1].set_title(\"Rewards\")\n",
    "plt.show()"
   ]
  },
  {
   "cell_type": "markdown",
   "id": "b09ab561",
   "metadata": {},
   "source": [
    "# Param combination 4"
   ]
  },
  {
   "cell_type": "code",
   "execution_count": null,
   "id": "56fe9ec9",
   "metadata": {},
   "outputs": [],
   "source": [
    "i = 4\n",
    "train_folder = conduct_traning(hpo_list[i], i)"
   ]
  },
  {
   "cell_type": "code",
   "execution_count": null,
   "id": "d32451bd",
   "metadata": {},
   "outputs": [],
   "source": [
    "# Plot profit\n",
    "training_folders.append(train_folder)\n",
    "df = pd.read_csv(f'{train_folder}/Trainer_Data.csv')\n",
    "print(df.shape)\n",
    "print(max(df.time_elapsed))"
   ]
  },
  {
   "cell_type": "code",
   "execution_count": null,
   "id": "9506a5eb",
   "metadata": {},
   "outputs": [],
   "source": [
    "fig, ax = plt.subplots(2,1, figsize=(6,6))\n",
    "ax[0].plot(df.profit)\n",
    "ax[0].set_title(\"Profits\")\n",
    "y = [ast.literal_eval(x)[0] for x  in df.reward]\n",
    "ax[1].plot(y)\n",
    "ax[1].set_title(\"Rewards\")\n",
    "plt.show()"
   ]
  },
  {
   "cell_type": "markdown",
   "id": "6e765889",
   "metadata": {},
   "source": [
    "# Param combination 5"
   ]
  },
  {
   "cell_type": "code",
   "execution_count": null,
   "id": "f4d9bd2c",
   "metadata": {},
   "outputs": [],
   "source": [
    "i = 5\n",
    "train_folder = conduct_traning(hpo_list[i], i)"
   ]
  },
  {
   "cell_type": "code",
   "execution_count": null,
   "id": "dbb9c54e",
   "metadata": {},
   "outputs": [],
   "source": [
    "# Plot profit\n",
    "training_folders.append(train_folder)\n",
    "df = pd.read_csv(f'{train_folder}/Trainer_Data.csv')\n",
    "print(df.shape)\n",
    "print(max(df.time_elapsed))"
   ]
  },
  {
   "cell_type": "code",
   "execution_count": null,
   "id": "81d27aa9",
   "metadata": {},
   "outputs": [],
   "source": [
    "fig, ax = plt.subplots(2,1, figsize=(6,6))\n",
    "ax[0].plot(df.profit)\n",
    "ax[0].set_title(\"Profits\")\n",
    "y = [ast.literal_eval(x)[0] for x  in df.reward]\n",
    "ax[1].plot(y)\n",
    "ax[1].set_title(\"Rewards\")\n",
    "plt.show()"
   ]
  },
  {
   "cell_type": "markdown",
   "id": "3414dcd7",
   "metadata": {},
   "source": [
    "# Param combination 6"
   ]
  },
  {
   "cell_type": "code",
   "execution_count": null,
   "id": "9080ca6f",
   "metadata": {},
   "outputs": [],
   "source": [
    "i = 6\n",
    "train_folder = conduct_traning(hpo_list[i], i)"
   ]
  },
  {
   "cell_type": "code",
   "execution_count": null,
   "id": "7b6955a1",
   "metadata": {},
   "outputs": [],
   "source": [
    "# Plot profit\n",
    "training_folders.append(train_folder)\n",
    "df = pd.read_csv(f'{train_folder}/Trainer_Data.csv')\n",
    "print(df.shape)\n",
    "print(max(df.time_elapsed))"
   ]
  },
  {
   "cell_type": "code",
   "execution_count": null,
   "id": "70001bca",
   "metadata": {},
   "outputs": [],
   "source": [
    "fig, ax = plt.subplots(2,1, figsize=(6,6))\n",
    "ax[0].plot(df.profit)\n",
    "ax[0].set_title(\"Profits\")\n",
    "y = [ast.literal_eval(x)[0] for x  in df.reward]\n",
    "ax[1].plot(y)\n",
    "ax[1].set_title(\"Rewards\")\n",
    "plt.show()"
   ]
  },
  {
   "cell_type": "markdown",
   "id": "a31015ff",
   "metadata": {},
   "source": [
    "# Param combination 7"
   ]
  },
  {
   "cell_type": "code",
   "execution_count": null,
   "id": "ce5da227",
   "metadata": {},
   "outputs": [],
   "source": [
    "i = 7\n",
    "train_folder = conduct_traning(hpo_list[i], i)"
   ]
  },
  {
   "cell_type": "code",
   "execution_count": null,
   "id": "923de227",
   "metadata": {},
   "outputs": [],
   "source": [
    "# Plot profit\n",
    "training_folders.append(train_folder)\n",
    "df = pd.read_csv(f'{train_folder}/Trainer_Data.csv')\n",
    "print(df.shape)\n",
    "print(max(df.time_elapsed))"
   ]
  },
  {
   "cell_type": "code",
   "execution_count": null,
   "id": "9a6676e4",
   "metadata": {},
   "outputs": [],
   "source": [
    "fig, ax = plt.subplots(2,1, figsize=(6,6))\n",
    "ax[0].plot(df.profit)\n",
    "ax[0].set_title(\"Profits\")\n",
    "y = [ast.literal_eval(x)[0] for x  in df.reward]\n",
    "ax[1].plot(y)\n",
    "ax[1].set_title(\"Rewards\")\n",
    "plt.show()"
   ]
  },
  {
   "cell_type": "code",
   "execution_count": null,
   "id": "c79cec0b",
   "metadata": {},
   "outputs": [],
   "source": []
  },
  {
   "cell_type": "code",
   "execution_count": null,
   "id": "8fd8afd2",
   "metadata": {},
   "outputs": [],
   "source": []
  }
 ],
 "metadata": {
  "kernelspec": {
   "display_name": "Python 3",
   "language": "python",
   "name": "python3"
  },
  "language_info": {
   "codemirror_mode": {
    "name": "ipython",
    "version": 3
   },
   "file_extension": ".py",
   "mimetype": "text/x-python",
   "name": "python",
   "nbconvert_exporter": "python",
   "pygments_lexer": "ipython3",
   "version": "3.8.5"
  }
 },
 "nbformat": 4,
 "nbformat_minor": 5
}
