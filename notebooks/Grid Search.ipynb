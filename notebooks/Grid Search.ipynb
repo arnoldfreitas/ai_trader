{
 "cells": [
  {
   "cell_type": "code",
   "execution_count": 1,
   "id": "7265a1ca",
   "metadata": {},
   "outputs": [
    {
     "name": "stderr",
     "output_type": "stream",
     "text": [
      "2023-03-28 17:38:03.860225: I tensorflow/core/platform/cpu_feature_guard.cc:193] This TensorFlow binary is optimized with oneAPI Deep Neural Network Library (oneDNN) to use the following CPU instructions in performance-critical operations:  SSE4.1 SSE4.2\n",
      "To enable them in other operations, rebuild TensorFlow with the appropriate compiler flags.\n"
     ]
    }
   ],
   "source": [
    "import sys\n",
    "import os\n",
    "from datetime import datetime\n",
    "import json\n",
    "import shutil\n",
    "import random\n",
    "import ast\n",
    "import numpy as np\n",
    "import pandas as pd\n",
    "#import tensorflow as tf\n",
    "#from tensorflow import keras\n",
    "from tqdm import tqdm_notebook, tqdm\n",
    "from matplotlib import pyplot as plt\n",
    "\n",
    "sys.path.append('../src/')\n",
    "from env import BTCMarket_Env\n",
    "from agent import Trader_Agent\n",
    "from DQNtrainer import DQNTrainer\n",
    "from DRLtrainer import DRLTrainer\n",
    "from collections import deque\n",
    "import h5py\n",
    "from itertools import product\n"
   ]
  },
  {
   "cell_type": "code",
   "execution_count": 15,
   "id": "9b930559",
   "metadata": {},
   "outputs": [
    {
     "name": "stdout",
     "output_type": "stream",
     "text": [
      "[{'obs_space': (8, 20), 'action_domain': (0.0, 1.0), 'money': 10000, 'fee': 0.001, 'asset': 'BTC', 'reward_function': 'compute_reward_from_tutor', 'learning_rate': 0.001, 'trainer': 'DRLTrainer', 'episodes': 1, 'runs_p_eps': 1, 'batch_size': 100, 'epoch': 5, 'gamma': 0.95, 'epsilon': 0.7, 'epsilon_final': 0.01, 'epsilon_decay': 0.995}, {'obs_space': (8, 20), 'action_domain': (0.0, 1.0), 'money': 10000, 'fee': 0.001, 'asset': 'PERP', 'reward_function': 'compute_reward_from_tutor', 'learning_rate': 0.001, 'trainer': 'DRLTrainer', 'episodes': 1, 'runs_p_eps': 1, 'batch_size': 100, 'epoch': 5, 'gamma': 0.95, 'epsilon': 0.7, 'epsilon_final': 0.01, 'epsilon_decay': 0.995}]\n"
     ]
    }
   ],
   "source": [
    "hpo_params= { \n",
    "    'obs_space' : [(8,20)], \n",
    "    'action_domain' : [(0.0,1.0)], # (-1.0,1.0),\n",
    "    'money' : [10000], \n",
    "    'fee' : [0.001], \n",
    "    'asset' : ['BTC', 'PERP'],\n",
    "#    'reward_function' : ['compute_reward_from_tutor', 'reward_sharpe_ratio', 'reward_sortino_ratio', \n",
    "#                        'reward_differential_sharpe_ratio', 'reward_sterling_ratio'],\n",
    "    'reward_function' : ['compute_reward_from_tutor'],\n",
    "    \n",
    "    'learning_rate': [1e-3],\n",
    "    'trainer' : ['DRLTrainer'], # 'DRLTrainer', 'DQNTrainer'\n",
    "    'episodes' : [1], \n",
    "    'runs_p_eps' : [1], \n",
    "    'batch_size': [100],\n",
    "    'epoch': [5],\n",
    "    'gamma': [0.95],\n",
    "    \n",
    "    'epsilon': [0.7],\n",
    "    'epsilon_final':[0.01],\n",
    "    'epsilon_decay':[0.995],\n",
    "}\n",
    "\n",
    "\n",
    "keys, values = zip(*hpo_params.items())\n",
    "hpo_list = [dict(zip(keys, v)) for v in product(*values)]\n",
    "print(hpo_list)"
   ]
  },
  {
   "cell_type": "code",
   "execution_count": 16,
   "id": "efbfdc5e",
   "metadata": {
    "scrolled": true
   },
   "outputs": [
    {
     "name": "stdout",
     "output_type": "stream",
     "text": [
      "{'obs_space': (8, 20), 'action_domain': (0.0, 1.0), 'money': 10000, 'fee': 0.001, 'asset': 'BTC', 'reward_function': 'compute_reward_from_tutor', 'learning_rate': 0.001, 'trainer': 'DRLTrainer', 'episodes': 1, 'runs_p_eps': 1, 'batch_size': 100, 'epoch': 5, 'gamma': 0.95, 'epsilon': 0.7, 'epsilon_final': 0.01, 'epsilon_decay': 0.995, 'action_space': 1, 'algorithm': 'DRL_trial_0'}\n",
      "Model: \"model_3\"\n",
      "__________________________________________________________________________________________________\n",
      " Layer (type)                   Output Shape         Param #     Connected to                     \n",
      "==================================================================================================\n",
      " input_4 (InputLayer)           [(None, 20, 8)]      0           []                               \n",
      "                                                                                                  \n",
      " lstm_inputs (Lambda)           (None, 20, 4)        0           ['input_4[0][0]']                \n",
      "                                                                                                  \n",
      " sequential (Sequential)        (None, 10)           1953940     ['lstm_inputs[0][0]']            \n",
      "                                                                                                  \n",
      " flatten_7 (Flatten)            (None, 10)           0           ['sequential[0][0]']             \n",
      "                                                                                                  \n",
      " flatten_6 (Flatten)            (None, 160)          0           ['input_4[0][0]']                \n",
      "                                                                                                  \n",
      " tf.reshape_3 (TFOpLambda)      (None, 10)           0           ['flatten_7[0][0]']              \n",
      "                                                                                                  \n",
      " concatenate_3 (Concatenate)    (None, 170)          0           ['flatten_6[0][0]',              \n",
      "                                                                  'tf.reshape_3[0][0]']           \n",
      "                                                                                                  \n",
      " dense_12 (Dense)               (None, 256)          43776       ['concatenate_3[0][0]']          \n",
      "                                                                                                  \n",
      " dense_13 (Dense)               (None, 128)          32896       ['dense_12[0][0]']               \n",
      "                                                                                                  \n",
      " dense_14 (Dense)               (None, 64)           8256        ['dense_13[0][0]']               \n",
      "                                                                                                  \n",
      " dense_15 (Dense)               (None, 1)            65          ['dense_14[0][0]']               \n",
      "                                                                                                  \n",
      "==================================================================================================\n",
      "Total params: 2,038,933\n",
      "Trainable params: 84,993\n",
      "Non-trainable params: 1,953,940\n",
      "__________________________________________________________________________________________________\n",
      "Model Loss: <DRLtrainer.DRLLossFunctions object at 0x7fb9288fdbb0>\n",
      "Episode: 1/1\n",
      "Episode: 1/1 || Run 1/1\n"
     ]
    },
    {
     "name": "stderr",
     "output_type": "stream",
     "text": [
      " 14%|█▍        | 97/671 [00:02<00:08, 68.74it/s]"
     ]
    },
    {
     "name": "stdout",
     "output_type": "stream",
     "text": [
      "Epoch 1/5\n",
      "4/4 [==============================] - 3s 29ms/step - loss: -1.0204\n",
      "Epoch 2/5\n",
      "4/4 [==============================] - 0s 28ms/step - loss: -1.0204\n",
      "Epoch 3/5\n",
      "4/4 [==============================] - 0s 28ms/step - loss: -1.0204\n",
      "Epoch 4/5\n",
      "4/4 [==============================] - 0s 28ms/step - loss: -1.0204\n",
      "Epoch 5/5\n",
      "4/4 [==============================] - 0s 28ms/step - loss: -1.0204\n",
      "Data saved\n",
      "episode 1, run (1/1) sample (100/671).Profit 170.15999999999985\n"
     ]
    },
    {
     "name": "stderr",
     "output_type": "stream",
     "text": [
      " 29%|██▉       | 195/671 [00:07<00:09, 48.75it/s]/Users/samuelharck/Desktop/Projekt/ai_trader/notebooks/../src/DRLtrainer.py:286: FutureWarning: In a future version, object-dtype columns with all-bool values will not be included in reductions with bool_only=True. Explicitly cast to bool dtype instead.\n",
      "  self.train_log_dataframe = pd.concat([self.train_log_dataframe, tmp])\n"
     ]
    },
    {
     "name": "stdout",
     "output_type": "stream",
     "text": [
      "Data saved\n",
      "episode 1, run (1/1) sample (200/671).Profit 40.590000000000146\n",
      "Epoch 1/5\n",
      "4/4 [==============================] - 0s 29ms/step - loss: -1.0038\n",
      "Epoch 2/5\n",
      "4/4 [==============================] - 0s 28ms/step - loss: -1.0038\n",
      "Epoch 3/5\n",
      "4/4 [==============================] - 0s 29ms/step - loss: -1.0038\n",
      "Epoch 4/5\n",
      "4/4 [==============================] - 0s 29ms/step - loss: -1.0038\n",
      "Epoch 5/5\n",
      "4/4 [==============================] - 0s 30ms/step - loss: -1.0038\n"
     ]
    },
    {
     "name": "stderr",
     "output_type": "stream",
     "text": [
      " 44%|████▍     | 298/671 [00:09<00:05, 64.40it/s]/Users/samuelharck/Desktop/Projekt/ai_trader/notebooks/../src/DRLtrainer.py:286: FutureWarning: In a future version, object-dtype columns with all-bool values will not be included in reductions with bool_only=True. Explicitly cast to bool dtype instead.\n",
      "  self.train_log_dataframe = pd.concat([self.train_log_dataframe, tmp])\n"
     ]
    },
    {
     "name": "stdout",
     "output_type": "stream",
     "text": [
      "Data saved\n",
      "episode 1, run (1/1) sample (300/671).Profit -672.2800000000007\n",
      "Epoch 1/5\n",
      "4/4 [==============================] - 0s 29ms/step - loss: -0.9667\n",
      "Epoch 2/5\n",
      "4/4 [==============================] - 0s 29ms/step - loss: -0.9667\n",
      "Epoch 3/5\n",
      "4/4 [==============================] - 0s 30ms/step - loss: -0.9667\n",
      "Epoch 4/5\n",
      "4/4 [==============================] - 0s 29ms/step - loss: -0.9667\n",
      "Epoch 5/5\n",
      "4/4 [==============================] - 0s 28ms/step - loss: -0.9667\n"
     ]
    },
    {
     "name": "stderr",
     "output_type": "stream",
     "text": [
      " 60%|█████▉    | 400/671 [00:12<00:06, 39.56it/s]/Users/samuelharck/Desktop/Projekt/ai_trader/notebooks/../src/DRLtrainer.py:286: FutureWarning: In a future version, object-dtype columns with all-bool values will not be included in reductions with bool_only=True. Explicitly cast to bool dtype instead.\n",
      "  self.train_log_dataframe = pd.concat([self.train_log_dataframe, tmp])\n"
     ]
    },
    {
     "name": "stdout",
     "output_type": "stream",
     "text": [
      "Data saved\n",
      "episode 1, run (1/1) sample (400/671).Profit -772.8400000000001\n",
      "Epoch 1/5\n",
      "4/4 [==============================] - 0s 29ms/step - loss: -0.9203\n",
      "Epoch 2/5\n",
      "4/4 [==============================] - 0s 29ms/step - loss: -0.9203\n",
      "Epoch 3/5\n",
      "4/4 [==============================] - 0s 29ms/step - loss: -0.9203\n",
      "Epoch 4/5\n",
      "4/4 [==============================] - 0s 29ms/step - loss: -0.9203\n",
      "Epoch 5/5\n",
      "4/4 [==============================] - 0s 29ms/step - loss: -0.9203\n"
     ]
    },
    {
     "name": "stderr",
     "output_type": "stream",
     "text": [
      " 75%|███████▍  | 500/671 [00:15<00:02, 75.65it/s]/Users/samuelharck/Desktop/Projekt/ai_trader/notebooks/../src/DRLtrainer.py:286: FutureWarning: In a future version, object-dtype columns with all-bool values will not be included in reductions with bool_only=True. Explicitly cast to bool dtype instead.\n",
      "  self.train_log_dataframe = pd.concat([self.train_log_dataframe, tmp])\n"
     ]
    },
    {
     "name": "stdout",
     "output_type": "stream",
     "text": [
      "Data saved\n",
      "episode 1, run (1/1) sample (500/671).Profit -615.8799999999992\n",
      "Epoch 1/5\n",
      "4/4 [==============================] - 0s 28ms/step - loss: -0.9272\n",
      "Epoch 2/5\n",
      "4/4 [==============================] - 0s 30ms/step - loss: -0.9272\n",
      "Epoch 3/5\n",
      "4/4 [==============================] - 0s 29ms/step - loss: -0.9272\n",
      "Epoch 4/5\n",
      "4/4 [==============================] - 0s 28ms/step - loss: -0.9272\n",
      "Epoch 5/5\n",
      "4/4 [==============================] - 0s 29ms/step - loss: -0.9272\n"
     ]
    },
    {
     "name": "stderr",
     "output_type": "stream",
     "text": [
      " 89%|████████▉ | 599/671 [00:17<00:01, 55.18it/s]/Users/samuelharck/Desktop/Projekt/ai_trader/notebooks/../src/DRLtrainer.py:286: FutureWarning: In a future version, object-dtype columns with all-bool values will not be included in reductions with bool_only=True. Explicitly cast to bool dtype instead.\n",
      "  self.train_log_dataframe = pd.concat([self.train_log_dataframe, tmp])\n"
     ]
    },
    {
     "name": "stdout",
     "output_type": "stream",
     "text": [
      "Data saved\n",
      "episode 1, run (1/1) sample (600/671).Profit -943.8799999999992\n",
      "Epoch 1/5\n",
      "4/4 [==============================] - 0s 35ms/step - loss: -0.9182\n",
      "Epoch 2/5\n",
      "4/4 [==============================] - 0s 29ms/step - loss: -0.9182\n",
      "Epoch 3/5\n",
      "4/4 [==============================] - 0s 28ms/step - loss: -0.9182\n",
      "Epoch 4/5\n",
      "4/4 [==============================] - 0s 29ms/step - loss: -0.9182\n",
      "Epoch 5/5\n",
      "4/4 [==============================] - 0s 28ms/step - loss: -0.9182\n"
     ]
    },
    {
     "name": "stderr",
     "output_type": "stream",
     "text": [
      "100%|█████████▉| 668/671 [00:20<00:00, 32.22it/s]\n",
      "/Users/samuelharck/Desktop/Projekt/ai_trader/notebooks/../src/DRLtrainer.py:286: FutureWarning: In a future version, object-dtype columns with all-bool values will not be included in reductions with bool_only=True. Explicitly cast to bool dtype instead.\n",
      "  self.train_log_dataframe = pd.concat([self.train_log_dataframe, tmp])\n"
     ]
    },
    {
     "name": "stdout",
     "output_type": "stream",
     "text": [
      "episode 1, finished run (1/1). Run Profit -1028.1200000000008 || money available: [4476.22],  wallet value: [8971.88]\n",
      "episode 1/1. Profit -1028.1200000000008 || money available: [4476.22],  wallet value: [8971.88]\n",
      "Data saved\n"
     ]
    }
   ],
   "source": [
    "i = 0\n",
    "#for i, param_combination in enumerate(hpo_list):\n",
    "param_combination = hpo_list[0]\n",
    "if param_combination.get('trainer') == 'DQNTrainer':\n",
    "    action_space = 4\n",
    "    algorithm = f'DQN_trial_{i}'\n",
    "else:\n",
    "    action_space = 1\n",
    "    algorithm = f'DRL_trial_{i}'\n",
    "    \n",
    "param_combination['action_space'] = action_space\n",
    "param_combination['algorithm'] = algorithm\n",
    "print(param_combination)\n",
    "\n",
    "env = BTCMarket_Env(observation_space = param_combination.get('obs_space', (8,20)),\n",
    "        action_space = action_space,\n",
    "        start_money = param_combination.get('money', 10000),\n",
    "        trading_fee = param_combination.get('fee', (8,20)),\n",
    "        asset = param_combination.get('asset', 'PERP'),\n",
    "        reward_function = param_combination.get('reward_function', 'reward_differential_sharpe_ratio'),\n",
    "                   )\n",
    "\n",
    "agent = Trader_Agent(observation_space = param_combination.get('obs_space', (8,20)),\n",
    "            action_space = action_space,\n",
    "            action_domain=param_combination.get('action_domain', (0.0,1.0)),\n",
    "            epsilon = param_combination.get('epsilon', 0.7),\n",
    "            epsilon_final = param_combination.get('epsilon_final', 0.01),\n",
    "            epsilon_decay = param_combination.get('epsilon_decay', 0.995),\n",
    "                    )\n",
    "\n",
    "trainer_class = eval(param_combination.get('trainer', 'DRLTrainer'))\n",
    "trainer = trainer_class(env, agent,\n",
    "            observation_space = param_combination.get('obs_space', (8,20)),\n",
    "            action_space = action_space,\n",
    "            batch_size=param_combination.get('batch_size', 50),\n",
    "            epoch=param_combination.get('epoch', 5),\n",
    "            gamma=param_combination.get('gamma', 0.95),\n",
    "            learning_rate=param_combination.get('learning_rate', 1e-3),\n",
    "            algorithm=algorithm,\n",
    "            lstm_path=\"./../notebooks/best_models/11_mar_2023/best_model_sequential_20back_10ahead.h5\",\n",
    "            # best_model_sequential_20back_10ahead lstm_2,\n",
    "                       )\n",
    "\n",
    "os.makedirs(trainer.train_folder,exist_ok=True)\n",
    "with open(f'{trainer.train_folder}/params.json', 'w') as fp:\n",
    "    json.dump(param_combination, fp)\n",
    "    \n",
    "trainer.rollout(n_episodes=param_combination.get('episodes', 2), \n",
    "                   run_per_episode=param_combination.get('runs_p_eps', 2))"
   ]
  },
  {
   "cell_type": "code",
   "execution_count": 11,
   "id": "6143ef96",
   "metadata": {},
   "outputs": [
    {
     "name": "stdout",
     "output_type": "stream",
     "text": [
      "(9, 10)\n",
      "1.098052740097046\n"
     ]
    }
   ],
   "source": [
    "# Plot profit\n",
    "df = pd.read_csv(f'{trainer.train_folder}/Trainer_Data.csv')\n",
    "print(df.shape)\n",
    "print(max(df.time_elapsed))"
   ]
  },
  {
   "cell_type": "code",
   "execution_count": 12,
   "id": "614e5c13",
   "metadata": {},
   "outputs": [
    {
     "data": {
      "text/html": [
       "<div>\n",
       "<style scoped>\n",
       "    .dataframe tbody tr th:only-of-type {\n",
       "        vertical-align: middle;\n",
       "    }\n",
       "\n",
       "    .dataframe tbody tr th {\n",
       "        vertical-align: top;\n",
       "    }\n",
       "\n",
       "    .dataframe thead th {\n",
       "        text-align: right;\n",
       "    }\n",
       "</style>\n",
       "<table border=\"1\" class=\"dataframe\">\n",
       "  <thead>\n",
       "    <tr style=\"text-align: right;\">\n",
       "      <th></th>\n",
       "      <th>Unnamed: 0</th>\n",
       "      <th>episode</th>\n",
       "      <th>run</th>\n",
       "      <th>action</th>\n",
       "      <th>state</th>\n",
       "      <th>reward</th>\n",
       "      <th>done</th>\n",
       "      <th>epsilon</th>\n",
       "      <th>profit</th>\n",
       "      <th>time_elapsed</th>\n",
       "    </tr>\n",
       "  </thead>\n",
       "  <tbody>\n",
       "    <tr>\n",
       "      <th>0</th>\n",
       "      <td>0</td>\n",
       "      <td>1</td>\n",
       "      <td>1</td>\n",
       "      <td>[0.13986059]</td>\n",
       "      <td>[[[0.5        0.         0.5        0.5       ...</td>\n",
       "      <td>[1.]</td>\n",
       "      <td>False</td>\n",
       "      <td>0.7</td>\n",
       "      <td>-1.00</td>\n",
       "      <td>1.083473</td>\n",
       "    </tr>\n",
       "    <tr>\n",
       "      <th>1</th>\n",
       "      <td>1</td>\n",
       "      <td>1</td>\n",
       "      <td>1</td>\n",
       "      <td>[-0.48578792]</td>\n",
       "      <td>[[[0.5        0.         0.5        0.5       ...</td>\n",
       "      <td>[1.000085]</td>\n",
       "      <td>False</td>\n",
       "      <td>0.7</td>\n",
       "      <td>-1005.89</td>\n",
       "      <td>1.085989</td>\n",
       "    </tr>\n",
       "    <tr>\n",
       "      <th>2</th>\n",
       "      <td>2</td>\n",
       "      <td>1</td>\n",
       "      <td>1</td>\n",
       "      <td>[0.07536022]</td>\n",
       "      <td>[[[0.5        0.         0.5        0.5       ...</td>\n",
       "      <td>[0.898483]</td>\n",
       "      <td>False</td>\n",
       "      <td>0.7</td>\n",
       "      <td>-6004.22</td>\n",
       "      <td>1.087996</td>\n",
       "    </tr>\n",
       "    <tr>\n",
       "      <th>3</th>\n",
       "      <td>3</td>\n",
       "      <td>1</td>\n",
       "      <td>1</td>\n",
       "      <td>[-0.98994184]</td>\n",
       "      <td>[[[0.5        0.         0.5        0.5       ...</td>\n",
       "      <td>[0.400346]</td>\n",
       "      <td>False</td>\n",
       "      <td>0.7</td>\n",
       "      <td>-5996.54</td>\n",
       "      <td>1.090341</td>\n",
       "    </tr>\n",
       "    <tr>\n",
       "      <th>4</th>\n",
       "      <td>4</td>\n",
       "      <td>1</td>\n",
       "      <td>1</td>\n",
       "      <td>[-0.6944063]</td>\n",
       "      <td>[[[0.5        0.         0.5        0.5       ...</td>\n",
       "      <td>[0.400703]</td>\n",
       "      <td>False</td>\n",
       "      <td>0.7</td>\n",
       "      <td>-6905.15</td>\n",
       "      <td>1.092035</td>\n",
       "    </tr>\n",
       "    <tr>\n",
       "      <th>5</th>\n",
       "      <td>5</td>\n",
       "      <td>1</td>\n",
       "      <td>1</td>\n",
       "      <td>[-0.32708668]</td>\n",
       "      <td>[[[0.5        0.         0.5        0.5       ...</td>\n",
       "      <td>[0.308452]</td>\n",
       "      <td>False</td>\n",
       "      <td>0.7</td>\n",
       "      <td>-6917.34</td>\n",
       "      <td>1.093593</td>\n",
       "    </tr>\n",
       "    <tr>\n",
       "      <th>6</th>\n",
       "      <td>6</td>\n",
       "      <td>1</td>\n",
       "      <td>1</td>\n",
       "      <td>[-0.80000596]</td>\n",
       "      <td>[[[5.00000000e-01 0.00000000e+00 5.00000000e-0...</td>\n",
       "      <td>[0.308289]</td>\n",
       "      <td>False</td>\n",
       "      <td>0.7</td>\n",
       "      <td>-6918.65</td>\n",
       "      <td>1.094808</td>\n",
       "    </tr>\n",
       "    <tr>\n",
       "      <th>7</th>\n",
       "      <td>7</td>\n",
       "      <td>1</td>\n",
       "      <td>1</td>\n",
       "      <td>[0.96923415]</td>\n",
       "      <td>[[[5.00000000e-01 0.00000000e+00 5.00000000e-0...</td>\n",
       "      <td>[0.306924]</td>\n",
       "      <td>False</td>\n",
       "      <td>0.7</td>\n",
       "      <td>-9386.79</td>\n",
       "      <td>1.096448</td>\n",
       "    </tr>\n",
       "    <tr>\n",
       "      <th>8</th>\n",
       "      <td>8</td>\n",
       "      <td>1</td>\n",
       "      <td>1</td>\n",
       "      <td>[-0.77568499]</td>\n",
       "      <td>[[[5.00000000e-01 0.00000000e+00 5.00000000e-0...</td>\n",
       "      <td>[0.063937]</td>\n",
       "      <td>True</td>\n",
       "      <td>0.7</td>\n",
       "      <td>-12451.57</td>\n",
       "      <td>1.098053</td>\n",
       "    </tr>\n",
       "  </tbody>\n",
       "</table>\n",
       "</div>"
      ],
      "text/plain": [
       "   Unnamed: 0  episode  run         action  \\\n",
       "0           0        1    1   [0.13986059]   \n",
       "1           1        1    1  [-0.48578792]   \n",
       "2           2        1    1   [0.07536022]   \n",
       "3           3        1    1  [-0.98994184]   \n",
       "4           4        1    1   [-0.6944063]   \n",
       "5           5        1    1  [-0.32708668]   \n",
       "6           6        1    1  [-0.80000596]   \n",
       "7           7        1    1   [0.96923415]   \n",
       "8           8        1    1  [-0.77568499]   \n",
       "\n",
       "                                               state      reward   done  \\\n",
       "0  [[[0.5        0.         0.5        0.5       ...        [1.]  False   \n",
       "1  [[[0.5        0.         0.5        0.5       ...  [1.000085]  False   \n",
       "2  [[[0.5        0.         0.5        0.5       ...  [0.898483]  False   \n",
       "3  [[[0.5        0.         0.5        0.5       ...  [0.400346]  False   \n",
       "4  [[[0.5        0.         0.5        0.5       ...  [0.400703]  False   \n",
       "5  [[[0.5        0.         0.5        0.5       ...  [0.308452]  False   \n",
       "6  [[[5.00000000e-01 0.00000000e+00 5.00000000e-0...  [0.308289]  False   \n",
       "7  [[[5.00000000e-01 0.00000000e+00 5.00000000e-0...  [0.306924]  False   \n",
       "8  [[[5.00000000e-01 0.00000000e+00 5.00000000e-0...  [0.063937]   True   \n",
       "\n",
       "   epsilon    profit  time_elapsed  \n",
       "0      0.7     -1.00      1.083473  \n",
       "1      0.7  -1005.89      1.085989  \n",
       "2      0.7  -6004.22      1.087996  \n",
       "3      0.7  -5996.54      1.090341  \n",
       "4      0.7  -6905.15      1.092035  \n",
       "5      0.7  -6917.34      1.093593  \n",
       "6      0.7  -6918.65      1.094808  \n",
       "7      0.7  -9386.79      1.096448  \n",
       "8      0.7 -12451.57      1.098053  "
      ]
     },
     "execution_count": 12,
     "metadata": {},
     "output_type": "execute_result"
    }
   ],
   "source": [
    "df.head(10)"
   ]
  },
  {
   "cell_type": "code",
   "execution_count": 6,
   "id": "40389f77",
   "metadata": {},
   "outputs": [
    {
     "data": {
      "text/plain": [
       "[<matplotlib.lines.Line2D at 0x7f6b97c7eda0>]"
      ]
     },
     "execution_count": 6,
     "metadata": {},
     "output_type": "execute_result"
    },
    {
     "data": {
      "image/png": "[encoded data removed]",
      "text/plain": [
       "<Figure size 640x480 with 1 Axes>"
      ]
     },
     "metadata": {},
     "output_type": "display_data"
    }
   ],
   "source": [
    "plt.plot(df.profit)"
   ]
  },
  {
   "cell_type": "code",
   "execution_count": 7,
   "id": "260495ec",
   "metadata": {},
   "outputs": [
    {
     "data": {
      "text/plain": [
       "[<matplotlib.lines.Line2D at 0x7f6b97f1f550>]"
      ]
     },
     "execution_count": 7,
     "metadata": {},
     "output_type": "execute_result"
    },
    {
     "data": {
      "image/png": "[encoded data removed]",
      "text/plain": [
       "<Figure size 640x480 with 1 Axes>"
      ]
     },
     "metadata": {},
     "output_type": "display_data"
    }
   ],
   "source": [
    "y = [ast.literal_eval(x)[0] for x  in df.reward]\n",
    "plt.plot(y)"
   ]
  },
  {
   "cell_type": "code",
   "execution_count": 17,
   "id": "b88803b6",
   "metadata": {},
   "outputs": [],
   "source": [
    "dfep = pd.read_csv(f'/Users/samuelharck/Desktop/Projekt/ai_trader/data/20230328_180031/DRL_trial_0/Epi_1_run_1.csv')"
   ]
  },
  {
   "cell_type": "code",
   "execution_count": 22,
   "id": "9175bb89",
   "metadata": {},
   "outputs": [
    {
     "name": "stdout",
     "output_type": "stream",
     "text": [
      "Index(['Unnamed: 0', 'long_position', 'episode', 'done', 'btc_eur',\n",
      "       'swap_price', 'buy_long_count', 'wallet_value', 'btc_price',\n",
      "       'short_eur', 'reward', 'short_units', 'state', 'sell_long_count',\n",
      "       'short_position', 'buy_short_count', 'fee_paid', 'action', 'money',\n",
      "       'long_wallet', 'sell_short_count', 'funding_rate', 'short_wallet',\n",
      "       'btc_units'],\n",
      "      dtype='object')\n"
     ]
    },
    {
     "data": {
      "text/html": [
       "<div>\n",
       "<style scoped>\n",
       "    .dataframe tbody tr th:only-of-type {\n",
       "        vertical-align: middle;\n",
       "    }\n",
       "\n",
       "    .dataframe tbody tr th {\n",
       "        vertical-align: top;\n",
       "    }\n",
       "\n",
       "    .dataframe thead th {\n",
       "        text-align: right;\n",
       "    }\n",
       "</style>\n",
       "<table border=\"1\" class=\"dataframe\">\n",
       "  <thead>\n",
       "    <tr style=\"text-align: right;\">\n",
       "      <th></th>\n",
       "      <th>Unnamed: 0</th>\n",
       "      <th>long_position</th>\n",
       "      <th>episode</th>\n",
       "      <th>done</th>\n",
       "      <th>btc_eur</th>\n",
       "      <th>swap_price</th>\n",
       "      <th>buy_long_count</th>\n",
       "      <th>wallet_value</th>\n",
       "      <th>btc_price</th>\n",
       "      <th>short_eur</th>\n",
       "      <th>...</th>\n",
       "      <th>short_position</th>\n",
       "      <th>buy_short_count</th>\n",
       "      <th>fee_paid</th>\n",
       "      <th>action</th>\n",
       "      <th>money</th>\n",
       "      <th>long_wallet</th>\n",
       "      <th>sell_short_count</th>\n",
       "      <th>funding_rate</th>\n",
       "      <th>short_wallet</th>\n",
       "      <th>btc_units</th>\n",
       "    </tr>\n",
       "  </thead>\n",
       "  <tbody>\n",
       "    <tr>\n",
       "      <th>0</th>\n",
       "      <td>0</td>\n",
       "      <td>0.00</td>\n",
       "      <td>1</td>\n",
       "      <td>False</td>\n",
       "      <td>0</td>\n",
       "      <td>38288.48</td>\n",
       "      <td>0</td>\n",
       "      <td>10000.00</td>\n",
       "      <td>38306.90</td>\n",
       "      <td>-0.0</td>\n",
       "      <td>...</td>\n",
       "      <td>-0.0</td>\n",
       "      <td>0</td>\n",
       "      <td>0</td>\n",
       "      <td>[0]</td>\n",
       "      <td>[10000]</td>\n",
       "      <td>[0, 0]</td>\n",
       "      <td>0</td>\n",
       "      <td>-0.000022</td>\n",
       "      <td>[0, 0]</td>\n",
       "      <td>0</td>\n",
       "    </tr>\n",
       "    <tr>\n",
       "      <th>1</th>\n",
       "      <td>1</td>\n",
       "      <td>0.70</td>\n",
       "      <td>1</td>\n",
       "      <td>False</td>\n",
       "      <td>[6995.1034276]</td>\n",
       "      <td>38304.67</td>\n",
       "      <td>1</td>\n",
       "      <td>9993.00</td>\n",
       "      <td>38338.75</td>\n",
       "      <td>-0.0</td>\n",
       "      <td>...</td>\n",
       "      <td>-0.0</td>\n",
       "      <td>0</td>\n",
       "      <td>[6.99510343]</td>\n",
       "      <td>[0.7]</td>\n",
       "      <td>[2997.9]</td>\n",
       "      <td>[array([0.18261751]), array([38304.67])]</td>\n",
       "      <td>0</td>\n",
       "      <td>-0.000022</td>\n",
       "      <td>[0, 0]</td>\n",
       "      <td>[0.18261751]</td>\n",
       "    </tr>\n",
       "    <tr>\n",
       "      <th>2</th>\n",
       "      <td>2</td>\n",
       "      <td>0.40</td>\n",
       "      <td>1</td>\n",
       "      <td>False</td>\n",
       "      <td>[4000.68040558]</td>\n",
       "      <td>38261.99</td>\n",
       "      <td>1</td>\n",
       "      <td>9982.22</td>\n",
       "      <td>38277.55</td>\n",
       "      <td>-0.0</td>\n",
       "      <td>...</td>\n",
       "      <td>-0.0</td>\n",
       "      <td>0</td>\n",
       "      <td>[2.99442302]</td>\n",
       "      <td>[0.4]</td>\n",
       "      <td>[5989.33]</td>\n",
       "      <td>[array([0.10435647]), array([38336.67741651])]</td>\n",
       "      <td>0</td>\n",
       "      <td>-0.000022</td>\n",
       "      <td>[0, 0]</td>\n",
       "      <td>[0.10435647]</td>\n",
       "    </tr>\n",
       "    <tr>\n",
       "      <th>3</th>\n",
       "      <td>3</td>\n",
       "      <td>0.41</td>\n",
       "      <td>1</td>\n",
       "      <td>False</td>\n",
       "      <td>[4000.68040558]</td>\n",
       "      <td>39147.03</td>\n",
       "      <td>1</td>\n",
       "      <td>10074.58</td>\n",
       "      <td>39178.13</td>\n",
       "      <td>-0.0</td>\n",
       "      <td>...</td>\n",
       "      <td>-0.0</td>\n",
       "      <td>0</td>\n",
       "      <td>0</td>\n",
       "      <td>[0.4]</td>\n",
       "      <td>[5989.33]</td>\n",
       "      <td>[array([0.10435647]), array([38336.67741651])]</td>\n",
       "      <td>0</td>\n",
       "      <td>-0.000022</td>\n",
       "      <td>[0, 0]</td>\n",
       "      <td>[0.10435647]</td>\n",
       "    </tr>\n",
       "    <tr>\n",
       "      <th>4</th>\n",
       "      <td>4</td>\n",
       "      <td>0.80</td>\n",
       "      <td>1</td>\n",
       "      <td>False</td>\n",
       "      <td>[7973.5949128]</td>\n",
       "      <td>39066.74</td>\n",
       "      <td>2</td>\n",
       "      <td>10062.22</td>\n",
       "      <td>39086.74</td>\n",
       "      <td>-0.0</td>\n",
       "      <td>...</td>\n",
       "      <td>-0.0</td>\n",
       "      <td>0</td>\n",
       "      <td>[3.97291451]</td>\n",
       "      <td>[0.8]</td>\n",
       "      <td>[2012.44]</td>\n",
       "      <td>[array([0.20605204]), array([38696.99479512])]</td>\n",
       "      <td>0</td>\n",
       "      <td>-0.000022</td>\n",
       "      <td>[0, 0]</td>\n",
       "      <td>[0.20605204]</td>\n",
       "    </tr>\n",
       "  </tbody>\n",
       "</table>\n",
       "<p>5 rows × 24 columns</p>\n",
       "</div>"
      ],
      "text/plain": [
       "   Unnamed: 0  long_position  episode   done          btc_eur  swap_price  \\\n",
       "0           0           0.00        1  False                0    38288.48   \n",
       "1           1           0.70        1  False   [6995.1034276]    38304.67   \n",
       "2           2           0.40        1  False  [4000.68040558]    38261.99   \n",
       "3           3           0.41        1  False  [4000.68040558]    39147.03   \n",
       "4           4           0.80        1  False   [7973.5949128]    39066.74   \n",
       "\n",
       "   buy_long_count  wallet_value  btc_price  short_eur  ... short_position  \\\n",
       "0               0      10000.00   38306.90       -0.0  ...           -0.0   \n",
       "1               1       9993.00   38338.75       -0.0  ...           -0.0   \n",
       "2               1       9982.22   38277.55       -0.0  ...           -0.0   \n",
       "3               1      10074.58   39178.13       -0.0  ...           -0.0   \n",
       "4               2      10062.22   39086.74       -0.0  ...           -0.0   \n",
       "\n",
       "   buy_short_count      fee_paid  action      money  \\\n",
       "0                0             0     [0]    [10000]   \n",
       "1                0  [6.99510343]   [0.7]   [2997.9]   \n",
       "2                0  [2.99442302]   [0.4]  [5989.33]   \n",
       "3                0             0   [0.4]  [5989.33]   \n",
       "4                0  [3.97291451]   [0.8]  [2012.44]   \n",
       "\n",
       "                                      long_wallet sell_short_count  \\\n",
       "0                                          [0, 0]                0   \n",
       "1        [array([0.18261751]), array([38304.67])]                0   \n",
       "2  [array([0.10435647]), array([38336.67741651])]                0   \n",
       "3  [array([0.10435647]), array([38336.67741651])]                0   \n",
       "4  [array([0.20605204]), array([38696.99479512])]                0   \n",
       "\n",
       "  funding_rate short_wallet     btc_units  \n",
       "0    -0.000022       [0, 0]             0  \n",
       "1    -0.000022       [0, 0]  [0.18261751]  \n",
       "2    -0.000022       [0, 0]  [0.10435647]  \n",
       "3    -0.000022       [0, 0]  [0.10435647]  \n",
       "4    -0.000022       [0, 0]  [0.20605204]  \n",
       "\n",
       "[5 rows x 24 columns]"
      ]
     },
     "execution_count": 22,
     "metadata": {},
     "output_type": "execute_result"
    }
   ],
   "source": [
    "print(dfep.columns)\n",
    "dfep.head()\n"
   ]
  },
  {
   "cell_type": "code",
   "execution_count": 21,
   "id": "6b9c6d9d",
   "metadata": {},
   "outputs": [
    {
     "data": {
      "text/plain": [
       "[<matplotlib.lines.Line2D at 0x7fb8d8b06400>]"
      ]
     },
     "execution_count": 21,
     "metadata": {},
     "output_type": "execute_result"
    },
    {
     "data": {
      "image/png": "[encoded data removed]",
      "text/plain": [
       "<Figure size 640x480 with 1 Axes>"
      ]
     },
     "metadata": {},
     "output_type": "display_data"
    }
   ],
   "source": [
    "plt.plot(dfep.wallet_value)"
   ]
  },
  {
   "cell_type": "code",
   "execution_count": null,
   "id": "c4584378",
   "metadata": {},
   "outputs": [],
   "source": []
  }
 ],
 "metadata": {
  "kernelspec": {
   "display_name": "Python 3.9.16 ('Trader_Env')",
   "language": "python",
   "name": "python3"
  },
  "language_info": {
   "codemirror_mode": {
    "name": "ipython",
    "version": 3
   },
   "file_extension": ".py",
   "mimetype": "text/x-python",
   "name": "python",
   "nbconvert_exporter": "python",
   "pygments_lexer": "ipython3",
   "version": "3.9.16"
  },
  "vscode": {
   "interpreter": {
    "hash": "25abf92ddbe6f17198c2cc30ea04a719112f2768101e815a59f2ad69a1b3ca22"
   }
  }
 },
 "nbformat": 4,
 "nbformat_minor": 5
}
