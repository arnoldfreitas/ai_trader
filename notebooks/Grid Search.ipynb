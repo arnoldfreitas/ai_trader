{
 "cells": [
  {
   "cell_type": "code",
   "execution_count": 1,
   "id": "7265a1ca",
   "metadata": {},
   "outputs": [
    {
     "name": "stderr",
     "output_type": "stream",
     "text": [
      "2023-04-18 12:57:40.566338: I tensorflow/core/platform/cpu_feature_guard.cc:193] This TensorFlow binary is optimized with oneAPI Deep Neural Network Library (oneDNN) to use the following CPU instructions in performance-critical operations:  SSE4.1 SSE4.2\n",
      "To enable them in other operations, rebuild TensorFlow with the appropriate compiler flags.\n"
     ]
    }
   ],
   "source": [
    "import sys\n",
    "import os\n",
    "from datetime import datetime\n",
    "import json\n",
    "import shutil\n",
    "import random\n",
    "import ast\n",
    "import numpy as np\n",
    "import pandas as pd\n",
    "#import tensorflow as tf\n",
    "#from tensorflow import keras\n",
    "from tqdm import tqdm_notebook, tqdm\n",
    "from matplotlib import pyplot as plt\n",
    "\n",
    "sys.path.append('../src/')\n",
    "from env import BTCMarket_Env\n",
    "from agent import Trader_Agent\n",
    "from DQNtrainer import DQNTrainer\n",
    "from DRLtrainer import DRLTrainer\n",
    "from collections import deque\n",
    "import h5py\n",
    "from itertools import product\n"
   ]
  },
  {
   "cell_type": "code",
   "execution_count": 2,
   "id": "9b930559",
   "metadata": {},
   "outputs": [
    {
     "name": "stdout",
     "output_type": "stream",
     "text": [
      "[{'obs_space': (8, 20), 'action_domain': (0.0, 1.0), 'money': 10000, 'fee': 0.001, 'asset': 'BTC', 'reward_function': 'reward_differential_sharpe_ratio', 'learning_rate': 1e-05, 'trainer': 'DRLTrainer', 'episodes': 1, 'runs_p_eps': 2, 'batch_size': 1, 'epoch': 5, 'gamma': 0.95, 'epsilon': 0.01, 'epsilon_final': 0.01, 'epsilon_decay': 0.7}]\n"
     ]
    }
   ],
   "source": [
    "np.random.seed(42)\n",
    "hpo_params= { \n",
    "    'obs_space' : [(8,20)], \n",
    "    'action_domain' : [(0.0,1.0)], # (-1.0,1.0),\n",
    "    'money' : [10000], \n",
    "    'fee' : [0.001], \n",
    "    'asset' : ['BTC'],#, 'PERP'],\n",
    "#    'reward_function' : ['compute_reward_from_tutor', 'reward_sharpe_ratio', 'reward_sortino_ratio', \n",
    "#                        'reward_differential_sharpe_ratio', 'reward_sterling_ratio'],\n",
    "    'reward_function' : ['reward_differential_sharpe_ratio'],\n",
    "    \n",
    "    'learning_rate': [1e-5],\n",
    "    'trainer' : ['DRLTrainer'], # 'DRLTrainer', 'DQNTrainer'\n",
    "    'episodes' : [1], \n",
    "    'runs_p_eps' : [2], \n",
    "    'batch_size': [1],\n",
    "    'epoch': [5],\n",
    "    'gamma': [0.95],\n",
    "    \n",
    "    'epsilon': [0.01],\n",
    "    'epsilon_final':[0.01],\n",
    "    'epsilon_decay':[0.7],\n",
    "}\n",
    "\n",
    "\n",
    "keys, values = zip(*hpo_params.items())\n",
    "hpo_list = [dict(zip(keys, v)) for v in product(*values)]\n",
    "print(hpo_list)"
   ]
  },
  {
   "cell_type": "code",
   "execution_count": 3,
   "id": "a4166952",
   "metadata": {},
   "outputs": [
    {
     "name": "stdout",
     "output_type": "stream",
     "text": [
      "{'obs_space': [8, 20], 'action_domain': [0.0, 1.0], 'money': 10000, 'fee': 0.001, 'asset': 'BTC', 'reward_function': 'reward_differential_sharpe_ratio', 'learning_rate': 0.001, 'trainer': 'DRLTrainer', 'episodes': 1, 'runs_p_eps': 1, 'batch_size': 1, 'epoch': 5, 'gamma': 0.95, 'epsilon': 0.7, 'epsilon_final': 0.01, 'epsilon_decay': 0.995, 'action_space': 1, 'algorithm': 'DRL_trial_0'}\n"
     ]
    }
   ],
   "source": [
    "with open('/Users/samuelharck/Desktop/Projekt/ai_trader/data/20230412_163929/DRL_trial_0/params.json') as fd:\n",
    "    train = json.load(fd)\n",
    "print(train)"
   ]
  },
  {
   "cell_type": "code",
   "execution_count": null,
   "id": "c09c8dce",
   "metadata": {},
   "outputs": [],
   "source": [
    "with open('/Users/samuelharck/Desktop/Projekt/ai_trader/data/20230418_095301/DRL_trial_0/params.json') as fd:\n",
    "    tmp = json.load(fd)\n",
    "print(tmp)\n",
    "dfnew = pd.read_csv(f'/Users/samuelharck/Desktop/Projekt/ai_trader/data/20230418_095301/DRL_trial_0/Epi_1_run_1.csv')"
   ]
  },
  {
   "cell_type": "code",
   "execution_count": null,
   "id": "ccb0a324",
   "metadata": {},
   "outputs": [],
   "source": [
    "with open('/Users/samuelharck/Desktop/Projekt/ai_trader/results/20230406_073724/DRL_trial/params.json') as fd:\n",
    "    tmp = json.load(fd)\n",
    "print(tmp)\n",
    "dfold = pd.read_csv('/Users/samuelharck/Desktop/Projekt/ai_trader/results/20230406_073724/DRL_trial/episodes/Epi_1_run_1_BTC.csv')"
   ]
  },
  {
   "cell_type": "code",
   "execution_count": 3,
   "id": "efbfdc5e",
   "metadata": {
    "scrolled": true
   },
   "outputs": [
    {
     "name": "stdout",
     "output_type": "stream",
     "text": [
      "{'obs_space': (8, 20), 'action_domain': (0.0, 1.0), 'money': 10000, 'fee': 0.001, 'asset': 'BTC', 'reward_function': 'reward_differential_sharpe_ratio', 'learning_rate': 1e-05, 'trainer': 'DRLTrainer', 'episodes': 1, 'runs_p_eps': 2, 'batch_size': 1, 'epoch': 5, 'gamma': 0.95, 'epsilon': 0.01, 'epsilon_final': 0.01, 'epsilon_decay': 0.7, 'action_space': 1, 'algorithm': 'DRL_trial_0'}\n"
     ]
    },
    {
     "name": "stderr",
     "output_type": "stream",
     "text": [
      "2023-04-18 12:57:45.851301: I tensorflow/core/platform/cpu_feature_guard.cc:193] This TensorFlow binary is optimized with oneAPI Deep Neural Network Library (oneDNN) to use the following CPU instructions in performance-critical operations:  SSE4.1 SSE4.2\n",
      "To enable them in other operations, rebuild TensorFlow with the appropriate compiler flags.\n"
     ]
    },
    {
     "name": "stdout",
     "output_type": "stream",
     "text": [
      "Model: \"model\"\n",
      "__________________________________________________________________________________________________\n",
      " Layer (type)                   Output Shape         Param #     Connected to                     \n",
      "==================================================================================================\n",
      " input_1 (InputLayer)           [(None, 20, 8)]      0           []                               \n",
      "                                                                                                  \n",
      " lstm_inputs (Lambda)           (None, 20, 4)        0           ['input_1[0][0]']                \n",
      "                                                                                                  \n",
      " sequential (Sequential)        (None, 10)           1953940     ['lstm_inputs[0][0]']            \n",
      "                                                                                                  \n",
      " flatten_1 (Flatten)            (None, 10)           0           ['sequential[0][0]']             \n",
      "                                                                                                  \n",
      " flatten (Flatten)              (None, 160)          0           ['input_1[0][0]']                \n",
      "                                                                                                  \n",
      " tf.reshape (TFOpLambda)        (None, 10)           0           ['flatten_1[0][0]']              \n",
      "                                                                                                  \n",
      " concatenate (Concatenate)      (None, 170)          0           ['flatten[0][0]',                \n",
      "                                                                  'tf.reshape[0][0]']             \n",
      "                                                                                                  \n",
      " dense (Dense)                  (None, 256)          43776       ['concatenate[0][0]']            \n",
      "                                                                                                  \n",
      " dense_1 (Dense)                (None, 128)          32896       ['dense[0][0]']                  \n",
      "                                                                                                  \n",
      " dense_2 (Dense)                (None, 64)           8256        ['dense_1[0][0]']                \n",
      "                                                                                                  \n",
      " dense_3 (Dense)                (None, 1)            65          ['dense_2[0][0]']                \n",
      "                                                                                                  \n",
      "==================================================================================================\n",
      "Total params: 2,038,933\n",
      "Trainable params: 84,993\n",
      "Non-trainable params: 1,953,940\n",
      "__________________________________________________________________________________________________\n",
      "Model Loss: <DRLtrainer.DRLLossFunctions object at 0x1111c5cf0>\n",
      "Episode: 1/1\n",
      "Episode: 1/1 || Run 1/2\n"
     ]
    },
    {
     "name": "stderr",
     "output_type": "stream",
     "text": [
      "  0%|          | 1/671 [00:01<12:52,  1.15s/it]"
     ]
    },
    {
     "name": "stdout",
     "output_type": "stream",
     "text": [
      "Epoch 1/5\n",
      "1/1 [==============================] - 3s 3s/step - loss: 2.3777e-04\n",
      "Epoch 2/5\n",
      "1/1 [==============================] - 0s 11ms/step - loss: 2.3722e-04\n",
      "Epoch 3/5\n",
      "1/1 [==============================] - 0s 11ms/step - loss: 2.3662e-04\n",
      "Epoch 4/5\n",
      "1/1 [==============================] - 0s 12ms/step - loss: 2.3598e-04\n",
      "Epoch 5/5\n",
      "1/1 [==============================] - 0s 12ms/step - loss: 2.3532e-04\n"
     ]
    },
    {
     "name": "stderr",
     "output_type": "stream",
     "text": [
      "  0%|          | 2/671 [00:04<26:17,  2.36s/it]"
     ]
    },
    {
     "name": "stdout",
     "output_type": "stream",
     "text": [
      "Epoch 1/5\n",
      "1/1 [==============================] - 0s 9ms/step - loss: 2.4315e-04\n",
      "Epoch 2/5\n",
      "1/1 [==============================] - 0s 9ms/step - loss: 2.4266e-04\n",
      "Epoch 3/5\n",
      "1/1 [==============================] - 0s 10ms/step - loss: 2.4214e-04\n",
      "Epoch 4/5\n",
      "1/1 [==============================] - 0s 9ms/step - loss: 2.4161e-04\n",
      "Epoch 5/5\n",
      "1/1 [==============================] - 0s 10ms/step - loss: 2.4108e-04\n"
     ]
    },
    {
     "name": "stderr",
     "output_type": "stream",
     "text": [
      "  1%|          | 4/671 [00:04<10:25,  1.07it/s]"
     ]
    },
    {
     "name": "stdout",
     "output_type": "stream",
     "text": [
      "Epoch 1/5\n",
      "1/1 [==============================] - 0s 10ms/step - loss: 3.2644e-04\n",
      "Epoch 2/5\n",
      "1/1 [==============================] - 0s 9ms/step - loss: 3.2567e-04\n",
      "Epoch 3/5\n",
      "1/1 [==============================] - 0s 9ms/step - loss: 3.2484e-04\n",
      "Epoch 4/5\n",
      "1/1 [==============================] - 0s 9ms/step - loss: 3.2398e-04\n",
      "Epoch 5/5\n",
      "1/1 [==============================] - 0s 10ms/step - loss: 3.2309e-04\n"
     ]
    },
    {
     "name": "stderr",
     "output_type": "stream",
     "text": [
      "  1%|          | 6/671 [00:04<05:56,  1.86it/s]"
     ]
    },
    {
     "name": "stdout",
     "output_type": "stream",
     "text": [
      "Epoch 1/5\n",
      "1/1 [==============================] - 0s 9ms/step - loss: 5.3468e-04\n",
      "Epoch 2/5\n",
      "1/1 [==============================] - 0s 12ms/step - loss: 5.3303e-04\n",
      "Epoch 3/5\n",
      "1/1 [==============================] - 0s 9ms/step - loss: 5.3122e-04\n",
      "Epoch 4/5\n",
      "1/1 [==============================] - 0s 9ms/step - loss: 5.2929e-04\n",
      "Epoch 5/5\n",
      "1/1 [==============================] - 0s 10ms/step - loss: 5.2728e-04\n"
     ]
    },
    {
     "name": "stderr",
     "output_type": "stream",
     "text": [
      "  1%|          | 8/671 [00:04<03:51,  2.86it/s]"
     ]
    },
    {
     "name": "stdout",
     "output_type": "stream",
     "text": [
      "Epoch 1/5\n",
      "1/1 [==============================] - 0s 9ms/step - loss: 8.0880e-04\n",
      "Epoch 2/5\n",
      "1/1 [==============================] - 0s 9ms/step - loss: 8.0635e-04\n",
      "Epoch 3/5\n",
      "1/1 [==============================] - 0s 9ms/step - loss: 8.0366e-04\n",
      "Epoch 4/5\n",
      "1/1 [==============================] - 0s 9ms/step - loss: 8.0079e-04\n",
      "Epoch 5/5\n",
      "1/1 [==============================] - 0s 10ms/step - loss: 7.9779e-04\n"
     ]
    },
    {
     "name": "stderr",
     "output_type": "stream",
     "text": [
      "  1%|▏         | 10/671 [00:05<02:47,  3.94it/s]"
     ]
    },
    {
     "name": "stdout",
     "output_type": "stream",
     "text": [
      "Epoch 1/5\n",
      "1/1 [==============================] - 0s 9ms/step - loss: 7.8558e-04\n",
      "Epoch 2/5\n",
      "1/1 [==============================] - 0s 9ms/step - loss: 7.8327e-04\n",
      "Epoch 3/5\n",
      "1/1 [==============================] - 0s 9ms/step - loss: 7.8078e-04\n",
      "Epoch 4/5\n",
      "1/1 [==============================] - 0s 10ms/step - loss: 7.7814e-04\n",
      "Epoch 5/5\n",
      "1/1 [==============================] - 0s 10ms/step - loss: 7.7539e-04\n"
     ]
    },
    {
     "name": "stderr",
     "output_type": "stream",
     "text": [
      "  2%|▏         | 12/671 [00:05<02:09,  5.07it/s]"
     ]
    },
    {
     "name": "stdout",
     "output_type": "stream",
     "text": [
      "Epoch 1/5\n",
      "1/1 [==============================] - 0s 12ms/step - loss: 8.7067e-04\n",
      "Epoch 2/5\n",
      "1/1 [==============================] - 0s 11ms/step - loss: 8.6788e-04\n",
      "Epoch 3/5\n",
      "1/1 [==============================] - 0s 11ms/step - loss: 8.6473e-04\n",
      "Epoch 4/5\n",
      "1/1 [==============================] - 0s 9ms/step - loss: 8.6132e-04\n",
      "Epoch 5/5\n",
      "1/1 [==============================] - 0s 11ms/step - loss: 8.5771e-04\n"
     ]
    },
    {
     "name": "stderr",
     "output_type": "stream",
     "text": [
      "  2%|▏         | 14/671 [00:05<01:49,  6.03it/s]"
     ]
    },
    {
     "name": "stdout",
     "output_type": "stream",
     "text": [
      "Epoch 1/5\n",
      "1/1 [==============================] - 0s 11ms/step - loss: 9.6303e-04\n",
      "Epoch 2/5\n",
      "1/1 [==============================] - 0s 11ms/step - loss: 9.5986e-04\n",
      "Epoch 3/5\n",
      "1/1 [==============================] - 0s 11ms/step - loss: 9.5641e-04\n",
      "Epoch 4/5\n",
      "1/1 [==============================] - 0s 13ms/step - loss: 9.5268e-04\n",
      "Epoch 5/5\n",
      "1/1 [==============================] - 0s 11ms/step - loss: 9.4875e-04\n"
     ]
    },
    {
     "name": "stderr",
     "output_type": "stream",
     "text": [
      "  2%|▏         | 16/671 [00:05<01:36,  6.78it/s]"
     ]
    },
    {
     "name": "stdout",
     "output_type": "stream",
     "text": [
      "Epoch 1/5\n",
      "1/1 [==============================] - 0s 9ms/step - loss: 9.4593e-04\n",
      "Epoch 2/5\n",
      "1/1 [==============================] - 0s 9ms/step - loss: 9.4235e-04\n",
      "Epoch 3/5\n",
      "1/1 [==============================] - 0s 10ms/step - loss: 9.3846e-04\n",
      "Epoch 4/5\n",
      "1/1 [==============================] - 0s 10ms/step - loss: 9.3433e-04\n",
      "Epoch 5/5\n",
      "1/1 [==============================] - 0s 10ms/step - loss: 9.3002e-04\n"
     ]
    },
    {
     "name": "stderr",
     "output_type": "stream",
     "text": [
      "  3%|▎         | 18/671 [00:05<01:24,  7.73it/s]"
     ]
    },
    {
     "name": "stdout",
     "output_type": "stream",
     "text": [
      "Epoch 1/5\n",
      "1/1 [==============================] - 0s 10ms/step - loss: 8.4946e-04\n",
      "Epoch 2/5\n",
      "1/1 [==============================] - 0s 9ms/step - loss: 8.4576e-04\n",
      "Epoch 3/5\n",
      "1/1 [==============================] - 0s 10ms/step - loss: 8.4170e-04\n",
      "Epoch 4/5\n",
      "1/1 [==============================] - 0s 9ms/step - loss: 8.3737e-04\n",
      "Epoch 5/5\n",
      "1/1 [==============================] - 0s 10ms/step - loss: 8.3284e-04\n"
     ]
    },
    {
     "name": "stderr",
     "output_type": "stream",
     "text": [
      "  3%|▎         | 20/671 [00:05<01:16,  8.56it/s]"
     ]
    },
    {
     "name": "stdout",
     "output_type": "stream",
     "text": [
      "Epoch 1/5\n",
      "1/1 [==============================] - 0s 10ms/step - loss: 0.0011\n",
      "Epoch 2/5\n",
      "1/1 [==============================] - 0s 11ms/step - loss: 0.0011\n",
      "Epoch 3/5\n",
      "1/1 [==============================] - 0s 10ms/step - loss: 0.0011\n",
      "Epoch 4/5\n",
      "1/1 [==============================] - 0s 11ms/step - loss: 0.0010\n",
      "Epoch 5/5\n",
      "1/1 [==============================] - 0s 12ms/step - loss: 0.0010\n"
     ]
    },
    {
     "name": "stderr",
     "output_type": "stream",
     "text": [
      "  3%|▎         | 22/671 [00:06<01:12,  8.97it/s]"
     ]
    },
    {
     "name": "stdout",
     "output_type": "stream",
     "text": [
      "Epoch 1/5\n",
      "1/1 [==============================] - 0s 12ms/step - loss: 0.0011\n",
      "Epoch 2/5\n",
      "1/1 [==============================] - 0s 11ms/step - loss: 0.0011\n",
      "Epoch 3/5\n",
      "1/1 [==============================] - 0s 12ms/step - loss: 0.0010\n",
      "Epoch 4/5\n",
      "1/1 [==============================] - 0s 22ms/step - loss: 0.0010\n",
      "Epoch 5/5\n",
      "1/1 [==============================] - 0s 17ms/step - loss: 0.0010\n"
     ]
    },
    {
     "name": "stderr",
     "output_type": "stream",
     "text": [
      "  4%|▎         | 24/671 [00:06<01:13,  8.78it/s]"
     ]
    },
    {
     "name": "stdout",
     "output_type": "stream",
     "text": [
      "Epoch 1/5\n",
      "1/1 [==============================] - 0s 12ms/step - loss: 0.0010\n",
      "Epoch 2/5\n",
      "1/1 [==============================] - 0s 10ms/step - loss: 0.0010\n",
      "Epoch 3/5\n",
      "1/1 [==============================] - 0s 10ms/step - loss: 0.0010\n",
      "Epoch 4/5\n",
      "1/1 [==============================] - 0s 10ms/step - loss: 0.0010\n",
      "Epoch 5/5\n",
      "1/1 [==============================] - 0s 9ms/step - loss: 9.9726e-04\n"
     ]
    },
    {
     "name": "stderr",
     "output_type": "stream",
     "text": [
      "  4%|▍         | 26/671 [00:06<01:09,  9.22it/s]"
     ]
    },
    {
     "name": "stdout",
     "output_type": "stream",
     "text": [
      "Epoch 1/5\n",
      "1/1 [==============================] - 0s 11ms/step - loss: 0.0010\n",
      "Epoch 2/5\n",
      "1/1 [==============================] - 0s 10ms/step - loss: 0.0010\n",
      "Epoch 3/5\n",
      "1/1 [==============================] - 0s 11ms/step - loss: 0.0010\n",
      "Epoch 4/5\n",
      "1/1 [==============================] - 0s 11ms/step - loss: 0.0010\n",
      "Epoch 5/5\n",
      "1/1 [==============================] - 0s 10ms/step - loss: 9.9781e-04\n"
     ]
    },
    {
     "name": "stderr",
     "output_type": "stream",
     "text": [
      "  4%|▍         | 28/671 [00:06<01:08,  9.39it/s]"
     ]
    },
    {
     "name": "stdout",
     "output_type": "stream",
     "text": [
      "Epoch 1/5\n",
      "1/1 [==============================] - 0s 10ms/step - loss: 0.0010\n",
      "Epoch 2/5\n",
      "1/1 [==============================] - 0s 9ms/step - loss: 0.0010\n",
      "Epoch 3/5\n",
      "1/1 [==============================] - 0s 9ms/step - loss: 0.0010\n",
      "Epoch 4/5\n",
      "1/1 [==============================] - 0s 9ms/step - loss: 0.0010\n",
      "Epoch 5/5\n",
      "1/1 [==============================] - 0s 9ms/step - loss: 0.0010\n"
     ]
    },
    {
     "name": "stderr",
     "output_type": "stream",
     "text": [
      "  4%|▍         | 30/671 [00:07<01:06,  9.66it/s]"
     ]
    },
    {
     "name": "stdout",
     "output_type": "stream",
     "text": [
      "Epoch 1/5\n",
      "1/1 [==============================] - 0s 9ms/step - loss: 0.0011\n",
      "Epoch 2/5\n",
      "1/1 [==============================] - 0s 9ms/step - loss: 0.0011\n",
      "Epoch 3/5\n",
      "1/1 [==============================] - 0s 9ms/step - loss: 0.0011\n",
      "Epoch 4/5\n",
      "1/1 [==============================] - 0s 8ms/step - loss: 0.0011\n",
      "Epoch 5/5\n",
      "1/1 [==============================] - 0s 8ms/step - loss: 0.0011\n"
     ]
    },
    {
     "name": "stderr",
     "output_type": "stream",
     "text": [
      "  5%|▍         | 32/671 [00:07<01:03, 10.10it/s]"
     ]
    },
    {
     "name": "stdout",
     "output_type": "stream",
     "text": [
      "Epoch 1/5\n",
      "1/1 [==============================] - 0s 9ms/step - loss: 0.0012\n",
      "Epoch 2/5\n",
      "1/1 [==============================] - 0s 8ms/step - loss: 0.0012\n",
      "Epoch 3/5\n",
      "1/1 [==============================] - 0s 8ms/step - loss: 0.0011\n",
      "Epoch 4/5\n",
      "1/1 [==============================] - 0s 9ms/step - loss: 0.0011\n",
      "Epoch 5/5\n",
      "1/1 [==============================] - 0s 9ms/step - loss: 0.0011\n"
     ]
    },
    {
     "name": "stderr",
     "output_type": "stream",
     "text": [
      "  5%|▌         | 34/671 [00:07<01:00, 10.56it/s]"
     ]
    },
    {
     "name": "stdout",
     "output_type": "stream",
     "text": [
      "Epoch 1/5\n",
      "1/1 [==============================] - 0s 10ms/step - loss: 0.0012\n",
      "Epoch 2/5\n",
      "1/1 [==============================] - 0s 9ms/step - loss: 0.0012\n",
      "Epoch 3/5\n",
      "1/1 [==============================] - 0s 8ms/step - loss: 0.0012\n",
      "Epoch 4/5\n",
      "1/1 [==============================] - 0s 9ms/step - loss: 0.0012\n",
      "Epoch 5/5\n",
      "1/1 [==============================] - 0s 8ms/step - loss: 0.0012\n"
     ]
    },
    {
     "name": "stderr",
     "output_type": "stream",
     "text": [
      "  5%|▌         | 36/671 [00:07<00:58, 10.94it/s]"
     ]
    },
    {
     "name": "stdout",
     "output_type": "stream",
     "text": [
      "Epoch 1/5\n",
      "1/1 [==============================] - 0s 10ms/step - loss: 0.0012\n",
      "Epoch 2/5\n",
      "1/1 [==============================] - 0s 9ms/step - loss: 0.0011\n",
      "Epoch 3/5\n",
      "1/1 [==============================] - 0s 11ms/step - loss: 0.0011\n",
      "Epoch 4/5\n",
      "1/1 [==============================] - 0s 11ms/step - loss: 0.0011\n",
      "Epoch 5/5\n",
      "1/1 [==============================] - 0s 11ms/step - loss: 0.0011\n"
     ]
    },
    {
     "name": "stderr",
     "output_type": "stream",
     "text": [
      "  6%|▌         | 38/671 [00:07<00:57, 10.96it/s]"
     ]
    },
    {
     "name": "stdout",
     "output_type": "stream",
     "text": [
      "Epoch 1/5\n",
      "1/1 [==============================] - 0s 15ms/step - loss: 0.0011\n",
      "Epoch 2/5\n",
      "1/1 [==============================] - 0s 12ms/step - loss: 0.0011\n",
      "Epoch 3/5\n",
      "1/1 [==============================] - 0s 12ms/step - loss: 0.0011\n",
      "Epoch 4/5\n",
      "1/1 [==============================] - 0s 14ms/step - loss: 0.0011\n",
      "Epoch 5/5\n",
      "1/1 [==============================] - 0s 13ms/step - loss: 0.0011\n"
     ]
    },
    {
     "name": "stderr",
     "output_type": "stream",
     "text": [
      "  6%|▌         | 40/671 [00:07<01:02, 10.16it/s]"
     ]
    },
    {
     "name": "stdout",
     "output_type": "stream",
     "text": [
      "Epoch 1/5\n",
      "1/1 [==============================] - 0s 12ms/step - loss: 0.0013\n",
      "Epoch 2/5\n",
      "1/1 [==============================] - 0s 11ms/step - loss: 0.0013\n",
      "Epoch 3/5\n",
      "1/1 [==============================] - 0s 12ms/step - loss: 0.0013\n",
      "Epoch 4/5\n",
      "1/1 [==============================] - 0s 12ms/step - loss: 0.0013\n",
      "Epoch 5/5\n",
      "1/1 [==============================] - 0s 11ms/step - loss: 0.0013\n"
     ]
    },
    {
     "name": "stderr",
     "output_type": "stream",
     "text": [
      "  6%|▋         | 42/671 [00:08<01:05,  9.60it/s]"
     ]
    },
    {
     "name": "stdout",
     "output_type": "stream",
     "text": [
      "Epoch 1/5\n",
      "1/1 [==============================] - 0s 11ms/step - loss: 0.0010\n",
      "Epoch 2/5\n",
      "1/1 [==============================] - 0s 10ms/step - loss: 0.0010\n",
      "Epoch 3/5\n",
      "1/1 [==============================] - 0s 10ms/step - loss: 0.0010\n",
      "Epoch 4/5\n",
      "1/1 [==============================] - 0s 9ms/step - loss: 0.0010\n",
      "Epoch 5/5\n",
      "1/1 [==============================] - 0s 10ms/step - loss: 0.0010\n"
     ]
    },
    {
     "name": "stderr",
     "output_type": "stream",
     "text": [
      "  7%|▋         | 44/671 [00:08<01:04,  9.65it/s]"
     ]
    },
    {
     "name": "stdout",
     "output_type": "stream",
     "text": [
      "Epoch 1/5\n",
      "1/1 [==============================] - 0s 12ms/step - loss: 0.0011\n",
      "Epoch 2/5\n",
      "1/1 [==============================] - 0s 11ms/step - loss: 0.0011\n",
      "Epoch 3/5\n",
      "1/1 [==============================] - 0s 11ms/step - loss: 0.0011\n",
      "Epoch 4/5\n",
      "1/1 [==============================] - 0s 10ms/step - loss: 0.0011\n",
      "Epoch 5/5\n",
      "1/1 [==============================] - 0s 11ms/step - loss: 0.0011\n"
     ]
    },
    {
     "name": "stderr",
     "output_type": "stream",
     "text": [
      "  7%|▋         | 46/671 [00:08<01:04,  9.65it/s]"
     ]
    },
    {
     "name": "stdout",
     "output_type": "stream",
     "text": [
      "Epoch 1/5\n",
      "1/1 [==============================] - 0s 10ms/step - loss: 0.0011\n",
      "Epoch 2/5\n",
      "1/1 [==============================] - 0s 10ms/step - loss: 0.0011\n",
      "Epoch 3/5\n",
      "1/1 [==============================] - 0s 10ms/step - loss: 0.0011\n",
      "Epoch 4/5\n",
      "1/1 [==============================] - 0s 11ms/step - loss: 0.0011\n",
      "Epoch 5/5\n",
      "1/1 [==============================] - 0s 10ms/step - loss: 0.0011\n"
     ]
    },
    {
     "name": "stderr",
     "output_type": "stream",
     "text": [
      "  7%|▋         | 48/671 [00:08<01:03,  9.84it/s]"
     ]
    },
    {
     "name": "stdout",
     "output_type": "stream",
     "text": [
      "Epoch 1/5\n",
      "1/1 [==============================] - 0s 10ms/step - loss: 0.0012\n",
      "Epoch 2/5\n",
      "1/1 [==============================] - 0s 11ms/step - loss: 0.0012\n",
      "Epoch 3/5\n",
      "1/1 [==============================] - 0s 15ms/step - loss: 0.0011\n",
      "Epoch 4/5\n",
      "1/1 [==============================] - 0s 13ms/step - loss: 0.0011\n",
      "Epoch 5/5\n",
      "1/1 [==============================] - 0s 13ms/step - loss: 0.0011\n"
     ]
    },
    {
     "name": "stderr",
     "output_type": "stream",
     "text": [
      "  7%|▋         | 50/671 [00:08<01:02,  9.93it/s]"
     ]
    },
    {
     "name": "stdout",
     "output_type": "stream",
     "text": [
      "Epoch 1/5\n",
      "1/1 [==============================] - 0s 12ms/step - loss: 0.0011\n",
      "Epoch 2/5\n",
      "1/1 [==============================] - 0s 11ms/step - loss: 0.0011\n",
      "Epoch 3/5\n",
      "1/1 [==============================] - 0s 11ms/step - loss: 0.0011\n",
      "Epoch 4/5\n",
      "1/1 [==============================] - 0s 15ms/step - loss: 0.0011\n",
      "Epoch 5/5\n",
      "1/1 [==============================] - 0s 11ms/step - loss: 0.0011\n"
     ]
    },
    {
     "name": "stderr",
     "output_type": "stream",
     "text": [
      "  8%|▊         | 52/671 [00:09<01:02,  9.92it/s]"
     ]
    },
    {
     "name": "stdout",
     "output_type": "stream",
     "text": [
      "Epoch 1/5\n",
      "1/1 [==============================] - 0s 13ms/step - loss: 9.2989e-04\n",
      "Epoch 2/5\n",
      "1/1 [==============================] - 0s 12ms/step - loss: 9.2374e-04\n",
      "Epoch 3/5\n",
      "1/1 [==============================] - 0s 12ms/step - loss: 9.1721e-04\n",
      "Epoch 4/5\n",
      "1/1 [==============================] - 0s 10ms/step - loss: 9.1040e-04\n",
      "Epoch 5/5\n",
      "1/1 [==============================] - 0s 12ms/step - loss: 9.0335e-04\n"
     ]
    },
    {
     "name": "stderr",
     "output_type": "stream",
     "text": [
      "  8%|▊         | 54/671 [00:09<01:03,  9.69it/s]"
     ]
    },
    {
     "name": "stdout",
     "output_type": "stream",
     "text": [
      "Epoch 1/5\n",
      "1/1 [==============================] - 0s 11ms/step - loss: 0.0010\n",
      "Epoch 2/5\n",
      "1/1 [==============================] - 0s 11ms/step - loss: 0.0010\n",
      "Epoch 3/5\n",
      "1/1 [==============================] - 0s 10ms/step - loss: 0.0010\n",
      "Epoch 4/5\n",
      "1/1 [==============================] - 0s 12ms/step - loss: 0.0010\n",
      "Epoch 5/5\n",
      "1/1 [==============================] - 0s 10ms/step - loss: 0.0010\n"
     ]
    },
    {
     "name": "stderr",
     "output_type": "stream",
     "text": [
      "  8%|▊         | 56/671 [00:09<01:03,  9.65it/s]"
     ]
    },
    {
     "name": "stdout",
     "output_type": "stream",
     "text": [
      "Epoch 1/5\n",
      "1/1 [==============================] - 0s 11ms/step - loss: 0.0011\n",
      "Epoch 2/5\n",
      "1/1 [==============================] - 0s 11ms/step - loss: 0.0010\n",
      "Epoch 3/5\n",
      "1/1 [==============================] - 0s 10ms/step - loss: 0.0010\n",
      "Epoch 4/5\n",
      "1/1 [==============================] - 0s 10ms/step - loss: 0.0010\n",
      "Epoch 5/5\n",
      "1/1 [==============================] - 0s 10ms/step - loss: 0.0010\n"
     ]
    },
    {
     "name": "stderr",
     "output_type": "stream",
     "text": [
      "  9%|▊         | 58/671 [00:09<01:02,  9.77it/s]"
     ]
    },
    {
     "name": "stdout",
     "output_type": "stream",
     "text": [
      "Epoch 1/5\n",
      "1/1 [==============================] - 0s 10ms/step - loss: 9.2609e-04\n",
      "Epoch 2/5\n",
      "1/1 [==============================] - 0s 10ms/step - loss: 9.2088e-04\n",
      "Epoch 3/5\n",
      "1/1 [==============================] - 0s 10ms/step - loss: 9.1516e-04\n",
      "Epoch 4/5\n",
      "1/1 [==============================] - 0s 9ms/step - loss: 9.0904e-04\n",
      "Epoch 5/5\n",
      "1/1 [==============================] - 0s 10ms/step - loss: 9.0261e-04\n"
     ]
    },
    {
     "name": "stderr",
     "output_type": "stream",
     "text": [
      "  9%|▉         | 60/671 [00:10<01:01,  9.97it/s]"
     ]
    },
    {
     "name": "stdout",
     "output_type": "stream",
     "text": [
      "Epoch 1/5\n",
      "1/1 [==============================] - 0s 10ms/step - loss: 0.0013\n",
      "Epoch 2/5\n",
      "1/1 [==============================] - 0s 10ms/step - loss: 0.0013\n",
      "Epoch 3/5\n",
      "1/1 [==============================] - 0s 9ms/step - loss: 0.0013\n",
      "Epoch 4/5\n",
      "1/1 [==============================] - 0s 9ms/step - loss: 0.0013\n",
      "Epoch 5/5\n",
      "1/1 [==============================] - 0s 9ms/step - loss: 0.0013\n"
     ]
    },
    {
     "name": "stderr",
     "output_type": "stream",
     "text": [
      "  9%|▉         | 62/671 [00:10<00:59, 10.22it/s]"
     ]
    },
    {
     "name": "stdout",
     "output_type": "stream",
     "text": [
      "Epoch 1/5\n",
      "1/1 [==============================] - 0s 10ms/step - loss: 0.0011\n",
      "Epoch 2/5\n",
      "1/1 [==============================] - 0s 9ms/step - loss: 0.0011\n",
      "Epoch 3/5\n",
      "1/1 [==============================] - 0s 9ms/step - loss: 0.0011\n",
      "Epoch 4/5\n",
      "1/1 [==============================] - 0s 9ms/step - loss: 0.0011\n",
      "Epoch 5/5\n",
      "1/1 [==============================] - 0s 10ms/step - loss: 0.0011\n"
     ]
    },
    {
     "name": "stderr",
     "output_type": "stream",
     "text": [
      " 10%|▉         | 64/671 [00:10<00:58, 10.41it/s]"
     ]
    },
    {
     "name": "stdout",
     "output_type": "stream",
     "text": [
      "Epoch 1/5\n",
      "1/1 [==============================] - 0s 10ms/step - loss: 0.0010\n",
      "Epoch 2/5\n",
      "1/1 [==============================] - 0s 9ms/step - loss: 0.0010\n",
      "Epoch 3/5\n",
      "1/1 [==============================] - 0s 9ms/step - loss: 0.0010\n",
      "Epoch 4/5\n",
      "1/1 [==============================] - 0s 10ms/step - loss: 0.0010\n",
      "Epoch 5/5\n",
      "1/1 [==============================] - 0s 10ms/step - loss: 0.0010\n"
     ]
    },
    {
     "name": "stderr",
     "output_type": "stream",
     "text": [
      " 10%|▉         | 66/671 [00:10<00:57, 10.56it/s]"
     ]
    },
    {
     "name": "stdout",
     "output_type": "stream",
     "text": [
      "Epoch 1/5\n",
      "1/1 [==============================] - 0s 10ms/step - loss: 0.0012\n",
      "Epoch 2/5\n",
      "1/1 [==============================] - 0s 10ms/step - loss: 0.0012\n",
      "Epoch 3/5\n",
      "1/1 [==============================] - 0s 10ms/step - loss: 0.0012\n",
      "Epoch 4/5\n",
      "1/1 [==============================] - 0s 9ms/step - loss: 0.0012\n",
      "Epoch 5/5\n",
      "1/1 [==============================] - 0s 9ms/step - loss: 0.0012\n"
     ]
    },
    {
     "name": "stderr",
     "output_type": "stream",
     "text": [
      " 10%|█         | 69/671 [00:10<01:34,  6.37it/s]\n"
     ]
    },
    {
     "ename": "KeyboardInterrupt",
     "evalue": "",
     "output_type": "error",
     "traceback": [
      "\u001b[0;31m---------------------------------------------------------------------------\u001b[0m",
      "\u001b[0;31mKeyboardInterrupt\u001b[0m                         Traceback (most recent call last)",
      "Cell \u001b[0;32mIn[3], line 48\u001b[0m\n\u001b[1;32m     45\u001b[0m \u001b[39mwith\u001b[39;00m \u001b[39mopen\u001b[39m(\u001b[39mf\u001b[39m\u001b[39m'\u001b[39m\u001b[39m{\u001b[39;00mtrainer\u001b[39m.\u001b[39mtrain_folder\u001b[39m}\u001b[39;00m\u001b[39m/params.json\u001b[39m\u001b[39m'\u001b[39m, \u001b[39m'\u001b[39m\u001b[39mw\u001b[39m\u001b[39m'\u001b[39m) \u001b[39mas\u001b[39;00m fp:\n\u001b[1;32m     46\u001b[0m     json\u001b[39m.\u001b[39mdump(param_combination, fp)\n\u001b[0;32m---> 48\u001b[0m trainer\u001b[39m.\u001b[39;49mrollout(n_episodes\u001b[39m=\u001b[39;49mparam_combination\u001b[39m.\u001b[39;49mget(\u001b[39m'\u001b[39;49m\u001b[39mepisodes\u001b[39;49m\u001b[39m'\u001b[39;49m, \u001b[39m2\u001b[39;49m), \n\u001b[1;32m     49\u001b[0m                    run_per_episode\u001b[39m=\u001b[39;49mparam_combination\u001b[39m.\u001b[39;49mget(\u001b[39m'\u001b[39;49m\u001b[39mruns_p_eps\u001b[39;49m\u001b[39m'\u001b[39;49m, \u001b[39m2\u001b[39;49m))\n",
      "File \u001b[0;32m~/Desktop/Projekt/ai_trader/notebooks/../src/DRLtrainer.py:170\u001b[0m, in \u001b[0;36mDRLTrainer.rollout\u001b[0;34m(self, n_episodes, run_per_episode)\u001b[0m\n\u001b[1;32m    168\u001b[0m \u001b[39m# Train Policy if batch reached\u001b[39;00m\n\u001b[1;32m    169\u001b[0m \u001b[39mif\u001b[39;00m \u001b[39mlen\u001b[39m(\u001b[39mself\u001b[39m\u001b[39m.\u001b[39mmemory) \u001b[39m>\u001b[39m \u001b[39mself\u001b[39m\u001b[39m.\u001b[39mbatch_size:\n\u001b[0;32m--> 170\u001b[0m     res \u001b[39m=\u001b[39m \u001b[39mself\u001b[39;49m\u001b[39m.\u001b[39;49mbatch_train()\n\u001b[1;32m    171\u001b[0m     key_string\u001b[39m=\u001b[39m\u001b[39mf\u001b[39m\u001b[39m'\u001b[39m\u001b[39mEpi_\u001b[39m\u001b[39m{\u001b[39;00mepisode\u001b[39m}\u001b[39;00m\u001b[39m'\u001b[39m\n\u001b[1;32m    172\u001b[0m     \u001b[39mif\u001b[39;00m key_string \u001b[39mnot\u001b[39;00m \u001b[39min\u001b[39;00m train_data:\n",
      "File \u001b[0;32m~/Desktop/Projekt/ai_trader/notebooks/../src/DRLtrainer.py:261\u001b[0m, in \u001b[0;36mDRLTrainer.batch_train\u001b[0;34m(self)\u001b[0m\n\u001b[1;32m    255\u001b[0m     y_target[index,\u001b[39m0\u001b[39m] \u001b[39m=\u001b[39m reward\n\u001b[1;32m    257\u001b[0m \u001b[39m# self.loss_shift = np.max(np.append(y_target[:,0], self.loss_shift, axis=0)) * 1.1\u001b[39;00m\n\u001b[1;32m    258\u001b[0m \u001b[39m# y_target = self.loss_shift - y_target\u001b[39;00m\n\u001b[1;32m    259\u001b[0m \u001b[39m# Batch Train (in this case on-line traing without batches) \u001b[39;00m\n\u001b[1;32m    260\u001b[0m \u001b[39m# we can just set the batch to 1 and it will do online training\u001b[39;00m\n\u001b[0;32m--> 261\u001b[0m result\u001b[39m=\u001b[39m\u001b[39mself\u001b[39;49m\u001b[39m.\u001b[39;49magent\u001b[39m.\u001b[39;49mmodel\u001b[39m.\u001b[39;49mfit(x_train, y_target,\n\u001b[1;32m    262\u001b[0m         epochs\u001b[39m=\u001b[39;49m\u001b[39mself\u001b[39;49m\u001b[39m.\u001b[39;49mepoch, verbose\u001b[39m=\u001b[39;49m\u001b[39m1\u001b[39;49m)\n\u001b[1;32m    264\u001b[0m \u001b[39mself\u001b[39m\u001b[39m.\u001b[39magent\u001b[39m.\u001b[39mupdate_epsilon()\n\u001b[1;32m    265\u001b[0m \u001b[39mreturn\u001b[39;00m result\n",
      "File \u001b[0;32m~/anaconda3/envs/trader_env/lib/python3.10/site-packages/keras/utils/traceback_utils.py:65\u001b[0m, in \u001b[0;36mfilter_traceback.<locals>.error_handler\u001b[0;34m(*args, **kwargs)\u001b[0m\n\u001b[1;32m     63\u001b[0m filtered_tb \u001b[39m=\u001b[39m \u001b[39mNone\u001b[39;00m\n\u001b[1;32m     64\u001b[0m \u001b[39mtry\u001b[39;00m:\n\u001b[0;32m---> 65\u001b[0m     \u001b[39mreturn\u001b[39;00m fn(\u001b[39m*\u001b[39;49margs, \u001b[39m*\u001b[39;49m\u001b[39m*\u001b[39;49mkwargs)\n\u001b[1;32m     66\u001b[0m \u001b[39mexcept\u001b[39;00m \u001b[39mException\u001b[39;00m \u001b[39mas\u001b[39;00m e:\n\u001b[1;32m     67\u001b[0m     filtered_tb \u001b[39m=\u001b[39m _process_traceback_frames(e\u001b[39m.\u001b[39m__traceback__)\n",
      "File \u001b[0;32m~/anaconda3/envs/trader_env/lib/python3.10/site-packages/keras/engine/training.py:1590\u001b[0m, in \u001b[0;36mModel.fit\u001b[0;34m(self, x, y, batch_size, epochs, verbose, callbacks, validation_split, validation_data, shuffle, class_weight, sample_weight, initial_epoch, steps_per_epoch, validation_steps, validation_batch_size, validation_freq, max_queue_size, workers, use_multiprocessing)\u001b[0m\n\u001b[1;32m   1580\u001b[0m     \u001b[39mself\u001b[39m\u001b[39m.\u001b[39m_cluster_coordinator \u001b[39m=\u001b[39m (\n\u001b[1;32m   1581\u001b[0m         tf\u001b[39m.\u001b[39mdistribute\u001b[39m.\u001b[39mexperimental\u001b[39m.\u001b[39mcoordinator\u001b[39m.\u001b[39mClusterCoordinator(\n\u001b[1;32m   1582\u001b[0m             \u001b[39mself\u001b[39m\u001b[39m.\u001b[39mdistribute_strategy\n\u001b[1;32m   1583\u001b[0m         )\n\u001b[1;32m   1584\u001b[0m     )\n\u001b[1;32m   1586\u001b[0m \u001b[39mwith\u001b[39;00m \u001b[39mself\u001b[39m\u001b[39m.\u001b[39mdistribute_strategy\u001b[39m.\u001b[39mscope(), training_utils\u001b[39m.\u001b[39mRespectCompiledTrainableState(  \u001b[39m# noqa: E501\u001b[39;00m\n\u001b[1;32m   1587\u001b[0m     \u001b[39mself\u001b[39m\n\u001b[1;32m   1588\u001b[0m ):\n\u001b[1;32m   1589\u001b[0m     \u001b[39m# Creates a `tf.data.Dataset` and handles batch and epoch iteration.\u001b[39;00m\n\u001b[0;32m-> 1590\u001b[0m     data_handler \u001b[39m=\u001b[39m data_adapter\u001b[39m.\u001b[39;49mget_data_handler(\n\u001b[1;32m   1591\u001b[0m         x\u001b[39m=\u001b[39;49mx,\n\u001b[1;32m   1592\u001b[0m         y\u001b[39m=\u001b[39;49my,\n\u001b[1;32m   1593\u001b[0m         sample_weight\u001b[39m=\u001b[39;49msample_weight,\n\u001b[1;32m   1594\u001b[0m         batch_size\u001b[39m=\u001b[39;49mbatch_size,\n\u001b[1;32m   1595\u001b[0m         steps_per_epoch\u001b[39m=\u001b[39;49msteps_per_epoch,\n\u001b[1;32m   1596\u001b[0m         initial_epoch\u001b[39m=\u001b[39;49minitial_epoch,\n\u001b[1;32m   1597\u001b[0m         epochs\u001b[39m=\u001b[39;49mepochs,\n\u001b[1;32m   1598\u001b[0m         shuffle\u001b[39m=\u001b[39;49mshuffle,\n\u001b[1;32m   1599\u001b[0m         class_weight\u001b[39m=\u001b[39;49mclass_weight,\n\u001b[1;32m   1600\u001b[0m         max_queue_size\u001b[39m=\u001b[39;49mmax_queue_size,\n\u001b[1;32m   1601\u001b[0m         workers\u001b[39m=\u001b[39;49mworkers,\n\u001b[1;32m   1602\u001b[0m         use_multiprocessing\u001b[39m=\u001b[39;49muse_multiprocessing,\n\u001b[1;32m   1603\u001b[0m         model\u001b[39m=\u001b[39;49m\u001b[39mself\u001b[39;49m,\n\u001b[1;32m   1604\u001b[0m         steps_per_execution\u001b[39m=\u001b[39;49m\u001b[39mself\u001b[39;49m\u001b[39m.\u001b[39;49m_steps_per_execution,\n\u001b[1;32m   1605\u001b[0m     )\n\u001b[1;32m   1607\u001b[0m     \u001b[39m# Container that configures and calls `tf.keras.Callback`s.\u001b[39;00m\n\u001b[1;32m   1608\u001b[0m     \u001b[39mif\u001b[39;00m \u001b[39mnot\u001b[39;00m \u001b[39misinstance\u001b[39m(callbacks, callbacks_module\u001b[39m.\u001b[39mCallbackList):\n",
      "File \u001b[0;32m~/anaconda3/envs/trader_env/lib/python3.10/site-packages/keras/engine/data_adapter.py:1579\u001b[0m, in \u001b[0;36mget_data_handler\u001b[0;34m(*args, **kwargs)\u001b[0m\n\u001b[1;32m   1577\u001b[0m \u001b[39mif\u001b[39;00m \u001b[39mgetattr\u001b[39m(kwargs[\u001b[39m\"\u001b[39m\u001b[39mmodel\u001b[39m\u001b[39m\"\u001b[39m], \u001b[39m\"\u001b[39m\u001b[39m_cluster_coordinator\u001b[39m\u001b[39m\"\u001b[39m, \u001b[39mNone\u001b[39;00m):\n\u001b[1;32m   1578\u001b[0m     \u001b[39mreturn\u001b[39;00m _ClusterCoordinatorDataHandler(\u001b[39m*\u001b[39margs, \u001b[39m*\u001b[39m\u001b[39m*\u001b[39mkwargs)\n\u001b[0;32m-> 1579\u001b[0m \u001b[39mreturn\u001b[39;00m DataHandler(\u001b[39m*\u001b[39;49margs, \u001b[39m*\u001b[39;49m\u001b[39m*\u001b[39;49mkwargs)\n",
      "File \u001b[0;32m~/anaconda3/envs/trader_env/lib/python3.10/site-packages/keras/engine/data_adapter.py:1259\u001b[0m, in \u001b[0;36mDataHandler.__init__\u001b[0;34m(self, x, y, sample_weight, batch_size, steps_per_epoch, initial_epoch, epochs, shuffle, class_weight, max_queue_size, workers, use_multiprocessing, model, steps_per_execution, distribute)\u001b[0m\n\u001b[1;32m   1256\u001b[0m     \u001b[39mself\u001b[39m\u001b[39m.\u001b[39m_steps_per_execution \u001b[39m=\u001b[39m steps_per_execution\n\u001b[1;32m   1258\u001b[0m adapter_cls \u001b[39m=\u001b[39m select_data_adapter(x, y)\n\u001b[0;32m-> 1259\u001b[0m \u001b[39mself\u001b[39m\u001b[39m.\u001b[39m_adapter \u001b[39m=\u001b[39m adapter_cls(\n\u001b[1;32m   1260\u001b[0m     x,\n\u001b[1;32m   1261\u001b[0m     y,\n\u001b[1;32m   1262\u001b[0m     batch_size\u001b[39m=\u001b[39;49mbatch_size,\n\u001b[1;32m   1263\u001b[0m     steps\u001b[39m=\u001b[39;49msteps_per_epoch,\n\u001b[1;32m   1264\u001b[0m     epochs\u001b[39m=\u001b[39;49mepochs \u001b[39m-\u001b[39;49m initial_epoch,\n\u001b[1;32m   1265\u001b[0m     sample_weights\u001b[39m=\u001b[39;49msample_weight,\n\u001b[1;32m   1266\u001b[0m     shuffle\u001b[39m=\u001b[39;49mshuffle,\n\u001b[1;32m   1267\u001b[0m     max_queue_size\u001b[39m=\u001b[39;49mmax_queue_size,\n\u001b[1;32m   1268\u001b[0m     workers\u001b[39m=\u001b[39;49mworkers,\n\u001b[1;32m   1269\u001b[0m     use_multiprocessing\u001b[39m=\u001b[39;49muse_multiprocessing,\n\u001b[1;32m   1270\u001b[0m     distribution_strategy\u001b[39m=\u001b[39;49mtf\u001b[39m.\u001b[39;49mdistribute\u001b[39m.\u001b[39;49mget_strategy(),\n\u001b[1;32m   1271\u001b[0m     model\u001b[39m=\u001b[39;49mmodel,\n\u001b[1;32m   1272\u001b[0m )\n\u001b[1;32m   1274\u001b[0m strategy \u001b[39m=\u001b[39m tf\u001b[39m.\u001b[39mdistribute\u001b[39m.\u001b[39mget_strategy()\n\u001b[1;32m   1276\u001b[0m \u001b[39mself\u001b[39m\u001b[39m.\u001b[39m_current_step \u001b[39m=\u001b[39m \u001b[39m0\u001b[39m\n",
      "File \u001b[0;32m~/anaconda3/envs/trader_env/lib/python3.10/site-packages/keras/engine/data_adapter.py:345\u001b[0m, in \u001b[0;36mTensorLikeDataAdapter.__init__\u001b[0;34m(self, x, y, sample_weights, sample_weight_modes, batch_size, epochs, steps, shuffle, **kwargs)\u001b[0m\n\u001b[1;32m    342\u001b[0m         flat_dataset \u001b[39m=\u001b[39m flat_dataset\u001b[39m.\u001b[39mshuffle(\u001b[39m1024\u001b[39m)\u001b[39m.\u001b[39mrepeat(epochs)\n\u001b[1;32m    343\u001b[0m     \u001b[39mreturn\u001b[39;00m flat_dataset\n\u001b[0;32m--> 345\u001b[0m indices_dataset \u001b[39m=\u001b[39m indices_dataset\u001b[39m.\u001b[39;49mflat_map(slice_batch_indices)\n\u001b[1;32m    347\u001b[0m dataset \u001b[39m=\u001b[39m \u001b[39mself\u001b[39m\u001b[39m.\u001b[39mslice_inputs(indices_dataset, inputs)\n\u001b[1;32m    349\u001b[0m \u001b[39mif\u001b[39;00m shuffle \u001b[39m==\u001b[39m \u001b[39m\"\u001b[39m\u001b[39mbatch\u001b[39m\u001b[39m\"\u001b[39m:\n",
      "File \u001b[0;32m~/anaconda3/envs/trader_env/lib/python3.10/site-packages/tensorflow/python/data/ops/dataset_ops.py:2337\u001b[0m, in \u001b[0;36mDatasetV2.flat_map\u001b[0;34m(self, map_func, name)\u001b[0m\n\u001b[1;32m   2304\u001b[0m \u001b[39mdef\u001b[39;00m \u001b[39mflat_map\u001b[39m(\u001b[39mself\u001b[39m, map_func, name\u001b[39m=\u001b[39m\u001b[39mNone\u001b[39;00m):\n\u001b[1;32m   2305\u001b[0m \u001b[39m  \u001b[39m\u001b[39m\"\"\"Maps `map_func` across this dataset and flattens the result.\u001b[39;00m\n\u001b[1;32m   2306\u001b[0m \n\u001b[1;32m   2307\u001b[0m \u001b[39m  The type signature is:\u001b[39;00m\n\u001b[0;32m   (...)\u001b[0m\n\u001b[1;32m   2335\u001b[0m \u001b[39m    A new `Dataset` with the transformation applied as described above.\u001b[39;00m\n\u001b[1;32m   2336\u001b[0m \u001b[39m  \"\"\"\u001b[39;00m\n\u001b[0;32m-> 2337\u001b[0m   \u001b[39mreturn\u001b[39;00m FlatMapDataset(\u001b[39mself\u001b[39;49m, map_func, name\u001b[39m=\u001b[39;49mname)\n",
      "File \u001b[0;32m~/anaconda3/envs/trader_env/lib/python3.10/site-packages/tensorflow/python/data/ops/dataset_ops.py:5583\u001b[0m, in \u001b[0;36mFlatMapDataset.__init__\u001b[0;34m(self, input_dataset, map_func, name)\u001b[0m\n\u001b[1;32m   5581\u001b[0m \u001b[39m\u001b[39m\u001b[39m\"\"\"See `Dataset.flat_map()` for details.\"\"\"\u001b[39;00m\n\u001b[1;32m   5582\u001b[0m \u001b[39mself\u001b[39m\u001b[39m.\u001b[39m_input_dataset \u001b[39m=\u001b[39m input_dataset\n\u001b[0;32m-> 5583\u001b[0m \u001b[39mself\u001b[39m\u001b[39m.\u001b[39m_map_func \u001b[39m=\u001b[39m structured_function\u001b[39m.\u001b[39;49mStructuredFunctionWrapper(\n\u001b[1;32m   5584\u001b[0m     map_func, \u001b[39mself\u001b[39;49m\u001b[39m.\u001b[39;49m_transformation_name(), dataset\u001b[39m=\u001b[39;49minput_dataset)\n\u001b[1;32m   5585\u001b[0m \u001b[39mif\u001b[39;00m \u001b[39mnot\u001b[39;00m \u001b[39misinstance\u001b[39m(\u001b[39mself\u001b[39m\u001b[39m.\u001b[39m_map_func\u001b[39m.\u001b[39moutput_structure, DatasetSpec):\n\u001b[1;32m   5586\u001b[0m   \u001b[39mraise\u001b[39;00m \u001b[39mTypeError\u001b[39;00m(\n\u001b[1;32m   5587\u001b[0m       \u001b[39m\"\u001b[39m\u001b[39mThe `map_func` argument must return a `Dataset` object. Got \u001b[39m\u001b[39m\"\u001b[39m\n\u001b[1;32m   5588\u001b[0m       \u001b[39mf\u001b[39m\u001b[39m\"\u001b[39m\u001b[39m{\u001b[39;00m_get_type(\u001b[39mself\u001b[39m\u001b[39m.\u001b[39m_map_func\u001b[39m.\u001b[39moutput_structure)\u001b[39m!r}\u001b[39;00m\u001b[39m.\u001b[39m\u001b[39m\"\u001b[39m)\n",
      "File \u001b[0;32m~/anaconda3/envs/trader_env/lib/python3.10/site-packages/tensorflow/python/data/ops/structured_function.py:263\u001b[0m, in \u001b[0;36mStructuredFunctionWrapper.__init__\u001b[0;34m(self, func, transformation_name, dataset, input_classes, input_shapes, input_types, input_structure, add_to_graph, use_legacy_function, defun_kwargs)\u001b[0m\n\u001b[1;32m    256\u001b[0m       warnings\u001b[39m.\u001b[39mwarn(\n\u001b[1;32m    257\u001b[0m           \u001b[39m\"\u001b[39m\u001b[39mEven though the `tf.config.experimental_run_functions_eagerly` \u001b[39m\u001b[39m\"\u001b[39m\n\u001b[1;32m    258\u001b[0m           \u001b[39m\"\u001b[39m\u001b[39moption is set, this option does not apply to tf.data functions. \u001b[39m\u001b[39m\"\u001b[39m\n\u001b[1;32m    259\u001b[0m           \u001b[39m\"\u001b[39m\u001b[39mTo force eager execution of tf.data functions, please use \u001b[39m\u001b[39m\"\u001b[39m\n\u001b[1;32m    260\u001b[0m           \u001b[39m\"\u001b[39m\u001b[39m`tf.data.experimental.enable_debug_mode()`.\u001b[39m\u001b[39m\"\u001b[39m)\n\u001b[1;32m    261\u001b[0m     fn_factory \u001b[39m=\u001b[39m trace_tf_function(defun_kwargs)\n\u001b[0;32m--> 263\u001b[0m \u001b[39mself\u001b[39m\u001b[39m.\u001b[39m_function \u001b[39m=\u001b[39m fn_factory()\n\u001b[1;32m    264\u001b[0m \u001b[39m# There is no graph to add in eager mode.\u001b[39;00m\n\u001b[1;32m    265\u001b[0m add_to_graph \u001b[39m&\u001b[39m\u001b[39m=\u001b[39m \u001b[39mnot\u001b[39;00m context\u001b[39m.\u001b[39mexecuting_eagerly()\n",
      "File \u001b[0;32m~/anaconda3/envs/trader_env/lib/python3.10/site-packages/tensorflow/python/eager/polymorphic_function/tracing_compiler.py:226\u001b[0m, in \u001b[0;36mTracingCompiler.get_concrete_function\u001b[0;34m(self, *args, **kwargs)\u001b[0m\n\u001b[1;32m    217\u001b[0m \u001b[39mdef\u001b[39;00m \u001b[39mget_concrete_function\u001b[39m(\u001b[39mself\u001b[39m, \u001b[39m*\u001b[39margs, \u001b[39m*\u001b[39m\u001b[39m*\u001b[39mkwargs):\n\u001b[1;32m    218\u001b[0m \u001b[39m  \u001b[39m\u001b[39m\"\"\"Returns a `ConcreteFunction` specialized to inputs and execution context.\u001b[39;00m\n\u001b[1;32m    219\u001b[0m \n\u001b[1;32m    220\u001b[0m \u001b[39m  Args:\u001b[39;00m\n\u001b[0;32m   (...)\u001b[0m\n\u001b[1;32m    224\u001b[0m \u001b[39m      `tf.Tensor` or `tf.TensorSpec`.\u001b[39;00m\n\u001b[1;32m    225\u001b[0m \u001b[39m  \"\"\"\u001b[39;00m\n\u001b[0;32m--> 226\u001b[0m   concrete_function \u001b[39m=\u001b[39m \u001b[39mself\u001b[39;49m\u001b[39m.\u001b[39;49m_get_concrete_function_garbage_collected(\n\u001b[1;32m    227\u001b[0m       \u001b[39m*\u001b[39;49margs, \u001b[39m*\u001b[39;49m\u001b[39m*\u001b[39;49mkwargs)\n\u001b[1;32m    228\u001b[0m   concrete_function\u001b[39m.\u001b[39m_garbage_collector\u001b[39m.\u001b[39mrelease()  \u001b[39m# pylint: disable=protected-access\u001b[39;00m\n\u001b[1;32m    229\u001b[0m   \u001b[39mreturn\u001b[39;00m concrete_function\n",
      "File \u001b[0;32m~/anaconda3/envs/trader_env/lib/python3.10/site-packages/tensorflow/python/eager/polymorphic_function/tracing_compiler.py:192\u001b[0m, in \u001b[0;36mTracingCompiler._get_concrete_function_garbage_collected\u001b[0;34m(self, *args, **kwargs)\u001b[0m\n\u001b[1;32m    189\u001b[0m   \u001b[39mself\u001b[39m\u001b[39m.\u001b[39m_function_spec\u001b[39m.\u001b[39mvalidate_inputs_with_signature(args, kwargs)\n\u001b[1;32m    191\u001b[0m \u001b[39mwith\u001b[39;00m \u001b[39mself\u001b[39m\u001b[39m.\u001b[39m_lock:\n\u001b[0;32m--> 192\u001b[0m   concrete_function, _ \u001b[39m=\u001b[39m \u001b[39mself\u001b[39;49m\u001b[39m.\u001b[39;49m_maybe_define_concrete_function(args, kwargs)\n\u001b[1;32m    193\u001b[0m   seen_names \u001b[39m=\u001b[39m \u001b[39mset\u001b[39m()\n\u001b[1;32m    194\u001b[0m   captured \u001b[39m=\u001b[39m object_identity\u001b[39m.\u001b[39mObjectIdentitySet(\n\u001b[1;32m    195\u001b[0m       concrete_function\u001b[39m.\u001b[39mgraph\u001b[39m.\u001b[39minternal_captures)\n",
      "File \u001b[0;32m~/anaconda3/envs/trader_env/lib/python3.10/site-packages/tensorflow/python/eager/polymorphic_function/tracing_compiler.py:157\u001b[0m, in \u001b[0;36mTracingCompiler._maybe_define_concrete_function\u001b[0;34m(self, args, kwargs)\u001b[0m\n\u001b[1;32m    154\u001b[0m   args \u001b[39m=\u001b[39m \u001b[39mself\u001b[39m\u001b[39m.\u001b[39minput_signature\n\u001b[1;32m    155\u001b[0m   kwargs \u001b[39m=\u001b[39m {}\n\u001b[0;32m--> 157\u001b[0m \u001b[39mreturn\u001b[39;00m \u001b[39mself\u001b[39;49m\u001b[39m.\u001b[39;49m_maybe_define_function(args, kwargs)\n",
      "File \u001b[0;32m~/anaconda3/envs/trader_env/lib/python3.10/site-packages/tensorflow/python/eager/polymorphic_function/tracing_compiler.py:360\u001b[0m, in \u001b[0;36mTracingCompiler._maybe_define_function\u001b[0;34m(self, args, kwargs)\u001b[0m\n\u001b[1;32m    357\u001b[0m   \u001b[39m# Only get placeholders for arguments, not captures\u001b[39;00m\n\u001b[1;32m    358\u001b[0m   args, kwargs \u001b[39m=\u001b[39m generalized_func_key\u001b[39m.\u001b[39m_placeholder_value()  \u001b[39m# pylint: disable=protected-access\u001b[39;00m\n\u001b[0;32m--> 360\u001b[0m concrete_function \u001b[39m=\u001b[39m \u001b[39mself\u001b[39;49m\u001b[39m.\u001b[39;49m_create_concrete_function(args, kwargs)\n\u001b[1;32m    362\u001b[0m graph_capture_container \u001b[39m=\u001b[39m concrete_function\u001b[39m.\u001b[39mgraph\u001b[39m.\u001b[39m_capture_func_lib  \u001b[39m# pylint: disable=protected-access\u001b[39;00m\n\u001b[1;32m    363\u001b[0m \u001b[39m# Maintain the list of all captures\u001b[39;00m\n",
      "File \u001b[0;32m~/anaconda3/envs/trader_env/lib/python3.10/site-packages/tensorflow/python/eager/polymorphic_function/tracing_compiler.py:283\u001b[0m, in \u001b[0;36mTracingCompiler._create_concrete_function\u001b[0;34m(self, args, kwargs)\u001b[0m\n\u001b[1;32m    279\u001b[0m missing_arg_names \u001b[39m=\u001b[39m [\n\u001b[1;32m    280\u001b[0m     \u001b[39m\"\u001b[39m\u001b[39m%s\u001b[39;00m\u001b[39m_\u001b[39m\u001b[39m%d\u001b[39;00m\u001b[39m\"\u001b[39m \u001b[39m%\u001b[39m (arg, i) \u001b[39mfor\u001b[39;00m i, arg \u001b[39min\u001b[39;00m \u001b[39menumerate\u001b[39m(missing_arg_names)\n\u001b[1;32m    281\u001b[0m ]\n\u001b[1;32m    282\u001b[0m arg_names \u001b[39m=\u001b[39m base_arg_names \u001b[39m+\u001b[39m missing_arg_names\n\u001b[0;32m--> 283\u001b[0m concrete_function \u001b[39m=\u001b[39m monomorphic_function\u001b[39m.\u001b[39;49mConcreteFunction(\n\u001b[1;32m    284\u001b[0m     func_graph_module\u001b[39m.\u001b[39;49mfunc_graph_from_py_func(\n\u001b[1;32m    285\u001b[0m         \u001b[39mself\u001b[39;49m\u001b[39m.\u001b[39;49m_name,\n\u001b[1;32m    286\u001b[0m         \u001b[39mself\u001b[39;49m\u001b[39m.\u001b[39;49m_python_function,\n\u001b[1;32m    287\u001b[0m         args,\n\u001b[1;32m    288\u001b[0m         kwargs,\n\u001b[1;32m    289\u001b[0m         \u001b[39mNone\u001b[39;49;00m,\n\u001b[1;32m    290\u001b[0m         autograph\u001b[39m=\u001b[39;49m\u001b[39mself\u001b[39;49m\u001b[39m.\u001b[39;49m_autograph,\n\u001b[1;32m    291\u001b[0m         autograph_options\u001b[39m=\u001b[39;49m\u001b[39mself\u001b[39;49m\u001b[39m.\u001b[39;49m_autograph_options,\n\u001b[1;32m    292\u001b[0m         arg_names\u001b[39m=\u001b[39;49marg_names,\n\u001b[1;32m    293\u001b[0m         capture_by_value\u001b[39m=\u001b[39;49m\u001b[39mself\u001b[39;49m\u001b[39m.\u001b[39;49m_capture_by_value),\n\u001b[1;32m    294\u001b[0m     \u001b[39mself\u001b[39;49m\u001b[39m.\u001b[39;49m_function_attributes,\n\u001b[1;32m    295\u001b[0m     spec\u001b[39m=\u001b[39;49m\u001b[39mself\u001b[39;49m\u001b[39m.\u001b[39;49mfunction_spec,\n\u001b[1;32m    296\u001b[0m     \u001b[39m# Tell the ConcreteFunction to clean up its graph once it goes out of\u001b[39;49;00m\n\u001b[1;32m    297\u001b[0m     \u001b[39m# scope. This is not the default behavior since it gets used in some\u001b[39;49;00m\n\u001b[1;32m    298\u001b[0m     \u001b[39m# places (like Keras) where the FuncGraph lives longer than the\u001b[39;49;00m\n\u001b[1;32m    299\u001b[0m     \u001b[39m# ConcreteFunction.\u001b[39;49;00m\n\u001b[1;32m    300\u001b[0m     shared_func_graph\u001b[39m=\u001b[39;49m\u001b[39mFalse\u001b[39;49;00m)\n\u001b[1;32m    301\u001b[0m \u001b[39mreturn\u001b[39;00m concrete_function\n",
      "File \u001b[0;32m~/anaconda3/envs/trader_env/lib/python3.10/site-packages/tensorflow/python/eager/polymorphic_function/monomorphic_function.py:1323\u001b[0m, in \u001b[0;36mConcreteFunction.__init__\u001b[0;34m(self, func_graph, attrs, shared_func_graph, spec)\u001b[0m\n\u001b[1;32m   1320\u001b[0m \u001b[39mself\u001b[39m\u001b[39m.\u001b[39m_captured_inputs \u001b[39m=\u001b[39m \u001b[39mself\u001b[39m\u001b[39m.\u001b[39m_func_graph\u001b[39m.\u001b[39mexternal_captures \u001b[39m+\u001b[39m \u001b[39mself\u001b[39m\u001b[39m.\u001b[39m_func_graph\u001b[39m.\u001b[39mdeferred_external_captures\n\u001b[1;32m   1322\u001b[0m \u001b[39m# spec defines the structured signature.\u001b[39;00m\n\u001b[0;32m-> 1323\u001b[0m \u001b[39mself\u001b[39;49m\u001b[39m.\u001b[39;49m_set_function_spec(spec)\n\u001b[1;32m   1325\u001b[0m \u001b[39mif\u001b[39;00m attrs \u001b[39mand\u001b[39;00m IMPLEMENTS_ATTRIBUTE_NAME \u001b[39min\u001b[39;00m attrs:\n\u001b[1;32m   1326\u001b[0m   \u001b[39m# The alternative is to silently drop \"implements\" tag\u001b[39;00m\n\u001b[1;32m   1327\u001b[0m   \u001b[39m# but it seems likely it would lead to hard to catch bugs.\u001b[39;00m\n\u001b[0;32m   (...)\u001b[0m\n\u001b[1;32m   1332\u001b[0m   \u001b[39m# Anytime we annotate existing function we probably want to wrap\u001b[39;00m\n\u001b[1;32m   1333\u001b[0m   \u001b[39m# it with safe read_value for backward compatibility.\u001b[39;00m\n\u001b[1;32m   1334\u001b[0m   has_resource_vars \u001b[39m=\u001b[39m \u001b[39many\u001b[39m(\n\u001b[1;32m   1335\u001b[0m       inp\u001b[39m.\u001b[39mdtype \u001b[39m==\u001b[39m dtypes\u001b[39m.\u001b[39mresource \u001b[39mfor\u001b[39;00m inp \u001b[39min\u001b[39;00m \u001b[39mself\u001b[39m\u001b[39m.\u001b[39minputs)\n",
      "File \u001b[0;32m~/anaconda3/envs/trader_env/lib/python3.10/site-packages/tensorflow/python/eager/polymorphic_function/monomorphic_function.py:1375\u001b[0m, in \u001b[0;36mConcreteFunction._set_function_spec\u001b[0;34m(self, spec)\u001b[0m\n\u001b[1;32m   1373\u001b[0m \u001b[39mself\u001b[39m\u001b[39m.\u001b[39m_function_spec \u001b[39m=\u001b[39m \u001b[39mNone\u001b[39;00m\n\u001b[1;32m   1374\u001b[0m \u001b[39mself\u001b[39m\u001b[39m.\u001b[39m_pre_initialized_function_spec \u001b[39m=\u001b[39m spec\n\u001b[0;32m-> 1375\u001b[0m \u001b[39mself\u001b[39;49m\u001b[39m.\u001b[39;49m_initialize_function_spec()\n",
      "File \u001b[0;32m~/anaconda3/envs/trader_env/lib/python3.10/site-packages/tensorflow/python/eager/polymorphic_function/monomorphic_function.py:1404\u001b[0m, in \u001b[0;36mConcreteFunction._initialize_function_spec\u001b[0;34m(self)\u001b[0m\n\u001b[1;32m   1394\u001b[0m vararg_indices \u001b[39m=\u001b[39m \u001b[39mrange\u001b[39m(\u001b[39mlen\u001b[39m(spec\u001b[39m.\u001b[39marg_names), \u001b[39mlen\u001b[39m(arg_specs))\n\u001b[1;32m   1395\u001b[0m fullargspec \u001b[39m=\u001b[39m tf_inspect\u001b[39m.\u001b[39mFullArgSpec(\n\u001b[1;32m   1396\u001b[0m     args\u001b[39m=\u001b[39m\u001b[39mlist\u001b[39m(args) \u001b[39m+\u001b[39m [\u001b[39m\"\u001b[39m\u001b[39marg\u001b[39m\u001b[39m{}\u001b[39;00m\u001b[39m\"\u001b[39m\u001b[39m.\u001b[39mformat(i \u001b[39m+\u001b[39m \u001b[39m1\u001b[39m) \u001b[39mfor\u001b[39;00m i \u001b[39min\u001b[39;00m vararg_indices],\n\u001b[1;32m   1397\u001b[0m     varargs\u001b[39m=\u001b[39m\u001b[39mNone\u001b[39;00m,\n\u001b[0;32m   (...)\u001b[0m\n\u001b[1;32m   1402\u001b[0m         (k, function_spec\u001b[39m.\u001b[39mBOUND_VALUE) \u001b[39mfor\u001b[39;00m k \u001b[39min\u001b[39;00m kwarg_specs),\n\u001b[1;32m   1403\u001b[0m     annotations\u001b[39m=\u001b[39mspec\u001b[39m.\u001b[39mfullargspec\u001b[39m.\u001b[39mannotations)\n\u001b[0;32m-> 1404\u001b[0m \u001b[39mself\u001b[39m\u001b[39m.\u001b[39m_function_spec \u001b[39m=\u001b[39m function_spec\u001b[39m.\u001b[39;49mFunctionSpec(\n\u001b[1;32m   1405\u001b[0m     fullargspec,\n\u001b[1;32m   1406\u001b[0m     spec\u001b[39m.\u001b[39;49mis_method,\n\u001b[1;32m   1407\u001b[0m     spec\u001b[39m.\u001b[39;49minput_signature,\n\u001b[1;32m   1408\u001b[0m     spec\u001b[39m.\u001b[39;49mis_pure,\n\u001b[1;32m   1409\u001b[0m     name\u001b[39m=\u001b[39;49m\u001b[39mself\u001b[39;49m\u001b[39m.\u001b[39;49m_func_graph\u001b[39m.\u001b[39;49mname)\n",
      "File \u001b[0;32m~/anaconda3/envs/trader_env/lib/python3.10/site-packages/tensorflow/python/eager/polymorphic_function/function_spec.py:206\u001b[0m, in \u001b[0;36mFunctionSpec.__init__\u001b[0;34m(self, fullargspec, is_method, input_signature, is_pure, name, jit_compile)\u001b[0m\n\u001b[1;32m    204\u001b[0m \u001b[39mself\u001b[39m\u001b[39m.\u001b[39mvalidate_input_signature_with_argspec()\n\u001b[1;32m    205\u001b[0m \u001b[39mself\u001b[39m\u001b[39m.\u001b[39m_default_values \u001b[39m=\u001b[39m \u001b[39mself\u001b[39m\u001b[39m.\u001b[39m_make_default_values()\n\u001b[0;32m--> 206\u001b[0m \u001b[39mself\u001b[39m\u001b[39m.\u001b[39m_function_type \u001b[39m=\u001b[39m \u001b[39mself\u001b[39;49m\u001b[39m.\u001b[39;49m_make_function_type()\n",
      "File \u001b[0;32m~/anaconda3/envs/trader_env/lib/python3.10/site-packages/tensorflow/python/eager/polymorphic_function/function_spec.py:237\u001b[0m, in \u001b[0;36mFunctionSpec._make_function_type\u001b[0;34m(self)\u001b[0m\n\u001b[1;32m    231\u001b[0m parameters \u001b[39m=\u001b[39m []\n\u001b[1;32m    233\u001b[0m arg_kind \u001b[39m=\u001b[39m (\n\u001b[1;32m    234\u001b[0m     function_type_lib\u001b[39m.\u001b[39mParameter\u001b[39m.\u001b[39mPOSITIONAL_ONLY\n\u001b[1;32m    235\u001b[0m     \u001b[39mif\u001b[39;00m \u001b[39mself\u001b[39m\u001b[39m.\u001b[39mfullargspec\u001b[39m.\u001b[39mkwonlyargs \u001b[39melse\u001b[39;00m\n\u001b[1;32m    236\u001b[0m     function_type_lib\u001b[39m.\u001b[39mParameter\u001b[39m.\u001b[39mPOSITIONAL_OR_KEYWORD)\n\u001b[0;32m--> 237\u001b[0m \u001b[39mfor\u001b[39;00m arg \u001b[39min\u001b[39;00m \u001b[39mself\u001b[39;49m\u001b[39m.\u001b[39;49mfullargspec\u001b[39m.\u001b[39margs:\n\u001b[1;32m    238\u001b[0m   \u001b[39m# TODO(b/249802365): Add sanitization warning when load-bearing.\u001b[39;00m\n\u001b[1;32m    239\u001b[0m   parameters\u001b[39m.\u001b[39mappend(\n\u001b[1;32m    240\u001b[0m       function_type_lib\u001b[39m.\u001b[39mParameter(\n\u001b[1;32m    241\u001b[0m           tensor_spec\u001b[39m.\u001b[39msanitize_spec_name(arg), arg_kind, arg\n\u001b[1;32m    242\u001b[0m           \u001b[39min\u001b[39;00m \u001b[39mself\u001b[39m\u001b[39m.\u001b[39mdefault_values, \u001b[39mNone\u001b[39;00m))\n\u001b[1;32m    244\u001b[0m \u001b[39mif\u001b[39;00m \u001b[39mself\u001b[39m\u001b[39m.\u001b[39mfullargspec\u001b[39m.\u001b[39mvarargs \u001b[39mis\u001b[39;00m \u001b[39mnot\u001b[39;00m \u001b[39mNone\u001b[39;00m:\n",
      "File \u001b[0;32m~/anaconda3/envs/trader_env/lib/python3.10/site-packages/tensorflow/python/eager/polymorphic_function/function_spec.py:293\u001b[0m, in \u001b[0;36mFunctionSpec.fullargspec\u001b[0;34m(self)\u001b[0m\n\u001b[1;32m    290\u001b[0m \u001b[39m  \u001b[39m\u001b[39m\"\"\"Returns a FunctionType representing the Python function signature.\"\"\"\u001b[39;00m\n\u001b[1;32m    291\u001b[0m   \u001b[39mreturn\u001b[39;00m \u001b[39mself\u001b[39m\u001b[39m.\u001b[39m_function_type\n\u001b[0;32m--> 293\u001b[0m \u001b[39m@property\u001b[39m\n\u001b[1;32m    294\u001b[0m \u001b[39mdef\u001b[39;00m \u001b[39mfullargspec\u001b[39m(\u001b[39mself\u001b[39m):\n\u001b[1;32m    295\u001b[0m   \u001b[39mreturn\u001b[39;00m \u001b[39mself\u001b[39m\u001b[39m.\u001b[39m_fullargspec\n\u001b[1;32m    297\u001b[0m \u001b[39m@property\u001b[39m\n\u001b[1;32m    298\u001b[0m \u001b[39mdef\u001b[39;00m \u001b[39mis_method\u001b[39m(\u001b[39mself\u001b[39m):\n",
      "\u001b[0;31mKeyboardInterrupt\u001b[0m: "
     ]
    }
   ],
   "source": [
    "i = 0\n",
    "#for i, param_combination in enumerate(hpo_list):\n",
    "param_combination = hpo_list[0]\n",
    "if param_combination.get('trainer') == 'DQNTrainer':\n",
    "    action_space = 4\n",
    "    algorithm = f'DQN_trial_{i}'\n",
    "else:\n",
    "    action_space = 1\n",
    "    algorithm = f'DRL_trial_{i}'\n",
    "    \n",
    "param_combination['action_space'] = action_space\n",
    "param_combination['algorithm'] = algorithm\n",
    "print(param_combination)\n",
    "\n",
    "env = BTCMarket_Env(observation_space = param_combination.get('obs_space', (8,20)),\n",
    "        action_space = action_space,\n",
    "        start_money = param_combination.get('money', 10000),\n",
    "        trading_fee = param_combination.get('fee', (8,20)),\n",
    "        asset = param_combination.get('asset', 'PERP'),\n",
    "        reward_function = param_combination.get('reward_function', 'reward_differential_sharpe_ratio'),\n",
    "                   )\n",
    "\n",
    "agent = Trader_Agent(observation_space = param_combination.get('obs_space', (8,20)),\n",
    "            action_space = action_space,\n",
    "            action_domain=param_combination.get('action_domain', (0.0,1.0)),\n",
    "            epsilon = param_combination.get('epsilon', 0.7),\n",
    "            epsilon_final = param_combination.get('epsilon_final', 0.01),\n",
    "            epsilon_decay = param_combination.get('epsilon_decay', 0.995),\n",
    "                    )\n",
    "\n",
    "trainer_class = eval(param_combination.get('trainer', 'DRLTrainer'))\n",
    "trainer = trainer_class(env, agent,\n",
    "            observation_space = param_combination.get('obs_space', (8,20)),\n",
    "            action_space = action_space,\n",
    "            batch_size=param_combination.get('batch_size', 50),\n",
    "            epoch=param_combination.get('epoch', 5),\n",
    "            gamma=param_combination.get('gamma', 0.95),\n",
    "            learning_rate=param_combination.get('learning_rate', 1e-3),\n",
    "            algorithm=algorithm,\n",
    "            lstm_path=\"./../notebooks/best_models/11_mar_2023/best_model_sequential_20back_10ahead.h5\",\n",
    "            # best_model_sequential_20back_10ahead lstm_2,\n",
    "                       )\n",
    "\n",
    "os.makedirs(trainer.train_folder,exist_ok=True)\n",
    "with open(f'{trainer.train_folder}/params.json', 'w') as fp:\n",
    "    json.dump(param_combination, fp)\n",
    "    \n",
    "trainer.rollout(n_episodes=param_combination.get('episodes', 2), \n",
    "                   run_per_episode=param_combination.get('runs_p_eps', 2))"
   ]
  },
  {
   "cell_type": "code",
   "execution_count": 36,
   "id": "6143ef96",
   "metadata": {},
   "outputs": [
    {
     "name": "stdout",
     "output_type": "stream",
     "text": [
      "(670, 24)\n"
     ]
    }
   ],
   "source": [
    "# Plot profit\n",
    "dfnn = pd.read_csv(f'/Users/samuelharck/Desktop/Projekt/ai_trader/data/20230418_122912/DRL_trial_0/Epi_1_run_5.csv')\n",
    "#df = pd.read_csv(f'{trainer.train_folder}/Trainer_Data.csv')\n",
    "print(dfnn.shape)\n",
    "#print(max(df.time_elapsed))"
   ]
  },
  {
   "cell_type": "code",
   "execution_count": 37,
   "id": "614e5c13",
   "metadata": {},
   "outputs": [
    {
     "data": {
      "text/plain": [
       "645    [0.]\n",
       "646    [0.]\n",
       "647    [0.]\n",
       "648    [0.]\n",
       "649    [0.]\n",
       "650    [0.]\n",
       "651    [0.]\n",
       "652    [0.]\n",
       "653    [0.]\n",
       "654    [0.]\n",
       "655    [0.]\n",
       "656    [0.]\n",
       "657    [0.]\n",
       "658    [0.]\n",
       "659    [0.]\n",
       "660    [0.]\n",
       "661    [0.]\n",
       "662    [0.]\n",
       "663    [0.]\n",
       "664    [0.]\n",
       "665    [0.]\n",
       "666    [0.]\n",
       "667    [0.]\n",
       "668    [0.]\n",
       "669    [0.]\n",
       "Name: action, dtype: object"
      ]
     },
     "execution_count": 37,
     "metadata": {},
     "output_type": "execute_result"
    }
   ],
   "source": [
    "dfac = dfnn.action\n",
    "dfac.tail(25)"
   ]
  },
  {
   "cell_type": "code",
   "execution_count": 38,
   "id": "40389f77",
   "metadata": {},
   "outputs": [
    {
     "data": {
      "text/plain": [
       "<matplotlib.legend.Legend at 0x18a457790>"
      ]
     },
     "execution_count": 38,
     "metadata": {},
     "output_type": "execute_result"
    },
    {
     "data": {
      "image/png": "[encoded data removed]",
      "text/plain": [
       "<Figure size 640x480 with 1 Axes>"
      ]
     },
     "metadata": {},
     "output_type": "display_data"
    }
   ],
   "source": [
    "#tmp1 = [ast.literal_eval(n) for n in dfnn[\"wallet_value\"]]\n",
    "wallet = dfnn[\"wallet_value\"].to_numpy()\n",
    "wallet = wallet / np.max(wallet)\n",
    "price = dfnn[\"btc_price\"].to_numpy()\n",
    "price = price / np.max(price)\n",
    "plt.plot(wallet, label='wallet value normalized')\n",
    "plt.plot(price, label='btc price normalized')\n",
    "#tmp2 = [ast.literal_eval(n) for n in dfold[\"action\"]]\n",
    "#plt.plot(tmp2, label='old')\n",
    "plt.legend()"
   ]
  },
  {
   "cell_type": "code",
   "execution_count": 39,
   "id": "7f739d6e",
   "metadata": {},
   "outputs": [
    {
     "data": {
      "text/plain": [
       "Index(['Unnamed: 0', 'action', 'short_wallet', 'short_eur', 'funding_rate',\n",
       "       'buy_short_count', 'short_units', 'reward', 'wallet_value', 'btc_price',\n",
       "       'state', 'sell_long_count', 'btc_units', 'done', 'btc_eur', 'episode',\n",
       "       'long_wallet', 'short_position', 'money', 'sell_short_count',\n",
       "       'fee_paid', 'buy_long_count', 'swap_price', 'long_position'],\n",
       "      dtype='object')"
      ]
     },
     "execution_count": 39,
     "metadata": {},
     "output_type": "execute_result"
    }
   ],
   "source": [
    "dfnn.keys()"
   ]
  },
  {
   "cell_type": "code",
   "execution_count": 40,
   "id": "260495ec",
   "metadata": {},
   "outputs": [
    {
     "data": {
      "text/plain": [
       "[<matplotlib.lines.Line2D at 0x18a65ae30>]"
      ]
     },
     "execution_count": 40,
     "metadata": {},
     "output_type": "execute_result"
    },
    {
     "data": {
      "image/png": "[encoded data removed]",
      "text/plain": [
       "<Figure size 640x480 with 1 Axes>"
      ]
     },
     "metadata": {},
     "output_type": "display_data"
    }
   ],
   "source": [
    "y = [ast.literal_eval(x)[0] for x  in dfnn.reward]\n",
    "plt.plot(y)"
   ]
  },
  {
   "cell_type": "code",
   "execution_count": 41,
   "id": "8918a8f1",
   "metadata": {},
   "outputs": [
    {
     "data": {
      "text/plain": [
       "[<matplotlib.lines.Line2D at 0x18a6bb2b0>]"
      ]
     },
     "execution_count": 41,
     "metadata": {},
     "output_type": "execute_result"
    },
    {
     "data": {
      "image/png": "[encoded data removed]",
      "text/plain": [
       "<Figure size 640x480 with 1 Axes>"
      ]
     },
     "metadata": {},
     "output_type": "display_data"
    }
   ],
   "source": [
    "y = [ast.literal_eval(x)[0] for x  in dfnn.action]\n",
    "plt.plot(y)"
   ]
  },
  {
   "cell_type": "code",
   "execution_count": null,
   "id": "b88803b6",
   "metadata": {},
   "outputs": [],
   "source": [
    "dfep = pd.read_csv(f'/Users/samuelharck/Desktop/Projekt/ai_trader/data/20230412_163929/DRL_trial_0/Epi_1_run_1.csv')"
   ]
  },
  {
   "cell_type": "code",
   "execution_count": null,
   "id": "9175bb89",
   "metadata": {},
   "outputs": [],
   "source": [
    "print(dfep.columns)\n",
    "dfep.tail(10)\n"
   ]
  },
  {
   "cell_type": "code",
   "execution_count": null,
   "id": "6b9c6d9d",
   "metadata": {},
   "outputs": [],
   "source": [
    "plt.plot(dfep.wallet_value, label='wallet value')\n",
    "plt.plot(dfep.btc_price, label='btc price')\n",
    "plt.legend()"
   ]
  },
  {
   "cell_type": "code",
   "execution_count": null,
   "id": "198bbe3f",
   "metadata": {},
   "outputs": [],
   "source": [
    "tmp1 = [ast.literal_eval(n) for n in dfnn[\"wallet_value\"]]\n",
    "plt.plot(tmp1, label='new')\n",
    "#tmp2 = [ast.literal_eval(n) for n in dfold[\"action\"]]\n",
    "#plt.plot(tmp2, label='old')\n",
    "plt.legend()"
   ]
  },
  {
   "cell_type": "code",
   "execution_count": null,
   "id": "cee5ae17",
   "metadata": {},
   "outputs": [],
   "source": []
  },
  {
   "cell_type": "code",
   "execution_count": null,
   "id": "c4584378",
   "metadata": {},
   "outputs": [],
   "source": [
    "plt.plot(dfep.action.to_numpy(), label='action')\n",
    "#plt.plot(dfep.btc_price, label='btc price')\n",
    "plt.legend()"
   ]
  },
  {
   "cell_type": "code",
   "execution_count": null,
   "id": "0a4a88ad",
   "metadata": {},
   "outputs": [],
   "source": [
    "df = pd.read_csv(f'/Users/samuelharck/Desktop/Projekt/ai_trader/data/20230412_163929/DRL_trial_0/Trainer_Data.csv')"
   ]
  },
  {
   "cell_type": "code",
   "execution_count": null,
   "id": "6220ba09",
   "metadata": {},
   "outputs": [],
   "source": [
    "import ast\n",
    "tmp = [ast.literal_eval(n) for n in df[\"action\"]]\n",
    "\n",
    "plt.plot(tmp, label='action')\n",
    "#plt.plot(dfep.btc_price, label='btc price')\n",
    "plt.legend()"
   ]
  },
  {
   "cell_type": "code",
   "execution_count": null,
   "id": "84671911",
   "metadata": {},
   "outputs": [],
   "source": []
  }
 ],
 "metadata": {
  "kernelspec": {
   "display_name": "Python 3.10.10 ('trader_env')",
   "language": "python",
   "name": "python3"
  },
  "language_info": {
   "codemirror_mode": {
    "name": "ipython",
    "version": 3
   },
   "file_extension": ".py",
   "mimetype": "text/x-python",
   "name": "python",
   "nbconvert_exporter": "python",
   "pygments_lexer": "ipython3",
   "version": "3.10.10"
  },
  "vscode": {
   "interpreter": {
    "hash": "193b6eebcda6f0fdc212b3de16874a263f723ecb2826f51d93d01e8a7acf7a0c"
   }
  }
 },
 "nbformat": 4,
 "nbformat_minor": 5
}
