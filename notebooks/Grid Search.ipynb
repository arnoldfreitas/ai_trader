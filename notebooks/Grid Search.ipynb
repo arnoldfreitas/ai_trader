{
 "cells": [
  {
   "cell_type": "code",
   "execution_count": 1,
   "id": "7265a1ca",
   "metadata": {},
   "outputs": [
    {
     "name": "stderr",
     "output_type": "stream",
     "text": [
      "2023-03-28 15:07:41.621071: I tensorflow/core/platform/cpu_feature_guard.cc:193] This TensorFlow binary is optimized with oneAPI Deep Neural Network Library (oneDNN) to use the following CPU instructions in performance-critical operations:  AVX2 FMA\n",
      "To enable them in other operations, rebuild TensorFlow with the appropriate compiler flags.\n",
      "2023-03-28 15:07:41.773729: W tensorflow/stream_executor/platform/default/dso_loader.cc:64] Could not load dynamic library 'libcudart.so.11.0'; dlerror: libcudart.so.11.0: cannot open shared object file: No such file or directory; LD_LIBRARY_PATH: :/home/arnold/systemc-2.3.3/lib-linux64\n",
      "2023-03-28 15:07:41.773755: I tensorflow/stream_executor/cuda/cudart_stub.cc:29] Ignore above cudart dlerror if you do not have a GPU set up on your machine.\n",
      "2023-03-28 15:07:41.802775: E tensorflow/stream_executor/cuda/cuda_blas.cc:2981] Unable to register cuBLAS factory: Attempting to register factory for plugin cuBLAS when one has already been registered\n",
      "2023-03-28 15:07:42.431868: W tensorflow/stream_executor/platform/default/dso_loader.cc:64] Could not load dynamic library 'libnvinfer.so.7'; dlerror: libnvinfer.so.7: cannot open shared object file: No such file or directory; LD_LIBRARY_PATH: :/home/arnold/systemc-2.3.3/lib-linux64\n",
      "2023-03-28 15:07:42.436681: W tensorflow/stream_executor/platform/default/dso_loader.cc:64] Could not load dynamic library 'libnvinfer_plugin.so.7'; dlerror: libnvinfer_plugin.so.7: cannot open shared object file: No such file or directory; LD_LIBRARY_PATH: :/home/arnold/systemc-2.3.3/lib-linux64\n",
      "2023-03-28 15:07:42.436701: W tensorflow/compiler/tf2tensorrt/utils/py_utils.cc:38] TF-TRT Warning: Cannot dlopen some TensorRT libraries. If you would like to use Nvidia GPU with TensorRT, please make sure the missing libraries mentioned above are installed properly.\n"
     ]
    }
   ],
   "source": [
    "import sys\n",
    "import os\n",
    "from datetime import datetime\n",
    "import json\n",
    "import shutil\n",
    "import random\n",
    "\n",
    "import numpy as np\n",
    "import pandas as pd\n",
    "import tensorflow as tf\n",
    "from tensorflow import keras\n",
    "from tqdm import tqdm_notebook, tqdm\n",
    "from matplotlib import pyplot as plt\n",
    "\n",
    "sys.path.append('../src/')\n",
    "from env import BTCMarket_Env\n",
    "from agent import Trader_Agent\n",
    "from DQNtrainer import DQNTrainer\n",
    "from DRLtrainer import DRLTrainer\n",
    "from collections import deque\n",
    "import h5py\n",
    "from itertools import product\n"
   ]
  },
  {
   "cell_type": "code",
   "execution_count": 2,
   "id": "9b930559",
   "metadata": {},
   "outputs": [
    {
     "name": "stdout",
     "output_type": "stream",
     "text": [
      "[{'obs_space': (8, 20), 'action_domain': (0.0, 1.0), 'money': 10000, 'fee': 0.001, 'asset': 'BTC', 'reward_function': 'compute_reward_from_tutor', 'learning_rate': 0.001, 'trainer': 'DRLTrainer', 'episodes': 1, 'runs_p_eps': 1, 'batch_size': 1, 'epoch': 5, 'gamma': 0.95, 'epsilon': 0.7, 'epsilon_final': 0.01, 'epsilon_decay': 0.995}, {'obs_space': (8, 20), 'action_domain': (0.0, 1.0), 'money': 10000, 'fee': 0.001, 'asset': 'PERP', 'reward_function': 'compute_reward_from_tutor', 'learning_rate': 0.001, 'trainer': 'DRLTrainer', 'episodes': 1, 'runs_p_eps': 1, 'batch_size': 1, 'epoch': 5, 'gamma': 0.95, 'epsilon': 0.7, 'epsilon_final': 0.01, 'epsilon_decay': 0.995}]\n"
     ]
    }
   ],
   "source": [
    "hpo_params= { \n",
    "    'obs_space' : [(8,20)], \n",
    "    'action_domain' : [(0.0,1.0)], # (-1.0,1.0),\n",
    "    'money' : [10000], \n",
    "    'fee' : [0.001], \n",
    "    'asset' : ['BTC', 'PERP'],\n",
    "#    'reward_function' : ['compute_reward_from_tutor', 'reward_sharpe_ratio', 'reward_sortino_ratio', \n",
    "#                        'reward_differential_sharpe_ratio', 'reward_sterling_ratio'],\n",
    "    'reward_function' : ['compute_reward_from_tutor'],\n",
    "    \n",
    "    'learning_rate': [1e-3],\n",
    "    'trainer' : ['DRLTrainer'], # 'DRLTrainer', 'DQNTrainer'\n",
    "    'episodes' : [1], \n",
    "    'runs_p_eps' : [1], \n",
    "    'batch_size': [1],\n",
    "    'epoch': [5],\n",
    "    'gamma': [0.95],\n",
    "    \n",
    "    'epsilon': [0.7],\n",
    "    'epsilon_final':[0.01],\n",
    "    'epsilon_decay':[0.995],\n",
    "}\n",
    "\n",
    "\n",
    "keys, values = zip(*hpo_params.items())\n",
    "hpo_list = [dict(zip(keys, v)) for v in product(*values)]\n",
    "print(hpo_list)"
   ]
  },
  {
   "cell_type": "code",
   "execution_count": 3,
   "id": "efbfdc5e",
   "metadata": {},
   "outputs": [
    {
     "name": "stdout",
     "output_type": "stream",
     "text": [
      "{'obs_space': (8, 20), 'action_domain': (0.0, 1.0), 'money': 10000, 'fee': 0.001, 'asset': 'BTC', 'reward_function': 'compute_reward_from_tutor', 'learning_rate': 0.001, 'trainer': 'DRLTrainer', 'episodes': 1, 'runs_p_eps': 1, 'batch_size': 1, 'epoch': 5, 'gamma': 0.95, 'epsilon': 0.7, 'epsilon_final': 0.01, 'epsilon_decay': 0.995, 'action_space': 1, 'algorithm': 'DRL_trial_0'}\n"
     ]
    },
    {
     "name": "stderr",
     "output_type": "stream",
     "text": [
      "2023-03-28 15:07:47.380115: W tensorflow/stream_executor/platform/default/dso_loader.cc:64] Could not load dynamic library 'libcuda.so.1'; dlerror: libcuda.so.1: cannot open shared object file: No such file or directory; LD_LIBRARY_PATH: :/home/arnold/systemc-2.3.3/lib-linux64\n",
      "2023-03-28 15:07:47.380178: W tensorflow/stream_executor/cuda/cuda_driver.cc:263] failed call to cuInit: UNKNOWN ERROR (303)\n",
      "2023-03-28 15:07:47.380202: I tensorflow/stream_executor/cuda/cuda_diagnostics.cc:156] kernel driver does not appear to be running on this host (DESKTOP-0OFSB15): /proc/driver/nvidia/version does not exist\n",
      "2023-03-28 15:07:47.380488: I tensorflow/core/platform/cpu_feature_guard.cc:193] This TensorFlow binary is optimized with oneAPI Deep Neural Network Library (oneDNN) to use the following CPU instructions in performance-critical operations:  AVX2 FMA\n",
      "To enable them in other operations, rebuild TensorFlow with the appropriate compiler flags.\n"
     ]
    },
    {
     "name": "stdout",
     "output_type": "stream",
     "text": [
      "Model: \"model\"\n",
      "__________________________________________________________________________________________________\n",
      " Layer (type)                   Output Shape         Param #     Connected to                     \n",
      "==================================================================================================\n",
      " input_1 (InputLayer)           [(None, 20, 8)]      0           []                               \n",
      "                                                                                                  \n",
      " lstm_inputs (Lambda)           (None, 20, 4)        0           ['input_1[0][0]']                \n",
      "                                                                                                  \n",
      " sequential (Sequential)        (None, 10)           1953940     ['lstm_inputs[0][0]']            \n",
      "                                                                                                  \n",
      " flatten_1 (Flatten)            (None, 10)           0           ['sequential[0][0]']             \n",
      "                                                                                                  \n",
      " flatten (Flatten)              (None, 160)          0           ['input_1[0][0]']                \n",
      "                                                                                                  \n",
      " tf.reshape (TFOpLambda)        (None, 10)           0           ['flatten_1[0][0]']              \n",
      "                                                                                                  \n",
      " concatenate (Concatenate)      (None, 170)          0           ['flatten[0][0]',                \n",
      "                                                                  'tf.reshape[0][0]']             \n",
      "                                                                                                  \n",
      " dense (Dense)                  (None, 256)          43776       ['concatenate[0][0]']            \n",
      "                                                                                                  \n",
      " dense_1 (Dense)                (None, 128)          32896       ['dense[0][0]']                  \n",
      "                                                                                                  \n",
      " dense_2 (Dense)                (None, 64)           8256        ['dense_1[0][0]']                \n",
      "                                                                                                  \n",
      " dense_3 (Dense)                (None, 1)            65          ['dense_2[0][0]']                \n",
      "                                                                                                  \n",
      "==================================================================================================\n",
      "Total params: 2,038,933\n",
      "Trainable params: 84,993\n",
      "Non-trainable params: 1,953,940\n",
      "__________________________________________________________________________________________________\n",
      "Model Loss: <DRLtrainer.DRLLossFunctions object at 0x7efe18571900>\n",
      "Episode: 1/1\n",
      "Episode: 1/1 || Run 1/1\n"
     ]
    },
    {
     "name": "stderr",
     "output_type": "stream",
     "text": [
      "\r",
      "  0%|                                                                                 | 0/671 [00:00<?, ?it/s]"
     ]
    },
    {
     "name": "stdout",
     "output_type": "stream",
     "text": [
      "Epoch 1/5\n",
      "1/1 [==============================] - 5s 5s/step - loss: -0.9983\n",
      "Epoch 2/5\n",
      "1/1 [==============================] - 0s 27ms/step - loss: -0.9983\n",
      "Epoch 3/5\n",
      "1/1 [==============================] - 0s 36ms/step - loss: -0.9983\n",
      "Epoch 4/5\n",
      "1/1 [==============================] - 0s 38ms/step - loss: -0.9983\n",
      "Epoch 5/5\n",
      "1/1 [==============================] - 0s 33ms/step - loss: -0.9983\n"
     ]
    },
    {
     "name": "stderr",
     "output_type": "stream",
     "text": [
      "\r",
      "  0%|▏                                                                        | 2/671 [00:05<29:13,  2.62s/it]"
     ]
    },
    {
     "name": "stdout",
     "output_type": "stream",
     "text": [
      "Epoch 1/5\n",
      "1/1 [==============================] - 0s 34ms/step - loss: -0.9984\n",
      "Epoch 2/5\n",
      "1/1 [==============================] - 0s 32ms/step - loss: -0.9984\n",
      "Epoch 3/5\n",
      "1/1 [==============================] - 0s 29ms/step - loss: -0.9984\n",
      "Epoch 4/5\n",
      "1/1 [==============================] - 0s 28ms/step - loss: -0.9984\n",
      "Epoch 5/5\n",
      "1/1 [==============================] - 0s 32ms/step - loss: -0.9984\n"
     ]
    },
    {
     "name": "stderr",
     "output_type": "stream",
     "text": [
      "\r",
      "  1%|▍                                                                        | 4/671 [00:05<12:53,  1.16s/it]"
     ]
    },
    {
     "name": "stdout",
     "output_type": "stream",
     "text": [
      "Epoch 1/5\n",
      "1/1 [==============================] - 0s 26ms/step - loss: -0.9973\n",
      "Epoch 2/5\n",
      "1/1 [==============================] - 0s 30ms/step - loss: -0.9973\n",
      "Epoch 3/5\n",
      "1/1 [==============================] - 0s 26ms/step - loss: -0.9973\n",
      "Epoch 4/5\n",
      "1/1 [==============================] - 0s 29ms/step - loss: -0.9973\n",
      "Epoch 5/5\n",
      "1/1 [==============================] - 0s 27ms/step - loss: -0.9973\n"
     ]
    },
    {
     "name": "stderr",
     "output_type": "stream",
     "text": [
      "\r",
      "  1%|▋                                                                        | 6/671 [00:05<07:36,  1.46it/s]"
     ]
    },
    {
     "name": "stdout",
     "output_type": "stream",
     "text": [
      "Epoch 1/5\n",
      "1/1 [==============================] - 0s 25ms/step - loss: -0.9966\n",
      "Epoch 2/5\n",
      "1/1 [==============================] - 0s 31ms/step - loss: -0.9966\n",
      "Epoch 3/5\n",
      "1/1 [==============================] - 0s 38ms/step - loss: -0.9966\n",
      "Epoch 4/5\n",
      "1/1 [==============================] - 0s 30ms/step - loss: -0.9966\n",
      "Epoch 5/5\n",
      "1/1 [==============================] - 0s 34ms/step - loss: -0.9966\n"
     ]
    },
    {
     "name": "stderr",
     "output_type": "stream",
     "text": [
      "\r",
      "  1%|▊                                                                        | 8/671 [00:06<05:09,  2.14it/s]"
     ]
    },
    {
     "name": "stdout",
     "output_type": "stream",
     "text": [
      "Epoch 1/5\n",
      "1/1 [==============================] - 0s 26ms/step - loss: -0.9965\n",
      "Epoch 2/5\n",
      "1/1 [==============================] - 0s 29ms/step - loss: -0.9965\n",
      "Epoch 3/5\n",
      "1/1 [==============================] - 0s 38ms/step - loss: -0.9965\n",
      "Epoch 4/5\n",
      "1/1 [==============================] - 0s 31ms/step - loss: -0.9965\n",
      "Epoch 5/5\n",
      "1/1 [==============================] - 0s 23ms/step - loss: -0.9965\n"
     ]
    },
    {
     "name": "stderr",
     "output_type": "stream",
     "text": [
      "\r",
      "  1%|█                                                                       | 10/671 [00:06<03:47,  2.91it/s]"
     ]
    },
    {
     "name": "stdout",
     "output_type": "stream",
     "text": [
      "Epoch 1/5\n",
      "1/1 [==============================] - 0s 22ms/step - loss: -0.9971\n",
      "Epoch 2/5\n",
      "1/1 [==============================] - 0s 22ms/step - loss: -0.9971\n",
      "Epoch 3/5\n",
      "1/1 [==============================] - 0s 25ms/step - loss: -0.9971\n",
      "Epoch 4/5\n",
      "1/1 [==============================] - 0s 27ms/step - loss: -0.9971\n",
      "Epoch 5/5\n",
      "1/1 [==============================] - 0s 28ms/step - loss: -0.9971\n"
     ]
    },
    {
     "name": "stderr",
     "output_type": "stream",
     "text": [
      "\r",
      "  2%|█▎                                                                      | 12/671 [00:06<02:55,  3.76it/s]"
     ]
    },
    {
     "name": "stdout",
     "output_type": "stream",
     "text": [
      "Epoch 1/5\n",
      "1/1 [==============================] - 0s 24ms/step - loss: -0.9958\n",
      "Epoch 2/5\n",
      "1/1 [==============================] - 0s 25ms/step - loss: -0.9958\n",
      "Epoch 3/5\n",
      "1/1 [==============================] - 0s 32ms/step - loss: -0.9958\n",
      "Epoch 4/5\n",
      "1/1 [==============================] - 0s 32ms/step - loss: -0.9958\n",
      "Epoch 5/5\n",
      "1/1 [==============================] - 0s 24ms/step - loss: -0.9958\n"
     ]
    },
    {
     "name": "stderr",
     "output_type": "stream",
     "text": [
      "\r",
      "  2%|█▌                                                                      | 14/671 [00:06<02:23,  4.58it/s]"
     ]
    },
    {
     "name": "stdout",
     "output_type": "stream",
     "text": [
      "Epoch 1/5\n",
      "1/1 [==============================] - 0s 22ms/step - loss: -1.0001\n",
      "Epoch 2/5\n",
      "1/1 [==============================] - 0s 23ms/step - loss: -1.0001\n",
      "Epoch 3/5\n",
      "1/1 [==============================] - 0s 25ms/step - loss: -1.0001\n",
      "Epoch 4/5\n",
      "1/1 [==============================] - 0s 26ms/step - loss: -1.0001\n",
      "Epoch 5/5\n",
      "1/1 [==============================] - 0s 26ms/step - loss: -1.0001\n"
     ]
    },
    {
     "name": "stderr",
     "output_type": "stream",
     "text": [
      "\r",
      "  2%|█▋                                                                      | 16/671 [00:06<01:59,  5.49it/s]"
     ]
    },
    {
     "name": "stdout",
     "output_type": "stream",
     "text": [
      "Epoch 1/5\n",
      "1/1 [==============================] - 0s 24ms/step - loss: -0.9976\n",
      "Epoch 2/5\n",
      "1/1 [==============================] - 0s 24ms/step - loss: -0.9976\n",
      "Epoch 3/5\n",
      "1/1 [==============================] - 0s 24ms/step - loss: -0.9976\n",
      "Epoch 4/5\n",
      "1/1 [==============================] - 0s 29ms/step - loss: -0.9976\n",
      "Epoch 5/5\n",
      "1/1 [==============================] - 0s 26ms/step - loss: -0.9976\n"
     ]
    },
    {
     "name": "stderr",
     "output_type": "stream",
     "text": [
      "\r",
      "  3%|█▉                                                                      | 18/671 [00:08<04:45,  2.29it/s]"
     ]
    },
    {
     "name": "stdout",
     "output_type": "stream",
     "text": [
      "Epoch 1/5\n",
      "1/1 [==============================] - 0s 25ms/step - loss: -0.9965\n",
      "Epoch 2/5\n",
      "1/1 [==============================] - 0s 28ms/step - loss: -0.9965\n",
      "Epoch 3/5\n",
      "1/1 [==============================] - 0s 28ms/step - loss: -0.9965\n",
      "Epoch 4/5\n",
      "1/1 [==============================] - 0s 25ms/step - loss: -0.9965\n",
      "Epoch 5/5\n",
      "1/1 [==============================] - 0s 25ms/step - loss: -0.9965\n"
     ]
    },
    {
     "name": "stderr",
     "output_type": "stream",
     "text": [
      "\r",
      "  3%|██▏                                                                     | 20/671 [00:09<03:46,  2.88it/s]"
     ]
    },
    {
     "name": "stdout",
     "output_type": "stream",
     "text": [
      "Epoch 1/5\n",
      "1/1 [==============================] - 0s 23ms/step - loss: -0.9964\n",
      "Epoch 2/5\n",
      "1/1 [==============================] - 0s 26ms/step - loss: -0.9964\n",
      "Epoch 3/5\n",
      "1/1 [==============================] - 0s 28ms/step - loss: -0.9964\n",
      "Epoch 4/5\n",
      "1/1 [==============================] - 0s 28ms/step - loss: -0.9964\n",
      "Epoch 5/5\n",
      "1/1 [==============================] - 0s 27ms/step - loss: -0.9964\n"
     ]
    },
    {
     "name": "stderr",
     "output_type": "stream",
     "text": [
      "\r",
      "  3%|██▎                                                                     | 22/671 [00:09<02:58,  3.63it/s]"
     ]
    },
    {
     "name": "stdout",
     "output_type": "stream",
     "text": [
      "Epoch 1/5\n",
      "1/1 [==============================] - 0s 21ms/step - loss: -0.9965\n",
      "Epoch 2/5\n",
      "1/1 [==============================] - 0s 21ms/step - loss: -0.9965\n",
      "Epoch 3/5\n",
      "1/1 [==============================] - 0s 27ms/step - loss: -0.9965\n",
      "Epoch 4/5\n",
      "1/1 [==============================] - 0s 26ms/step - loss: -0.9965\n",
      "Epoch 5/5\n",
      "1/1 [==============================] - 0s 45ms/step - loss: -0.9965\n"
     ]
    },
    {
     "name": "stderr",
     "output_type": "stream",
     "text": [
      "\r",
      "  4%|██▌                                                                     | 24/671 [00:09<02:34,  4.20it/s]"
     ]
    },
    {
     "name": "stdout",
     "output_type": "stream",
     "text": [
      "Epoch 1/5\n",
      "1/1 [==============================] - 0s 21ms/step - loss: -0.9948\n",
      "Epoch 2/5\n",
      "1/1 [==============================] - 0s 26ms/step - loss: -0.9948\n",
      "Epoch 3/5\n",
      "1/1 [==============================] - 0s 27ms/step - loss: -0.9948\n",
      "Epoch 4/5\n",
      "1/1 [==============================] - 0s 25ms/step - loss: -0.9948\n",
      "Epoch 5/5\n",
      "1/1 [==============================] - 0s 30ms/step - loss: -0.9948\n"
     ]
    },
    {
     "name": "stderr",
     "output_type": "stream",
     "text": [
      "\r",
      "  4%|██▊                                                                     | 26/671 [00:10<02:30,  4.28it/s]"
     ]
    },
    {
     "name": "stdout",
     "output_type": "stream",
     "text": [
      "Epoch 1/5\n",
      "1/1 [==============================] - 0s 29ms/step - loss: -0.9944\n",
      "Epoch 2/5\n",
      "1/1 [==============================] - 0s 31ms/step - loss: -0.9944\n",
      "Epoch 3/5\n",
      "1/1 [==============================] - 0s 31ms/step - loss: -0.9944\n",
      "Epoch 4/5\n",
      "1/1 [==============================] - 0s 29ms/step - loss: -0.9944\n",
      "Epoch 5/5\n",
      "1/1 [==============================] - 0s 31ms/step - loss: -0.9944\n"
     ]
    },
    {
     "name": "stderr",
     "output_type": "stream",
     "text": [
      "\r",
      "  4%|███                                                                     | 28/671 [00:10<02:36,  4.10it/s]"
     ]
    },
    {
     "name": "stdout",
     "output_type": "stream",
     "text": [
      "Epoch 1/5\n",
      "1/1 [==============================] - 0s 29ms/step - loss: -0.9941\n",
      "Epoch 2/5\n",
      "1/1 [==============================] - 0s 32ms/step - loss: -0.9941\n",
      "Epoch 3/5\n",
      "1/1 [==============================] - 0s 29ms/step - loss: -0.9941\n",
      "Epoch 4/5\n",
      "1/1 [==============================] - 0s 32ms/step - loss: -0.9941\n",
      "Epoch 5/5\n",
      "1/1 [==============================] - 0s 26ms/step - loss: -0.9941\n"
     ]
    },
    {
     "name": "stderr",
     "output_type": "stream",
     "text": [
      "\r",
      "  4%|███▏                                                                    | 30/671 [00:11<02:29,  4.28it/s]"
     ]
    },
    {
     "name": "stdout",
     "output_type": "stream",
     "text": [
      "Epoch 1/5\n",
      "1/1 [==============================] - 0s 25ms/step - loss: -0.9938\n",
      "Epoch 2/5\n",
      "1/1 [==============================] - 0s 23ms/step - loss: -0.9938\n",
      "Epoch 3/5\n",
      "1/1 [==============================] - 0s 28ms/step - loss: -0.9938\n",
      "Epoch 4/5\n",
      "1/1 [==============================] - 0s 26ms/step - loss: -0.9938\n",
      "Epoch 5/5\n",
      "1/1 [==============================] - 0s 26ms/step - loss: -0.9938\n"
     ]
    },
    {
     "name": "stderr",
     "output_type": "stream",
     "text": [
      "\r",
      "  5%|███▍                                                                    | 32/671 [00:11<02:13,  4.78it/s]"
     ]
    },
    {
     "name": "stdout",
     "output_type": "stream",
     "text": [
      "Epoch 1/5\n",
      "1/1 [==============================] - 0s 23ms/step - loss: -0.9941\n",
      "Epoch 2/5\n",
      "1/1 [==============================] - 0s 23ms/step - loss: -0.9941\n",
      "Epoch 3/5\n",
      "1/1 [==============================] - 0s 26ms/step - loss: -0.9941\n",
      "Epoch 4/5\n",
      "1/1 [==============================] - 0s 28ms/step - loss: -0.9941\n",
      "Epoch 5/5\n",
      "1/1 [==============================] - 0s 35ms/step - loss: -0.9941\n"
     ]
    },
    {
     "name": "stderr",
     "output_type": "stream",
     "text": [
      "\r",
      "  5%|███▋                                                                    | 34/671 [00:11<02:16,  4.68it/s]"
     ]
    },
    {
     "name": "stdout",
     "output_type": "stream",
     "text": [
      "Epoch 1/5\n",
      "1/1 [==============================] - 0s 22ms/step - loss: -0.9933\n",
      "Epoch 2/5\n",
      "1/1 [==============================] - 0s 21ms/step - loss: -0.9933\n",
      "Epoch 3/5\n",
      "1/1 [==============================] - 0s 26ms/step - loss: -0.9933\n",
      "Epoch 4/5\n",
      "1/1 [==============================] - 0s 29ms/step - loss: -0.9933\n",
      "Epoch 5/5\n",
      "1/1 [==============================] - 0s 25ms/step - loss: -0.9933\n"
     ]
    },
    {
     "name": "stderr",
     "output_type": "stream",
     "text": [
      "\r",
      "  5%|███▊                                                                    | 36/671 [00:12<02:14,  4.71it/s]"
     ]
    },
    {
     "name": "stdout",
     "output_type": "stream",
     "text": [
      "Epoch 1/5\n",
      "1/1 [==============================] - 0s 23ms/step - loss: -0.9921\n",
      "Epoch 2/5\n",
      "1/1 [==============================] - 0s 26ms/step - loss: -0.9921\n",
      "Epoch 3/5\n",
      "1/1 [==============================] - 0s 27ms/step - loss: -0.9921\n",
      "Epoch 4/5\n",
      "1/1 [==============================] - 0s 23ms/step - loss: -0.9921\n",
      "Epoch 5/5\n",
      "1/1 [==============================] - 0s 27ms/step - loss: -0.9921\n"
     ]
    },
    {
     "name": "stderr",
     "output_type": "stream",
     "text": [
      "\r",
      "  6%|████                                                                    | 38/671 [00:12<01:55,  5.48it/s]"
     ]
    },
    {
     "name": "stdout",
     "output_type": "stream",
     "text": [
      "Epoch 1/5\n",
      "1/1 [==============================] - 0s 19ms/step - loss: -0.9895\n",
      "Epoch 2/5\n",
      "1/1 [==============================] - 0s 23ms/step - loss: -0.9895\n",
      "Epoch 3/5\n",
      "1/1 [==============================] - 0s 25ms/step - loss: -0.9895\n",
      "Epoch 4/5\n",
      "1/1 [==============================] - 0s 25ms/step - loss: -0.9895\n",
      "Epoch 5/5\n",
      "1/1 [==============================] - 0s 23ms/step - loss: -0.9895\n"
     ]
    },
    {
     "name": "stderr",
     "output_type": "stream",
     "text": [
      "\r",
      "  6%|████▎                                                                   | 40/671 [00:12<01:45,  5.98it/s]"
     ]
    },
    {
     "name": "stdout",
     "output_type": "stream",
     "text": [
      "Epoch 1/5\n",
      "1/1 [==============================] - 0s 25ms/step - loss: -0.9892\n",
      "Epoch 2/5\n",
      "1/1 [==============================] - 0s 28ms/step - loss: -0.9892\n",
      "Epoch 3/5\n",
      "1/1 [==============================] - 0s 26ms/step - loss: -0.9892\n",
      "Epoch 4/5\n",
      "1/1 [==============================] - 0s 25ms/step - loss: -0.9892\n",
      "Epoch 5/5\n",
      "1/1 [==============================] - 0s 25ms/step - loss: -0.9892\n"
     ]
    },
    {
     "name": "stderr",
     "output_type": "stream",
     "text": [
      "\r",
      "  6%|████▌                                                                   | 42/671 [00:13<01:35,  6.61it/s]"
     ]
    },
    {
     "name": "stdout",
     "output_type": "stream",
     "text": [
      "Epoch 1/5\n",
      "1/1 [==============================] - 0s 22ms/step - loss: -0.9890\n",
      "Epoch 2/5\n",
      "1/1 [==============================] - 0s 34ms/step - loss: -0.9890\n",
      "Epoch 3/5\n",
      "1/1 [==============================] - 0s 30ms/step - loss: -0.9890\n",
      "Epoch 4/5\n",
      "1/1 [==============================] - 0s 31ms/step - loss: -0.9890\n",
      "Epoch 5/5\n",
      "1/1 [==============================] - 0s 30ms/step - loss: -0.9890\n"
     ]
    },
    {
     "name": "stderr",
     "output_type": "stream",
     "text": [
      "\r",
      "  7%|████▋                                                                   | 44/671 [00:13<01:35,  6.57it/s]"
     ]
    },
    {
     "name": "stdout",
     "output_type": "stream",
     "text": [
      "Epoch 1/5\n",
      "1/1 [==============================] - 0s 25ms/step - loss: -0.9878\n",
      "Epoch 2/5\n",
      "1/1 [==============================] - 0s 31ms/step - loss: -0.9878\n",
      "Epoch 3/5\n",
      "1/1 [==============================] - 0s 26ms/step - loss: -0.9878\n",
      "Epoch 4/5\n",
      "1/1 [==============================] - 0s 33ms/step - loss: -0.9878\n",
      "Epoch 5/5\n",
      "1/1 [==============================] - 0s 29ms/step - loss: -0.9878\n"
     ]
    },
    {
     "name": "stderr",
     "output_type": "stream",
     "text": [
      "  7%|█████                                                                   | 47/671 [00:13<01:25,  7.29it/s]"
     ]
    },
    {
     "name": "stdout",
     "output_type": "stream",
     "text": [
      "Epoch 1/5\n",
      "1/1 [==============================] - 0s 26ms/step - loss: -0.9875\n",
      "Epoch 2/5\n",
      "1/1 [==============================] - 0s 28ms/step - loss: -0.9875\n",
      "Epoch 3/5\n",
      "1/1 [==============================] - 0s 21ms/step - loss: -0.9875\n",
      "Epoch 4/5\n",
      "1/1 [==============================] - 0s 22ms/step - loss: -0.9875\n",
      "Epoch 5/5\n",
      "1/1 [==============================] - 0s 29ms/step - loss: -0.9875\n"
     ]
    },
    {
     "name": "stderr",
     "output_type": "stream",
     "text": [
      "\r",
      "  7%|█████▏                                                                  | 48/671 [00:13<01:36,  6.47it/s]"
     ]
    },
    {
     "name": "stdout",
     "output_type": "stream",
     "text": [
      "Epoch 1/5\n",
      "1/1 [==============================] - 0s 28ms/step - loss: -0.9886\n",
      "Epoch 2/5\n",
      "1/1 [==============================] - 0s 23ms/step - loss: -0.9886\n",
      "Epoch 3/5\n",
      "1/1 [==============================] - 0s 27ms/step - loss: -0.9886\n",
      "Epoch 4/5\n",
      "1/1 [==============================] - 0s 28ms/step - loss: -0.9886\n",
      "Epoch 5/5\n",
      "1/1 [==============================] - 0s 31ms/step - loss: -0.9886\n"
     ]
    },
    {
     "name": "stderr",
     "output_type": "stream",
     "text": [
      "\r",
      "  7%|█████▎                                                                  | 50/671 [00:14<01:37,  6.39it/s]"
     ]
    },
    {
     "name": "stdout",
     "output_type": "stream",
     "text": [
      "Epoch 1/5\n",
      "1/1 [==============================] - 0s 27ms/step - loss: -0.9881\n",
      "Epoch 2/5\n",
      "1/1 [==============================] - 0s 32ms/step - loss: -0.9881\n",
      "Epoch 3/5\n",
      "1/1 [==============================] - 0s 32ms/step - loss: -0.9881\n",
      "Epoch 4/5\n",
      "1/1 [==============================] - 0s 24ms/step - loss: -0.9881\n",
      "Epoch 5/5\n",
      "1/1 [==============================] - 0s 34ms/step - loss: -0.9881\n"
     ]
    },
    {
     "name": "stderr",
     "output_type": "stream",
     "text": [
      "\r",
      "  8%|█████▌                                                                  | 52/671 [00:14<01:31,  6.80it/s]"
     ]
    },
    {
     "name": "stdout",
     "output_type": "stream",
     "text": [
      "Epoch 1/5\n",
      "1/1 [==============================] - 0s 25ms/step - loss: -0.9877\n",
      "Epoch 2/5\n",
      "1/1 [==============================] - 0s 27ms/step - loss: -0.9877\n",
      "Epoch 3/5\n",
      "1/1 [==============================] - 0s 30ms/step - loss: -0.9877\n",
      "Epoch 4/5\n",
      "1/1 [==============================] - 0s 26ms/step - loss: -0.9877\n",
      "Epoch 5/5\n",
      "1/1 [==============================] - 0s 26ms/step - loss: -0.9877\n"
     ]
    },
    {
     "name": "stderr",
     "output_type": "stream",
     "text": [
      "\r",
      "  8%|█████▊                                                                  | 54/671 [00:14<01:32,  6.68it/s]"
     ]
    },
    {
     "name": "stdout",
     "output_type": "stream",
     "text": [
      "Epoch 1/5\n",
      "1/1 [==============================] - 0s 29ms/step - loss: -0.9863\n",
      "Epoch 2/5\n",
      "1/1 [==============================] - 0s 31ms/step - loss: -0.9863\n",
      "Epoch 3/5\n",
      "1/1 [==============================] - 0s 32ms/step - loss: -0.9863\n",
      "Epoch 4/5\n",
      "1/1 [==============================] - 0s 29ms/step - loss: -0.9863\n",
      "Epoch 5/5\n",
      "1/1 [==============================] - 0s 30ms/step - loss: -0.9863\n"
     ]
    },
    {
     "name": "stderr",
     "output_type": "stream",
     "text": [
      "\r",
      "  8%|██████                                                                  | 56/671 [00:15<01:27,  7.06it/s]"
     ]
    },
    {
     "name": "stdout",
     "output_type": "stream",
     "text": [
      "Epoch 1/5\n",
      "1/1 [==============================] - 0s 29ms/step - loss: -0.9853\n",
      "Epoch 2/5\n",
      "1/1 [==============================] - 0s 31ms/step - loss: -0.9853\n",
      "Epoch 3/5\n",
      "1/1 [==============================] - 0s 27ms/step - loss: -0.9853\n",
      "Epoch 4/5\n",
      "1/1 [==============================] - 0s 32ms/step - loss: -0.9853\n",
      "Epoch 5/5\n",
      "1/1 [==============================] - 0s 31ms/step - loss: -0.9853\n"
     ]
    },
    {
     "name": "stderr",
     "output_type": "stream",
     "text": [
      "\r",
      "  9%|██████▏                                                                 | 58/671 [00:15<01:25,  7.15it/s]"
     ]
    },
    {
     "name": "stdout",
     "output_type": "stream",
     "text": [
      "Epoch 1/5\n",
      "1/1 [==============================] - 0s 26ms/step - loss: -0.9864\n",
      "Epoch 2/5\n",
      "1/1 [==============================] - 0s 27ms/step - loss: -0.9864\n",
      "Epoch 3/5\n",
      "1/1 [==============================] - 0s 27ms/step - loss: -0.9864\n",
      "Epoch 4/5\n",
      "1/1 [==============================] - 0s 25ms/step - loss: -0.9864\n",
      "Epoch 5/5\n",
      "1/1 [==============================] - 0s 24ms/step - loss: -0.9864\n"
     ]
    },
    {
     "name": "stderr",
     "output_type": "stream",
     "text": [
      "\r",
      "  9%|██████▍                                                                 | 60/671 [00:15<01:22,  7.44it/s]"
     ]
    },
    {
     "name": "stdout",
     "output_type": "stream",
     "text": [
      "Epoch 1/5\n",
      "1/1 [==============================] - 0s 25ms/step - loss: -0.9872\n",
      "Epoch 2/5\n",
      "1/1 [==============================] - 0s 31ms/step - loss: -0.9872\n",
      "Epoch 3/5\n",
      "1/1 [==============================] - 0s 30ms/step - loss: -0.9872\n",
      "Epoch 4/5\n",
      "1/1 [==============================] - 0s 27ms/step - loss: -0.9872\n",
      "Epoch 5/5\n",
      "1/1 [==============================] - 0s 29ms/step - loss: -0.9872\n"
     ]
    },
    {
     "name": "stderr",
     "output_type": "stream",
     "text": [
      "\r",
      "  9%|██████▋                                                                 | 62/671 [00:15<01:27,  6.95it/s]"
     ]
    },
    {
     "name": "stdout",
     "output_type": "stream",
     "text": [
      "Epoch 1/5\n",
      "1/1 [==============================] - 0s 21ms/step - loss: -0.9861\n",
      "Epoch 2/5\n",
      "1/1 [==============================] - 0s 21ms/step - loss: -0.9861\n",
      "Epoch 3/5\n",
      "1/1 [==============================] - 0s 28ms/step - loss: -0.9861\n",
      "Epoch 4/5\n",
      "1/1 [==============================] - 0s 29ms/step - loss: -0.9861\n",
      "Epoch 5/5\n",
      "1/1 [==============================] - 0s 28ms/step - loss: -0.9861\n"
     ]
    },
    {
     "name": "stderr",
     "output_type": "stream",
     "text": [
      "\r",
      " 10%|██████▊                                                                 | 64/671 [00:16<01:26,  7.00it/s]"
     ]
    },
    {
     "name": "stdout",
     "output_type": "stream",
     "text": [
      "Epoch 1/5\n",
      "1/1 [==============================] - 0s 22ms/step - loss: -0.9801\n",
      "Epoch 2/5\n",
      "1/1 [==============================] - 0s 21ms/step - loss: -0.9801\n",
      "Epoch 3/5\n",
      "1/1 [==============================] - 0s 32ms/step - loss: -0.9801\n",
      "Epoch 4/5\n",
      "1/1 [==============================] - 0s 28ms/step - loss: -0.9801\n",
      "Epoch 5/5\n",
      "1/1 [==============================] - 0s 29ms/step - loss: -0.9801\n"
     ]
    },
    {
     "name": "stderr",
     "output_type": "stream",
     "text": [
      "\r",
      " 10%|███████                                                                 | 66/671 [00:16<01:26,  7.00it/s]"
     ]
    },
    {
     "name": "stdout",
     "output_type": "stream",
     "text": [
      "Epoch 1/5\n",
      "1/1 [==============================] - 0s 25ms/step - loss: -0.9762\n",
      "Epoch 2/5\n",
      "1/1 [==============================] - 0s 24ms/step - loss: -0.9762\n",
      "Epoch 3/5\n",
      "1/1 [==============================] - 0s 29ms/step - loss: -0.9762\n",
      "Epoch 4/5\n",
      "1/1 [==============================] - 0s 28ms/step - loss: -0.9762\n",
      "Epoch 5/5\n",
      "1/1 [==============================] - 0s 29ms/step - loss: -0.9762\n"
     ]
    },
    {
     "name": "stderr",
     "output_type": "stream",
     "text": [
      "\r",
      " 10%|███████▎                                                                | 68/671 [00:16<01:37,  6.19it/s]"
     ]
    },
    {
     "name": "stdout",
     "output_type": "stream",
     "text": [
      "Epoch 1/5\n",
      "1/1 [==============================] - 0s 22ms/step - loss: -0.9768\n",
      "Epoch 2/5\n",
      "1/1 [==============================] - 0s 31ms/step - loss: -0.9768\n",
      "Epoch 3/5\n",
      "1/1 [==============================] - 0s 28ms/step - loss: -0.9768\n",
      "Epoch 4/5\n",
      "1/1 [==============================] - 0s 29ms/step - loss: -0.9768\n",
      "Epoch 5/5\n",
      "1/1 [==============================] - 0s 28ms/step - loss: -0.9768\n"
     ]
    },
    {
     "name": "stderr",
     "output_type": "stream",
     "text": [
      "\r",
      " 10%|███████▌                                                                | 70/671 [00:17<01:39,  6.01it/s]"
     ]
    },
    {
     "name": "stdout",
     "output_type": "stream",
     "text": [
      "Epoch 1/5\n",
      "1/1 [==============================] - 0s 25ms/step - loss: -0.9762\n",
      "Epoch 2/5\n",
      "1/1 [==============================] - 0s 26ms/step - loss: -0.9762\n",
      "Epoch 3/5\n",
      "1/1 [==============================] - 0s 23ms/step - loss: -0.9762\n",
      "Epoch 4/5\n",
      "1/1 [==============================] - 0s 28ms/step - loss: -0.9762\n",
      "Epoch 5/5\n",
      "1/1 [==============================] - 0s 28ms/step - loss: -0.9762\n"
     ]
    },
    {
     "name": "stderr",
     "output_type": "stream",
     "text": [
      "\r",
      " 11%|███████▋                                                                | 72/671 [00:17<01:38,  6.10it/s]"
     ]
    },
    {
     "name": "stdout",
     "output_type": "stream",
     "text": [
      "Epoch 1/5\n",
      "1/1 [==============================] - 0s 26ms/step - loss: -0.9761\n",
      "Epoch 2/5\n",
      "1/1 [==============================] - 0s 27ms/step - loss: -0.9761\n",
      "Epoch 3/5\n",
      "1/1 [==============================] - 0s 32ms/step - loss: -0.9761\n",
      "Epoch 4/5\n",
      "1/1 [==============================] - 0s 24ms/step - loss: -0.9761\n",
      "Epoch 5/5\n",
      "1/1 [==============================] - 0s 27ms/step - loss: -0.9761\n"
     ]
    },
    {
     "name": "stderr",
     "output_type": "stream",
     "text": [
      "\r",
      " 11%|███████▉                                                                | 74/671 [00:17<01:29,  6.66it/s]"
     ]
    },
    {
     "name": "stdout",
     "output_type": "stream",
     "text": [
      "Epoch 1/5\n",
      "1/1 [==============================] - 0s 18ms/step - loss: -0.9754\n",
      "Epoch 2/5\n",
      "1/1 [==============================] - 0s 22ms/step - loss: -0.9754\n",
      "Epoch 3/5\n",
      "1/1 [==============================] - 0s 30ms/step - loss: -0.9754\n",
      "Epoch 4/5\n",
      "1/1 [==============================] - 0s 31ms/step - loss: -0.9754\n",
      "Epoch 5/5\n",
      "1/1 [==============================] - 0s 32ms/step - loss: -0.9754\n"
     ]
    },
    {
     "name": "stderr",
     "output_type": "stream",
     "text": [
      "\r",
      " 11%|████████▏                                                               | 76/671 [00:18<01:29,  6.66it/s]"
     ]
    },
    {
     "name": "stdout",
     "output_type": "stream",
     "text": [
      "Epoch 1/5\n",
      "1/1 [==============================] - 0s 28ms/step - loss: -0.9757\n",
      "Epoch 2/5\n",
      "1/1 [==============================] - 0s 30ms/step - loss: -0.9757\n",
      "Epoch 3/5\n",
      "1/1 [==============================] - 0s 28ms/step - loss: -0.9757\n",
      "Epoch 4/5\n",
      "1/1 [==============================] - 0s 25ms/step - loss: -0.9757\n",
      "Epoch 5/5\n",
      "1/1 [==============================] - 0s 23ms/step - loss: -0.9757\n"
     ]
    },
    {
     "name": "stderr",
     "output_type": "stream",
     "text": [
      "\r",
      " 12%|████████▎                                                               | 78/671 [00:18<01:38,  6.03it/s]"
     ]
    },
    {
     "name": "stdout",
     "output_type": "stream",
     "text": [
      "Epoch 1/5\n",
      "1/1 [==============================] - 0s 29ms/step - loss: -0.9754\n",
      "Epoch 2/5\n",
      "1/1 [==============================] - 0s 38ms/step - loss: -0.9754\n",
      "Epoch 3/5\n",
      "1/1 [==============================] - 0s 31ms/step - loss: -0.9754\n",
      "Epoch 4/5\n",
      "1/1 [==============================] - 0s 24ms/step - loss: -0.9754\n",
      "Epoch 5/5\n",
      "1/1 [==============================] - 0s 26ms/step - loss: -0.9754\n"
     ]
    },
    {
     "name": "stderr",
     "output_type": "stream",
     "text": [
      "\r",
      " 12%|████████▌                                                               | 80/671 [00:18<01:47,  5.49it/s]"
     ]
    },
    {
     "name": "stdout",
     "output_type": "stream",
     "text": [
      "Epoch 1/5\n",
      "1/1 [==============================] - 0s 20ms/step - loss: -0.9725\n",
      "Epoch 2/5\n",
      "1/1 [==============================] - 0s 29ms/step - loss: -0.9725\n",
      "Epoch 3/5\n",
      "1/1 [==============================] - 0s 31ms/step - loss: -0.9725\n",
      "Epoch 4/5\n",
      "1/1 [==============================] - 0s 29ms/step - loss: -0.9725\n",
      "Epoch 5/5\n",
      "1/1 [==============================] - 0s 33ms/step - loss: -0.9725\n"
     ]
    },
    {
     "name": "stderr",
     "output_type": "stream",
     "text": [
      "\r",
      " 12%|████████▊                                                               | 82/671 [00:19<01:47,  5.46it/s]"
     ]
    },
    {
     "name": "stdout",
     "output_type": "stream",
     "text": [
      "Epoch 1/5\n",
      "1/1 [==============================] - 0s 21ms/step - loss: -0.9717\n",
      "Epoch 2/5\n",
      "1/1 [==============================] - 0s 28ms/step - loss: -0.9717\n",
      "Epoch 3/5\n",
      "1/1 [==============================] - 0s 23ms/step - loss: -0.9717\n",
      "Epoch 4/5\n",
      "1/1 [==============================] - 0s 23ms/step - loss: -0.9717\n",
      "Epoch 5/5\n",
      "1/1 [==============================] - 0s 29ms/step - loss: -0.9717\n"
     ]
    },
    {
     "name": "stderr",
     "output_type": "stream",
     "text": [
      "\r",
      " 13%|█████████                                                               | 84/671 [00:19<01:35,  6.13it/s]"
     ]
    },
    {
     "name": "stdout",
     "output_type": "stream",
     "text": [
      "Epoch 1/5\n",
      "1/1 [==============================] - 0s 22ms/step - loss: -0.9694\n",
      "Epoch 2/5\n",
      "1/1 [==============================] - 0s 24ms/step - loss: -0.9694\n",
      "Epoch 3/5\n",
      "1/1 [==============================] - 0s 24ms/step - loss: -0.9694\n",
      "Epoch 4/5\n",
      "1/1 [==============================] - 0s 24ms/step - loss: -0.9694\n",
      "Epoch 5/5\n",
      "1/1 [==============================] - 0s 27ms/step - loss: -0.9694\n"
     ]
    },
    {
     "name": "stderr",
     "output_type": "stream",
     "text": [
      "\r",
      " 13%|█████████▏                                                              | 86/671 [00:19<01:25,  6.82it/s]"
     ]
    },
    {
     "name": "stdout",
     "output_type": "stream",
     "text": [
      "Epoch 1/5\n",
      "1/1 [==============================] - 0s 23ms/step - loss: -0.9694\n",
      "Epoch 2/5\n",
      "1/1 [==============================] - 0s 32ms/step - loss: -0.9694\n",
      "Epoch 3/5\n",
      "1/1 [==============================] - 0s 31ms/step - loss: -0.9694\n",
      "Epoch 4/5\n",
      "1/1 [==============================] - 0s 31ms/step - loss: -0.9694\n",
      "Epoch 5/5\n",
      "1/1 [==============================] - 0s 30ms/step - loss: -0.9694\n"
     ]
    },
    {
     "name": "stderr",
     "output_type": "stream",
     "text": [
      "\r",
      " 13%|█████████▍                                                              | 88/671 [00:20<01:27,  6.64it/s]"
     ]
    },
    {
     "name": "stdout",
     "output_type": "stream",
     "text": [
      "Epoch 1/5\n",
      "1/1 [==============================] - 0s 19ms/step - loss: -0.9685\n",
      "Epoch 2/5\n",
      "1/1 [==============================] - 0s 23ms/step - loss: -0.9685\n",
      "Epoch 3/5\n",
      "1/1 [==============================] - 0s 23ms/step - loss: -0.9685\n",
      "Epoch 4/5\n",
      "1/1 [==============================] - 0s 23ms/step - loss: -0.9685\n",
      "Epoch 5/5\n",
      "1/1 [==============================] - 0s 27ms/step - loss: -0.9685\n"
     ]
    },
    {
     "name": "stderr",
     "output_type": "stream",
     "text": [
      "\r",
      " 13%|█████████▋                                                              | 90/671 [00:20<01:31,  6.38it/s]"
     ]
    },
    {
     "name": "stdout",
     "output_type": "stream",
     "text": [
      "Epoch 1/5\n",
      "1/1 [==============================] - 0s 25ms/step - loss: -0.9690\n",
      "Epoch 2/5\n",
      "1/1 [==============================] - 0s 28ms/step - loss: -0.9690\n",
      "Epoch 3/5\n",
      "1/1 [==============================] - 0s 26ms/step - loss: -0.9690\n",
      "Epoch 4/5\n",
      "1/1 [==============================] - 0s 23ms/step - loss: -0.9690\n",
      "Epoch 5/5\n",
      "1/1 [==============================] - 0s 29ms/step - loss: -0.9690\n"
     ]
    },
    {
     "name": "stderr",
     "output_type": "stream",
     "text": [
      "\r",
      " 14%|█████████▊                                                              | 92/671 [00:20<01:30,  6.40it/s]"
     ]
    },
    {
     "name": "stdout",
     "output_type": "stream",
     "text": [
      "Epoch 1/5\n",
      "1/1 [==============================] - 0s 30ms/step - loss: -0.9655\n",
      "Epoch 2/5\n",
      "1/1 [==============================] - 0s 32ms/step - loss: -0.9655\n",
      "Epoch 3/5\n",
      "1/1 [==============================] - 0s 31ms/step - loss: -0.9655\n",
      "Epoch 4/5\n",
      "1/1 [==============================] - 0s 31ms/step - loss: -0.9655\n",
      "Epoch 5/5\n",
      "1/1 [==============================] - 0s 27ms/step - loss: -0.9655\n"
     ]
    },
    {
     "name": "stderr",
     "output_type": "stream",
     "text": [
      "\r",
      " 14%|██████████                                                              | 94/671 [00:21<01:32,  6.26it/s]"
     ]
    },
    {
     "name": "stdout",
     "output_type": "stream",
     "text": [
      "Epoch 1/5\n",
      "1/1 [==============================] - 0s 22ms/step - loss: -0.9654\n",
      "Epoch 2/5\n",
      "1/1 [==============================] - 0s 22ms/step - loss: -0.9654\n",
      "Epoch 3/5\n",
      "1/1 [==============================] - 0s 27ms/step - loss: -0.9654\n",
      "Epoch 4/5\n",
      "1/1 [==============================] - 0s 28ms/step - loss: -0.9654\n",
      "Epoch 5/5\n",
      "1/1 [==============================] - 0s 25ms/step - loss: -0.9654\n"
     ]
    },
    {
     "name": "stderr",
     "output_type": "stream",
     "text": [
      "\r",
      " 14%|██████████▎                                                             | 96/671 [00:21<01:30,  6.36it/s]"
     ]
    },
    {
     "name": "stdout",
     "output_type": "stream",
     "text": [
      "Epoch 1/5\n",
      "1/1 [==============================] - 0s 21ms/step - loss: -0.9656\n",
      "Epoch 2/5\n",
      "1/1 [==============================] - 0s 28ms/step - loss: -0.9656\n",
      "Epoch 3/5\n",
      "1/1 [==============================] - 0s 28ms/step - loss: -0.9656\n",
      "Epoch 4/5\n",
      "1/1 [==============================] - 0s 31ms/step - loss: -0.9656\n",
      "Epoch 5/5\n",
      "1/1 [==============================] - 0s 31ms/step - loss: -0.9656\n"
     ]
    },
    {
     "name": "stderr",
     "output_type": "stream",
     "text": [
      "\r",
      " 15%|██████████▌                                                             | 98/671 [00:21<01:29,  6.42it/s]"
     ]
    },
    {
     "name": "stdout",
     "output_type": "stream",
     "text": [
      "Epoch 1/5\n",
      "1/1 [==============================] - 0s 24ms/step - loss: -0.9657\n",
      "Epoch 2/5\n",
      "1/1 [==============================] - 0s 26ms/step - loss: -0.9657\n",
      "Epoch 3/5\n",
      "1/1 [==============================] - 0s 28ms/step - loss: -0.9657\n",
      "Epoch 4/5\n",
      "1/1 [==============================] - 0s 29ms/step - loss: -0.9657\n",
      "Epoch 5/5\n",
      "1/1 [==============================] - 0s 25ms/step - loss: -0.9657\n"
     ]
    },
    {
     "name": "stderr",
     "output_type": "stream",
     "text": [
      " 15%|██████████▋                                                            | 101/671 [00:22<02:42,  3.50it/s]"
     ]
    },
    {
     "name": "stdout",
     "output_type": "stream",
     "text": [
      "Data saved\n",
      "episode 1, run (1/1) sample (100/671).Profit -339.21999999999935\n",
      "Epoch 1/5\n",
      "1/1 [==============================] - 0s 21ms/step - loss: -0.9661\n",
      "Epoch 2/5\n",
      "1/1 [==============================] - 0s 22ms/step - loss: -0.9661\n",
      "Epoch 3/5\n",
      "1/1 [==============================] - 0s 23ms/step - loss: -0.9661\n",
      "Epoch 4/5\n",
      "1/1 [==============================] - 0s 30ms/step - loss: -0.9661\n",
      "Epoch 5/5\n",
      "1/1 [==============================] - 0s 27ms/step - loss: -0.9661\n"
     ]
    },
    {
     "name": "stderr",
     "output_type": "stream",
     "text": [
      "\r",
      " 15%|██████████▊                                                            | 102/671 [00:23<02:32,  3.74it/s]"
     ]
    },
    {
     "name": "stdout",
     "output_type": "stream",
     "text": [
      "Epoch 1/5\n",
      "1/1 [==============================] - 0s 21ms/step - loss: -0.9659\n",
      "Epoch 2/5\n",
      "1/1 [==============================] - 0s 21ms/step - loss: -0.9659\n",
      "Epoch 3/5\n",
      "1/1 [==============================] - 0s 19ms/step - loss: -0.9659\n",
      "Epoch 4/5\n",
      "1/1 [==============================] - 0s 26ms/step - loss: -0.9659\n",
      "Epoch 5/5\n",
      "1/1 [==============================] - 0s 21ms/step - loss: -0.9659\n"
     ]
    },
    {
     "name": "stderr",
     "output_type": "stream",
     "text": [
      "\r",
      " 15%|███████████                                                            | 104/671 [00:23<02:03,  4.60it/s]"
     ]
    },
    {
     "name": "stdout",
     "output_type": "stream",
     "text": [
      "Epoch 1/5\n",
      "1/1 [==============================] - 0s 24ms/step - loss: -0.9649\n",
      "Epoch 2/5\n",
      "1/1 [==============================] - 0s 26ms/step - loss: -0.9649\n",
      "Epoch 3/5\n",
      "1/1 [==============================] - 0s 26ms/step - loss: -0.9649\n",
      "Epoch 4/5\n",
      "1/1 [==============================] - 0s 26ms/step - loss: -0.9649\n",
      "Epoch 5/5\n",
      "1/1 [==============================] - 0s 22ms/step - loss: -0.9649\n"
     ]
    },
    {
     "name": "stderr",
     "output_type": "stream",
     "text": [
      "\r",
      " 16%|███████████▏                                                           | 106/671 [00:23<01:49,  5.17it/s]"
     ]
    },
    {
     "name": "stdout",
     "output_type": "stream",
     "text": [
      "Epoch 1/5\n",
      "1/1 [==============================] - 0s 19ms/step - loss: -0.9637\n",
      "Epoch 2/5\n",
      "1/1 [==============================] - 0s 27ms/step - loss: -0.9637\n",
      "Epoch 3/5\n",
      "1/1 [==============================] - 0s 28ms/step - loss: -0.9637\n",
      "Epoch 4/5\n",
      "1/1 [==============================] - 0s 29ms/step - loss: -0.9637\n",
      "Epoch 5/5\n",
      "1/1 [==============================] - 0s 29ms/step - loss: -0.9637\n"
     ]
    },
    {
     "name": "stderr",
     "output_type": "stream",
     "text": [
      "\r",
      " 16%|███████████▍                                                           | 108/671 [00:24<01:46,  5.29it/s]"
     ]
    },
    {
     "name": "stdout",
     "output_type": "stream",
     "text": [
      "Epoch 1/5\n",
      "1/1 [==============================] - 0s 17ms/step - loss: -0.9646\n",
      "Epoch 2/5\n",
      "1/1 [==============================] - 0s 21ms/step - loss: -0.9646\n",
      "Epoch 3/5\n",
      "1/1 [==============================] - 0s 26ms/step - loss: -0.9646\n",
      "Epoch 4/5\n",
      "1/1 [==============================] - 0s 28ms/step - loss: -0.9646\n",
      "Epoch 5/5\n",
      "1/1 [==============================] - 0s 30ms/step - loss: -0.9646\n"
     ]
    },
    {
     "name": "stderr",
     "output_type": "stream",
     "text": [
      "\r",
      " 16%|███████████▋                                                           | 110/671 [00:24<01:36,  5.83it/s]"
     ]
    },
    {
     "name": "stdout",
     "output_type": "stream",
     "text": [
      "Epoch 1/5\n",
      "1/1 [==============================] - 0s 22ms/step - loss: -0.9644\n",
      "Epoch 2/5\n",
      "1/1 [==============================] - 0s 21ms/step - loss: -0.9644\n",
      "Epoch 3/5\n",
      "1/1 [==============================] - 0s 28ms/step - loss: -0.9644\n",
      "Epoch 4/5\n",
      "1/1 [==============================] - 0s 29ms/step - loss: -0.9644\n",
      "Epoch 5/5\n",
      "1/1 [==============================] - 0s 29ms/step - loss: -0.9644\n"
     ]
    },
    {
     "name": "stderr",
     "output_type": "stream",
     "text": [
      "\r",
      " 17%|███████████▊                                                           | 112/671 [00:24<01:30,  6.17it/s]"
     ]
    },
    {
     "name": "stdout",
     "output_type": "stream",
     "text": [
      "Epoch 1/5\n",
      "1/1 [==============================] - 0s 23ms/step - loss: -0.9637\n",
      "Epoch 2/5\n",
      "1/1 [==============================] - 0s 26ms/step - loss: -0.9637\n",
      "Epoch 3/5\n",
      "1/1 [==============================] - 0s 24ms/step - loss: -0.9637\n",
      "Epoch 4/5\n",
      "1/1 [==============================] - 0s 23ms/step - loss: -0.9637\n",
      "Epoch 5/5\n",
      "1/1 [==============================] - 0s 24ms/step - loss: -0.9637\n"
     ]
    },
    {
     "name": "stderr",
     "output_type": "stream",
     "text": [
      "\r",
      " 17%|████████████                                                           | 114/671 [00:24<01:28,  6.33it/s]"
     ]
    },
    {
     "name": "stdout",
     "output_type": "stream",
     "text": [
      "Epoch 1/5\n",
      "1/1 [==============================] - 0s 22ms/step - loss: -0.9655\n",
      "Epoch 2/5\n",
      "1/1 [==============================] - 0s 22ms/step - loss: -0.9655\n",
      "Epoch 3/5\n",
      "1/1 [==============================] - 0s 29ms/step - loss: -0.9655\n",
      "Epoch 4/5\n",
      "1/1 [==============================] - 0s 30ms/step - loss: -0.9655\n",
      "Epoch 5/5\n",
      "1/1 [==============================] - 0s 27ms/step - loss: -0.9655\n"
     ]
    },
    {
     "name": "stderr",
     "output_type": "stream",
     "text": [
      " 17%|████████████▍                                                          | 117/671 [00:25<01:31,  6.03it/s]"
     ]
    },
    {
     "name": "stdout",
     "output_type": "stream",
     "text": [
      "Epoch 1/5\n",
      "1/1 [==============================] - 0s 22ms/step - loss: -0.9623\n",
      "Epoch 2/5\n",
      "1/1 [==============================] - 0s 21ms/step - loss: -0.9623\n",
      "Epoch 3/5\n",
      "1/1 [==============================] - 0s 20ms/step - loss: -0.9623\n",
      "Epoch 4/5\n",
      "1/1 [==============================] - 0s 22ms/step - loss: -0.9623\n",
      "Epoch 5/5\n",
      "1/1 [==============================] - 0s 19ms/step - loss: -0.9623\n"
     ]
    },
    {
     "name": "stderr",
     "output_type": "stream",
     "text": [
      "\r",
      " 18%|████████████▍                                                          | 118/671 [00:25<01:33,  5.92it/s]"
     ]
    },
    {
     "name": "stdout",
     "output_type": "stream",
     "text": [
      "Epoch 1/5\n",
      "1/1 [==============================] - 0s 22ms/step - loss: -0.9615\n",
      "Epoch 2/5\n",
      "1/1 [==============================] - 0s 23ms/step - loss: -0.9615\n",
      "Epoch 3/5\n",
      "1/1 [==============================] - 0s 24ms/step - loss: -0.9615\n",
      "Epoch 4/5\n",
      "1/1 [==============================] - 0s 26ms/step - loss: -0.9615\n",
      "Epoch 5/5\n",
      "1/1 [==============================] - 0s 25ms/step - loss: -0.9615\n"
     ]
    },
    {
     "name": "stderr",
     "output_type": "stream",
     "text": [
      "\r",
      " 18%|████████████▋                                                          | 120/671 [00:25<01:20,  6.87it/s]"
     ]
    },
    {
     "name": "stdout",
     "output_type": "stream",
     "text": [
      "Epoch 1/5\n",
      "1/1 [==============================] - 0s 19ms/step - loss: -0.9611\n",
      "Epoch 2/5\n",
      "1/1 [==============================] - 0s 23ms/step - loss: -0.9611\n",
      "Epoch 3/5\n",
      "1/1 [==============================] - 0s 26ms/step - loss: -0.9611\n",
      "Epoch 4/5\n",
      "1/1 [==============================] - 0s 27ms/step - loss: -0.9611\n",
      "Epoch 5/5\n",
      "1/1 [==============================] - 0s 24ms/step - loss: -0.9611\n"
     ]
    },
    {
     "name": "stderr",
     "output_type": "stream",
     "text": [
      "\r",
      " 18%|████████████▉                                                          | 122/671 [00:26<01:23,  6.56it/s]"
     ]
    },
    {
     "name": "stdout",
     "output_type": "stream",
     "text": [
      "Epoch 1/5\n",
      "1/1 [==============================] - 0s 19ms/step - loss: -0.9617\n",
      "Epoch 2/5\n",
      "1/1 [==============================] - 0s 23ms/step - loss: -0.9617\n",
      "Epoch 3/5\n",
      "1/1 [==============================] - 0s 28ms/step - loss: -0.9617\n",
      "Epoch 4/5\n",
      "1/1 [==============================] - 0s 25ms/step - loss: -0.9617\n",
      "Epoch 5/5\n",
      "1/1 [==============================] - 0s 25ms/step - loss: -0.9617\n"
     ]
    },
    {
     "name": "stderr",
     "output_type": "stream",
     "text": [
      "\r",
      " 18%|█████████████                                                          | 124/671 [00:26<01:21,  6.70it/s]"
     ]
    },
    {
     "name": "stdout",
     "output_type": "stream",
     "text": [
      "Epoch 1/5\n",
      "1/1 [==============================] - 0s 23ms/step - loss: -0.9616\n",
      "Epoch 2/5\n",
      "1/1 [==============================] - 0s 24ms/step - loss: -0.9616\n",
      "Epoch 3/5\n",
      "1/1 [==============================] - 0s 27ms/step - loss: -0.9616\n",
      "Epoch 4/5\n",
      "1/1 [==============================] - 0s 29ms/step - loss: -0.9616\n",
      "Epoch 5/5\n",
      "1/1 [==============================] - 0s 25ms/step - loss: -0.9616\n"
     ]
    },
    {
     "name": "stderr",
     "output_type": "stream",
     "text": [
      "\r",
      " 19%|█████████████▎                                                         | 126/671 [00:26<01:14,  7.31it/s]"
     ]
    },
    {
     "name": "stdout",
     "output_type": "stream",
     "text": [
      "Epoch 1/5\n",
      "1/1 [==============================] - 0s 24ms/step - loss: -0.9603\n",
      "Epoch 2/5\n",
      "1/1 [==============================] - 0s 25ms/step - loss: -0.9603\n",
      "Epoch 3/5\n",
      "1/1 [==============================] - 0s 26ms/step - loss: -0.9603\n",
      "Epoch 4/5\n",
      "1/1 [==============================] - 0s 26ms/step - loss: -0.9603\n",
      "Epoch 5/5\n",
      "1/1 [==============================] - 0s 25ms/step - loss: -0.9603\n"
     ]
    },
    {
     "name": "stderr",
     "output_type": "stream",
     "text": [
      "\r",
      " 19%|█████████████▌                                                         | 128/671 [00:26<01:14,  7.26it/s]"
     ]
    },
    {
     "name": "stdout",
     "output_type": "stream",
     "text": [
      "Epoch 1/5\n",
      "1/1 [==============================] - 0s 20ms/step - loss: -0.9590\n",
      "Epoch 2/5\n",
      "1/1 [==============================] - 0s 23ms/step - loss: -0.9590\n",
      "Epoch 3/5\n",
      "1/1 [==============================] - 0s 24ms/step - loss: -0.9590\n",
      "Epoch 4/5\n",
      "1/1 [==============================] - 0s 27ms/step - loss: -0.9590\n",
      "Epoch 5/5\n",
      "1/1 [==============================] - 0s 27ms/step - loss: -0.9590\n"
     ]
    },
    {
     "name": "stderr",
     "output_type": "stream",
     "text": [
      "\r",
      " 19%|█████████████▊                                                         | 130/671 [00:27<01:14,  7.30it/s]"
     ]
    },
    {
     "name": "stdout",
     "output_type": "stream",
     "text": [
      "Epoch 1/5\n",
      "1/1 [==============================] - 0s 20ms/step - loss: -0.9609\n",
      "Epoch 2/5\n",
      "1/1 [==============================] - 0s 21ms/step - loss: -0.9609\n",
      "Epoch 3/5\n",
      "1/1 [==============================] - 0s 26ms/step - loss: -0.9609\n",
      "Epoch 4/5\n",
      "1/1 [==============================] - 0s 25ms/step - loss: -0.9609\n",
      "Epoch 5/5\n",
      "1/1 [==============================] - 0s 23ms/step - loss: -0.9609\n"
     ]
    },
    {
     "name": "stderr",
     "output_type": "stream",
     "text": [
      "\r",
      " 20%|█████████████▉                                                         | 132/671 [00:27<01:20,  6.71it/s]"
     ]
    },
    {
     "name": "stdout",
     "output_type": "stream",
     "text": [
      "Epoch 1/5\n",
      "1/1 [==============================] - 0s 23ms/step - loss: -0.9602\n",
      "Epoch 2/5\n",
      "1/1 [==============================] - 0s 23ms/step - loss: -0.9602\n",
      "Epoch 3/5\n",
      "1/1 [==============================] - 0s 23ms/step - loss: -0.9602\n",
      "Epoch 4/5\n",
      "1/1 [==============================] - 0s 29ms/step - loss: -0.9602\n",
      "Epoch 5/5\n",
      "1/1 [==============================] - 0s 27ms/step - loss: -0.9602\n"
     ]
    },
    {
     "name": "stderr",
     "output_type": "stream",
     "text": [
      "\r",
      " 20%|██████████████▏                                                        | 134/671 [00:27<01:13,  7.35it/s]"
     ]
    },
    {
     "name": "stdout",
     "output_type": "stream",
     "text": [
      "Epoch 1/5\n",
      "1/1 [==============================] - 0s 21ms/step - loss: -0.9600\n",
      "Epoch 2/5\n",
      "1/1 [==============================] - 0s 21ms/step - loss: -0.9600\n",
      "Epoch 3/5\n",
      "1/1 [==============================] - 0s 29ms/step - loss: -0.9600\n",
      "Epoch 4/5\n",
      "1/1 [==============================] - 0s 23ms/step - loss: -0.9600\n",
      "Epoch 5/5\n",
      "1/1 [==============================] - 0s 35ms/step - loss: -0.9600\n"
     ]
    },
    {
     "name": "stderr",
     "output_type": "stream",
     "text": [
      "\r",
      " 20%|██████████████▍                                                        | 136/671 [00:28<01:19,  6.75it/s]"
     ]
    },
    {
     "name": "stdout",
     "output_type": "stream",
     "text": [
      "Epoch 1/5\n",
      "1/1 [==============================] - 0s 27ms/step - loss: -0.9597\n",
      "Epoch 2/5\n",
      "1/1 [==============================] - 0s 29ms/step - loss: -0.9597\n",
      "Epoch 3/5\n",
      "1/1 [==============================] - 0s 30ms/step - loss: -0.9597\n",
      "Epoch 4/5\n",
      "1/1 [==============================] - 0s 32ms/step - loss: -0.9597\n",
      "Epoch 5/5\n",
      "1/1 [==============================] - 0s 32ms/step - loss: -0.9597\n"
     ]
    },
    {
     "name": "stderr",
     "output_type": "stream",
     "text": [
      "\r",
      " 21%|██████████████▌                                                        | 138/671 [00:28<01:15,  7.02it/s]"
     ]
    },
    {
     "name": "stdout",
     "output_type": "stream",
     "text": [
      "Epoch 1/5\n",
      "1/1 [==============================] - 0s 22ms/step - loss: -0.9584\n",
      "Epoch 2/5\n",
      "1/1 [==============================] - 0s 24ms/step - loss: -0.9584\n",
      "Epoch 3/5\n",
      "1/1 [==============================] - 0s 25ms/step - loss: -0.9584\n",
      "Epoch 4/5\n",
      "1/1 [==============================] - 0s 27ms/step - loss: -0.9584\n",
      "Epoch 5/5\n",
      "1/1 [==============================] - 0s 24ms/step - loss: -0.9584\n"
     ]
    },
    {
     "name": "stderr",
     "output_type": "stream",
     "text": [
      "\r",
      " 21%|██████████████▊                                                        | 140/671 [00:28<01:21,  6.52it/s]"
     ]
    },
    {
     "name": "stdout",
     "output_type": "stream",
     "text": [
      "Epoch 1/5\n",
      "1/1 [==============================] - 0s 23ms/step - loss: -0.9581\n",
      "Epoch 2/5\n",
      "1/1 [==============================] - 0s 24ms/step - loss: -0.9581\n",
      "Epoch 3/5\n",
      "1/1 [==============================] - 0s 33ms/step - loss: -0.9581\n",
      "Epoch 4/5\n",
      "1/1 [==============================] - 0s 25ms/step - loss: -0.9581\n",
      "Epoch 5/5\n",
      "1/1 [==============================] - 0s 24ms/step - loss: -0.9581\n"
     ]
    },
    {
     "name": "stderr",
     "output_type": "stream",
     "text": [
      "\r",
      " 21%|███████████████                                                        | 142/671 [00:28<01:15,  7.05it/s]"
     ]
    },
    {
     "name": "stdout",
     "output_type": "stream",
     "text": [
      "Epoch 1/5\n",
      "1/1 [==============================] - 0s 22ms/step - loss: -0.9576\n",
      "Epoch 2/5\n",
      "1/1 [==============================] - 0s 24ms/step - loss: -0.9576\n",
      "Epoch 3/5\n",
      "1/1 [==============================] - 0s 27ms/step - loss: -0.9576\n",
      "Epoch 4/5\n",
      "1/1 [==============================] - 0s 25ms/step - loss: -0.9576\n",
      "Epoch 5/5\n",
      "1/1 [==============================] - 0s 22ms/step - loss: -0.9576\n"
     ]
    },
    {
     "name": "stderr",
     "output_type": "stream",
     "text": [
      "\r",
      " 21%|███████████████▏                                                       | 144/671 [00:29<01:14,  7.07it/s]"
     ]
    },
    {
     "name": "stdout",
     "output_type": "stream",
     "text": [
      "Epoch 1/5\n",
      "1/1 [==============================] - 0s 23ms/step - loss: -0.9573\n",
      "Epoch 2/5\n",
      "1/1 [==============================] - 0s 29ms/step - loss: -0.9573\n",
      "Epoch 3/5\n",
      "1/1 [==============================] - 0s 29ms/step - loss: -0.9573\n",
      "Epoch 4/5\n",
      "1/1 [==============================] - 0s 29ms/step - loss: -0.9573\n",
      "Epoch 5/5\n",
      "1/1 [==============================] - 0s 31ms/step - loss: -0.9573\n"
     ]
    },
    {
     "name": "stderr",
     "output_type": "stream",
     "text": [
      "\r",
      " 22%|███████████████▍                                                       | 146/671 [00:29<01:20,  6.54it/s]"
     ]
    },
    {
     "name": "stdout",
     "output_type": "stream",
     "text": [
      "Epoch 1/5\n",
      "1/1 [==============================] - 0s 24ms/step - loss: -0.9574\n",
      "Epoch 2/5\n",
      "1/1 [==============================] - 0s 28ms/step - loss: -0.9574\n",
      "Epoch 3/5\n",
      "1/1 [==============================] - 0s 25ms/step - loss: -0.9574\n",
      "Epoch 4/5\n",
      "1/1 [==============================] - 0s 30ms/step - loss: -0.9574\n",
      "Epoch 5/5\n",
      "1/1 [==============================] - 0s 29ms/step - loss: -0.9574\n"
     ]
    },
    {
     "name": "stderr",
     "output_type": "stream",
     "text": [
      "\r",
      " 22%|███████████████▋                                                       | 148/671 [00:29<01:14,  7.05it/s]"
     ]
    },
    {
     "name": "stdout",
     "output_type": "stream",
     "text": [
      "Epoch 1/5\n",
      "1/1 [==============================] - 0s 22ms/step - loss: -0.9564\n",
      "Epoch 2/5\n",
      "1/1 [==============================] - 0s 30ms/step - loss: -0.9564\n",
      "Epoch 3/5\n",
      "1/1 [==============================] - 0s 28ms/step - loss: -0.9564\n",
      "Epoch 4/5\n",
      "1/1 [==============================] - 0s 30ms/step - loss: -0.9564\n",
      "Epoch 5/5\n",
      "1/1 [==============================] - 0s 29ms/step - loss: -0.9564\n"
     ]
    },
    {
     "name": "stderr",
     "output_type": "stream",
     "text": [
      "\r",
      " 22%|███████████████▊                                                       | 150/671 [00:30<01:15,  6.90it/s]"
     ]
    },
    {
     "name": "stdout",
     "output_type": "stream",
     "text": [
      "Epoch 1/5\n",
      "1/1 [==============================] - 0s 25ms/step - loss: -0.9507\n",
      "Epoch 2/5\n",
      "1/1 [==============================] - 0s 25ms/step - loss: -0.9507\n",
      "Epoch 3/5\n",
      "1/1 [==============================] - 0s 28ms/step - loss: -0.9507\n",
      "Epoch 4/5\n",
      "1/1 [==============================] - 0s 28ms/step - loss: -0.9507\n",
      "Epoch 5/5\n",
      "1/1 [==============================] - 0s 27ms/step - loss: -0.9507\n"
     ]
    },
    {
     "name": "stderr",
     "output_type": "stream",
     "text": [
      " 23%|████████████████                                                       | 152/671 [00:30<01:43,  4.99it/s]\n"
     ]
    },
    {
     "ename": "KeyboardInterrupt",
     "evalue": "",
     "output_type": "error",
     "traceback": [
      "\u001b[0;31m---------------------------------------------------------------------------\u001b[0m",
      "\u001b[0;31mKeyboardInterrupt\u001b[0m                         Traceback (most recent call last)",
      "Cell \u001b[0;32mIn[3], line 47\u001b[0m\n\u001b[1;32m     44\u001b[0m \u001b[38;5;28;01mwith\u001b[39;00m \u001b[38;5;28mopen\u001b[39m(\u001b[38;5;124mf\u001b[39m\u001b[38;5;124m'\u001b[39m\u001b[38;5;132;01m{\u001b[39;00mtrainer\u001b[38;5;241m.\u001b[39mtrain_folder\u001b[38;5;132;01m}\u001b[39;00m\u001b[38;5;124m/params.json\u001b[39m\u001b[38;5;124m'\u001b[39m, \u001b[38;5;124m'\u001b[39m\u001b[38;5;124mw\u001b[39m\u001b[38;5;124m'\u001b[39m) \u001b[38;5;28;01mas\u001b[39;00m fp:\n\u001b[1;32m     45\u001b[0m     json\u001b[38;5;241m.\u001b[39mdump(param_combination, fp)\n\u001b[0;32m---> 47\u001b[0m \u001b[43mtrainer\u001b[49m\u001b[38;5;241;43m.\u001b[39;49m\u001b[43mrollout\u001b[49m\u001b[43m(\u001b[49m\u001b[43mn_episodes\u001b[49m\u001b[38;5;241;43m=\u001b[39;49m\u001b[43mparam_combination\u001b[49m\u001b[38;5;241;43m.\u001b[39;49m\u001b[43mget\u001b[49m\u001b[43m(\u001b[49m\u001b[38;5;124;43m'\u001b[39;49m\u001b[38;5;124;43mepisodes\u001b[39;49m\u001b[38;5;124;43m'\u001b[39;49m\u001b[43m,\u001b[49m\u001b[43m \u001b[49m\u001b[38;5;241;43m2\u001b[39;49m\u001b[43m)\u001b[49m\u001b[43m,\u001b[49m\u001b[43m \u001b[49m\n\u001b[1;32m     48\u001b[0m \u001b[43m                   \u001b[49m\u001b[43mrun_per_episode\u001b[49m\u001b[38;5;241;43m=\u001b[39;49m\u001b[43mparam_combination\u001b[49m\u001b[38;5;241;43m.\u001b[39;49m\u001b[43mget\u001b[49m\u001b[43m(\u001b[49m\u001b[38;5;124;43m'\u001b[39;49m\u001b[38;5;124;43mruns_p_eps\u001b[39;49m\u001b[38;5;124;43m'\u001b[39;49m\u001b[43m,\u001b[49m\u001b[43m \u001b[49m\u001b[38;5;241;43m2\u001b[39;49m\u001b[43m)\u001b[49m\u001b[43m)\u001b[49m\n",
      "File \u001b[0;32m/mnt/c/Users/romy_/Documents/arnolduni/ai_trader/notebooks/../src/DRLtrainer.py:150\u001b[0m, in \u001b[0;36mDRLTrainer.rollout\u001b[0;34m(self, n_episodes, run_per_episode)\u001b[0m\n\u001b[1;32m    148\u001b[0m rounded_action \u001b[38;5;241m=\u001b[39m np\u001b[38;5;241m.\u001b[39mround(action, \u001b[38;5;241m1\u001b[39m) \u001b[38;5;66;03m####### we also round the action in the env.step() function, just leave both for extra safety.\u001b[39;00m\n\u001b[1;32m    149\u001b[0m \u001b[38;5;66;03m# Compute new step\u001b[39;00m\n\u001b[0;32m--> 150\u001b[0m next_state, reward, done \u001b[38;5;241m=\u001b[39m \u001b[38;5;28;43mself\u001b[39;49m\u001b[38;5;241;43m.\u001b[39;49m\u001b[43menv\u001b[49m\u001b[38;5;241;43m.\u001b[39;49m\u001b[43mstep\u001b[49m\u001b[43m(\u001b[49m\u001b[43maction\u001b[49m\u001b[38;5;241;43m=\u001b[39;49m\u001b[43mrounded_action\u001b[49m\u001b[43m)\u001b[49m\n\u001b[1;32m    151\u001b[0m \u001b[38;5;66;03m# save Experience to Memory\u001b[39;00m\n\u001b[1;32m    152\u001b[0m \u001b[38;5;28mself\u001b[39m\u001b[38;5;241m.\u001b[39mmemory\u001b[38;5;241m.\u001b[39mappend((state, action, reward, next_state, done))\n",
      "File \u001b[0;32m/mnt/c/Users/romy_/Documents/arnolduni/ai_trader/notebooks/../src/env.py:201\u001b[0m, in \u001b[0;36mBTCMarket_Env.step\u001b[0;34m(self, action)\u001b[0m\n\u001b[1;32m    196\u001b[0m new_long_wallet, new_short_wallet, money_variation, trading_fee \u001b[38;5;241m=\u001b[39m \u001b[38;5;28mself\u001b[39m\u001b[38;5;241m.\u001b[39m_handle_position(\n\u001b[1;32m    197\u001b[0m                 new_position\u001b[38;5;241m=\u001b[39maction[\u001b[38;5;241m0\u001b[39m], \n\u001b[1;32m    198\u001b[0m                 btc_price\u001b[38;5;241m=\u001b[39mactual_price)\n\u001b[1;32m    200\u001b[0m \u001b[38;5;66;03m# Compute State s(t+1)\u001b[39;00m\n\u001b[0;32m--> 201\u001b[0m state \u001b[38;5;241m=\u001b[39m \u001b[38;5;28;43mself\u001b[39;49m\u001b[38;5;241;43m.\u001b[39;49m\u001b[43m_get_new_state\u001b[49m\u001b[43m(\u001b[49m\u001b[43m)\u001b[49m\n\u001b[1;32m    203\u001b[0m \u001b[38;5;66;03m# Compute Reward\u001b[39;00m\n\u001b[1;32m    204\u001b[0m reward \u001b[38;5;241m=\u001b[39m \u001b[38;5;28mself\u001b[39m\u001b[38;5;241m.\u001b[39mreward_function(state, action, actual_price, trading_fee) \u001b[38;5;66;03m# action at time t, price at time t+1\u001b[39;00m\n",
      "File \u001b[0;32m/mnt/c/Users/romy_/Documents/arnolduni/ai_trader/notebooks/../src/env.py:681\u001b[0m, in \u001b[0;36mBTCMarket_Env._get_new_state\u001b[0;34m(self)\u001b[0m\n\u001b[1;32m    679\u001b[0m \u001b[38;5;66;03m# features = ['Volume', 'open','rsi14','macd']\u001b[39;00m\n\u001b[1;32m    680\u001b[0m     \u001b[38;5;28;01mif\u001b[39;00m \u001b[38;5;28mself\u001b[39m\u001b[38;5;241m.\u001b[39mstate_size \u001b[38;5;241m>\u001b[39m \u001b[38;5;241m5\u001b[39m: \u001b[38;5;66;03m# USE LSTM\u001b[39;00m\n\u001b[0;32m--> 681\u001b[0m         norm_lstm \u001b[38;5;241m=\u001b[39m \u001b[38;5;28;43mself\u001b[39;49m\u001b[38;5;241;43m.\u001b[39;49m\u001b[43mmin_max_scaler\u001b[49m\u001b[38;5;241;43m.\u001b[39;49m\u001b[43mtransform\u001b[49m\u001b[43m(\u001b[49m\u001b[43m[\u001b[49m\u001b[43m[\u001b[49m\u001b[43mwindowed_volume_data\u001b[49m\u001b[43m[\u001b[49m\u001b[43mi\u001b[49m\u001b[43m]\u001b[49m\u001b[43m,\u001b[49m\u001b[43m \u001b[49m\n\u001b[1;32m    682\u001b[0m \u001b[43m                                                     \u001b[49m\u001b[43mwindowed_open_data\u001b[49m\u001b[43m[\u001b[49m\u001b[43mi\u001b[49m\u001b[43m]\u001b[49m\u001b[43m,\u001b[49m\u001b[43m \u001b[49m\n\u001b[1;32m    683\u001b[0m \u001b[43m                                                     \u001b[49m\u001b[43mwindowed_rsi_data\u001b[49m\u001b[43m[\u001b[49m\u001b[43mi\u001b[49m\u001b[43m]\u001b[49m\u001b[43m,\u001b[49m\u001b[43m \u001b[49m\n\u001b[1;32m    684\u001b[0m \u001b[43m                                                     \u001b[49m\u001b[43mwindowed_macd_data\u001b[49m\u001b[43m[\u001b[49m\u001b[43mi\u001b[49m\u001b[43m]\u001b[49m\u001b[43m]\u001b[49m\u001b[43m]\u001b[49m\u001b[43m)\u001b[49m[\u001b[38;5;241m0\u001b[39m]\n\u001b[1;32m    685\u001b[0m         \u001b[38;5;66;03m# print(norm_lstm)\u001b[39;00m\n\u001b[1;32m    686\u001b[0m         state\u001b[38;5;241m.\u001b[39mappend([norm_close, norm_hist, \n\u001b[1;32m    687\u001b[0m                       norm_ema, norm_money, norm_lstm[\u001b[38;5;241m0\u001b[39m], norm_lstm[\u001b[38;5;241m1\u001b[39m], norm_lstm[\u001b[38;5;241m2\u001b[39m], norm_lstm[\u001b[38;5;241m3\u001b[39m]])\n",
      "File \u001b[0;32m~/.local/lib/python3.10/site-packages/sklearn/utils/_set_output.py:140\u001b[0m, in \u001b[0;36m_wrap_method_output.<locals>.wrapped\u001b[0;34m(self, X, *args, **kwargs)\u001b[0m\n\u001b[1;32m    138\u001b[0m \u001b[38;5;129m@wraps\u001b[39m(f)\n\u001b[1;32m    139\u001b[0m \u001b[38;5;28;01mdef\u001b[39;00m \u001b[38;5;21mwrapped\u001b[39m(\u001b[38;5;28mself\u001b[39m, X, \u001b[38;5;241m*\u001b[39margs, \u001b[38;5;241m*\u001b[39m\u001b[38;5;241m*\u001b[39mkwargs):\n\u001b[0;32m--> 140\u001b[0m     data_to_wrap \u001b[38;5;241m=\u001b[39m \u001b[43mf\u001b[49m\u001b[43m(\u001b[49m\u001b[38;5;28;43mself\u001b[39;49m\u001b[43m,\u001b[49m\u001b[43m \u001b[49m\u001b[43mX\u001b[49m\u001b[43m,\u001b[49m\u001b[43m \u001b[49m\u001b[38;5;241;43m*\u001b[39;49m\u001b[43margs\u001b[49m\u001b[43m,\u001b[49m\u001b[43m \u001b[49m\u001b[38;5;241;43m*\u001b[39;49m\u001b[38;5;241;43m*\u001b[39;49m\u001b[43mkwargs\u001b[49m\u001b[43m)\u001b[49m\n\u001b[1;32m    141\u001b[0m     \u001b[38;5;28;01mif\u001b[39;00m \u001b[38;5;28misinstance\u001b[39m(data_to_wrap, \u001b[38;5;28mtuple\u001b[39m):\n\u001b[1;32m    142\u001b[0m         \u001b[38;5;66;03m# only wrap the first output for cross decomposition\u001b[39;00m\n\u001b[1;32m    143\u001b[0m         \u001b[38;5;28;01mreturn\u001b[39;00m (\n\u001b[1;32m    144\u001b[0m             _wrap_data_with_container(method, data_to_wrap[\u001b[38;5;241m0\u001b[39m], X, \u001b[38;5;28mself\u001b[39m),\n\u001b[1;32m    145\u001b[0m             \u001b[38;5;241m*\u001b[39mdata_to_wrap[\u001b[38;5;241m1\u001b[39m:],\n\u001b[1;32m    146\u001b[0m         )\n",
      "File \u001b[0;32m~/.local/lib/python3.10/site-packages/sklearn/preprocessing/_data.py:508\u001b[0m, in \u001b[0;36mMinMaxScaler.transform\u001b[0;34m(self, X)\u001b[0m\n\u001b[1;32m    494\u001b[0m \u001b[38;5;250m\u001b[39m\u001b[38;5;124;03m\"\"\"Scale features of X according to feature_range.\u001b[39;00m\n\u001b[1;32m    495\u001b[0m \n\u001b[1;32m    496\u001b[0m \u001b[38;5;124;03mParameters\u001b[39;00m\n\u001b[0;32m   (...)\u001b[0m\n\u001b[1;32m    504\u001b[0m \u001b[38;5;124;03m    Transformed data.\u001b[39;00m\n\u001b[1;32m    505\u001b[0m \u001b[38;5;124;03m\"\"\"\u001b[39;00m\n\u001b[1;32m    506\u001b[0m check_is_fitted(\u001b[38;5;28mself\u001b[39m)\n\u001b[0;32m--> 508\u001b[0m X \u001b[38;5;241m=\u001b[39m \u001b[38;5;28;43mself\u001b[39;49m\u001b[38;5;241;43m.\u001b[39;49m\u001b[43m_validate_data\u001b[49m\u001b[43m(\u001b[49m\n\u001b[1;32m    509\u001b[0m \u001b[43m    \u001b[49m\u001b[43mX\u001b[49m\u001b[43m,\u001b[49m\n\u001b[1;32m    510\u001b[0m \u001b[43m    \u001b[49m\u001b[43mcopy\u001b[49m\u001b[38;5;241;43m=\u001b[39;49m\u001b[38;5;28;43mself\u001b[39;49m\u001b[38;5;241;43m.\u001b[39;49m\u001b[43mcopy\u001b[49m\u001b[43m,\u001b[49m\n\u001b[1;32m    511\u001b[0m \u001b[43m    \u001b[49m\u001b[43mdtype\u001b[49m\u001b[38;5;241;43m=\u001b[39;49m\u001b[43mFLOAT_DTYPES\u001b[49m\u001b[43m,\u001b[49m\n\u001b[1;32m    512\u001b[0m \u001b[43m    \u001b[49m\u001b[43mforce_all_finite\u001b[49m\u001b[38;5;241;43m=\u001b[39;49m\u001b[38;5;124;43m\"\u001b[39;49m\u001b[38;5;124;43mallow-nan\u001b[39;49m\u001b[38;5;124;43m\"\u001b[39;49m\u001b[43m,\u001b[49m\n\u001b[1;32m    513\u001b[0m \u001b[43m    \u001b[49m\u001b[43mreset\u001b[49m\u001b[38;5;241;43m=\u001b[39;49m\u001b[38;5;28;43;01mFalse\u001b[39;49;00m\u001b[43m,\u001b[49m\n\u001b[1;32m    514\u001b[0m \u001b[43m\u001b[49m\u001b[43m)\u001b[49m\n\u001b[1;32m    516\u001b[0m X \u001b[38;5;241m*\u001b[39m\u001b[38;5;241m=\u001b[39m \u001b[38;5;28mself\u001b[39m\u001b[38;5;241m.\u001b[39mscale_\n\u001b[1;32m    517\u001b[0m X \u001b[38;5;241m+\u001b[39m\u001b[38;5;241m=\u001b[39m \u001b[38;5;28mself\u001b[39m\u001b[38;5;241m.\u001b[39mmin_\n",
      "File \u001b[0;32m~/.local/lib/python3.10/site-packages/sklearn/base.py:588\u001b[0m, in \u001b[0;36mBaseEstimator._validate_data\u001b[0;34m(self, X, y, reset, validate_separately, **check_params)\u001b[0m\n\u001b[1;32m    585\u001b[0m     out \u001b[38;5;241m=\u001b[39m X, y\n\u001b[1;32m    587\u001b[0m \u001b[38;5;28;01mif\u001b[39;00m \u001b[38;5;129;01mnot\u001b[39;00m no_val_X \u001b[38;5;129;01mand\u001b[39;00m check_params\u001b[38;5;241m.\u001b[39mget(\u001b[38;5;124m\"\u001b[39m\u001b[38;5;124mensure_2d\u001b[39m\u001b[38;5;124m\"\u001b[39m, \u001b[38;5;28;01mTrue\u001b[39;00m):\n\u001b[0;32m--> 588\u001b[0m     \u001b[38;5;28;43mself\u001b[39;49m\u001b[38;5;241;43m.\u001b[39;49m\u001b[43m_check_n_features\u001b[49m\u001b[43m(\u001b[49m\u001b[43mX\u001b[49m\u001b[43m,\u001b[49m\u001b[43m \u001b[49m\u001b[43mreset\u001b[49m\u001b[38;5;241;43m=\u001b[39;49m\u001b[43mreset\u001b[49m\u001b[43m)\u001b[49m\n\u001b[1;32m    590\u001b[0m \u001b[38;5;28;01mreturn\u001b[39;00m out\n",
      "File \u001b[0;32m~/.local/lib/python3.10/site-packages/sklearn/base.py:366\u001b[0m, in \u001b[0;36mBaseEstimator._check_n_features\u001b[0;34m(self, X, reset)\u001b[0m\n\u001b[1;32m    349\u001b[0m \u001b[38;5;250m\u001b[39m\u001b[38;5;124;03m\"\"\"Set the `n_features_in_` attribute, or check against it.\u001b[39;00m\n\u001b[1;32m    350\u001b[0m \n\u001b[1;32m    351\u001b[0m \u001b[38;5;124;03mParameters\u001b[39;00m\n\u001b[0;32m   (...)\u001b[0m\n\u001b[1;32m    363\u001b[0m \u001b[38;5;124;03m       should set `reset=False`.\u001b[39;00m\n\u001b[1;32m    364\u001b[0m \u001b[38;5;124;03m\"\"\"\u001b[39;00m\n\u001b[1;32m    365\u001b[0m \u001b[38;5;28;01mtry\u001b[39;00m:\n\u001b[0;32m--> 366\u001b[0m     n_features \u001b[38;5;241m=\u001b[39m \u001b[43m_num_features\u001b[49m\u001b[43m(\u001b[49m\u001b[43mX\u001b[49m\u001b[43m)\u001b[49m\n\u001b[1;32m    367\u001b[0m \u001b[38;5;28;01mexcept\u001b[39;00m \u001b[38;5;167;01mTypeError\u001b[39;00m \u001b[38;5;28;01mas\u001b[39;00m e:\n\u001b[1;32m    368\u001b[0m     \u001b[38;5;28;01mif\u001b[39;00m \u001b[38;5;129;01mnot\u001b[39;00m reset \u001b[38;5;129;01mand\u001b[39;00m \u001b[38;5;28mhasattr\u001b[39m(\u001b[38;5;28mself\u001b[39m, \u001b[38;5;124m\"\u001b[39m\u001b[38;5;124mn_features_in_\u001b[39m\u001b[38;5;124m\"\u001b[39m):\n",
      "File \u001b[0;32m~/.local/lib/python3.10/site-packages/sklearn/utils/validation.py:298\u001b[0m, in \u001b[0;36m_num_features\u001b[0;34m(X)\u001b[0m\n\u001b[1;32m    294\u001b[0m     \u001b[38;5;66;03m# Only convert X to a numpy array if there is no cheaper, heuristic\u001b[39;00m\n\u001b[1;32m    295\u001b[0m     \u001b[38;5;66;03m# option.\u001b[39;00m\n\u001b[1;32m    296\u001b[0m     X \u001b[38;5;241m=\u001b[39m np\u001b[38;5;241m.\u001b[39masarray(X)\n\u001b[0;32m--> 298\u001b[0m \u001b[38;5;28;01mif\u001b[39;00m \u001b[38;5;28;43mhasattr\u001b[39;49m\u001b[43m(\u001b[49m\u001b[43mX\u001b[49m\u001b[43m,\u001b[49m\u001b[43m \u001b[49m\u001b[38;5;124;43m\"\u001b[39;49m\u001b[38;5;124;43mshape\u001b[39;49m\u001b[38;5;124;43m\"\u001b[39;49m\u001b[43m)\u001b[49m:\n\u001b[1;32m    299\u001b[0m     \u001b[38;5;28;01mif\u001b[39;00m \u001b[38;5;129;01mnot\u001b[39;00m \u001b[38;5;28mhasattr\u001b[39m(X\u001b[38;5;241m.\u001b[39mshape, \u001b[38;5;124m\"\u001b[39m\u001b[38;5;124m__len__\u001b[39m\u001b[38;5;124m\"\u001b[39m) \u001b[38;5;129;01mor\u001b[39;00m \u001b[38;5;28mlen\u001b[39m(X\u001b[38;5;241m.\u001b[39mshape) \u001b[38;5;241m<\u001b[39m\u001b[38;5;241m=\u001b[39m \u001b[38;5;241m1\u001b[39m:\n\u001b[1;32m    300\u001b[0m         message \u001b[38;5;241m+\u001b[39m\u001b[38;5;241m=\u001b[39m \u001b[38;5;124mf\u001b[39m\u001b[38;5;124m\"\u001b[39m\u001b[38;5;124m with shape \u001b[39m\u001b[38;5;132;01m{\u001b[39;00mX\u001b[38;5;241m.\u001b[39mshape\u001b[38;5;132;01m}\u001b[39;00m\u001b[38;5;124m\"\u001b[39m\n",
      "\u001b[0;31mKeyboardInterrupt\u001b[0m: "
     ]
    }
   ],
   "source": [
    "i = 0\n",
    "#for i, param_combination in enumerate(hpo_list):\n",
    "param_combination = hpo_list[0]\n",
    "if param_combination.get('trainer') == 'DQNTrainer':\n",
    "    action_space = 4\n",
    "    algorithm = f'DQN_trial_{i}'\n",
    "else:\n",
    "    action_space = 1\n",
    "    algorithm = f'DRL_trial_{i}'\n",
    "    \n",
    "param_combination['action_space'] = action_space\n",
    "param_combination['algorithm'] = algorithm\n",
    "print(param_combination)\n",
    "\n",
    "env = BTCMarket_Env(observation_space = param_combination.get('obs_space', (8,20)),\n",
    "        action_space = action_space,\n",
    "        start_money = param_combination.get('money', 10000),\n",
    "        trading_fee = param_combination.get('fee', (8,20)),\n",
    "        asset = param_combination.get('asset', 'PERP'),\n",
    "        reward_function = param_combination.get('reward_function', 'reward_differential_sharpe_ratio'),\n",
    "                   )\n",
    "\n",
    "agent = Trader_Agent(observation_space = param_combination.get('obs_space', (8,20)),\n",
    "            action_space = action_space,\n",
    "            epsilon = param_combination.get('epsilon', 0.7),\n",
    "            epsilon_final = param_combination.get('epsilon_final', 0.01),\n",
    "            epsilon_decay = param_combination.get('epsilon_decay', 0.995),\n",
    "                    )\n",
    "\n",
    "trainer_class = eval(param_combination.get('trainer', 'DRLTrainer'))\n",
    "trainer = trainer_class(env, agent,\n",
    "            observation_space = param_combination.get('obs_space', (8,20)),\n",
    "            action_space = action_space,\n",
    "            batch_size=param_combination.get('batch_size', 50),\n",
    "            epoch=param_combination.get('epoch', 5),\n",
    "            gamma=param_combination.get('gamma', 0.95),\n",
    "            learning_rate=param_combination.get('learning_rate', 1e-3),\n",
    "            algorithm=algorithm,\n",
    "            lstm_path=\"./../notebooks/best_models/11_mar_2023/best_model_sequential_20back_10ahead.h5\",\n",
    "            # best_model_sequential_20back_10ahead lstm_2,\n",
    "                       )\n",
    "\n",
    "os.makedirs(trainer.train_folder,exist_ok=True)\n",
    "with open(f'{trainer.train_folder}/params.json', 'w') as fp:\n",
    "    json.dump(param_combination, fp)\n",
    "    \n",
    "trainer.rollout(n_episodes=param_combination.get('episodes', 2), \n",
    "                   run_per_episode=param_combination.get('runs_p_eps', 2))"
   ]
  },
  {
   "cell_type": "code",
   "execution_count": null,
   "id": "6143ef96",
   "metadata": {},
   "outputs": [],
   "source": []
  }
 ],
 "metadata": {
  "kernelspec": {
   "display_name": "Python 3 (ipykernel)",
   "language": "python",
   "name": "python3"
  },
  "language_info": {
   "codemirror_mode": {
    "name": "ipython",
    "version": 3
   },
   "file_extension": ".py",
   "mimetype": "text/x-python",
   "name": "python",
   "nbconvert_exporter": "python",
   "pygments_lexer": "ipython3",
   "version": "3.10.6"
  }
 },
 "nbformat": 4,
 "nbformat_minor": 5
}
