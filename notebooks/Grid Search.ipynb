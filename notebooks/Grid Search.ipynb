{
 "cells": [
  {
   "cell_type": "code",
   "execution_count": 1,
   "id": "7265a1ca",
   "metadata": {},
   "outputs": [
    {
     "name": "stderr",
     "output_type": "stream",
     "text": [
      "2023-03-28 17:14:34.927183: I tensorflow/core/platform/cpu_feature_guard.cc:193] This TensorFlow binary is optimized with oneAPI Deep Neural Network Library (oneDNN) to use the following CPU instructions in performance-critical operations:  AVX2 FMA\n",
      "To enable them in other operations, rebuild TensorFlow with the appropriate compiler flags.\n",
      "2023-03-28 17:14:35.080196: W tensorflow/stream_executor/platform/default/dso_loader.cc:64] Could not load dynamic library 'libcudart.so.11.0'; dlerror: libcudart.so.11.0: cannot open shared object file: No such file or directory; LD_LIBRARY_PATH: :/home/arnold/systemc-2.3.3/lib-linux64\n",
      "2023-03-28 17:14:35.080220: I tensorflow/stream_executor/cuda/cudart_stub.cc:29] Ignore above cudart dlerror if you do not have a GPU set up on your machine.\n",
      "2023-03-28 17:14:35.112117: E tensorflow/stream_executor/cuda/cuda_blas.cc:2981] Unable to register cuBLAS factory: Attempting to register factory for plugin cuBLAS when one has already been registered\n",
      "2023-03-28 17:14:35.857634: W tensorflow/stream_executor/platform/default/dso_loader.cc:64] Could not load dynamic library 'libnvinfer.so.7'; dlerror: libnvinfer.so.7: cannot open shared object file: No such file or directory; LD_LIBRARY_PATH: :/home/arnold/systemc-2.3.3/lib-linux64\n",
      "2023-03-28 17:14:35.861515: W tensorflow/stream_executor/platform/default/dso_loader.cc:64] Could not load dynamic library 'libnvinfer_plugin.so.7'; dlerror: libnvinfer_plugin.so.7: cannot open shared object file: No such file or directory; LD_LIBRARY_PATH: :/home/arnold/systemc-2.3.3/lib-linux64\n",
      "2023-03-28 17:14:35.861541: W tensorflow/compiler/tf2tensorrt/utils/py_utils.cc:38] TF-TRT Warning: Cannot dlopen some TensorRT libraries. If you would like to use Nvidia GPU with TensorRT, please make sure the missing libraries mentioned above are installed properly.\n"
     ]
    }
   ],
   "source": [
    "import sys\n",
    "import os\n",
    "from datetime import datetime\n",
    "import json\n",
    "import shutil\n",
    "import random\n",
    "import ast\n",
    "import numpy as np\n",
    "import pandas as pd\n",
    "#import tensorflow as tf\n",
    "#from tensorflow import keras\n",
    "from tqdm import tqdm_notebook, tqdm\n",
    "from matplotlib import pyplot as plt\n",
    "\n",
    "sys.path.append('../src/')\n",
    "from env import BTCMarket_Env\n",
    "from agent import Trader_Agent\n",
    "from DQNtrainer import DQNTrainer\n",
    "from DRLtrainer import DRLTrainer\n",
    "from collections import deque\n",
    "import h5py\n",
    "from itertools import product\n"
   ]
  },
  {
   "cell_type": "code",
   "execution_count": 2,
   "id": "9b930559",
   "metadata": {},
   "outputs": [
    {
     "name": "stdout",
     "output_type": "stream",
     "text": [
      "[{'obs_space': (8, 20), 'action_domain': (0.0, 1.0), 'money': 10000, 'fee': 0.001, 'asset': 'BTC', 'reward_function': 'compute_reward_from_tutor', 'learning_rate': 0.001, 'trainer': 'DQNTrainer', 'episodes': 1, 'runs_p_eps': 1, 'batch_size': 100, 'epoch': 5, 'gamma': 0.95, 'epsilon': 0.7, 'epsilon_final': 0.01, 'epsilon_decay': 0.995}, {'obs_space': (8, 20), 'action_domain': (0.0, 1.0), 'money': 10000, 'fee': 0.001, 'asset': 'PERP', 'reward_function': 'compute_reward_from_tutor', 'learning_rate': 0.001, 'trainer': 'DQNTrainer', 'episodes': 1, 'runs_p_eps': 1, 'batch_size': 100, 'epoch': 5, 'gamma': 0.95, 'epsilon': 0.7, 'epsilon_final': 0.01, 'epsilon_decay': 0.995}]\n"
     ]
    }
   ],
   "source": [
    "hpo_params= { \n",
    "    'obs_space' : [(8,20)], \n",
    "    'action_domain' : [(0.0,1.0)], # (-1.0,1.0),\n",
    "    'money' : [10000], \n",
    "    'fee' : [0.001], \n",
    "    'asset' : ['BTC', 'PERP'],\n",
    "#    'reward_function' : ['compute_reward_from_tutor', 'reward_sharpe_ratio', 'reward_sortino_ratio', \n",
    "#                        'reward_differential_sharpe_ratio', 'reward_sterling_ratio'],\n",
    "    'reward_function' : ['compute_reward_from_tutor'],\n",
    "    \n",
    "    'learning_rate': [1e-3],\n",
    "    'trainer' : ['DQNTrainer'], # 'DRLTrainer', 'DQNTrainer'\n",
    "    'episodes' : [1], \n",
    "    'runs_p_eps' : [1], \n",
    "    'batch_size': [100],\n",
    "    'epoch': [5],\n",
    "    'gamma': [0.95],\n",
    "    \n",
    "    'epsilon': [0.7],\n",
    "    'epsilon_final':[0.01],\n",
    "    'epsilon_decay':[0.995],\n",
    "}\n",
    "\n",
    "\n",
    "keys, values = zip(*hpo_params.items())\n",
    "hpo_list = [dict(zip(keys, v)) for v in product(*values)]\n",
    "print(hpo_list)"
   ]
  },
  {
   "cell_type": "code",
   "execution_count": 3,
   "id": "efbfdc5e",
   "metadata": {
    "scrolled": true
   },
   "outputs": [
    {
     "name": "stdout",
     "output_type": "stream",
     "text": [
      "{'obs_space': (8, 20), 'action_domain': (0.0, 1.0), 'money': 10000, 'fee': 0.001, 'asset': 'BTC', 'reward_function': 'compute_reward_from_tutor', 'learning_rate': 0.001, 'trainer': 'DQNTrainer', 'episodes': 1, 'runs_p_eps': 1, 'batch_size': 100, 'epoch': 5, 'gamma': 0.95, 'epsilon': 0.7, 'epsilon_final': 0.01, 'epsilon_decay': 0.995, 'action_space': 4, 'algorithm': 'DQN_trial_0'}\n"
     ]
    },
    {
     "name": "stderr",
     "output_type": "stream",
     "text": [
      "2023-03-28 17:14:41.811435: W tensorflow/stream_executor/platform/default/dso_loader.cc:64] Could not load dynamic library 'libcuda.so.1'; dlerror: libcuda.so.1: cannot open shared object file: No such file or directory; LD_LIBRARY_PATH: :/home/arnold/systemc-2.3.3/lib-linux64\n",
      "2023-03-28 17:14:41.811492: W tensorflow/stream_executor/cuda/cuda_driver.cc:263] failed call to cuInit: UNKNOWN ERROR (303)\n",
      "2023-03-28 17:14:41.811514: I tensorflow/stream_executor/cuda/cuda_diagnostics.cc:156] kernel driver does not appear to be running on this host (DESKTOP-0OFSB15): /proc/driver/nvidia/version does not exist\n",
      "2023-03-28 17:14:41.811800: I tensorflow/core/platform/cpu_feature_guard.cc:193] This TensorFlow binary is optimized with oneAPI Deep Neural Network Library (oneDNN) to use the following CPU instructions in performance-critical operations:  AVX2 FMA\n",
      "To enable them in other operations, rebuild TensorFlow with the appropriate compiler flags.\n"
     ]
    },
    {
     "name": "stdout",
     "output_type": "stream",
     "text": [
      "Model: \"model\"\n",
      "__________________________________________________________________________________________________\n",
      " Layer (type)                   Output Shape         Param #     Connected to                     \n",
      "==================================================================================================\n",
      " input_1 (InputLayer)           [(None, 20, 8)]      0           []                               \n",
      "                                                                                                  \n",
      " lstm_inputs (Lambda)           (None, 20, 4)        0           ['input_1[0][0]']                \n",
      "                                                                                                  \n",
      " sequential (Sequential)        (None, 10)           1953940     ['lstm_inputs[0][0]']            \n",
      "                                                                                                  \n",
      " flatten_1 (Flatten)            (None, 10)           0           ['sequential[0][0]']             \n",
      "                                                                                                  \n",
      " flatten (Flatten)              (None, 160)          0           ['input_1[0][0]']                \n",
      "                                                                                                  \n",
      " tf.reshape (TFOpLambda)        (None, 10)           0           ['flatten_1[0][0]']              \n",
      "                                                                                                  \n",
      " concatenate (Concatenate)      (None, 170)          0           ['flatten[0][0]',                \n",
      "                                                                  'tf.reshape[0][0]']             \n",
      "                                                                                                  \n",
      " dense (Dense)                  (None, 256)          43776       ['concatenate[0][0]']            \n",
      "                                                                                                  \n",
      " dense_1 (Dense)                (None, 128)          32896       ['dense[0][0]']                  \n",
      "                                                                                                  \n",
      " dense_2 (Dense)                (None, 64)           8256        ['dense_1[0][0]']                \n",
      "                                                                                                  \n",
      " dense_3 (Dense)                (None, 4)            260         ['dense_2[0][0]']                \n",
      "                                                                                                  \n",
      "==================================================================================================\n",
      "Total params: 2,039,128\n",
      "Trainable params: 85,188\n",
      "Non-trainable params: 1,953,940\n",
      "__________________________________________________________________________________________________\n",
      "Model Loss: mse\n",
      "Episode: 1/1\n",
      "Episode: 1/1 || Run 1/1\n"
     ]
    },
    {
     "name": "stderr",
     "output_type": "stream",
     "text": [
      " 14%|██████████▍                                                             | 97/671 [00:03<00:07, 76.73it/s]"
     ]
    },
    {
     "name": "stdout",
     "output_type": "stream",
     "text": [
      "Epoch 1/5\n",
      "4/4 [==============================] - 5s 60ms/step - loss: 0.1865\n",
      "Epoch 2/5\n",
      "4/4 [==============================] - 0s 58ms/step - loss: 0.1256\n",
      "Epoch 3/5\n",
      "4/4 [==============================] - 0s 59ms/step - loss: 0.1246\n",
      "Epoch 4/5\n",
      "4/4 [==============================] - 0s 56ms/step - loss: 0.1177\n",
      "Epoch 5/5\n",
      "4/4 [==============================] - 0s 64ms/step - loss: 0.1136\n"
     ]
    },
    {
     "name": "stderr",
     "output_type": "stream",
     "text": [
      "\r",
      " 16%|███████████▏                                                           | 106/671 [00:16<03:52,  2.43it/s]"
     ]
    },
    {
     "name": "stdout",
     "output_type": "stream",
     "text": [
      "Data saved\n",
      "episode 1, run (1/1) sample (100/671).Profit -130.84000000000015\n"
     ]
    },
    {
     "name": "stderr",
     "output_type": "stream",
     "text": [
      " 29%|████████████████████▋                                                  | 195/671 [00:18<00:13, 36.04it/s]/mnt/c/Users/romy_/Documents/arnolduni/ai_trader/notebooks/../src/DQNtrainer.py:292: FutureWarning: In a future version, object-dtype columns with all-bool values will not be included in reductions with bool_only=True. Explicitly cast to bool dtype instead.\n",
      "  self.train_log_dataframe = pd.concat([self.train_log_dataframe, tmp])\n",
      " 30%|█████████████████████▎                                                 | 201/671 [00:19<00:16, 28.44it/s]"
     ]
    },
    {
     "name": "stdout",
     "output_type": "stream",
     "text": [
      "Data saved\n",
      "episode 1, run (1/1) sample (200/671).Profit -518.6900000000005\n",
      "Epoch 1/5\n",
      "4/4 [==============================] - 0s 57ms/step - loss: 0.2076\n",
      "Epoch 2/5\n",
      "4/4 [==============================] - 0s 55ms/step - loss: 0.2075\n",
      "Epoch 3/5\n",
      "4/4 [==============================] - 0s 53ms/step - loss: 0.2075\n",
      "Epoch 4/5\n",
      "4/4 [==============================] - 0s 57ms/step - loss: 0.2072\n",
      "Epoch 5/5\n",
      "4/4 [==============================] - 0s 62ms/step - loss: 0.2071\n"
     ]
    },
    {
     "name": "stderr",
     "output_type": "stream",
     "text": [
      " 45%|███████████████████████████████▋                                       | 300/671 [00:28<00:09, 40.33it/s]/mnt/c/Users/romy_/Documents/arnolduni/ai_trader/notebooks/../src/DQNtrainer.py:292: FutureWarning: In a future version, object-dtype columns with all-bool values will not be included in reductions with bool_only=True. Explicitly cast to bool dtype instead.\n",
      "  self.train_log_dataframe = pd.concat([self.train_log_dataframe, tmp])\n"
     ]
    },
    {
     "name": "stdout",
     "output_type": "stream",
     "text": [
      "Data saved\n",
      "episode 1, run (1/1) sample (300/671).Profit -917.0799999999999\n",
      "Epoch 1/5\n",
      "4/4 [==============================] - 0s 56ms/step - loss: 0.1939\n",
      "Epoch 2/5\n",
      "4/4 [==============================] - 0s 56ms/step - loss: 0.1939\n",
      "Epoch 3/5\n",
      "4/4 [==============================] - 0s 54ms/step - loss: 0.1938\n",
      "Epoch 4/5\n",
      "4/4 [==============================] - 0s 53ms/step - loss: 0.1938\n",
      "Epoch 5/5\n",
      "4/4 [==============================] - 0s 55ms/step - loss: 0.1937\n"
     ]
    },
    {
     "name": "stderr",
     "output_type": "stream",
     "text": [
      " 59%|█████████████████████████████████████████▉                             | 396/671 [00:37<00:05, 52.67it/s]/mnt/c/Users/romy_/Documents/arnolduni/ai_trader/notebooks/../src/DQNtrainer.py:292: FutureWarning: In a future version, object-dtype columns with all-bool values will not be included in reductions with bool_only=True. Explicitly cast to bool dtype instead.\n",
      "  self.train_log_dataframe = pd.concat([self.train_log_dataframe, tmp])\n",
      " 60%|██████████████████████████████████████████▌                            | 402/671 [00:37<00:10, 25.82it/s]"
     ]
    },
    {
     "name": "stdout",
     "output_type": "stream",
     "text": [
      "Data saved\n",
      "episode 1, run (1/1) sample (400/671).Profit -1119.4799999999996\n",
      "Epoch 1/5\n",
      "4/4 [==============================] - 0s 58ms/step - loss: 0.1817\n",
      "Epoch 2/5\n",
      "4/4 [==============================] - 0s 57ms/step - loss: 0.1816\n",
      "Epoch 3/5\n",
      "4/4 [==============================] - 0s 55ms/step - loss: 0.1816\n",
      "Epoch 4/5\n",
      "4/4 [==============================] - 0s 55ms/step - loss: 0.1816\n",
      "Epoch 5/5\n",
      "4/4 [==============================] - 0s 54ms/step - loss: 0.1815\n"
     ]
    },
    {
     "name": "stderr",
     "output_type": "stream",
     "text": [
      " 74%|████████████████████████████████████████████████████▌                  | 497/671 [00:46<00:04, 41.61it/s]/mnt/c/Users/romy_/Documents/arnolduni/ai_trader/notebooks/../src/DQNtrainer.py:292: FutureWarning: In a future version, object-dtype columns with all-bool values will not be included in reductions with bool_only=True. Explicitly cast to bool dtype instead.\n",
      "  self.train_log_dataframe = pd.concat([self.train_log_dataframe, tmp])\n",
      " 75%|█████████████████████████████████████████████████████▏                 | 503/671 [00:47<00:08, 20.19it/s]"
     ]
    },
    {
     "name": "stdout",
     "output_type": "stream",
     "text": [
      "Data saved\n",
      "episode 1, run (1/1) sample (500/671).Profit -1588.0699999999997\n",
      "Epoch 1/5\n",
      "4/4 [==============================] - 0s 58ms/step - loss: 0.1626\n",
      "Epoch 2/5\n",
      "4/4 [==============================] - 0s 58ms/step - loss: 0.1626\n",
      "Epoch 3/5\n",
      "4/4 [==============================] - 0s 55ms/step - loss: 0.1625\n",
      "Epoch 4/5\n",
      "4/4 [==============================] - 0s 55ms/step - loss: 0.1625\n",
      "Epoch 5/5\n",
      "4/4 [==============================] - 0s 56ms/step - loss: 0.1624\n"
     ]
    },
    {
     "name": "stderr",
     "output_type": "stream",
     "text": [
      " 89%|███████████████████████████████████████████████████████████████▎       | 598/671 [00:56<00:01, 39.28it/s]/mnt/c/Users/romy_/Documents/arnolduni/ai_trader/notebooks/../src/DQNtrainer.py:292: FutureWarning: In a future version, object-dtype columns with all-bool values will not be included in reductions with bool_only=True. Explicitly cast to bool dtype instead.\n",
      "  self.train_log_dataframe = pd.concat([self.train_log_dataframe, tmp])\n",
      " 90%|███████████████████████████████████████████████████████████████▊       | 603/671 [00:57<00:04, 16.38it/s]"
     ]
    },
    {
     "name": "stdout",
     "output_type": "stream",
     "text": [
      "Data saved\n",
      "episode 1, run (1/1) sample (600/671).Profit -1695.3199999999997\n",
      "Epoch 1/5\n",
      "4/4 [==============================] - 0s 60ms/step - loss: 0.1543\n",
      "Epoch 2/5\n",
      "4/4 [==============================] - 0s 73ms/step - loss: 0.1543\n",
      "Epoch 3/5\n",
      "4/4 [==============================] - 0s 59ms/step - loss: 0.1542\n",
      "Epoch 4/5\n",
      "4/4 [==============================] - 0s 55ms/step - loss: 0.1542\n",
      "Epoch 5/5\n",
      "4/4 [==============================] - 0s 57ms/step - loss: 0.1541\n"
     ]
    },
    {
     "name": "stderr",
     "output_type": "stream",
     "text": [
      "100%|██████████████████████████████████████████████████████████████████████▋| 668/671 [01:07<00:00,  9.91it/s]\n",
      "/mnt/c/Users/romy_/Documents/arnolduni/ai_trader/notebooks/../src/DQNtrainer.py:292: FutureWarning: In a future version, object-dtype columns with all-bool values will not be included in reductions with bool_only=True. Explicitly cast to bool dtype instead.\n",
      "  self.train_log_dataframe = pd.concat([self.train_log_dataframe, tmp])\n"
     ]
    },
    {
     "name": "stdout",
     "output_type": "stream",
     "text": [
      "episode 1, finished run (1/1). Run Profit -1774.2600000000002 || money available: [4114.52],  wallet value: [8225.74]\n",
      "episode 1/1. Profit -1774.2600000000002 || money available: [4114.52],  wallet value: [8225.74]\n",
      "Data saved\n"
     ]
    }
   ],
   "source": [
    "i = 0\n",
    "#for i, param_combination in enumerate(hpo_list):\n",
    "param_combination = hpo_list[0]\n",
    "if param_combination.get('trainer') == 'DQNTrainer':\n",
    "    action_space = 4\n",
    "    algorithm = f'DQN_trial_{i}'\n",
    "else:\n",
    "    action_space = 1\n",
    "    algorithm = f'DRL_trial_{i}'\n",
    "    \n",
    "param_combination['action_space'] = action_space\n",
    "param_combination['algorithm'] = algorithm\n",
    "print(param_combination)\n",
    "\n",
    "env = BTCMarket_Env(observation_space = param_combination.get('obs_space', (8,20)),\n",
    "        action_space = action_space,\n",
    "        start_money = param_combination.get('money', 10000),\n",
    "        trading_fee = param_combination.get('fee', (8,20)),\n",
    "        asset = param_combination.get('asset', 'PERP'),\n",
    "        reward_function = param_combination.get('reward_function', 'reward_differential_sharpe_ratio'),\n",
    "                   )\n",
    "\n",
    "agent = Trader_Agent(observation_space = param_combination.get('obs_space', (8,20)),\n",
    "            action_space = action_space,\n",
    "            epsilon = param_combination.get('epsilon', 0.7),\n",
    "            epsilon_final = param_combination.get('epsilon_final', 0.01),\n",
    "            epsilon_decay = param_combination.get('epsilon_decay', 0.995),\n",
    "                    )\n",
    "\n",
    "trainer_class = eval(param_combination.get('trainer', 'DRLTrainer'))\n",
    "trainer = trainer_class(env, agent,\n",
    "            observation_space = param_combination.get('obs_space', (8,20)),\n",
    "            action_space = action_space,\n",
    "            batch_size=param_combination.get('batch_size', 50),\n",
    "            epoch=param_combination.get('epoch', 5),\n",
    "            gamma=param_combination.get('gamma', 0.95),\n",
    "            learning_rate=param_combination.get('learning_rate', 1e-3),\n",
    "            algorithm=algorithm,\n",
    "            lstm_path=\"./../notebooks/best_models/11_mar_2023/best_model_sequential_20back_10ahead.h5\",\n",
    "            # best_model_sequential_20back_10ahead lstm_2,\n",
    "                       )\n",
    "\n",
    "os.makedirs(trainer.train_folder,exist_ok=True)\n",
    "with open(f'{trainer.train_folder}/params.json', 'w') as fp:\n",
    "    json.dump(param_combination, fp)\n",
    "    \n",
    "trainer.rollout(n_episodes=param_combination.get('episodes', 2), \n",
    "                   run_per_episode=param_combination.get('runs_p_eps', 2))"
   ]
  },
  {
   "cell_type": "code",
   "execution_count": 8,
   "id": "6143ef96",
   "metadata": {},
   "outputs": [
    {
     "name": "stdout",
     "output_type": "stream",
     "text": [
      "(669, 10)\n",
      "66.46376037597656\n"
     ]
    }
   ],
   "source": [
    "# Plot profit\n",
    "df = pd.read_csv(f'{trainer.train_folder}/Trainer_Data.csv')\n",
    "print(df.shape)\n",
    "print(max(df.time_elapsed))"
   ]
  },
  {
   "cell_type": "code",
   "execution_count": 5,
   "id": "614e5c13",
   "metadata": {},
   "outputs": [
    {
     "data": {
      "text/html": [
       "<div>\n",
       "<style scoped>\n",
       "    .dataframe tbody tr th:only-of-type {\n",
       "        vertical-align: middle;\n",
       "    }\n",
       "\n",
       "    .dataframe tbody tr th {\n",
       "        vertical-align: top;\n",
       "    }\n",
       "\n",
       "    .dataframe thead th {\n",
       "        text-align: right;\n",
       "    }\n",
       "</style>\n",
       "<table border=\"1\" class=\"dataframe\">\n",
       "  <thead>\n",
       "    <tr style=\"text-align: right;\">\n",
       "      <th></th>\n",
       "      <th>Unnamed: 0</th>\n",
       "      <th>episode</th>\n",
       "      <th>run</th>\n",
       "      <th>action</th>\n",
       "      <th>state</th>\n",
       "      <th>reward</th>\n",
       "      <th>done</th>\n",
       "      <th>epsilon</th>\n",
       "      <th>profit</th>\n",
       "      <th>time_elapsed</th>\n",
       "    </tr>\n",
       "  </thead>\n",
       "  <tbody>\n",
       "    <tr>\n",
       "      <th>0</th>\n",
       "      <td>0</td>\n",
       "      <td>1</td>\n",
       "      <td>1</td>\n",
       "      <td>[0.07168873 0.11045433 0.96264157 0.07455711]</td>\n",
       "      <td>[[[0.5        0.99266798 0.5        0.5       ...</td>\n",
       "      <td>[1.]</td>\n",
       "      <td>False</td>\n",
       "      <td>0.7</td>\n",
       "      <td>-9.99</td>\n",
       "      <td>0.011578</td>\n",
       "    </tr>\n",
       "    <tr>\n",
       "      <th>1</th>\n",
       "      <td>1</td>\n",
       "      <td>1</td>\n",
       "      <td>1</td>\n",
       "      <td>[0.41698422 0.22106661 0.11807427 0.80492204]</td>\n",
       "      <td>[[[5.00000000e-01 9.92667982e-01 5.00000000e-0...</td>\n",
       "      <td>[1.5552129]</td>\n",
       "      <td>False</td>\n",
       "      <td>0.7</td>\n",
       "      <td>-33.97</td>\n",
       "      <td>0.017153</td>\n",
       "    </tr>\n",
       "    <tr>\n",
       "      <th>2</th>\n",
       "      <td>2</td>\n",
       "      <td>1</td>\n",
       "      <td>1</td>\n",
       "      <td>[0.78328554 0.59045029 0.74831731 0.23282324]</td>\n",
       "      <td>[[[5.00000000e-01 9.92667982e-01 5.00000000e-0...</td>\n",
       "      <td>[1.58056841]</td>\n",
       "      <td>False</td>\n",
       "      <td>0.7</td>\n",
       "      <td>-33.97</td>\n",
       "      <td>0.021024</td>\n",
       "    </tr>\n",
       "    <tr>\n",
       "      <th>3</th>\n",
       "      <td>3</td>\n",
       "      <td>1</td>\n",
       "      <td>1</td>\n",
       "      <td>[0.16066657 0.27356416 0.59543504 0.48834911]</td>\n",
       "      <td>[[[5.00000000e-01 9.92667982e-01 5.00000000e-0...</td>\n",
       "      <td>[1.55404288]</td>\n",
       "      <td>False</td>\n",
       "      <td>0.7</td>\n",
       "      <td>-43.93</td>\n",
       "      <td>0.023967</td>\n",
       "    </tr>\n",
       "    <tr>\n",
       "      <th>4</th>\n",
       "      <td>4</td>\n",
       "      <td>1</td>\n",
       "      <td>1</td>\n",
       "      <td>[0.5867788  0.47917596 0.54678667 0.38851157]</td>\n",
       "      <td>[[[5.00000000e-01 9.92667982e-01 5.00000000e-0...</td>\n",
       "      <td>[1.54560839]</td>\n",
       "      <td>False</td>\n",
       "      <td>0.7</td>\n",
       "      <td>-56.16</td>\n",
       "      <td>1.514336</td>\n",
       "    </tr>\n",
       "    <tr>\n",
       "      <th>5</th>\n",
       "      <td>5</td>\n",
       "      <td>1</td>\n",
       "      <td>1</td>\n",
       "      <td>[0.82432173 0.27619122 0.90359603 0.14374898]</td>\n",
       "      <td>[[[5.00000000e-01 9.92667982e-01 5.00000000e-0...</td>\n",
       "      <td>[1.54518001]</td>\n",
       "      <td>False</td>\n",
       "      <td>0.7</td>\n",
       "      <td>-40.73</td>\n",
       "      <td>1.519193</td>\n",
       "    </tr>\n",
       "    <tr>\n",
       "      <th>6</th>\n",
       "      <td>6</td>\n",
       "      <td>1</td>\n",
       "      <td>1</td>\n",
       "      <td>[0.57816106 0.5081835  0.5354472  0.3927259 ]</td>\n",
       "      <td>[[[5.00000000e-01 9.92667982e-01 5.00000000e-0...</td>\n",
       "      <td>[1.51817836]</td>\n",
       "      <td>False</td>\n",
       "      <td>0.7</td>\n",
       "      <td>-96.23</td>\n",
       "      <td>1.590489</td>\n",
       "    </tr>\n",
       "    <tr>\n",
       "      <th>7</th>\n",
       "      <td>7</td>\n",
       "      <td>1</td>\n",
       "      <td>1</td>\n",
       "      <td>[0.82452099 0.54744005 0.60243345 0.31836504]</td>\n",
       "      <td>[[[5.00000000e-01 9.92667982e-01 5.00000000e-0...</td>\n",
       "      <td>[1.51839236]</td>\n",
       "      <td>False</td>\n",
       "      <td>0.7</td>\n",
       "      <td>-95.80</td>\n",
       "      <td>1.592653</td>\n",
       "    </tr>\n",
       "    <tr>\n",
       "      <th>8</th>\n",
       "      <td>8</td>\n",
       "      <td>1</td>\n",
       "      <td>1</td>\n",
       "      <td>[0.7700943  0.42217564 0.02806343 0.30684034]</td>\n",
       "      <td>[[[5.00000000e-01 9.92667982e-01 5.00000000e-0...</td>\n",
       "      <td>[1.52239885]</td>\n",
       "      <td>False</td>\n",
       "      <td>0.7</td>\n",
       "      <td>-123.92</td>\n",
       "      <td>1.594419</td>\n",
       "    </tr>\n",
       "    <tr>\n",
       "      <th>9</th>\n",
       "      <td>9</td>\n",
       "      <td>1</td>\n",
       "      <td>1</td>\n",
       "      <td>[0.72814054 0.03882248 0.13202024 0.22080529]</td>\n",
       "      <td>[[[5.00000000e-01 9.92667982e-01 5.00000000e-0...</td>\n",
       "      <td>[1.543369]</td>\n",
       "      <td>False</td>\n",
       "      <td>0.7</td>\n",
       "      <td>-96.83</td>\n",
       "      <td>1.596645</td>\n",
       "    </tr>\n",
       "  </tbody>\n",
       "</table>\n",
       "</div>"
      ],
      "text/plain": [
       "   Unnamed: 0  episode  run                                         action  \\\n",
       "0           0        1    1  [0.07168873 0.11045433 0.96264157 0.07455711]   \n",
       "1           1        1    1  [0.41698422 0.22106661 0.11807427 0.80492204]   \n",
       "2           2        1    1  [0.78328554 0.59045029 0.74831731 0.23282324]   \n",
       "3           3        1    1  [0.16066657 0.27356416 0.59543504 0.48834911]   \n",
       "4           4        1    1  [0.5867788  0.47917596 0.54678667 0.38851157]   \n",
       "5           5        1    1  [0.82432173 0.27619122 0.90359603 0.14374898]   \n",
       "6           6        1    1  [0.57816106 0.5081835  0.5354472  0.3927259 ]   \n",
       "7           7        1    1  [0.82452099 0.54744005 0.60243345 0.31836504]   \n",
       "8           8        1    1  [0.7700943  0.42217564 0.02806343 0.30684034]   \n",
       "9           9        1    1  [0.72814054 0.03882248 0.13202024 0.22080529]   \n",
       "\n",
       "                                               state        reward   done  \\\n",
       "0  [[[0.5        0.99266798 0.5        0.5       ...          [1.]  False   \n",
       "1  [[[5.00000000e-01 9.92667982e-01 5.00000000e-0...   [1.5552129]  False   \n",
       "2  [[[5.00000000e-01 9.92667982e-01 5.00000000e-0...  [1.58056841]  False   \n",
       "3  [[[5.00000000e-01 9.92667982e-01 5.00000000e-0...  [1.55404288]  False   \n",
       "4  [[[5.00000000e-01 9.92667982e-01 5.00000000e-0...  [1.54560839]  False   \n",
       "5  [[[5.00000000e-01 9.92667982e-01 5.00000000e-0...  [1.54518001]  False   \n",
       "6  [[[5.00000000e-01 9.92667982e-01 5.00000000e-0...  [1.51817836]  False   \n",
       "7  [[[5.00000000e-01 9.92667982e-01 5.00000000e-0...  [1.51839236]  False   \n",
       "8  [[[5.00000000e-01 9.92667982e-01 5.00000000e-0...  [1.52239885]  False   \n",
       "9  [[[5.00000000e-01 9.92667982e-01 5.00000000e-0...    [1.543369]  False   \n",
       "\n",
       "   epsilon  profit  time_elapsed  \n",
       "0      0.7   -9.99      0.011578  \n",
       "1      0.7  -33.97      0.017153  \n",
       "2      0.7  -33.97      0.021024  \n",
       "3      0.7  -43.93      0.023967  \n",
       "4      0.7  -56.16      1.514336  \n",
       "5      0.7  -40.73      1.519193  \n",
       "6      0.7  -96.23      1.590489  \n",
       "7      0.7  -95.80      1.592653  \n",
       "8      0.7 -123.92      1.594419  \n",
       "9      0.7  -96.83      1.596645  "
      ]
     },
     "execution_count": 5,
     "metadata": {},
     "output_type": "execute_result"
    }
   ],
   "source": [
    "df.head(10)"
   ]
  },
  {
   "cell_type": "code",
   "execution_count": 6,
   "id": "40389f77",
   "metadata": {},
   "outputs": [
    {
     "data": {
      "text/plain": [
       "[<matplotlib.lines.Line2D at 0x7f6b97c7eda0>]"
      ]
     },
     "execution_count": 6,
     "metadata": {},
     "output_type": "execute_result"
    },
    {
     "data": {
      "image/png": "[encoded data removed]",
      "text/plain": [
       "<Figure size 640x480 with 1 Axes>"
      ]
     },
     "metadata": {},
     "output_type": "display_data"
    }
   ],
   "source": [
    "plt.plot(df.profit)"
   ]
  },
  {
   "cell_type": "code",
   "execution_count": 7,
   "id": "260495ec",
   "metadata": {},
   "outputs": [
    {
     "data": {
      "text/plain": [
       "[<matplotlib.lines.Line2D at 0x7f6b97f1f550>]"
      ]
     },
     "execution_count": 7,
     "metadata": {},
     "output_type": "execute_result"
    },
    {
     "data": {
      "image/png": "[encoded data removed]",
      "text/plain": [
       "<Figure size 640x480 with 1 Axes>"
      ]
     },
     "metadata": {},
     "output_type": "display_data"
    }
   ],
   "source": [
    "y = [ast.literal_eval(x)[0] for x  in df.reward]\n",
    "plt.plot(y)"
   ]
  },
  {
   "cell_type": "code",
   "execution_count": 26,
   "id": "b88803b6",
   "metadata": {},
   "outputs": [],
   "source": []
  },
  {
   "cell_type": "code",
   "execution_count": null,
   "id": "9175bb89",
   "metadata": {},
   "outputs": [],
   "source": []
  },
  {
   "cell_type": "code",
   "execution_count": null,
   "id": "6b9c6d9d",
   "metadata": {},
   "outputs": [],
   "source": []
  }
 ],
 "metadata": {
  "kernelspec": {
   "display_name": "Python 3 (ipykernel)",
   "language": "python",
   "name": "python3"
  },
  "language_info": {
   "codemirror_mode": {
    "name": "ipython",
    "version": 3
   },
   "file_extension": ".py",
   "mimetype": "text/x-python",
   "name": "python",
   "nbconvert_exporter": "python",
   "pygments_lexer": "ipython3",
   "version": "3.10.6"
  }
 },
 "nbformat": 4,
 "nbformat_minor": 5
}
