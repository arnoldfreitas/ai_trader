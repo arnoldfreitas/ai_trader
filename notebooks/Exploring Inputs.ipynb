{
 "cells": [
  {
   "cell_type": "code",
   "execution_count": 1,
   "id": "944a94a9",
   "metadata": {},
   "outputs": [
    {
     "ename": "ModuleNotFoundError",
     "evalue": "No module named 'mplfinance'",
     "output_type": "error",
     "traceback": [
      "\u001b[0;31m---------------------------------------------------------------------------\u001b[0m",
      "\u001b[0;31mModuleNotFoundError\u001b[0m                       Traceback (most recent call last)",
      "Input \u001b[0;32mIn [1]\u001b[0m, in \u001b[0;36m<cell line: 9>\u001b[0;34m()\u001b[0m\n\u001b[1;32m      7\u001b[0m \u001b[38;5;28;01mimport\u001b[39;00m \u001b[38;5;21;01mmatplotlib\u001b[39;00m\u001b[38;5;21;01m.\u001b[39;00m\u001b[38;5;21;01mpyplot\u001b[39;00m \u001b[38;5;28;01mas\u001b[39;00m \u001b[38;5;21;01mplt\u001b[39;00m\n\u001b[1;32m      8\u001b[0m \u001b[38;5;28;01mimport\u001b[39;00m \u001b[38;5;21;01mnumpy\u001b[39;00m \u001b[38;5;28;01mas\u001b[39;00m \u001b[38;5;21;01mnp\u001b[39;00m\n\u001b[0;32m----> 9\u001b[0m \u001b[38;5;28;01mfrom\u001b[39;00m \u001b[38;5;21;01mmplfinance\u001b[39;00m\u001b[38;5;21;01m.\u001b[39;00m\u001b[38;5;21;01moriginal_flavor\u001b[39;00m \u001b[38;5;28;01mimport\u001b[39;00m candlestick2_ohlc\n\u001b[1;32m     10\u001b[0m \u001b[38;5;28;01mfrom\u001b[39;00m \u001b[38;5;21;01mtqdm\u001b[39;00m \u001b[38;5;28;01mimport\u001b[39;00m tqdm\n",
      "\u001b[0;31mModuleNotFoundError\u001b[0m: No module named 'mplfinance'"
     ]
    }
   ],
   "source": [
    "import os\n",
    "import json\n",
    "import shutil\n",
    "\n",
    "import pandas as pd\n",
    "pd.options.mode.chained_assignment = None\n",
    "import matplotlib.pyplot as plt\n",
    "import numpy as np\n",
    "from mplfinance.original_flavor import candlestick2_ohlc\n",
    "from tqdm import tqdm"
   ]
  },
  {
   "cell_type": "markdown",
   "id": "3aab759f",
   "metadata": {},
   "source": [
    "# Overview of Datasets columns"
   ]
  },
  {
   "cell_type": "code",
   "execution_count": 23,
   "id": "8d3e8236",
   "metadata": {},
   "outputs": [
    {
     "name": "stdout",
     "output_type": "stream",
     "text": [
      "(44665, 26)\n",
      "Index(['date', 'open', 'high', 'low', 'close', 'Volume', '20ema', '12ema',\n",
      "       '26ema', '50ema', '200ema', 'mfi', 'obv_val', 'obv_ema', 'stochRsi13',\n",
      "       'stochRsi_d', 'stochRsi_k', 'rsi14', 'rsi5', 'macd', 'signal',\n",
      "       'histogram', 'macd2', 'signal2', 'hist2', 'label'],\n",
      "      dtype='object')\n"
     ]
    },
    {
     "data": {
      "text/html": [
       "<div>\n",
       "<style scoped>\n",
       "    .dataframe tbody tr th:only-of-type {\n",
       "        vertical-align: middle;\n",
       "    }\n",
       "\n",
       "    .dataframe tbody tr th {\n",
       "        vertical-align: top;\n",
       "    }\n",
       "\n",
       "    .dataframe thead th {\n",
       "        text-align: right;\n",
       "    }\n",
       "</style>\n",
       "<table border=\"1\" class=\"dataframe\">\n",
       "  <thead>\n",
       "    <tr style=\"text-align: right;\">\n",
       "      <th></th>\n",
       "      <th>date</th>\n",
       "      <th>open</th>\n",
       "      <th>high</th>\n",
       "      <th>low</th>\n",
       "      <th>close</th>\n",
       "      <th>Volume</th>\n",
       "      <th>20ema</th>\n",
       "      <th>12ema</th>\n",
       "      <th>26ema</th>\n",
       "      <th>50ema</th>\n",
       "      <th>...</th>\n",
       "      <th>stochRsi_k</th>\n",
       "      <th>rsi14</th>\n",
       "      <th>rsi5</th>\n",
       "      <th>macd</th>\n",
       "      <th>signal</th>\n",
       "      <th>histogram</th>\n",
       "      <th>macd2</th>\n",
       "      <th>signal2</th>\n",
       "      <th>hist2</th>\n",
       "      <th>label</th>\n",
       "    </tr>\n",
       "  </thead>\n",
       "  <tbody>\n",
       "    <tr>\n",
       "      <th>0</th>\n",
       "      <td>2020-01-01 00:00:00</td>\n",
       "      <td>7195.24</td>\n",
       "      <td>7196.25</td>\n",
       "      <td>7175.47</td>\n",
       "      <td>7178.45</td>\n",
       "      <td>331.185522</td>\n",
       "      <td>NaN</td>\n",
       "      <td>NaN</td>\n",
       "      <td>NaN</td>\n",
       "      <td>NaN</td>\n",
       "      <td>...</td>\n",
       "      <td>NaN</td>\n",
       "      <td>NaN</td>\n",
       "      <td>NaN</td>\n",
       "      <td>NaN</td>\n",
       "      <td>NaN</td>\n",
       "      <td>NaN</td>\n",
       "      <td>NaN</td>\n",
       "      <td>NaN</td>\n",
       "      <td>NaN</td>\n",
       "      <td>-</td>\n",
       "    </tr>\n",
       "    <tr>\n",
       "      <th>1</th>\n",
       "      <td>2020-01-01 00:30:00</td>\n",
       "      <td>7178.19</td>\n",
       "      <td>7185.44</td>\n",
       "      <td>7175.46</td>\n",
       "      <td>7177.02</td>\n",
       "      <td>180.629379</td>\n",
       "      <td>NaN</td>\n",
       "      <td>NaN</td>\n",
       "      <td>NaN</td>\n",
       "      <td>NaN</td>\n",
       "      <td>...</td>\n",
       "      <td>NaN</td>\n",
       "      <td>NaN</td>\n",
       "      <td>NaN</td>\n",
       "      <td>NaN</td>\n",
       "      <td>NaN</td>\n",
       "      <td>NaN</td>\n",
       "      <td>NaN</td>\n",
       "      <td>NaN</td>\n",
       "      <td>NaN</td>\n",
       "      <td>-</td>\n",
       "    </tr>\n",
       "    <tr>\n",
       "      <th>2</th>\n",
       "      <td>2020-01-01 01:00:00</td>\n",
       "      <td>7176.47</td>\n",
       "      <td>7217.00</td>\n",
       "      <td>7175.71</td>\n",
       "      <td>7212.10</td>\n",
       "      <td>355.063574</td>\n",
       "      <td>NaN</td>\n",
       "      <td>NaN</td>\n",
       "      <td>NaN</td>\n",
       "      <td>NaN</td>\n",
       "      <td>...</td>\n",
       "      <td>NaN</td>\n",
       "      <td>NaN</td>\n",
       "      <td>NaN</td>\n",
       "      <td>NaN</td>\n",
       "      <td>NaN</td>\n",
       "      <td>NaN</td>\n",
       "      <td>NaN</td>\n",
       "      <td>NaN</td>\n",
       "      <td>NaN</td>\n",
       "      <td>-</td>\n",
       "    </tr>\n",
       "    <tr>\n",
       "      <th>3</th>\n",
       "      <td>2020-01-01 01:30:00</td>\n",
       "      <td>7212.10</td>\n",
       "      <td>7230.00</td>\n",
       "      <td>7204.28</td>\n",
       "      <td>7216.27</td>\n",
       "      <td>527.989029</td>\n",
       "      <td>NaN</td>\n",
       "      <td>NaN</td>\n",
       "      <td>NaN</td>\n",
       "      <td>NaN</td>\n",
       "      <td>...</td>\n",
       "      <td>NaN</td>\n",
       "      <td>NaN</td>\n",
       "      <td>NaN</td>\n",
       "      <td>NaN</td>\n",
       "      <td>NaN</td>\n",
       "      <td>NaN</td>\n",
       "      <td>NaN</td>\n",
       "      <td>NaN</td>\n",
       "      <td>NaN</td>\n",
       "      <td>-</td>\n",
       "    </tr>\n",
       "    <tr>\n",
       "      <th>4</th>\n",
       "      <td>2020-01-01 02:00:00</td>\n",
       "      <td>7215.52</td>\n",
       "      <td>7238.88</td>\n",
       "      <td>7211.41</td>\n",
       "      <td>7228.09</td>\n",
       "      <td>309.018157</td>\n",
       "      <td>NaN</td>\n",
       "      <td>NaN</td>\n",
       "      <td>NaN</td>\n",
       "      <td>NaN</td>\n",
       "      <td>...</td>\n",
       "      <td>NaN</td>\n",
       "      <td>NaN</td>\n",
       "      <td>NaN</td>\n",
       "      <td>NaN</td>\n",
       "      <td>NaN</td>\n",
       "      <td>NaN</td>\n",
       "      <td>NaN</td>\n",
       "      <td>NaN</td>\n",
       "      <td>NaN</td>\n",
       "      <td>-</td>\n",
       "    </tr>\n",
       "  </tbody>\n",
       "</table>\n",
       "<p>5 rows × 26 columns</p>\n",
       "</div>"
      ],
      "text/plain": [
       "                  date     open     high      low    close      Volume  20ema  \\\n",
       "0  2020-01-01 00:00:00  7195.24  7196.25  7175.47  7178.45  331.185522    NaN   \n",
       "1  2020-01-01 00:30:00  7178.19  7185.44  7175.46  7177.02  180.629379    NaN   \n",
       "2  2020-01-01 01:00:00  7176.47  7217.00  7175.71  7212.10  355.063574    NaN   \n",
       "3  2020-01-01 01:30:00  7212.10  7230.00  7204.28  7216.27  527.989029    NaN   \n",
       "4  2020-01-01 02:00:00  7215.52  7238.88  7211.41  7228.09  309.018157    NaN   \n",
       "\n",
       "   12ema  26ema  50ema  ...  stochRsi_k  rsi14  rsi5  macd  signal  histogram  \\\n",
       "0    NaN    NaN    NaN  ...         NaN    NaN   NaN   NaN     NaN        NaN   \n",
       "1    NaN    NaN    NaN  ...         NaN    NaN   NaN   NaN     NaN        NaN   \n",
       "2    NaN    NaN    NaN  ...         NaN    NaN   NaN   NaN     NaN        NaN   \n",
       "3    NaN    NaN    NaN  ...         NaN    NaN   NaN   NaN     NaN        NaN   \n",
       "4    NaN    NaN    NaN  ...         NaN    NaN   NaN   NaN     NaN        NaN   \n",
       "\n",
       "   macd2  signal2  hist2  label  \n",
       "0    NaN      NaN    NaN      -  \n",
       "1    NaN      NaN    NaN      -  \n",
       "2    NaN      NaN    NaN      -  \n",
       "3    NaN      NaN    NaN      -  \n",
       "4    NaN      NaN    NaN      -  \n",
       "\n",
       "[5 rows x 26 columns]"
      ]
     },
     "execution_count": 23,
     "metadata": {},
     "output_type": "execute_result"
    }
   ],
   "source": [
    "btc_df = pd.read_csv('./../data/BTC_histData_dt1800.0s_20220825_0629.csv', sep=',')\n",
    "print(btc_df.shape)\n",
    "print(btc_df.columns)\n",
    "btc_df.head()"
   ]
  },
  {
   "cell_type": "code",
   "execution_count": 31,
   "id": "22c2e4a3",
   "metadata": {},
   "outputs": [
    {
     "name": "stdout",
     "output_type": "stream",
     "text": [
      "['-' 'strong_buy' 'hold' 'sell' 'buy']\n"
     ]
    },
    {
     "data": {
      "text/plain": [
       "count     44665\n",
       "unique        5\n",
       "top           -\n",
       "freq      29846\n",
       "Name: label, dtype: object"
      ]
     },
     "execution_count": 31,
     "metadata": {},
     "output_type": "execute_result"
    }
   ],
   "source": [
    "print(btc_df['label'].unique())\n",
    "btc_df['label'].describe()"
   ]
  },
  {
   "cell_type": "code",
   "execution_count": 6,
   "id": "20137de6",
   "metadata": {},
   "outputs": [
    {
     "data": {
      "text/plain": [
       "Index(['Unnamed: 0', 'episode', '#buy_actions', '#sell_actions', 'money',\n",
       "       'fee', 'profit', 'epsilon'],\n",
       "      dtype='object')"
      ]
     },
     "execution_count": 6,
     "metadata": {},
     "output_type": "execute_result"
    }
   ],
   "source": [
    "pd.read_csv('./../data/20220828/Epi_data.csv', sep=',').columns"
   ]
  },
  {
   "cell_type": "markdown",
   "id": "f5487565",
   "metadata": {},
   "source": [
    "# Dataset used for training on one episode"
   ]
  },
  {
   "cell_type": "code",
   "execution_count": 9,
   "id": "3a7161bb",
   "metadata": {},
   "outputs": [
    {
     "name": "stdout",
     "output_type": "stream",
     "text": [
      "(6710, 13)\n",
      "Index(['Unnamed: 0', 'episode', 'run', 'timestep', 'date', 'action', 'state',\n",
      "       'money_free', 'money_fiktiv', 'invest', 'fee', 'reward', 'profit'],\n",
      "      dtype='object')\n"
     ]
    },
    {
     "data": {
      "text/html": [
       "<div>\n",
       "<style scoped>\n",
       "    .dataframe tbody tr th:only-of-type {\n",
       "        vertical-align: middle;\n",
       "    }\n",
       "\n",
       "    .dataframe tbody tr th {\n",
       "        vertical-align: top;\n",
       "    }\n",
       "\n",
       "    .dataframe thead th {\n",
       "        text-align: right;\n",
       "    }\n",
       "</style>\n",
       "<table border=\"1\" class=\"dataframe\">\n",
       "  <thead>\n",
       "    <tr style=\"text-align: right;\">\n",
       "      <th></th>\n",
       "      <th>Unnamed: 0</th>\n",
       "      <th>episode</th>\n",
       "      <th>run</th>\n",
       "      <th>timestep</th>\n",
       "      <th>date</th>\n",
       "      <th>action</th>\n",
       "      <th>state</th>\n",
       "      <th>money_free</th>\n",
       "      <th>money_fiktiv</th>\n",
       "      <th>invest</th>\n",
       "      <th>fee</th>\n",
       "      <th>reward</th>\n",
       "      <th>profit</th>\n",
       "    </tr>\n",
       "  </thead>\n",
       "  <tbody>\n",
       "    <tr>\n",
       "      <th>0</th>\n",
       "      <td>0</td>\n",
       "      <td>1</td>\n",
       "      <td>1</td>\n",
       "      <td>0</td>\n",
       "      <td>2020-03-29 04:00:00</td>\n",
       "      <td>hold</td>\n",
       "      <td>[0.5, 0.9053371894725785, 0.5, 0.5, 0.46806793...</td>\n",
       "      <td>200.0</td>\n",
       "      <td>200.00</td>\n",
       "      <td>0.0</td>\n",
       "      <td>0.0</td>\n",
       "      <td>0.00</td>\n",
       "      <td>0.0</td>\n",
       "    </tr>\n",
       "    <tr>\n",
       "      <th>1</th>\n",
       "      <td>0</td>\n",
       "      <td>1</td>\n",
       "      <td>1</td>\n",
       "      <td>1</td>\n",
       "      <td>2020-03-29 04:30:00</td>\n",
       "      <td>buy_100</td>\n",
       "      <td>[0.5, 0.9053371894725785, 0.5, 0.5, 0.46806793...</td>\n",
       "      <td>0.0</td>\n",
       "      <td>199.80</td>\n",
       "      <td>199.8</td>\n",
       "      <td>0.2</td>\n",
       "      <td>-0.20</td>\n",
       "      <td>0.0</td>\n",
       "    </tr>\n",
       "    <tr>\n",
       "      <th>2</th>\n",
       "      <td>0</td>\n",
       "      <td>1</td>\n",
       "      <td>1</td>\n",
       "      <td>2</td>\n",
       "      <td>2020-03-29 05:00:00</td>\n",
       "      <td>hold</td>\n",
       "      <td>[0.5, 0.9053371894725785, 0.5, 0.5, 0.46806793...</td>\n",
       "      <td>0.0</td>\n",
       "      <td>199.06</td>\n",
       "      <td>199.8</td>\n",
       "      <td>0.0</td>\n",
       "      <td>-0.94</td>\n",
       "      <td>0.0</td>\n",
       "    </tr>\n",
       "    <tr>\n",
       "      <th>3</th>\n",
       "      <td>0</td>\n",
       "      <td>1</td>\n",
       "      <td>1</td>\n",
       "      <td>3</td>\n",
       "      <td>2020-03-29 05:30:00</td>\n",
       "      <td>hold</td>\n",
       "      <td>[0.5, 0.9053371894725785, 0.5, 0.5, 0.46806793...</td>\n",
       "      <td>0.0</td>\n",
       "      <td>197.99</td>\n",
       "      <td>199.8</td>\n",
       "      <td>0.0</td>\n",
       "      <td>-2.01</td>\n",
       "      <td>0.0</td>\n",
       "    </tr>\n",
       "    <tr>\n",
       "      <th>4</th>\n",
       "      <td>0</td>\n",
       "      <td>1</td>\n",
       "      <td>1</td>\n",
       "      <td>4</td>\n",
       "      <td>2020-03-29 06:00:00</td>\n",
       "      <td>hold</td>\n",
       "      <td>[0.5, 0.9053371894725785, 0.5, 0.5, 0.46806793...</td>\n",
       "      <td>0.0</td>\n",
       "      <td>198.55</td>\n",
       "      <td>199.8</td>\n",
       "      <td>0.0</td>\n",
       "      <td>-1.45</td>\n",
       "      <td>0.0</td>\n",
       "    </tr>\n",
       "  </tbody>\n",
       "</table>\n",
       "</div>"
      ],
      "text/plain": [
       "   Unnamed: 0  episode  run  timestep                 date   action  \\\n",
       "0           0        1    1         0  2020-03-29 04:00:00     hold   \n",
       "1           0        1    1         1  2020-03-29 04:30:00  buy_100   \n",
       "2           0        1    1         2  2020-03-29 05:00:00     hold   \n",
       "3           0        1    1         3  2020-03-29 05:30:00     hold   \n",
       "4           0        1    1         4  2020-03-29 06:00:00     hold   \n",
       "\n",
       "                                               state  money_free  \\\n",
       "0  [0.5, 0.9053371894725785, 0.5, 0.5, 0.46806793...       200.0   \n",
       "1  [0.5, 0.9053371894725785, 0.5, 0.5, 0.46806793...         0.0   \n",
       "2  [0.5, 0.9053371894725785, 0.5, 0.5, 0.46806793...         0.0   \n",
       "3  [0.5, 0.9053371894725785, 0.5, 0.5, 0.46806793...         0.0   \n",
       "4  [0.5, 0.9053371894725785, 0.5, 0.5, 0.46806793...         0.0   \n",
       "\n",
       "   money_fiktiv  invest  fee  reward  profit  \n",
       "0        200.00     0.0  0.0    0.00     0.0  \n",
       "1        199.80   199.8  0.2   -0.20     0.0  \n",
       "2        199.06   199.8  0.0   -0.94     0.0  \n",
       "3        197.99   199.8  0.0   -2.01     0.0  \n",
       "4        198.55   199.8  0.0   -1.45     0.0  "
      ]
     },
     "execution_count": 9,
     "metadata": {},
     "output_type": "execute_result"
    }
   ],
   "source": [
    "act_df = pd.read_csv('./../data/20220828/action_data_e1.csv', sep=',')\n",
    "print(act_df.shape)\n",
    "print(act_df.columns)\n",
    "act_df.head()"
   ]
  },
  {
   "cell_type": "markdown",
   "id": "06275541",
   "metadata": {},
   "source": [
    "## States"
   ]
  },
  {
   "cell_type": "markdown",
   "id": "4ac7d24f",
   "metadata": {},
   "source": [
    "States are build of windowed values from:\n",
    " - close values of BTC\n",
    " - histogram\n",
    " - 50ema\n",
    " - rsi14\n",
    " - Money in Wallet."
   ]
  },
  {
   "cell_type": "code",
   "execution_count": 20,
   "id": "de2cb693",
   "metadata": {},
   "outputs": [],
   "source": [
    "states = list()\n",
    "for ele in act_df['state']:\n",
    "    states.append(json.loads(ele))\n",
    "states = np.array(states)"
   ]
  },
  {
   "cell_type": "code",
   "execution_count": 24,
   "id": "88288547",
   "metadata": {},
   "outputs": [
    {
     "data": {
      "text/plain": [
       "array([9.83209352e-01, 9.05337189e-01, 1.09432023e-01, 5.00000000e-01,\n",
       "       4.68067937e-01, 1.04691834e-10, 8.96768986e-01, 5.13919347e-02,\n",
       "       5.00000000e-01, 4.76010250e-01, 3.41704586e-15, 6.34299082e-01,\n",
       "       1.61833744e-02, 4.50166003e-01, 4.36390945e-01, 9.99999975e-01,\n",
       "       6.33411731e-02, 3.69794734e-02, 3.22962406e-01, 3.86211583e-01,\n",
       "       1.11953595e-05, 3.08678275e-02, 2.71477320e-02, 2.54847711e-01,\n",
       "       4.23724088e-01, 9.96731010e-01, 1.14207001e-02, 3.86320688e-02,\n",
       "       6.37377781e-01, 4.06313170e-01, 9.56531867e-03, 1.16444019e-02,\n",
       "       3.66082935e-02, 4.09218615e-01, 4.19208563e-01, 6.24450489e-20,\n",
       "       1.17904044e-02, 7.56927170e-03, 5.45930762e-01, 4.11402171e-01,\n",
       "       1.00000000e+00, 8.36825856e-04, 2.20130274e-02, 4.62705538e-01,\n",
       "       3.45391095e-01, 2.74747063e-08, 1.04156103e-03, 1.30243059e-02,\n",
       "       1.93982741e-01, 3.98769490e-01, 2.74840602e-12, 5.82990193e-04,\n",
       "       5.47522884e-03, 6.75203703e-01, 3.73627613e-01, 9.99999999e-01,\n",
       "       1.07122661e-04, 1.53027116e-02, 3.63367015e-01, 3.38486824e-01,\n",
       "       1.00000000e+00, 2.60183914e-04, 1.69271077e-01, 2.97875300e-01,\n",
       "       3.87993996e-01, 1.25015286e-09, 4.90510952e-02, 8.84798163e-02,\n",
       "       6.64806779e-01, 5.03642104e-01, 4.83318526e-06, 3.74836731e-01,\n",
       "       6.17527504e-02, 8.78642799e-01, 4.71628893e-01, 1.35519666e-17,\n",
       "       6.25837371e-01, 1.57148229e-02, 3.40670084e-01, 4.53109669e-01,\n",
       "       1.00000000e+00, 2.23349768e-01, 4.36538491e-02, 4.02693873e-01,\n",
       "       3.99502337e-01, 3.21586164e-07, 3.48444766e-01, 2.78669607e-02,\n",
       "       2.22519301e-01, 4.41034054e-01, 9.99999912e-01, 2.70799981e-01,\n",
       "       5.86625655e-02, 6.74709040e-01, 4.20368076e-01, 9.92309124e-01,\n",
       "       5.28743028e-01, 7.75529891e-02, 3.81887881e-01, 4.50507994e-01])"
      ]
     },
     "execution_count": 24,
     "metadata": {},
     "output_type": "execute_result"
    }
   ],
   "source": [
    "states[20]"
   ]
  },
  {
   "cell_type": "markdown",
   "id": "17a3dafd",
   "metadata": {},
   "source": [
    "## Actions"
   ]
  },
  {
   "cell_type": "code",
   "execution_count": 26,
   "id": "06db4b06",
   "metadata": {},
   "outputs": [
    {
     "data": {
      "text/plain": [
       "array(['hold', 'buy_100', 'sell', 'buy_50'], dtype=object)"
      ]
     },
     "execution_count": 26,
     "metadata": {},
     "output_type": "execute_result"
    }
   ],
   "source": [
    "act_df['action'].unique()"
   ]
  },
  {
   "cell_type": "code",
   "execution_count": 27,
   "id": "0c17f901",
   "metadata": {},
   "outputs": [
    {
     "data": {
      "text/plain": [
       "count     6710\n",
       "unique       4\n",
       "top       hold\n",
       "freq      6425\n",
       "Name: action, dtype: object"
      ]
     },
     "execution_count": 27,
     "metadata": {},
     "output_type": "execute_result"
    }
   ],
   "source": [
    "act_df['action'].describe()"
   ]
  },
  {
   "cell_type": "code",
   "execution_count": null,
   "id": "5c44288e",
   "metadata": {},
   "outputs": [],
   "source": []
  }
 ],
 "metadata": {
  "kernelspec": {
   "display_name": "Python 3 (ipykernel)",
   "language": "python",
   "name": "python3"
  },
  "language_info": {
   "codemirror_mode": {
    "name": "ipython",
    "version": 3
   },
   "file_extension": ".py",
   "mimetype": "text/x-python",
   "name": "python",
   "nbconvert_exporter": "python",
   "pygments_lexer": "ipython3",
   "version": "3.9.12"
  }
 },
 "nbformat": 4,
 "nbformat_minor": 5
}
