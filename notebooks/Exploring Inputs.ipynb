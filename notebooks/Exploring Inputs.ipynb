{
 "cells": [
  {
   "cell_type": "code",
   "execution_count": 1,
   "id": "944a94a9",
   "metadata": {},
   "outputs": [],
   "source": [
    "import os\n",
    "import json\n",
    "import shutil\n",
    "\n",
    "import pandas as pd\n",
    "pd.options.mode.chained_assignment = None\n",
    "import matplotlib.pyplot as plt\n",
    "import numpy as np\n",
    "from mplfinance.original_flavor import candlestick2_ohlc\n",
    "from tqdm import tqdm"
   ]
  },
  {
   "cell_type": "markdown",
   "id": "3aab759f",
   "metadata": {},
   "source": [
    "# Overview of Datasets columns"
   ]
  },
  {
   "cell_type": "code",
   "execution_count": 2,
   "id": "8d3e8236",
   "metadata": {},
   "outputs": [
    {
     "ename": "FileNotFoundError",
     "evalue": "[Errno 2] No such file or directory: './../data/BTC_histData_dt1800.0s_20220825_0629.csv'",
     "output_type": "error",
     "traceback": [
      "\u001b[0;31m---------------------------------------------------------------------------\u001b[0m",
      "\u001b[0;31mFileNotFoundError\u001b[0m                         Traceback (most recent call last)",
      "Cell \u001b[0;32mIn[2], line 1\u001b[0m\n\u001b[0;32m----> 1\u001b[0m btc_df \u001b[39m=\u001b[39m pd\u001b[39m.\u001b[39;49mread_csv(\u001b[39m'\u001b[39;49m\u001b[39m./../data/BTC_histData_dt1800.0s_20220825_0629.csv\u001b[39;49m\u001b[39m'\u001b[39;49m, sep\u001b[39m=\u001b[39;49m\u001b[39m'\u001b[39;49m\u001b[39m,\u001b[39;49m\u001b[39m'\u001b[39;49m)\n\u001b[1;32m      2\u001b[0m \u001b[39mprint\u001b[39m(btc_df\u001b[39m.\u001b[39mshape)\n\u001b[1;32m      3\u001b[0m \u001b[39mprint\u001b[39m(btc_df\u001b[39m.\u001b[39mcolumns)\n",
      "File \u001b[0;32m~/opt/anaconda3/envs/Trader_Env/lib/python3.9/site-packages/pandas/util/_decorators.py:211\u001b[0m, in \u001b[0;36mdeprecate_kwarg.<locals>._deprecate_kwarg.<locals>.wrapper\u001b[0;34m(*args, **kwargs)\u001b[0m\n\u001b[1;32m    209\u001b[0m     \u001b[39melse\u001b[39;00m:\n\u001b[1;32m    210\u001b[0m         kwargs[new_arg_name] \u001b[39m=\u001b[39m new_arg_value\n\u001b[0;32m--> 211\u001b[0m \u001b[39mreturn\u001b[39;00m func(\u001b[39m*\u001b[39;49margs, \u001b[39m*\u001b[39;49m\u001b[39m*\u001b[39;49mkwargs)\n",
      "File \u001b[0;32m~/opt/anaconda3/envs/Trader_Env/lib/python3.9/site-packages/pandas/util/_decorators.py:331\u001b[0m, in \u001b[0;36mdeprecate_nonkeyword_arguments.<locals>.decorate.<locals>.wrapper\u001b[0;34m(*args, **kwargs)\u001b[0m\n\u001b[1;32m    325\u001b[0m \u001b[39mif\u001b[39;00m \u001b[39mlen\u001b[39m(args) \u001b[39m>\u001b[39m num_allow_args:\n\u001b[1;32m    326\u001b[0m     warnings\u001b[39m.\u001b[39mwarn(\n\u001b[1;32m    327\u001b[0m         msg\u001b[39m.\u001b[39mformat(arguments\u001b[39m=\u001b[39m_format_argument_list(allow_args)),\n\u001b[1;32m    328\u001b[0m         \u001b[39mFutureWarning\u001b[39;00m,\n\u001b[1;32m    329\u001b[0m         stacklevel\u001b[39m=\u001b[39mfind_stack_level(),\n\u001b[1;32m    330\u001b[0m     )\n\u001b[0;32m--> 331\u001b[0m \u001b[39mreturn\u001b[39;00m func(\u001b[39m*\u001b[39;49margs, \u001b[39m*\u001b[39;49m\u001b[39m*\u001b[39;49mkwargs)\n",
      "File \u001b[0;32m~/opt/anaconda3/envs/Trader_Env/lib/python3.9/site-packages/pandas/io/parsers/readers.py:950\u001b[0m, in \u001b[0;36mread_csv\u001b[0;34m(filepath_or_buffer, sep, delimiter, header, names, index_col, usecols, squeeze, prefix, mangle_dupe_cols, dtype, engine, converters, true_values, false_values, skipinitialspace, skiprows, skipfooter, nrows, na_values, keep_default_na, na_filter, verbose, skip_blank_lines, parse_dates, infer_datetime_format, keep_date_col, date_parser, dayfirst, cache_dates, iterator, chunksize, compression, thousands, decimal, lineterminator, quotechar, quoting, doublequote, escapechar, comment, encoding, encoding_errors, dialect, error_bad_lines, warn_bad_lines, on_bad_lines, delim_whitespace, low_memory, memory_map, float_precision, storage_options)\u001b[0m\n\u001b[1;32m    935\u001b[0m kwds_defaults \u001b[39m=\u001b[39m _refine_defaults_read(\n\u001b[1;32m    936\u001b[0m     dialect,\n\u001b[1;32m    937\u001b[0m     delimiter,\n\u001b[0;32m   (...)\u001b[0m\n\u001b[1;32m    946\u001b[0m     defaults\u001b[39m=\u001b[39m{\u001b[39m\"\u001b[39m\u001b[39mdelimiter\u001b[39m\u001b[39m\"\u001b[39m: \u001b[39m\"\u001b[39m\u001b[39m,\u001b[39m\u001b[39m\"\u001b[39m},\n\u001b[1;32m    947\u001b[0m )\n\u001b[1;32m    948\u001b[0m kwds\u001b[39m.\u001b[39mupdate(kwds_defaults)\n\u001b[0;32m--> 950\u001b[0m \u001b[39mreturn\u001b[39;00m _read(filepath_or_buffer, kwds)\n",
      "File \u001b[0;32m~/opt/anaconda3/envs/Trader_Env/lib/python3.9/site-packages/pandas/io/parsers/readers.py:605\u001b[0m, in \u001b[0;36m_read\u001b[0;34m(filepath_or_buffer, kwds)\u001b[0m\n\u001b[1;32m    602\u001b[0m _validate_names(kwds\u001b[39m.\u001b[39mget(\u001b[39m\"\u001b[39m\u001b[39mnames\u001b[39m\u001b[39m\"\u001b[39m, \u001b[39mNone\u001b[39;00m))\n\u001b[1;32m    604\u001b[0m \u001b[39m# Create the parser.\u001b[39;00m\n\u001b[0;32m--> 605\u001b[0m parser \u001b[39m=\u001b[39m TextFileReader(filepath_or_buffer, \u001b[39m*\u001b[39;49m\u001b[39m*\u001b[39;49mkwds)\n\u001b[1;32m    607\u001b[0m \u001b[39mif\u001b[39;00m chunksize \u001b[39mor\u001b[39;00m iterator:\n\u001b[1;32m    608\u001b[0m     \u001b[39mreturn\u001b[39;00m parser\n",
      "File \u001b[0;32m~/opt/anaconda3/envs/Trader_Env/lib/python3.9/site-packages/pandas/io/parsers/readers.py:1442\u001b[0m, in \u001b[0;36mTextFileReader.__init__\u001b[0;34m(self, f, engine, **kwds)\u001b[0m\n\u001b[1;32m   1439\u001b[0m     \u001b[39mself\u001b[39m\u001b[39m.\u001b[39moptions[\u001b[39m\"\u001b[39m\u001b[39mhas_index_names\u001b[39m\u001b[39m\"\u001b[39m] \u001b[39m=\u001b[39m kwds[\u001b[39m\"\u001b[39m\u001b[39mhas_index_names\u001b[39m\u001b[39m\"\u001b[39m]\n\u001b[1;32m   1441\u001b[0m \u001b[39mself\u001b[39m\u001b[39m.\u001b[39mhandles: IOHandles \u001b[39m|\u001b[39m \u001b[39mNone\u001b[39;00m \u001b[39m=\u001b[39m \u001b[39mNone\u001b[39;00m\n\u001b[0;32m-> 1442\u001b[0m \u001b[39mself\u001b[39m\u001b[39m.\u001b[39m_engine \u001b[39m=\u001b[39m \u001b[39mself\u001b[39;49m\u001b[39m.\u001b[39;49m_make_engine(f, \u001b[39mself\u001b[39;49m\u001b[39m.\u001b[39;49mengine)\n",
      "File \u001b[0;32m~/opt/anaconda3/envs/Trader_Env/lib/python3.9/site-packages/pandas/io/parsers/readers.py:1735\u001b[0m, in \u001b[0;36mTextFileReader._make_engine\u001b[0;34m(self, f, engine)\u001b[0m\n\u001b[1;32m   1733\u001b[0m     \u001b[39mif\u001b[39;00m \u001b[39m\"\u001b[39m\u001b[39mb\u001b[39m\u001b[39m\"\u001b[39m \u001b[39mnot\u001b[39;00m \u001b[39min\u001b[39;00m mode:\n\u001b[1;32m   1734\u001b[0m         mode \u001b[39m+\u001b[39m\u001b[39m=\u001b[39m \u001b[39m\"\u001b[39m\u001b[39mb\u001b[39m\u001b[39m\"\u001b[39m\n\u001b[0;32m-> 1735\u001b[0m \u001b[39mself\u001b[39m\u001b[39m.\u001b[39mhandles \u001b[39m=\u001b[39m get_handle(\n\u001b[1;32m   1736\u001b[0m     f,\n\u001b[1;32m   1737\u001b[0m     mode,\n\u001b[1;32m   1738\u001b[0m     encoding\u001b[39m=\u001b[39;49m\u001b[39mself\u001b[39;49m\u001b[39m.\u001b[39;49moptions\u001b[39m.\u001b[39;49mget(\u001b[39m\"\u001b[39;49m\u001b[39mencoding\u001b[39;49m\u001b[39m\"\u001b[39;49m, \u001b[39mNone\u001b[39;49;00m),\n\u001b[1;32m   1739\u001b[0m     compression\u001b[39m=\u001b[39;49m\u001b[39mself\u001b[39;49m\u001b[39m.\u001b[39;49moptions\u001b[39m.\u001b[39;49mget(\u001b[39m\"\u001b[39;49m\u001b[39mcompression\u001b[39;49m\u001b[39m\"\u001b[39;49m, \u001b[39mNone\u001b[39;49;00m),\n\u001b[1;32m   1740\u001b[0m     memory_map\u001b[39m=\u001b[39;49m\u001b[39mself\u001b[39;49m\u001b[39m.\u001b[39;49moptions\u001b[39m.\u001b[39;49mget(\u001b[39m\"\u001b[39;49m\u001b[39mmemory_map\u001b[39;49m\u001b[39m\"\u001b[39;49m, \u001b[39mFalse\u001b[39;49;00m),\n\u001b[1;32m   1741\u001b[0m     is_text\u001b[39m=\u001b[39;49mis_text,\n\u001b[1;32m   1742\u001b[0m     errors\u001b[39m=\u001b[39;49m\u001b[39mself\u001b[39;49m\u001b[39m.\u001b[39;49moptions\u001b[39m.\u001b[39;49mget(\u001b[39m\"\u001b[39;49m\u001b[39mencoding_errors\u001b[39;49m\u001b[39m\"\u001b[39;49m, \u001b[39m\"\u001b[39;49m\u001b[39mstrict\u001b[39;49m\u001b[39m\"\u001b[39;49m),\n\u001b[1;32m   1743\u001b[0m     storage_options\u001b[39m=\u001b[39;49m\u001b[39mself\u001b[39;49m\u001b[39m.\u001b[39;49moptions\u001b[39m.\u001b[39;49mget(\u001b[39m\"\u001b[39;49m\u001b[39mstorage_options\u001b[39;49m\u001b[39m\"\u001b[39;49m, \u001b[39mNone\u001b[39;49;00m),\n\u001b[1;32m   1744\u001b[0m )\n\u001b[1;32m   1745\u001b[0m \u001b[39massert\u001b[39;00m \u001b[39mself\u001b[39m\u001b[39m.\u001b[39mhandles \u001b[39mis\u001b[39;00m \u001b[39mnot\u001b[39;00m \u001b[39mNone\u001b[39;00m\n\u001b[1;32m   1746\u001b[0m f \u001b[39m=\u001b[39m \u001b[39mself\u001b[39m\u001b[39m.\u001b[39mhandles\u001b[39m.\u001b[39mhandle\n",
      "File \u001b[0;32m~/opt/anaconda3/envs/Trader_Env/lib/python3.9/site-packages/pandas/io/common.py:856\u001b[0m, in \u001b[0;36mget_handle\u001b[0;34m(path_or_buf, mode, encoding, compression, memory_map, is_text, errors, storage_options)\u001b[0m\n\u001b[1;32m    851\u001b[0m \u001b[39melif\u001b[39;00m \u001b[39misinstance\u001b[39m(handle, \u001b[39mstr\u001b[39m):\n\u001b[1;32m    852\u001b[0m     \u001b[39m# Check whether the filename is to be opened in binary mode.\u001b[39;00m\n\u001b[1;32m    853\u001b[0m     \u001b[39m# Binary mode does not support 'encoding' and 'newline'.\u001b[39;00m\n\u001b[1;32m    854\u001b[0m     \u001b[39mif\u001b[39;00m ioargs\u001b[39m.\u001b[39mencoding \u001b[39mand\u001b[39;00m \u001b[39m\"\u001b[39m\u001b[39mb\u001b[39m\u001b[39m\"\u001b[39m \u001b[39mnot\u001b[39;00m \u001b[39min\u001b[39;00m ioargs\u001b[39m.\u001b[39mmode:\n\u001b[1;32m    855\u001b[0m         \u001b[39m# Encoding\u001b[39;00m\n\u001b[0;32m--> 856\u001b[0m         handle \u001b[39m=\u001b[39m \u001b[39mopen\u001b[39;49m(\n\u001b[1;32m    857\u001b[0m             handle,\n\u001b[1;32m    858\u001b[0m             ioargs\u001b[39m.\u001b[39;49mmode,\n\u001b[1;32m    859\u001b[0m             encoding\u001b[39m=\u001b[39;49mioargs\u001b[39m.\u001b[39;49mencoding,\n\u001b[1;32m    860\u001b[0m             errors\u001b[39m=\u001b[39;49merrors,\n\u001b[1;32m    861\u001b[0m             newline\u001b[39m=\u001b[39;49m\u001b[39m\"\u001b[39;49m\u001b[39m\"\u001b[39;49m,\n\u001b[1;32m    862\u001b[0m         )\n\u001b[1;32m    863\u001b[0m     \u001b[39melse\u001b[39;00m:\n\u001b[1;32m    864\u001b[0m         \u001b[39m# Binary mode\u001b[39;00m\n\u001b[1;32m    865\u001b[0m         handle \u001b[39m=\u001b[39m \u001b[39mopen\u001b[39m(handle, ioargs\u001b[39m.\u001b[39mmode)\n",
      "\u001b[0;31mFileNotFoundError\u001b[0m: [Errno 2] No such file or directory: './../data/BTC_histData_dt1800.0s_20220825_0629.csv'"
     ]
    }
   ],
   "source": [
    "btc_df = pd.read_csv('./../data/BTC_histData_dt1800.0s_20220825_0629.csv', sep=',')\n",
    "print(btc_df.shape)\n",
    "print(btc_df.columns)\n",
    "btc_df.head()"
   ]
  },
  {
   "cell_type": "code",
   "execution_count": 31,
   "id": "22c2e4a3",
   "metadata": {},
   "outputs": [
    {
     "name": "stdout",
     "output_type": "stream",
     "text": [
      "['-' 'strong_buy' 'hold' 'sell' 'buy']\n"
     ]
    },
    {
     "data": {
      "text/plain": [
       "count     44665\n",
       "unique        5\n",
       "top           -\n",
       "freq      29846\n",
       "Name: label, dtype: object"
      ]
     },
     "execution_count": 31,
     "metadata": {},
     "output_type": "execute_result"
    }
   ],
   "source": [
    "print(btc_df['label'].unique())\n",
    "btc_df['label'].describe()"
   ]
  },
  {
   "cell_type": "code",
   "execution_count": 6,
   "id": "20137de6",
   "metadata": {},
   "outputs": [
    {
     "data": {
      "text/plain": [
       "Index(['Unnamed: 0', 'episode', '#buy_actions', '#sell_actions', 'money',\n",
       "       'fee', 'profit', 'epsilon'],\n",
       "      dtype='object')"
      ]
     },
     "execution_count": 6,
     "metadata": {},
     "output_type": "execute_result"
    }
   ],
   "source": [
    "pd.read_csv('./../data/20220828/Epi_data.csv', sep=',').columns"
   ]
  },
  {
   "cell_type": "markdown",
   "id": "f5487565",
   "metadata": {},
   "source": [
    "# Dataset used for training on one episode"
   ]
  },
  {
   "cell_type": "code",
   "execution_count": 9,
   "id": "3a7161bb",
   "metadata": {},
   "outputs": [
    {
     "name": "stdout",
     "output_type": "stream",
     "text": [
      "(6710, 13)\n",
      "Index(['Unnamed: 0', 'episode', 'run', 'timestep', 'date', 'action', 'state',\n",
      "       'money_free', 'money_fiktiv', 'invest', 'fee', 'reward', 'profit'],\n",
      "      dtype='object')\n"
     ]
    },
    {
     "data": {
      "text/html": [
       "<div>\n",
       "<style scoped>\n",
       "    .dataframe tbody tr th:only-of-type {\n",
       "        vertical-align: middle;\n",
       "    }\n",
       "\n",
       "    .dataframe tbody tr th {\n",
       "        vertical-align: top;\n",
       "    }\n",
       "\n",
       "    .dataframe thead th {\n",
       "        text-align: right;\n",
       "    }\n",
       "</style>\n",
       "<table border=\"1\" class=\"dataframe\">\n",
       "  <thead>\n",
       "    <tr style=\"text-align: right;\">\n",
       "      <th></th>\n",
       "      <th>Unnamed: 0</th>\n",
       "      <th>episode</th>\n",
       "      <th>run</th>\n",
       "      <th>timestep</th>\n",
       "      <th>date</th>\n",
       "      <th>action</th>\n",
       "      <th>state</th>\n",
       "      <th>money_free</th>\n",
       "      <th>money_fiktiv</th>\n",
       "      <th>invest</th>\n",
       "      <th>fee</th>\n",
       "      <th>reward</th>\n",
       "      <th>profit</th>\n",
       "    </tr>\n",
       "  </thead>\n",
       "  <tbody>\n",
       "    <tr>\n",
       "      <th>0</th>\n",
       "      <td>0</td>\n",
       "      <td>1</td>\n",
       "      <td>1</td>\n",
       "      <td>0</td>\n",
       "      <td>2020-03-29 04:00:00</td>\n",
       "      <td>hold</td>\n",
       "      <td>[0.5, 0.9053371894725785, 0.5, 0.5, 0.46806793...</td>\n",
       "      <td>200.0</td>\n",
       "      <td>200.00</td>\n",
       "      <td>0.0</td>\n",
       "      <td>0.0</td>\n",
       "      <td>0.00</td>\n",
       "      <td>0.0</td>\n",
       "    </tr>\n",
       "    <tr>\n",
       "      <th>1</th>\n",
       "      <td>0</td>\n",
       "      <td>1</td>\n",
       "      <td>1</td>\n",
       "      <td>1</td>\n",
       "      <td>2020-03-29 04:30:00</td>\n",
       "      <td>buy_100</td>\n",
       "      <td>[0.5, 0.9053371894725785, 0.5, 0.5, 0.46806793...</td>\n",
       "      <td>0.0</td>\n",
       "      <td>199.80</td>\n",
       "      <td>199.8</td>\n",
       "      <td>0.2</td>\n",
       "      <td>-0.20</td>\n",
       "      <td>0.0</td>\n",
       "    </tr>\n",
       "    <tr>\n",
       "      <th>2</th>\n",
       "      <td>0</td>\n",
       "      <td>1</td>\n",
       "      <td>1</td>\n",
       "      <td>2</td>\n",
       "      <td>2020-03-29 05:00:00</td>\n",
       "      <td>hold</td>\n",
       "      <td>[0.5, 0.9053371894725785, 0.5, 0.5, 0.46806793...</td>\n",
       "      <td>0.0</td>\n",
       "      <td>199.06</td>\n",
       "      <td>199.8</td>\n",
       "      <td>0.0</td>\n",
       "      <td>-0.94</td>\n",
       "      <td>0.0</td>\n",
       "    </tr>\n",
       "    <tr>\n",
       "      <th>3</th>\n",
       "      <td>0</td>\n",
       "      <td>1</td>\n",
       "      <td>1</td>\n",
       "      <td>3</td>\n",
       "      <td>2020-03-29 05:30:00</td>\n",
       "      <td>hold</td>\n",
       "      <td>[0.5, 0.9053371894725785, 0.5, 0.5, 0.46806793...</td>\n",
       "      <td>0.0</td>\n",
       "      <td>197.99</td>\n",
       "      <td>199.8</td>\n",
       "      <td>0.0</td>\n",
       "      <td>-2.01</td>\n",
       "      <td>0.0</td>\n",
       "    </tr>\n",
       "    <tr>\n",
       "      <th>4</th>\n",
       "      <td>0</td>\n",
       "      <td>1</td>\n",
       "      <td>1</td>\n",
       "      <td>4</td>\n",
       "      <td>2020-03-29 06:00:00</td>\n",
       "      <td>hold</td>\n",
       "      <td>[0.5, 0.9053371894725785, 0.5, 0.5, 0.46806793...</td>\n",
       "      <td>0.0</td>\n",
       "      <td>198.55</td>\n",
       "      <td>199.8</td>\n",
       "      <td>0.0</td>\n",
       "      <td>-1.45</td>\n",
       "      <td>0.0</td>\n",
       "    </tr>\n",
       "  </tbody>\n",
       "</table>\n",
       "</div>"
      ],
      "text/plain": [
       "   Unnamed: 0  episode  run  timestep                 date   action  \\\n",
       "0           0        1    1         0  2020-03-29 04:00:00     hold   \n",
       "1           0        1    1         1  2020-03-29 04:30:00  buy_100   \n",
       "2           0        1    1         2  2020-03-29 05:00:00     hold   \n",
       "3           0        1    1         3  2020-03-29 05:30:00     hold   \n",
       "4           0        1    1         4  2020-03-29 06:00:00     hold   \n",
       "\n",
       "                                               state  money_free  \\\n",
       "0  [0.5, 0.9053371894725785, 0.5, 0.5, 0.46806793...       200.0   \n",
       "1  [0.5, 0.9053371894725785, 0.5, 0.5, 0.46806793...         0.0   \n",
       "2  [0.5, 0.9053371894725785, 0.5, 0.5, 0.46806793...         0.0   \n",
       "3  [0.5, 0.9053371894725785, 0.5, 0.5, 0.46806793...         0.0   \n",
       "4  [0.5, 0.9053371894725785, 0.5, 0.5, 0.46806793...         0.0   \n",
       "\n",
       "   money_fiktiv  invest  fee  reward  profit  \n",
       "0        200.00     0.0  0.0    0.00     0.0  \n",
       "1        199.80   199.8  0.2   -0.20     0.0  \n",
       "2        199.06   199.8  0.0   -0.94     0.0  \n",
       "3        197.99   199.8  0.0   -2.01     0.0  \n",
       "4        198.55   199.8  0.0   -1.45     0.0  "
      ]
     },
     "execution_count": 9,
     "metadata": {},
     "output_type": "execute_result"
    }
   ],
   "source": [
    "act_df = pd.read_csv('./../data/20220828/action_data_e1.csv', sep=',')\n",
    "print(act_df.shape)\n",
    "print(act_df.columns)\n",
    "act_df.head()"
   ]
  },
  {
   "cell_type": "markdown",
   "id": "06275541",
   "metadata": {},
   "source": [
    "## States"
   ]
  },
  {
   "cell_type": "markdown",
   "id": "4ac7d24f",
   "metadata": {},
   "source": [
    "States are build of windowed values from:\n",
    " - close values of BTC\n",
    " - histogram\n",
    " - 50ema\n",
    " - rsi14\n",
    " - Money in Wallet."
   ]
  },
  {
   "cell_type": "code",
   "execution_count": 20,
   "id": "de2cb693",
   "metadata": {},
   "outputs": [],
   "source": [
    "states = list()\n",
    "for ele in act_df['state']:\n",
    "    states.append(json.loads(ele))\n",
    "states = np.array(states)"
   ]
  },
  {
   "cell_type": "code",
   "execution_count": 24,
   "id": "88288547",
   "metadata": {},
   "outputs": [
    {
     "data": {
      "text/plain": [
       "array([9.83209352e-01, 9.05337189e-01, 1.09432023e-01, 5.00000000e-01,\n",
       "       4.68067937e-01, 1.04691834e-10, 8.96768986e-01, 5.13919347e-02,\n",
       "       5.00000000e-01, 4.76010250e-01, 3.41704586e-15, 6.34299082e-01,\n",
       "       1.61833744e-02, 4.50166003e-01, 4.36390945e-01, 9.99999975e-01,\n",
       "       6.33411731e-02, 3.69794734e-02, 3.22962406e-01, 3.86211583e-01,\n",
       "       1.11953595e-05, 3.08678275e-02, 2.71477320e-02, 2.54847711e-01,\n",
       "       4.23724088e-01, 9.96731010e-01, 1.14207001e-02, 3.86320688e-02,\n",
       "       6.37377781e-01, 4.06313170e-01, 9.56531867e-03, 1.16444019e-02,\n",
       "       3.66082935e-02, 4.09218615e-01, 4.19208563e-01, 6.24450489e-20,\n",
       "       1.17904044e-02, 7.56927170e-03, 5.45930762e-01, 4.11402171e-01,\n",
       "       1.00000000e+00, 8.36825856e-04, 2.20130274e-02, 4.62705538e-01,\n",
       "       3.45391095e-01, 2.74747063e-08, 1.04156103e-03, 1.30243059e-02,\n",
       "       1.93982741e-01, 3.98769490e-01, 2.74840602e-12, 5.82990193e-04,\n",
       "       5.47522884e-03, 6.75203703e-01, 3.73627613e-01, 9.99999999e-01,\n",
       "       1.07122661e-04, 1.53027116e-02, 3.63367015e-01, 3.38486824e-01,\n",
       "       1.00000000e+00, 2.60183914e-04, 1.69271077e-01, 2.97875300e-01,\n",
       "       3.87993996e-01, 1.25015286e-09, 4.90510952e-02, 8.84798163e-02,\n",
       "       6.64806779e-01, 5.03642104e-01, 4.83318526e-06, 3.74836731e-01,\n",
       "       6.17527504e-02, 8.78642799e-01, 4.71628893e-01, 1.35519666e-17,\n",
       "       6.25837371e-01, 1.57148229e-02, 3.40670084e-01, 4.53109669e-01,\n",
       "       1.00000000e+00, 2.23349768e-01, 4.36538491e-02, 4.02693873e-01,\n",
       "       3.99502337e-01, 3.21586164e-07, 3.48444766e-01, 2.78669607e-02,\n",
       "       2.22519301e-01, 4.41034054e-01, 9.99999912e-01, 2.70799981e-01,\n",
       "       5.86625655e-02, 6.74709040e-01, 4.20368076e-01, 9.92309124e-01,\n",
       "       5.28743028e-01, 7.75529891e-02, 3.81887881e-01, 4.50507994e-01])"
      ]
     },
     "execution_count": 24,
     "metadata": {},
     "output_type": "execute_result"
    }
   ],
   "source": [
    "states[20]"
   ]
  },
  {
   "cell_type": "markdown",
   "id": "17a3dafd",
   "metadata": {},
   "source": [
    "## Actions"
   ]
  },
  {
   "cell_type": "code",
   "execution_count": 26,
   "id": "06db4b06",
   "metadata": {},
   "outputs": [
    {
     "data": {
      "text/plain": [
       "array(['hold', 'buy_100', 'sell', 'buy_50'], dtype=object)"
      ]
     },
     "execution_count": 26,
     "metadata": {},
     "output_type": "execute_result"
    }
   ],
   "source": [
    "act_df['action'].unique()"
   ]
  },
  {
   "cell_type": "code",
   "execution_count": 27,
   "id": "0c17f901",
   "metadata": {},
   "outputs": [
    {
     "data": {
      "text/plain": [
       "count     6710\n",
       "unique       4\n",
       "top       hold\n",
       "freq      6425\n",
       "Name: action, dtype: object"
      ]
     },
     "execution_count": 27,
     "metadata": {},
     "output_type": "execute_result"
    }
   ],
   "source": [
    "act_df['action'].describe()"
   ]
  },
  {
   "cell_type": "code",
   "execution_count": null,
   "id": "5c44288e",
   "metadata": {},
   "outputs": [],
   "source": []
  }
 ],
 "metadata": {
  "kernelspec": {
   "display_name": "Python 3.9.16 ('Trader_Env')",
   "language": "python",
   "name": "python3"
  },
  "language_info": {
   "codemirror_mode": {
    "name": "ipython",
    "version": 3
   },
   "file_extension": ".py",
   "mimetype": "text/x-python",
   "name": "python",
   "nbconvert_exporter": "python",
   "pygments_lexer": "ipython3",
   "version": "3.9.16"
  },
  "vscode": {
   "interpreter": {
    "hash": "25abf92ddbe6f17198c2cc30ea04a719112f2768101e815a59f2ad69a1b3ca22"
   }
  }
 },
 "nbformat": 4,
 "nbformat_minor": 5
}
