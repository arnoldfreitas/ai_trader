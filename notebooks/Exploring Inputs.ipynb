{
 "cells": [
  {
   "cell_type": "code",
   "execution_count": 2,
   "id": "042e1076",
   "metadata": {},
   "outputs": [],
   "source": [
    "import os\n",
    "import json\n",
    "import shutil\n",
    "\n",
    "import pandas as pd\n",
    "pd.options.mode.chained_assignment = None\n",
    "import matplotlib.pyplot as plt\n",
    "import numpy as np\n",
    "#from mplfinance.original_flavor import candlestick2_ohlc\n",
    "from tqdm import tqdm"
   ]
  },
  {
   "cell_type": "code",
   "execution_count": 20,
   "id": "a47d52a4",
   "metadata": {},
   "outputs": [],
   "source": [
    "class test():\n",
    "    def __init__(self, reward_function):\n",
    "        if hasattr(self, reward_function):\n",
    "            self.function = getattr(self, reward_function)\n",
    "        else:\n",
    "            self.function = self.a\n",
    "        \n",
    "    def a(self, t):\n",
    "        print(\"a\")\n",
    "    def b(self,t):\n",
    "        print(\"b\")"
   ]
  },
  {
   "cell_type": "code",
   "execution_count": 25,
   "id": "6e09cb55",
   "metadata": {},
   "outputs": [],
   "source": [
    "tmp = test(\"b\")"
   ]
  },
  {
   "cell_type": "code",
   "execution_count": 26,
   "id": "db213cd7",
   "metadata": {},
   "outputs": [
    {
     "name": "stdout",
     "output_type": "stream",
     "text": [
      "b\n"
     ]
    }
   ],
   "source": [
    "tmp.function(1)"
   ]
  },
  {
   "cell_type": "code",
   "execution_count": 13,
   "id": "43ae7c59",
   "metadata": {},
   "outputs": [
    {
     "data": {
      "text/plain": [
       "True"
      ]
     },
     "execution_count": 13,
     "metadata": {},
     "output_type": "execute_result"
    }
   ],
   "source": [
    "'Perp_BTC_FundingRate_Data_fakehist' in 'Perp_BTC_FundingRate_Data_fakehist.csv'"
   ]
  },
  {
   "cell_type": "markdown",
   "id": "d826581b",
   "metadata": {},
   "source": [
    "# Overview of Datasets columns"
   ]
  },
  {
   "cell_type": "code",
   "execution_count": 5,
   "id": "990d5f87",
   "metadata": {},
   "outputs": [
    {
     "name": "stdout",
     "output_type": "stream",
     "text": [
      "(44665, 26)\n",
      "Index(['date', 'open', 'high', 'low', 'close', 'Volume', '20ema', '12ema',\n",
      "       '26ema', '50ema', '200ema', 'mfi', 'obv_val', 'obv_ema', 'stochRsi13',\n",
      "       'stochRsi_d', 'stochRsi_k', 'rsi14', 'rsi5', 'macd', 'signal',\n",
      "       'histogram', 'macd2', 'signal2', 'hist2', 'label'],\n",
      "      dtype='object')\n"
     ]
    },
    {
     "data": {
      "text/html": [
       "<div>\n",
       "<style scoped>\n",
       "    .dataframe tbody tr th:only-of-type {\n",
       "        vertical-align: middle;\n",
       "    }\n",
       "\n",
       "    .dataframe tbody tr th {\n",
       "        vertical-align: top;\n",
       "    }\n",
       "\n",
       "    .dataframe thead th {\n",
       "        text-align: right;\n",
       "    }\n",
       "</style>\n",
       "<table border=\"1\" class=\"dataframe\">\n",
       "  <thead>\n",
       "    <tr style=\"text-align: right;\">\n",
       "      <th></th>\n",
       "      <th>date</th>\n",
       "      <th>open</th>\n",
       "      <th>high</th>\n",
       "      <th>low</th>\n",
       "      <th>close</th>\n",
       "      <th>Volume</th>\n",
       "      <th>20ema</th>\n",
       "      <th>12ema</th>\n",
       "      <th>26ema</th>\n",
       "      <th>50ema</th>\n",
       "      <th>...</th>\n",
       "      <th>stochRsi_k</th>\n",
       "      <th>rsi14</th>\n",
       "      <th>rsi5</th>\n",
       "      <th>macd</th>\n",
       "      <th>signal</th>\n",
       "      <th>histogram</th>\n",
       "      <th>macd2</th>\n",
       "      <th>signal2</th>\n",
       "      <th>hist2</th>\n",
       "      <th>label</th>\n",
       "    </tr>\n",
       "  </thead>\n",
       "  <tbody>\n",
       "    <tr>\n",
       "      <th>0</th>\n",
       "      <td>2020-01-01 00:00:00</td>\n",
       "      <td>7195.24</td>\n",
       "      <td>7196.25</td>\n",
       "      <td>7175.47</td>\n",
       "      <td>7178.45</td>\n",
       "      <td>331.185522</td>\n",
       "      <td>NaN</td>\n",
       "      <td>NaN</td>\n",
       "      <td>NaN</td>\n",
       "      <td>NaN</td>\n",
       "      <td>...</td>\n",
       "      <td>NaN</td>\n",
       "      <td>NaN</td>\n",
       "      <td>NaN</td>\n",
       "      <td>NaN</td>\n",
       "      <td>NaN</td>\n",
       "      <td>NaN</td>\n",
       "      <td>NaN</td>\n",
       "      <td>NaN</td>\n",
       "      <td>NaN</td>\n",
       "      <td>-</td>\n",
       "    </tr>\n",
       "    <tr>\n",
       "      <th>1</th>\n",
       "      <td>2020-01-01 00:30:00</td>\n",
       "      <td>7178.19</td>\n",
       "      <td>7185.44</td>\n",
       "      <td>7175.46</td>\n",
       "      <td>7177.02</td>\n",
       "      <td>180.629379</td>\n",
       "      <td>NaN</td>\n",
       "      <td>NaN</td>\n",
       "      <td>NaN</td>\n",
       "      <td>NaN</td>\n",
       "      <td>...</td>\n",
       "      <td>NaN</td>\n",
       "      <td>NaN</td>\n",
       "      <td>NaN</td>\n",
       "      <td>NaN</td>\n",
       "      <td>NaN</td>\n",
       "      <td>NaN</td>\n",
       "      <td>NaN</td>\n",
       "      <td>NaN</td>\n",
       "      <td>NaN</td>\n",
       "      <td>-</td>\n",
       "    </tr>\n",
       "    <tr>\n",
       "      <th>2</th>\n",
       "      <td>2020-01-01 01:00:00</td>\n",
       "      <td>7176.47</td>\n",
       "      <td>7217.00</td>\n",
       "      <td>7175.71</td>\n",
       "      <td>7212.10</td>\n",
       "      <td>355.063574</td>\n",
       "      <td>NaN</td>\n",
       "      <td>NaN</td>\n",
       "      <td>NaN</td>\n",
       "      <td>NaN</td>\n",
       "      <td>...</td>\n",
       "      <td>NaN</td>\n",
       "      <td>NaN</td>\n",
       "      <td>NaN</td>\n",
       "      <td>NaN</td>\n",
       "      <td>NaN</td>\n",
       "      <td>NaN</td>\n",
       "      <td>NaN</td>\n",
       "      <td>NaN</td>\n",
       "      <td>NaN</td>\n",
       "      <td>-</td>\n",
       "    </tr>\n",
       "    <tr>\n",
       "      <th>3</th>\n",
       "      <td>2020-01-01 01:30:00</td>\n",
       "      <td>7212.10</td>\n",
       "      <td>7230.00</td>\n",
       "      <td>7204.28</td>\n",
       "      <td>7216.27</td>\n",
       "      <td>527.989029</td>\n",
       "      <td>NaN</td>\n",
       "      <td>NaN</td>\n",
       "      <td>NaN</td>\n",
       "      <td>NaN</td>\n",
       "      <td>...</td>\n",
       "      <td>NaN</td>\n",
       "      <td>NaN</td>\n",
       "      <td>NaN</td>\n",
       "      <td>NaN</td>\n",
       "      <td>NaN</td>\n",
       "      <td>NaN</td>\n",
       "      <td>NaN</td>\n",
       "      <td>NaN</td>\n",
       "      <td>NaN</td>\n",
       "      <td>-</td>\n",
       "    </tr>\n",
       "    <tr>\n",
       "      <th>4</th>\n",
       "      <td>2020-01-01 02:00:00</td>\n",
       "      <td>7215.52</td>\n",
       "      <td>7238.88</td>\n",
       "      <td>7211.41</td>\n",
       "      <td>7228.09</td>\n",
       "      <td>309.018157</td>\n",
       "      <td>NaN</td>\n",
       "      <td>NaN</td>\n",
       "      <td>NaN</td>\n",
       "      <td>NaN</td>\n",
       "      <td>...</td>\n",
       "      <td>NaN</td>\n",
       "      <td>NaN</td>\n",
       "      <td>NaN</td>\n",
       "      <td>NaN</td>\n",
       "      <td>NaN</td>\n",
       "      <td>NaN</td>\n",
       "      <td>NaN</td>\n",
       "      <td>NaN</td>\n",
       "      <td>NaN</td>\n",
       "      <td>-</td>\n",
       "    </tr>\n",
       "  </tbody>\n",
       "</table>\n",
       "<p>5 rows × 26 columns</p>\n",
       "</div>"
      ],
      "text/plain": [
       "                  date     open     high      low    close      Volume  20ema  \\\n",
       "0  2020-01-01 00:00:00  7195.24  7196.25  7175.47  7178.45  331.185522    NaN   \n",
       "1  2020-01-01 00:30:00  7178.19  7185.44  7175.46  7177.02  180.629379    NaN   \n",
       "2  2020-01-01 01:00:00  7176.47  7217.00  7175.71  7212.10  355.063574    NaN   \n",
       "3  2020-01-01 01:30:00  7212.10  7230.00  7204.28  7216.27  527.989029    NaN   \n",
       "4  2020-01-01 02:00:00  7215.52  7238.88  7211.41  7228.09  309.018157    NaN   \n",
       "\n",
       "   12ema  26ema  50ema  ...  stochRsi_k  rsi14  rsi5  macd  signal  histogram  \\\n",
       "0    NaN    NaN    NaN  ...         NaN    NaN   NaN   NaN     NaN        NaN   \n",
       "1    NaN    NaN    NaN  ...         NaN    NaN   NaN   NaN     NaN        NaN   \n",
       "2    NaN    NaN    NaN  ...         NaN    NaN   NaN   NaN     NaN        NaN   \n",
       "3    NaN    NaN    NaN  ...         NaN    NaN   NaN   NaN     NaN        NaN   \n",
       "4    NaN    NaN    NaN  ...         NaN    NaN   NaN   NaN     NaN        NaN   \n",
       "\n",
       "   macd2  signal2  hist2  label  \n",
       "0    NaN      NaN    NaN      -  \n",
       "1    NaN      NaN    NaN      -  \n",
       "2    NaN      NaN    NaN      -  \n",
       "3    NaN      NaN    NaN      -  \n",
       "4    NaN      NaN    NaN      -  \n",
       "\n",
       "[5 rows x 26 columns]"
      ]
     },
     "execution_count": 5,
     "metadata": {},
     "output_type": "execute_result"
    }
   ],
   "source": [
    "btc_df = pd.read_csv('./../data/BTC_histData_dt1800.0s_20220825_0629.csv', sep=',')\n",
    "# btc_df = pd.read_csv('./../data/Perp_BTC_FundingRate_Data.csv', sep=',')\n",
    "\n",
    "print(btc_df.shape)\n",
    "print(btc_df.columns)\n",
    "btc_df.head()"
   ]
  },
  {
   "cell_type": "code",
   "execution_count": 5,
   "id": "21c8b5f6",
   "metadata": {},
   "outputs": [
    {
     "data": {
      "text/plain": [
       "count    44629.000000\n",
       "mean        -0.003988\n",
       "std         82.429895\n",
       "min       -653.868219\n",
       "25%        -26.479130\n",
       "50%         -0.006819\n",
       "75%         25.202251\n",
       "max        592.580710\n",
       "Name: histogram, dtype: float64"
      ]
     },
     "execution_count": 5,
     "metadata": {},
     "output_type": "execute_result"
    }
   ],
   "source": [
    "btc_df.histogram.describe()"
   ]
  },
  {
   "cell_type": "code",
   "execution_count": 3,
   "id": "46880b3a",
   "metadata": {},
   "outputs": [],
   "source": [
    "swap_df = pd.read_csv('./../data/Perp_BTC_FundingRate_Data.csv', sep=',')\n",
    "swap_df.rename({'EMA50': '50ema', 'RSI14': 'rsi14', 'MACD': 'macd', 'Open':'open', 'Close':'close'}, axis=1, inplace=True)"
   ]
  },
  {
   "cell_type": "code",
   "execution_count": 6,
   "id": "62620bf4",
   "metadata": {},
   "outputs": [],
   "source": [
    "swap_df['histogram']=btc_df['histogram']"
   ]
  },
  {
   "cell_type": "code",
   "execution_count": 7,
   "id": "a878bf68",
   "metadata": {},
   "outputs": [],
   "source": [
    "swap_df.to_csv('./../data/Perp_BTC_FundingRate_Data_fakehist.csv', sep=',')"
   ]
  },
  {
   "cell_type": "code",
   "execution_count": 8,
   "id": "bb702a8b",
   "metadata": {},
   "outputs": [
    {
     "name": "stdout",
     "output_type": "stream",
     "text": [
      "(61725, 19)\n",
      "Index(['Unnamed: 0', 'Open time', 'Open_BTC', 'Close_BTC', 'open', 'High',\n",
      "       'Low', 'close', 'Volume', 'Close time', 'Quote asset volume',\n",
      "       'Number of trades', 'Taker buy base asset volume',\n",
      "       'Taker buy quote asset volume', '50ema', 'rsi14', 'macd',\n",
      "       'Funding_Rate', 'histogram'],\n",
      "      dtype='object')\n"
     ]
    },
    {
     "data": {
      "text/html": [
       "<div>\n",
       "<style scoped>\n",
       "    .dataframe tbody tr th:only-of-type {\n",
       "        vertical-align: middle;\n",
       "    }\n",
       "\n",
       "    .dataframe tbody tr th {\n",
       "        vertical-align: top;\n",
       "    }\n",
       "\n",
       "    .dataframe thead th {\n",
       "        text-align: right;\n",
       "    }\n",
       "</style>\n",
       "<table border=\"1\" class=\"dataframe\">\n",
       "  <thead>\n",
       "    <tr style=\"text-align: right;\">\n",
       "      <th></th>\n",
       "      <th>Unnamed: 0</th>\n",
       "      <th>Open time</th>\n",
       "      <th>Open_BTC</th>\n",
       "      <th>Close_BTC</th>\n",
       "      <th>open</th>\n",
       "      <th>High</th>\n",
       "      <th>Low</th>\n",
       "      <th>close</th>\n",
       "      <th>Volume</th>\n",
       "      <th>Close time</th>\n",
       "      <th>Quote asset volume</th>\n",
       "      <th>Number of trades</th>\n",
       "      <th>Taker buy base asset volume</th>\n",
       "      <th>Taker buy quote asset volume</th>\n",
       "      <th>50ema</th>\n",
       "      <th>rsi14</th>\n",
       "      <th>macd</th>\n",
       "      <th>Funding_Rate</th>\n",
       "      <th>histogram</th>\n",
       "    </tr>\n",
       "  </thead>\n",
       "  <tbody>\n",
       "    <tr>\n",
       "      <th>0</th>\n",
       "      <td>0</td>\n",
       "      <td>2019-09-10 10:00:00</td>\n",
       "      <td>10257.03</td>\n",
       "      <td>10245.15</td>\n",
       "      <td>10255.07</td>\n",
       "      <td>10280.90</td>\n",
       "      <td>10248.07</td>\n",
       "      <td>10250.88</td>\n",
       "      <td>179.866</td>\n",
       "      <td>1568111399999</td>\n",
       "      <td>1.846115e+06</td>\n",
       "      <td>165</td>\n",
       "      <td>166.588</td>\n",
       "      <td>1.709805e+06</td>\n",
       "      <td>NaN</td>\n",
       "      <td>NaN</td>\n",
       "      <td>NaN</td>\n",
       "      <td>0.010000%</td>\n",
       "      <td>NaN</td>\n",
       "    </tr>\n",
       "    <tr>\n",
       "      <th>1</th>\n",
       "      <td>1</td>\n",
       "      <td>2019-09-10 10:30:00</td>\n",
       "      <td>10246.75</td>\n",
       "      <td>10239.92</td>\n",
       "      <td>10247.21</td>\n",
       "      <td>10255.87</td>\n",
       "      <td>10222.99</td>\n",
       "      <td>10240.32</td>\n",
       "      <td>178.447</td>\n",
       "      <td>1568113199999</td>\n",
       "      <td>1.827575e+06</td>\n",
       "      <td>154</td>\n",
       "      <td>169.928</td>\n",
       "      <td>1.740321e+06</td>\n",
       "      <td>NaN</td>\n",
       "      <td>NaN</td>\n",
       "      <td>NaN</td>\n",
       "      <td>0.010000%</td>\n",
       "      <td>NaN</td>\n",
       "    </tr>\n",
       "    <tr>\n",
       "      <th>2</th>\n",
       "      <td>2</td>\n",
       "      <td>2019-09-10 11:00:00</td>\n",
       "      <td>10240.14</td>\n",
       "      <td>10231.53</td>\n",
       "      <td>10240.11</td>\n",
       "      <td>10257.66</td>\n",
       "      <td>10224.36</td>\n",
       "      <td>10229.00</td>\n",
       "      <td>189.144</td>\n",
       "      <td>1568114999999</td>\n",
       "      <td>1.936715e+06</td>\n",
       "      <td>155</td>\n",
       "      <td>174.225</td>\n",
       "      <td>1.784091e+06</td>\n",
       "      <td>NaN</td>\n",
       "      <td>NaN</td>\n",
       "      <td>NaN</td>\n",
       "      <td>0.010000%</td>\n",
       "      <td>NaN</td>\n",
       "    </tr>\n",
       "    <tr>\n",
       "      <th>3</th>\n",
       "      <td>3</td>\n",
       "      <td>2019-09-10 11:30:00</td>\n",
       "      <td>10229.37</td>\n",
       "      <td>10252.38</td>\n",
       "      <td>10232.26</td>\n",
       "      <td>10259.52</td>\n",
       "      <td>10223.56</td>\n",
       "      <td>10254.56</td>\n",
       "      <td>130.340</td>\n",
       "      <td>1568116799999</td>\n",
       "      <td>1.335149e+06</td>\n",
       "      <td>145</td>\n",
       "      <td>87.989</td>\n",
       "      <td>9.014285e+05</td>\n",
       "      <td>NaN</td>\n",
       "      <td>NaN</td>\n",
       "      <td>NaN</td>\n",
       "      <td>0.010000%</td>\n",
       "      <td>NaN</td>\n",
       "    </tr>\n",
       "    <tr>\n",
       "      <th>4</th>\n",
       "      <td>4</td>\n",
       "      <td>2019-09-10 12:00:00</td>\n",
       "      <td>10251.22</td>\n",
       "      <td>10233.20</td>\n",
       "      <td>10252.70</td>\n",
       "      <td>10252.70</td>\n",
       "      <td>10226.02</td>\n",
       "      <td>10234.14</td>\n",
       "      <td>151.801</td>\n",
       "      <td>1568118599999</td>\n",
       "      <td>1.553913e+06</td>\n",
       "      <td>159</td>\n",
       "      <td>107.057</td>\n",
       "      <td>1.095882e+06</td>\n",
       "      <td>NaN</td>\n",
       "      <td>NaN</td>\n",
       "      <td>NaN</td>\n",
       "      <td>0.010000%</td>\n",
       "      <td>NaN</td>\n",
       "    </tr>\n",
       "  </tbody>\n",
       "</table>\n",
       "</div>"
      ],
      "text/plain": [
       "   Unnamed: 0            Open time  Open_BTC  Close_BTC      open      High  \\\n",
       "0           0  2019-09-10 10:00:00  10257.03   10245.15  10255.07  10280.90   \n",
       "1           1  2019-09-10 10:30:00  10246.75   10239.92  10247.21  10255.87   \n",
       "2           2  2019-09-10 11:00:00  10240.14   10231.53  10240.11  10257.66   \n",
       "3           3  2019-09-10 11:30:00  10229.37   10252.38  10232.26  10259.52   \n",
       "4           4  2019-09-10 12:00:00  10251.22   10233.20  10252.70  10252.70   \n",
       "\n",
       "        Low     close   Volume     Close time  Quote asset volume  \\\n",
       "0  10248.07  10250.88  179.866  1568111399999        1.846115e+06   \n",
       "1  10222.99  10240.32  178.447  1568113199999        1.827575e+06   \n",
       "2  10224.36  10229.00  189.144  1568114999999        1.936715e+06   \n",
       "3  10223.56  10254.56  130.340  1568116799999        1.335149e+06   \n",
       "4  10226.02  10234.14  151.801  1568118599999        1.553913e+06   \n",
       "\n",
       "   Number of trades  Taker buy base asset volume  \\\n",
       "0               165                      166.588   \n",
       "1               154                      169.928   \n",
       "2               155                      174.225   \n",
       "3               145                       87.989   \n",
       "4               159                      107.057   \n",
       "\n",
       "   Taker buy quote asset volume  50ema  rsi14  macd Funding_Rate  histogram  \n",
       "0                  1.709805e+06    NaN    NaN   NaN    0.010000%        NaN  \n",
       "1                  1.740321e+06    NaN    NaN   NaN    0.010000%        NaN  \n",
       "2                  1.784091e+06    NaN    NaN   NaN    0.010000%        NaN  \n",
       "3                  9.014285e+05    NaN    NaN   NaN    0.010000%        NaN  \n",
       "4                  1.095882e+06    NaN    NaN   NaN    0.010000%        NaN  "
      ]
     },
     "execution_count": 8,
     "metadata": {},
     "output_type": "execute_result"
    }
   ],
   "source": [
    "print(swap_df.shape)\n",
    "print(swap_df.columns)\n",
    "swap_df.head()"
   ]
  },
  {
   "cell_type": "code",
   "execution_count": 26,
   "id": "4d3b1a20",
   "metadata": {},
   "outputs": [
    {
     "data": {
      "text/plain": [
       "0.0001"
      ]
     },
     "execution_count": 26,
     "metadata": {},
     "output_type": "execute_result"
    }
   ],
   "source": [
    "float(swap_df.Funding_Rate[0].replace(\"%\", \"\"))/100"
   ]
  },
  {
   "cell_type": "code",
   "execution_count": 31,
   "id": "de9a0a72",
   "metadata": {},
   "outputs": [
    {
     "name": "stdout",
     "output_type": "stream",
     "text": [
      "['-' 'strong_buy' 'hold' 'sell' 'buy']\n"
     ]
    },
    {
     "data": {
      "text/plain": [
       "count     44665\n",
       "unique        5\n",
       "top           -\n",
       "freq      29846\n",
       "Name: label, dtype: object"
      ]
     },
     "execution_count": 31,
     "metadata": {},
     "output_type": "execute_result"
    }
   ],
   "source": [
    "print(btc_df['label'].unique())\n",
    "btc_df['label'].describe()"
   ]
  },
  {
   "cell_type": "code",
   "execution_count": 6,
   "id": "7921ae18",
   "metadata": {},
   "outputs": [
    {
     "data": {
      "text/plain": [
       "Index(['Unnamed: 0', 'episode', '#buy_actions', '#sell_actions', 'money',\n",
       "       'fee', 'profit', 'epsilon'],\n",
       "      dtype='object')"
      ]
     },
     "execution_count": 6,
     "metadata": {},
     "output_type": "execute_result"
    }
   ],
   "source": [
    "pd.read_csv('./../data/20220828/Epi_data.csv', sep=',').columns"
   ]
  },
  {
   "cell_type": "markdown",
   "id": "023ff61e",
   "metadata": {},
   "source": [
    "# Dataset used for training on one episode"
   ]
  },
  {
   "cell_type": "code",
   "execution_count": 9,
   "id": "c0684594",
   "metadata": {},
   "outputs": [
    {
     "name": "stdout",
     "output_type": "stream",
     "text": [
      "(6710, 13)\n",
      "Index(['Unnamed: 0', 'episode', 'run', 'timestep', 'date', 'action', 'state',\n",
      "       'money_free', 'money_fiktiv', 'invest', 'fee', 'reward', 'profit'],\n",
      "      dtype='object')\n"
     ]
    },
    {
     "data": {
      "text/html": [
       "<div>\n",
       "<style scoped>\n",
       "    .dataframe tbody tr th:only-of-type {\n",
       "        vertical-align: middle;\n",
       "    }\n",
       "\n",
       "    .dataframe tbody tr th {\n",
       "        vertical-align: top;\n",
       "    }\n",
       "\n",
       "    .dataframe thead th {\n",
       "        text-align: right;\n",
       "    }\n",
       "</style>\n",
       "<table border=\"1\" class=\"dataframe\">\n",
       "  <thead>\n",
       "    <tr style=\"text-align: right;\">\n",
       "      <th></th>\n",
       "      <th>Unnamed: 0</th>\n",
       "      <th>episode</th>\n",
       "      <th>run</th>\n",
       "      <th>timestep</th>\n",
       "      <th>date</th>\n",
       "      <th>action</th>\n",
       "      <th>state</th>\n",
       "      <th>money_free</th>\n",
       "      <th>money_fiktiv</th>\n",
       "      <th>invest</th>\n",
       "      <th>fee</th>\n",
       "      <th>reward</th>\n",
       "      <th>profit</th>\n",
       "    </tr>\n",
       "  </thead>\n",
       "  <tbody>\n",
       "    <tr>\n",
       "      <th>0</th>\n",
       "      <td>0</td>\n",
       "      <td>1</td>\n",
       "      <td>1</td>\n",
       "      <td>0</td>\n",
       "      <td>2020-03-29 04:00:00</td>\n",
       "      <td>hold</td>\n",
       "      <td>[0.5, 0.9053371894725785, 0.5, 0.5, 0.46806793...</td>\n",
       "      <td>200.0</td>\n",
       "      <td>200.00</td>\n",
       "      <td>0.0</td>\n",
       "      <td>0.0</td>\n",
       "      <td>0.00</td>\n",
       "      <td>0.0</td>\n",
       "    </tr>\n",
       "    <tr>\n",
       "      <th>1</th>\n",
       "      <td>0</td>\n",
       "      <td>1</td>\n",
       "      <td>1</td>\n",
       "      <td>1</td>\n",
       "      <td>2020-03-29 04:30:00</td>\n",
       "      <td>buy_100</td>\n",
       "      <td>[0.5, 0.9053371894725785, 0.5, 0.5, 0.46806793...</td>\n",
       "      <td>0.0</td>\n",
       "      <td>199.80</td>\n",
       "      <td>199.8</td>\n",
       "      <td>0.2</td>\n",
       "      <td>-0.20</td>\n",
       "      <td>0.0</td>\n",
       "    </tr>\n",
       "    <tr>\n",
       "      <th>2</th>\n",
       "      <td>0</td>\n",
       "      <td>1</td>\n",
       "      <td>1</td>\n",
       "      <td>2</td>\n",
       "      <td>2020-03-29 05:00:00</td>\n",
       "      <td>hold</td>\n",
       "      <td>[0.5, 0.9053371894725785, 0.5, 0.5, 0.46806793...</td>\n",
       "      <td>0.0</td>\n",
       "      <td>199.06</td>\n",
       "      <td>199.8</td>\n",
       "      <td>0.0</td>\n",
       "      <td>-0.94</td>\n",
       "      <td>0.0</td>\n",
       "    </tr>\n",
       "    <tr>\n",
       "      <th>3</th>\n",
       "      <td>0</td>\n",
       "      <td>1</td>\n",
       "      <td>1</td>\n",
       "      <td>3</td>\n",
       "      <td>2020-03-29 05:30:00</td>\n",
       "      <td>hold</td>\n",
       "      <td>[0.5, 0.9053371894725785, 0.5, 0.5, 0.46806793...</td>\n",
       "      <td>0.0</td>\n",
       "      <td>197.99</td>\n",
       "      <td>199.8</td>\n",
       "      <td>0.0</td>\n",
       "      <td>-2.01</td>\n",
       "      <td>0.0</td>\n",
       "    </tr>\n",
       "    <tr>\n",
       "      <th>4</th>\n",
       "      <td>0</td>\n",
       "      <td>1</td>\n",
       "      <td>1</td>\n",
       "      <td>4</td>\n",
       "      <td>2020-03-29 06:00:00</td>\n",
       "      <td>hold</td>\n",
       "      <td>[0.5, 0.9053371894725785, 0.5, 0.5, 0.46806793...</td>\n",
       "      <td>0.0</td>\n",
       "      <td>198.55</td>\n",
       "      <td>199.8</td>\n",
       "      <td>0.0</td>\n",
       "      <td>-1.45</td>\n",
       "      <td>0.0</td>\n",
       "    </tr>\n",
       "  </tbody>\n",
       "</table>\n",
       "</div>"
      ],
      "text/plain": [
       "   Unnamed: 0  episode  run  timestep                 date   action  \\\n",
       "0           0        1    1         0  2020-03-29 04:00:00     hold   \n",
       "1           0        1    1         1  2020-03-29 04:30:00  buy_100   \n",
       "2           0        1    1         2  2020-03-29 05:00:00     hold   \n",
       "3           0        1    1         3  2020-03-29 05:30:00     hold   \n",
       "4           0        1    1         4  2020-03-29 06:00:00     hold   \n",
       "\n",
       "                                               state  money_free  \\\n",
       "0  [0.5, 0.9053371894725785, 0.5, 0.5, 0.46806793...       200.0   \n",
       "1  [0.5, 0.9053371894725785, 0.5, 0.5, 0.46806793...         0.0   \n",
       "2  [0.5, 0.9053371894725785, 0.5, 0.5, 0.46806793...         0.0   \n",
       "3  [0.5, 0.9053371894725785, 0.5, 0.5, 0.46806793...         0.0   \n",
       "4  [0.5, 0.9053371894725785, 0.5, 0.5, 0.46806793...         0.0   \n",
       "\n",
       "   money_fiktiv  invest  fee  reward  profit  \n",
       "0        200.00     0.0  0.0    0.00     0.0  \n",
       "1        199.80   199.8  0.2   -0.20     0.0  \n",
       "2        199.06   199.8  0.0   -0.94     0.0  \n",
       "3        197.99   199.8  0.0   -2.01     0.0  \n",
       "4        198.55   199.8  0.0   -1.45     0.0  "
      ]
     },
     "execution_count": 9,
     "metadata": {},
     "output_type": "execute_result"
    }
   ],
   "source": [
    "act_df = pd.read_csv('./../data/20220828/action_data_e1.csv', sep=',')\n",
    "print(act_df.shape)\n",
    "print(act_df.columns)\n",
    "act_df.head()"
   ]
  },
  {
   "cell_type": "markdown",
   "id": "c3e4223a",
   "metadata": {},
   "source": [
    "## States"
   ]
  },
  {
   "cell_type": "markdown",
   "id": "8b4d148f",
   "metadata": {},
   "source": [
    "States are build of windowed values from:\n",
    " - close values of BTC\n",
    " - histogram\n",
    " - 50ema\n",
    " - rsi14\n",
    " - Money in Wallet."
   ]
  },
  {
   "cell_type": "code",
   "execution_count": 20,
   "id": "623a2deb",
   "metadata": {},
   "outputs": [],
   "source": [
    "states = list()\n",
    "for ele in act_df['state']:\n",
    "    states.append(json.loads(ele))\n",
    "states = np.array(states)"
   ]
  },
  {
   "cell_type": "code",
   "execution_count": 24,
   "id": "945c5dc0",
   "metadata": {},
   "outputs": [
    {
     "data": {
      "text/plain": [
       "array([9.83209352e-01, 9.05337189e-01, 1.09432023e-01, 5.00000000e-01,\n",
       "       4.68067937e-01, 1.04691834e-10, 8.96768986e-01, 5.13919347e-02,\n",
       "       5.00000000e-01, 4.76010250e-01, 3.41704586e-15, 6.34299082e-01,\n",
       "       1.61833744e-02, 4.50166003e-01, 4.36390945e-01, 9.99999975e-01,\n",
       "       6.33411731e-02, 3.69794734e-02, 3.22962406e-01, 3.86211583e-01,\n",
       "       1.11953595e-05, 3.08678275e-02, 2.71477320e-02, 2.54847711e-01,\n",
       "       4.23724088e-01, 9.96731010e-01, 1.14207001e-02, 3.86320688e-02,\n",
       "       6.37377781e-01, 4.06313170e-01, 9.56531867e-03, 1.16444019e-02,\n",
       "       3.66082935e-02, 4.09218615e-01, 4.19208563e-01, 6.24450489e-20,\n",
       "       1.17904044e-02, 7.56927170e-03, 5.45930762e-01, 4.11402171e-01,\n",
       "       1.00000000e+00, 8.36825856e-04, 2.20130274e-02, 4.62705538e-01,\n",
       "       3.45391095e-01, 2.74747063e-08, 1.04156103e-03, 1.30243059e-02,\n",
       "       1.93982741e-01, 3.98769490e-01, 2.74840602e-12, 5.82990193e-04,\n",
       "       5.47522884e-03, 6.75203703e-01, 3.73627613e-01, 9.99999999e-01,\n",
       "       1.07122661e-04, 1.53027116e-02, 3.63367015e-01, 3.38486824e-01,\n",
       "       1.00000000e+00, 2.60183914e-04, 1.69271077e-01, 2.97875300e-01,\n",
       "       3.87993996e-01, 1.25015286e-09, 4.90510952e-02, 8.84798163e-02,\n",
       "       6.64806779e-01, 5.03642104e-01, 4.83318526e-06, 3.74836731e-01,\n",
       "       6.17527504e-02, 8.78642799e-01, 4.71628893e-01, 1.35519666e-17,\n",
       "       6.25837371e-01, 1.57148229e-02, 3.40670084e-01, 4.53109669e-01,\n",
       "       1.00000000e+00, 2.23349768e-01, 4.36538491e-02, 4.02693873e-01,\n",
       "       3.99502337e-01, 3.21586164e-07, 3.48444766e-01, 2.78669607e-02,\n",
       "       2.22519301e-01, 4.41034054e-01, 9.99999912e-01, 2.70799981e-01,\n",
       "       5.86625655e-02, 6.74709040e-01, 4.20368076e-01, 9.92309124e-01,\n",
       "       5.28743028e-01, 7.75529891e-02, 3.81887881e-01, 4.50507994e-01])"
      ]
     },
     "execution_count": 24,
     "metadata": {},
     "output_type": "execute_result"
    }
   ],
   "source": [
    "states[20]"
   ]
  },
  {
   "cell_type": "markdown",
   "id": "6185f0da",
   "metadata": {},
   "source": [
    "## Actions"
   ]
  },
  {
   "cell_type": "code",
   "execution_count": 26,
   "id": "a8306252",
   "metadata": {},
   "outputs": [
    {
     "data": {
      "text/plain": [
       "array(['hold', 'buy_100', 'sell', 'buy_50'], dtype=object)"
      ]
     },
     "execution_count": 26,
     "metadata": {},
     "output_type": "execute_result"
    }
   ],
   "source": [
    "act_df['action'].unique()"
   ]
  },
  {
   "cell_type": "code",
   "execution_count": 27,
   "id": "4afb43c8",
   "metadata": {},
   "outputs": [
    {
     "data": {
      "text/plain": [
       "count     6710\n",
       "unique       4\n",
       "top       hold\n",
       "freq      6425\n",
       "Name: action, dtype: object"
      ]
     },
     "execution_count": 27,
     "metadata": {},
     "output_type": "execute_result"
    }
   ],
   "source": [
    "act_df['action'].describe()"
   ]
  },
  {
   "cell_type": "code",
   "execution_count": null,
   "id": "3399566a",
   "metadata": {},
   "outputs": [],
   "source": []
  }
 ],
 "metadata": {
  "kernelspec": {
   "display_name": "Python 3 (ipykernel)",
   "language": "python",
   "name": "python3"
  },
  "language_info": {
   "codemirror_mode": {
    "name": "ipython",
    "version": 3
   },
   "file_extension": ".py",
   "mimetype": "text/x-python",
   "name": "python",
   "nbconvert_exporter": "python",
   "pygments_lexer": "ipython3",
   "version": "3.10.6"
  },
  "vscode": {
   "interpreter": {
    "hash": "25abf92ddbe6f17198c2cc30ea04a719112f2768101e815a59f2ad69a1b3ca22"
   }
  }
 },
 "nbformat": 4,
 "nbformat_minor": 5
}
