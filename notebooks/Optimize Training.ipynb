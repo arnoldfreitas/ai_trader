{
 "cells": [
  {
   "cell_type": "code",
   "execution_count": 8,
   "id": "7265a1ca",
   "metadata": {},
   "outputs": [],
   "source": [
    "import sys\n",
    "import os\n",
    "from datetime import datetime\n",
    "import json\n",
    "import shutil\n",
    "import random\n",
    "\n",
    "import numpy as np\n",
    "import pandas as pd\n",
    "import tensorflow as tf\n",
    "from tensorflow import keras\n",
    "from tqdm import tqdm_notebook, tqdm\n",
    "from matplotlib import pyplot as plt\n",
    "\n",
    "sys.path.append('../src/')\n",
    "from env import BTCMarket_Env\n",
    "from agent import Trader_Agent\n",
    "from DQNtrainer import DQNTrainer\n",
    "from collections import deque\n",
    "import h5py\n"
   ]
  },
  {
   "cell_type": "code",
   "execution_count": 2,
   "id": "23c916d9",
   "metadata": {},
   "outputs": [
    {
     "name": "stdout",
     "output_type": "stream",
     "text": [
      "Model: \"sequential\"\n",
      "_________________________________________________________________\n",
      " Layer (type)                Output Shape              Param #   \n",
      "=================================================================\n",
      " dense (Dense)               (None, 256)               25856     \n",
      "                                                                 \n",
      " dense_1 (Dense)             (None, 128)               32896     \n",
      "                                                                 \n",
      " dense_2 (Dense)             (None, 64)                8256      \n",
      "                                                                 \n",
      " dense_3 (Dense)             (None, 4)                 260       \n",
      "                                                                 \n",
      "=================================================================\n",
      "Total params: 67,268\n",
      "Trainable params: 67,268\n",
      "Non-trainable params: 0\n",
      "_________________________________________________________________\n"
     ]
    },
    {
     "name": "stderr",
     "output_type": "stream",
     "text": [
      "2023-02-15 10:31:07.461328: I tensorflow/core/platform/cpu_feature_guard.cc:193] This TensorFlow binary is optimized with oneAPI Deep Neural Network Library (oneDNN) to use the following CPU instructions in performance-critical operations:  SSE4.1 SSE4.2 AVX AVX2 FMA\n",
      "To enable them in other operations, rebuild TensorFlow with the appropriate compiler flags.\n",
      "2023-02-15 10:31:07.462181: I tensorflow/core/common_runtime/process_util.cc:146] Creating new thread pool with default inter op setting: 2. Tune using inter_op_parallelism_threads for best performance.\n"
     ]
    }
   ],
   "source": [
    "obs_space = (5,20)\n",
    "act_space = 4\n",
    "\n",
    "money = 200\n",
    "fee = 0.001\n",
    "episodes = 1\n",
    "runs_p_eps = 1\n",
    "\n",
    "env = BTCMarket_Env(observation_space = obs_space,\n",
    "            action_space = act_space,\n",
    "            start_money = money,\n",
    "            trading_fee= fee)\n",
    "agent = Trader_Agent(observation_space = obs_space,\n",
    "            action_space = act_space,\n",
    "            epsilon = 0.01)\n",
    "dqntrainer = DQNTrainer(env, agent,\n",
    "            observation_space = obs_space,\n",
    "            action_space = act_space,\n",
    "            batch_size=32)"
   ]
  },
  {
   "cell_type": "code",
   "execution_count": 3,
   "id": "7f1e21d4",
   "metadata": {},
   "outputs": [
    {
     "name": "stderr",
     "output_type": "stream",
     "text": [
      "100%|█████████████████████████████████████████| 671/671 [01:12<00:00,  9.27it/s]\n"
     ]
    }
   ],
   "source": [
    "env.reset()\n",
    "data_samples = env.episode_length\n",
    "memory = deque()\n",
    "\n",
    "state, _, _ = env.step(np.array([0]))\n",
    "for t in tqdm(range(data_samples)):\n",
    "    # Compute Action\n",
    "    tmp_wallet_value = env.wallet_value\n",
    "    action = agent.compute_action(state)\n",
    "    # Transform Action from Policy to Env Requirement \n",
    "    dqn_action = dqntrainer.transforme_to_dqn_action(action)\n",
    "    # Compute new step\n",
    "    next_state, reward, done = env.step(action=dqn_action)\n",
    "    # save Experience to Memory\n",
    "    memory.append((state, action, reward, next_state, done))\n",
    "    state = next_state"
   ]
  },
  {
   "cell_type": "code",
   "execution_count": 31,
   "id": "2d79afe8",
   "metadata": {},
   "outputs": [
    {
     "name": "stdout",
     "output_type": "stream",
     "text": [
      "50\n",
      "Epoch 1/5\n",
      "2/2 [==============================] - 0s 15ms/step - loss: 0.2304\n",
      "Epoch 2/5\n",
      "2/2 [==============================] - 0s 13ms/step - loss: 0.2303\n",
      "Epoch 3/5\n",
      "2/2 [==============================] - 0s 16ms/step - loss: 0.2303\n",
      "Epoch 4/5\n",
      "2/2 [==============================] - 0s 15ms/step - loss: 0.2303\n",
      "Epoch 5/5\n",
      "2/2 [==============================] - 0s 14ms/step - loss: 0.2303\n"
     ]
    }
   ],
   "source": [
    "batch_size = 50\n",
    "\n",
    "\n",
    "batch = []\n",
    "# for i in range(1):\n",
    "for i in range(max([len(memory) - batch_size,0]), len(memory)):\n",
    "    batch.append(memory[i])\n",
    "\n",
    "# Change here to fit new RL-Algo\n",
    "# for index in range(0,len(batch)-1):\n",
    "\n",
    "x_train = np.zeros((batch_size, 100))\n",
    "y_train = np.zeros((batch_size, 4))\n",
    "print(len(batch))\n",
    "\n",
    "\n",
    "state, _, reward, next_state , done = batch[0]\n",
    "action = agent.model.predict(state,verbose = 0)\n",
    "for index in range(1,len(batch)):\n",
    "    # Compute Reward Decay for DQN\n",
    "    action_next = agent.model.predict(next_state,verbose = 0)\n",
    "    if not done:\n",
    "        reward += dqntrainer.gamma * np.max(action_next)\n",
    "        \n",
    "    if np.any(np.isnan(reward)) or np.any(np.isnan(action)):\n",
    "        print(reward)\n",
    "        print(action)\n",
    "    target = np.nan_to_num(action,nan=0.0)      \n",
    "    id_act = np.argmax(target)\n",
    "    target[0,id_act] = reward\n",
    "    \n",
    "    target = np.nan_to_num(target,nan=0.0)\n",
    "    state = np.nan_to_num(state,nan=0.0)\n",
    "    x_train[index]= state[0]\n",
    "    y_train[index]= target[0]\n",
    "    \n",
    "    \n",
    "    # update state, action, reward for training\n",
    "    state, _, reward, next_state , done = batch[index]\n",
    "    action = action_next\n",
    "\n",
    "\n",
    "result=dqntrainer.agent.model.fit(x_train, y_train, epochs=5, verbose=1)\n",
    "# agent.update_epsilon()\n"
   ]
  },
  {
   "cell_type": "code",
   "execution_count": 32,
   "id": "f5d45d0b",
   "metadata": {
    "scrolled": true
   },
   "outputs": [
    {
     "data": {
      "text/plain": [
       "array([0.45314425, 0.4207291 , 1.96313   , 0.50530088])"
      ]
     },
     "execution_count": 32,
     "metadata": {},
     "output_type": "execute_result"
    }
   ],
   "source": [
    "y_train[-1]"
   ]
  },
  {
   "cell_type": "code",
   "execution_count": 30,
   "id": "f04e04e8",
   "metadata": {},
   "outputs": [
    {
     "data": {
      "text/plain": [
       "48"
      ]
     },
     "execution_count": 30,
     "metadata": {},
     "output_type": "execute_result"
    }
   ],
   "source": [
    "index"
   ]
  },
  {
   "cell_type": "code",
   "execution_count": null,
   "id": "b076d997",
   "metadata": {},
   "outputs": [],
   "source": [
    "tmp[0].shape"
   ]
  },
  {
   "cell_type": "code",
   "execution_count": null,
   "id": "acd3ed56",
   "metadata": {},
   "outputs": [],
   "source": [
    "tmp = tmp.reshape((100))\n",
    "tmp.shape"
   ]
  },
  {
   "cell_type": "code",
   "execution_count": null,
   "id": "6143ef96",
   "metadata": {},
   "outputs": [],
   "source": []
  }
 ],
 "metadata": {
  "kernelspec": {
   "display_name": "Python 3",
   "language": "python",
   "name": "python3"
  },
  "language_info": {
   "codemirror_mode": {
    "name": "ipython",
    "version": 3
   },
   "file_extension": ".py",
   "mimetype": "text/x-python",
   "name": "python",
   "nbconvert_exporter": "python",
   "pygments_lexer": "ipython3",
   "version": "3.8.5"
  }
 },
 "nbformat": 4,
 "nbformat_minor": 5
}
